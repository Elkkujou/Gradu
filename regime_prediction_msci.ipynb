{
  "nbformat": 4,
  "nbformat_minor": 0,
  "metadata": {
    "colab": {
      "provenance": [],
      "authorship_tag": "ABX9TyNgMuwpnlWjZ1dBgMzxp9PJ"
    },
    "kernelspec": {
      "name": "python3",
      "display_name": "Python 3"
    },
    "language_info": {
      "name": "python"
    }
  },
  "cells": [
    {
      "cell_type": "code",
      "execution_count": 6,
      "metadata": {
        "colab": {
          "base_uri": "https://localhost:8080/"
        },
        "id": "jPPizlV3oIUh",
        "outputId": "19739256-b48a-499a-b651-e190c7b071a6"
      },
      "outputs": [
        {
          "output_type": "stream",
          "name": "stdout",
          "text": [
            "/content\n",
            "Cloning into 'Gradu'...\n",
            "remote: Enumerating objects: 256, done.\u001b[K\n",
            "remote: Counting objects: 100% (120/120), done.\u001b[K\n",
            "remote: Compressing objects: 100% (120/120), done.\u001b[K\n",
            "remote: Total 256 (delta 60), reused 0 (delta 0), pack-reused 136 (from 1)\u001b[K\n",
            "Receiving objects: 100% (256/256), 29.68 MiB | 22.31 MiB/s, done.\n",
            "Resolving deltas: 100% (118/118), done.\n",
            "/content/Gradu\n",
            " chatti_RF.ipynb\t       regime_prediction_famafrench.ipynb  'RF REGIIMI HYVÄ TRAINING.ipynb'\n",
            "'Financial turbulence.ipynb'   regime_prediction_msci.ipynb\t   'RF_regime (3).ipynb'\n",
            " FT_source.xlsx\t\t       regime_pred.txt\t\t\t    THE_ONE.xlsx\n",
            " Regiimi_prediction.ipynb      RF_Gradu.ipynb\n"
          ]
        }
      ],
      "source": [
        "%cd /content\n",
        "!rm -rf Gradu\n",
        "!git clone https://github.com/Elkkujou/Gradu.git\n",
        "%cd /content/Gradu\n",
        "!ls"
      ]
    },
    {
      "cell_type": "code",
      "source": [
        "calc_drawdowns = True\n",
        "drawdowns_from = 'USA MOMENTUM Standard (Large+Mid Cap)'\n",
        "cluster_n = 3\n",
        "\n",
        "DL = False\n",
        "ML = True"
      ],
      "metadata": {
        "id": "nQWZcw65odSb"
      },
      "execution_count": 7,
      "outputs": []
    },
    {
      "cell_type": "code",
      "source": [
        "import numpy as np\n",
        "import pandas as pd\n",
        "import matplotlib.pyplot as plt\n",
        "%matplotlib inline\n",
        "import seaborn as sns\n",
        "\n",
        "from sklearn.ensemble import RandomForestClassifier, RandomForestRegressor\n",
        "from sklearn.linear_model import LogisticRegression\n",
        "from sklearn.svm import SVC\n",
        "from sklearn.metrics import confusion_matrix, accuracy_score\n",
        "from sklearn.neighbors import KNeighborsClassifier\n",
        "from sklearn.preprocessing import StandardScaler\n",
        "\n",
        "import statsmodels.api as sm\n",
        "from tabulate import tabulate\n",
        "\n",
        "from IPython.display import display, HTML\n",
        "from sklearn.cluster import KMeans"
      ],
      "metadata": {
        "id": "FhY_-l5aofPM"
      },
      "execution_count": 8,
      "outputs": []
    },
    {
      "cell_type": "code",
      "source": [
        "xls_file = pd.ExcelFile(\"/content/Gradu/THE_ONE.xlsx\")\n",
        "excel_df = xls_file.parse(\"returns non-log\")\n",
        "\n",
        "excel_df.columns = excel_df.columns.get_level_values(0)\n",
        "excel_df['Date'] = pd.to_datetime(excel_df['Date'])\n",
        "excel_df.sort_values('Date', inplace=True)\n",
        "\n",
        "print(\"Headers in the 'returns non-log' sheet:\")\n",
        "print(excel_df.columns)"
      ],
      "metadata": {
        "colab": {
          "base_uri": "https://localhost:8080/"
        },
        "id": "vS4jmrFtoiJa",
        "outputId": "4db243ee-0a8c-4749-a9ac-51341f4c7639"
      },
      "execution_count": 9,
      "outputs": [
        {
          "output_type": "stream",
          "name": "stdout",
          "text": [
            "Headers in the 'returns non-log' sheet:\n",
            "Index(['Date', 'USA Standard (Large+Mid Cap)',\n",
            "       'USA MOMENTUM Standard (Large+Mid Cap)',\n",
            "       'USA MINIMUM VOLATILITY (USD) Standard (Large+Mid Cap)',\n",
            "       'USA RISK WEIGHTED Standard (Large+Mid Cap)',\n",
            "       'USA SECTOR NEUTRAL QUALITY Standard (Large+Mid Cap)',\n",
            "       'USA ENHANCED VALUE Standard (Large+Mid Cap)', 'Winning Factor',\n",
            "       'VIXCLS', 'GDPC1', 'CPI', 'LEI', '10yr', 'Financial Turbulance',\n",
            "       '(Regime)', 'Financial condition', 'Drawdown', 'HY Spread', 'IG Spread',\n",
            "       '10y-2y', 'Vix-regimes2', 'Vix-regimes3', 'FT_regimes2', 'FT_regimes3',\n",
            "       'DD_regimes2', 'DD_regimes3', 'cluster_0 (minimal drawdown',\n",
            "       'cluster_1 (moderate drawdown)', 'cluster_2 (severe drawdown)', 'SMB',\n",
            "       'HML', 'RMW', 'CMA', 'MOM', '(Regimes)', 'Regimes'],\n",
            "      dtype='object')\n"
          ]
        }
      ]
    },
    {
      "cell_type": "code",
      "source": [
        "if calc_drawdowns:\n",
        "    # Calculate the cumulative portfolio values using excel_df and the specified drawdowns_from column\n",
        "    portfolio = (1 + excel_df[drawdowns_from]).cumprod()\n",
        "\n",
        "    # Define a function to compute the maximum drawdown over a rolling window\n",
        "    def max_dd(s):\n",
        "        return (s / s.cummax() - 1).min()\n",
        "\n",
        "    # Calculate the 3-month rolling drawdown using the portfolio series\n",
        "    dd_series = portfolio.rolling(window=3, min_periods=3).apply(max_dd, raw=False)\n",
        "\n",
        "    # Create a temporary DataFrame to store dates and the calculated drawdowns\n",
        "    dd_temp = pd.DataFrame({\n",
        "        'Date': excel_df['Date'],\n",
        "        '3M_Max_Drawdown': dd_series\n",
        "    })\n",
        "\n",
        "    # Drop rows with missing drawdown data to ensure complete observations\n",
        "    dd_temp = dd_temp.dropna()\n",
        "\n",
        "    print(\"Drawdown calculation (temporary DataFrame):\")\n",
        "    print(dd_temp.head())\n"
      ],
      "metadata": {
        "colab": {
          "base_uri": "https://localhost:8080/"
        },
        "id": "vRsD7p1TQc6o",
        "outputId": "adc5813f-bba1-46a4-c58c-b261f9ee9b6f"
      },
      "execution_count": 10,
      "outputs": [
        {
          "output_type": "stream",
          "name": "stdout",
          "text": [
            "Drawdown calculation (temporary DataFrame):\n",
            "        Date  3M_Max_Drawdown\n",
            "2 1990-05-31        -0.014564\n",
            "3 1990-06-29         0.000000\n",
            "4 1990-07-31         0.000000\n",
            "5 1990-08-31        -0.086261\n",
            "6 1990-09-28        -0.128945\n"
          ]
        }
      ]
    },
    {
      "cell_type": "code",
      "source": [
        "# Fit KMeans clustering on the temporary DataFrame's '3M_Max_Drawdown' column\n",
        "kmeans = KMeans(n_clusters=cluster_n, random_state=42)\n",
        "dd_temp['DD_cluster'] = kmeans.fit_predict(dd_temp[['3M_Max_Drawdown']])\n",
        "\n",
        "# Merge the cluster labels from dd_temp into excel_df by matching on the 'Date' column.\n",
        "# This adds a new column 'DD_cluster' to excel_df.\n",
        "excel_df = excel_df.merge(dd_temp[['Date', 'DD_cluster']], on='Date', how='left')\n",
        "\n",
        "print(\"excel_df with DD_cluster added:\")\n",
        "from IPython.display import display, HTML\n",
        "display(HTML(excel_df.head().to_html(index=False)))\n"
      ],
      "metadata": {
        "colab": {
          "base_uri": "https://localhost:8080/",
          "height": 764
        },
        "id": "ND-2VF-SS187",
        "outputId": "12860500-3897-49ce-c55f-ed02a168fbcc"
      },
      "execution_count": 11,
      "outputs": [
        {
          "output_type": "stream",
          "name": "stdout",
          "text": [
            "excel_df with DD_cluster added:\n"
          ]
        },
        {
          "output_type": "display_data",
          "data": {
            "text/plain": [
              "<IPython.core.display.HTML object>"
            ],
            "text/html": [
              "<table border=\"1\" class=\"dataframe\">\n",
              "  <thead>\n",
              "    <tr style=\"text-align: right;\">\n",
              "      <th>Date</th>\n",
              "      <th>USA Standard (Large+Mid Cap)</th>\n",
              "      <th>USA MOMENTUM Standard (Large+Mid Cap)</th>\n",
              "      <th>USA MINIMUM VOLATILITY (USD) Standard (Large+Mid Cap)</th>\n",
              "      <th>USA RISK WEIGHTED Standard (Large+Mid Cap)</th>\n",
              "      <th>USA SECTOR NEUTRAL QUALITY Standard (Large+Mid Cap)</th>\n",
              "      <th>USA ENHANCED VALUE Standard (Large+Mid Cap)</th>\n",
              "      <th>Winning Factor</th>\n",
              "      <th>VIXCLS</th>\n",
              "      <th>GDPC1</th>\n",
              "      <th>CPI</th>\n",
              "      <th>LEI</th>\n",
              "      <th>10yr</th>\n",
              "      <th>Financial Turbulance</th>\n",
              "      <th>(Regime)</th>\n",
              "      <th>Financial condition</th>\n",
              "      <th>Drawdown</th>\n",
              "      <th>HY Spread</th>\n",
              "      <th>IG Spread</th>\n",
              "      <th>10y-2y</th>\n",
              "      <th>Vix-regimes2</th>\n",
              "      <th>Vix-regimes3</th>\n",
              "      <th>FT_regimes2</th>\n",
              "      <th>FT_regimes3</th>\n",
              "      <th>DD_regimes2</th>\n",
              "      <th>DD_regimes3</th>\n",
              "      <th>cluster_0 (minimal drawdown</th>\n",
              "      <th>cluster_1 (moderate drawdown)</th>\n",
              "      <th>cluster_2 (severe drawdown)</th>\n",
              "      <th>SMB</th>\n",
              "      <th>HML</th>\n",
              "      <th>RMW</th>\n",
              "      <th>CMA</th>\n",
              "      <th>MOM</th>\n",
              "      <th>(Regimes)</th>\n",
              "      <th>Regimes</th>\n",
              "      <th>DD_cluster</th>\n",
              "    </tr>\n",
              "  </thead>\n",
              "  <tbody>\n",
              "    <tr>\n",
              "      <td>1990-03-30</td>\n",
              "      <td>0.020702</td>\n",
              "      <td>0.028022</td>\n",
              "      <td>0.012313</td>\n",
              "      <td>0.013039</td>\n",
              "      <td>0.036524</td>\n",
              "      <td>0.013845</td>\n",
              "      <td>USA SECTOR NEUTRAL QUALITY Standard (Large+Mid Cap)</td>\n",
              "      <td>21.40</td>\n",
              "      <td>0.003630</td>\n",
              "      <td>0.004687</td>\n",
              "      <td>63.5</td>\n",
              "      <td>8.59</td>\n",
              "      <td>9.383220</td>\n",
              "      <td>Recovery</td>\n",
              "      <td>0.04713</td>\n",
              "      <td>0.000000</td>\n",
              "      <td>NaN</td>\n",
              "      <td>NaN</td>\n",
              "      <td>0.08</td>\n",
              "      <td>High</td>\n",
              "      <td>Low</td>\n",
              "      <td>Normal Turbulence</td>\n",
              "      <td>Low Turbulence</td>\n",
              "      <td>Normal Drawdown</td>\n",
              "      <td>Moderate Drawdown</td>\n",
              "      <td>1</td>\n",
              "      <td>0</td>\n",
              "      <td>0</td>\n",
              "      <td>0.0162</td>\n",
              "      <td>-0.0292</td>\n",
              "      <td>0.0204</td>\n",
              "      <td>-0.0102</td>\n",
              "      <td>0.0180</td>\n",
              "      <td>Normal</td>\n",
              "      <td>Normal</td>\n",
              "      <td>NaN</td>\n",
              "    </tr>\n",
              "    <tr>\n",
              "      <td>1990-04-30</td>\n",
              "      <td>-0.023292</td>\n",
              "      <td>-0.014564</td>\n",
              "      <td>-0.031345</td>\n",
              "      <td>-0.042294</td>\n",
              "      <td>-0.007806</td>\n",
              "      <td>-0.032085</td>\n",
              "      <td>USA SECTOR NEUTRAL QUALITY Standard (Large+Mid Cap)</td>\n",
              "      <td>18.10</td>\n",
              "      <td>0.003630</td>\n",
              "      <td>0.002333</td>\n",
              "      <td>63.6</td>\n",
              "      <td>8.79</td>\n",
              "      <td>4.756642</td>\n",
              "      <td>Slowdown</td>\n",
              "      <td>-0.13602</td>\n",
              "      <td>-0.023292</td>\n",
              "      <td>NaN</td>\n",
              "      <td>NaN</td>\n",
              "      <td>0.10</td>\n",
              "      <td>High</td>\n",
              "      <td>High</td>\n",
              "      <td>Normal Turbulence</td>\n",
              "      <td>Low Turbulence</td>\n",
              "      <td>Normal Drawdown</td>\n",
              "      <td>Moderate Drawdown</td>\n",
              "      <td>1</td>\n",
              "      <td>0</td>\n",
              "      <td>0</td>\n",
              "      <td>-0.0033</td>\n",
              "      <td>-0.0259</td>\n",
              "      <td>0.0178</td>\n",
              "      <td>-0.0098</td>\n",
              "      <td>0.0239</td>\n",
              "      <td>Normal</td>\n",
              "      <td>Normal</td>\n",
              "      <td>NaN</td>\n",
              "    </tr>\n",
              "    <tr>\n",
              "      <td>1990-05-31</td>\n",
              "      <td>0.089444</td>\n",
              "      <td>0.112070</td>\n",
              "      <td>0.079487</td>\n",
              "      <td>0.080355</td>\n",
              "      <td>0.101743</td>\n",
              "      <td>0.081134</td>\n",
              "      <td>USA MOMENTUM Standard (Large+Mid Cap)</td>\n",
              "      <td>16.82</td>\n",
              "      <td>0.003630</td>\n",
              "      <td>0.001552</td>\n",
              "      <td>63.3</td>\n",
              "      <td>8.76</td>\n",
              "      <td>14.686352</td>\n",
              "      <td>Slowdown</td>\n",
              "      <td>-0.15632</td>\n",
              "      <td>0.000000</td>\n",
              "      <td>NaN</td>\n",
              "      <td>NaN</td>\n",
              "      <td>0.19</td>\n",
              "      <td>High</td>\n",
              "      <td>High</td>\n",
              "      <td>Normal Turbulence</td>\n",
              "      <td>High Turbulence</td>\n",
              "      <td>Normal Drawdown</td>\n",
              "      <td>Moderate Drawdown</td>\n",
              "      <td>1</td>\n",
              "      <td>0</td>\n",
              "      <td>0</td>\n",
              "      <td>-0.0235</td>\n",
              "      <td>-0.0383</td>\n",
              "      <td>0.0157</td>\n",
              "      <td>-0.0168</td>\n",
              "      <td>0.0303</td>\n",
              "      <td>Normal</td>\n",
              "      <td>Normal</td>\n",
              "      <td>0.0</td>\n",
              "    </tr>\n",
              "    <tr>\n",
              "      <td>1990-06-29</td>\n",
              "      <td>-0.006432</td>\n",
              "      <td>0.022340</td>\n",
              "      <td>-0.010553</td>\n",
              "      <td>-0.010138</td>\n",
              "      <td>0.011909</td>\n",
              "      <td>-0.016679</td>\n",
              "      <td>USA MOMENTUM Standard (Large+Mid Cap)</td>\n",
              "      <td>18.39</td>\n",
              "      <td>0.000666</td>\n",
              "      <td>0.006197</td>\n",
              "      <td>63.3</td>\n",
              "      <td>8.48</td>\n",
              "      <td>8.020190</td>\n",
              "      <td>Slowdown</td>\n",
              "      <td>0.08472</td>\n",
              "      <td>-0.006432</td>\n",
              "      <td>NaN</td>\n",
              "      <td>NaN</td>\n",
              "      <td>0.45</td>\n",
              "      <td>High</td>\n",
              "      <td>High</td>\n",
              "      <td>Normal Turbulence</td>\n",
              "      <td>Low Turbulence</td>\n",
              "      <td>Normal Drawdown</td>\n",
              "      <td>Moderate Drawdown</td>\n",
              "      <td>1</td>\n",
              "      <td>0</td>\n",
              "      <td>0</td>\n",
              "      <td>0.0135</td>\n",
              "      <td>-0.0193</td>\n",
              "      <td>-0.0103</td>\n",
              "      <td>-0.0039</td>\n",
              "      <td>0.0240</td>\n",
              "      <td>Normal</td>\n",
              "      <td>Normal</td>\n",
              "      <td>0.0</td>\n",
              "    </tr>\n",
              "    <tr>\n",
              "      <td>1990-07-31</td>\n",
              "      <td>-0.004276</td>\n",
              "      <td>0.004471</td>\n",
              "      <td>-0.001134</td>\n",
              "      <td>-0.011361</td>\n",
              "      <td>-0.000470</td>\n",
              "      <td>-0.008691</td>\n",
              "      <td>USA MOMENTUM Standard (Large+Mid Cap)</td>\n",
              "      <td>28.18</td>\n",
              "      <td>0.000666</td>\n",
              "      <td>0.004619</td>\n",
              "      <td>63.3</td>\n",
              "      <td>8.47</td>\n",
              "      <td>25.637526</td>\n",
              "      <td>Slowdown</td>\n",
              "      <td>0.24339</td>\n",
              "      <td>-0.010680</td>\n",
              "      <td>NaN</td>\n",
              "      <td>NaN</td>\n",
              "      <td>0.79</td>\n",
              "      <td>Normal</td>\n",
              "      <td>Low</td>\n",
              "      <td>High Turbulence</td>\n",
              "      <td>High Turbulence</td>\n",
              "      <td>Normal Drawdown</td>\n",
              "      <td>Moderate Drawdown</td>\n",
              "      <td>1</td>\n",
              "      <td>0</td>\n",
              "      <td>0</td>\n",
              "      <td>-0.0316</td>\n",
              "      <td>-0.0003</td>\n",
              "      <td>-0.0018</td>\n",
              "      <td>0.0321</td>\n",
              "      <td>0.0610</td>\n",
              "      <td>Normal</td>\n",
              "      <td>Normal</td>\n",
              "      <td>0.0</td>\n",
              "    </tr>\n",
              "  </tbody>\n",
              "</table>"
            ]
          },
          "metadata": {}
        }
      ]
    },
    {
      "cell_type": "code",
      "source": [
        "#FEATURES = ['VIXCLS', 'CPI', 'LEI', '10yr', 'Financial condition', '10y-2y', 'Financial Turbulance']\n",
        "\n",
        "FEATURES = [\n",
        "    'VIXCLS',\n",
        "    'GDPC1',\n",
        "    'CPI',\n",
        "    'LEI',\n",
        "    '10yr',\n",
        "    'Financial Turbulance',\n",
        "    'Financial condition',\n",
        "    'HY Spread',\n",
        "    'IG Spread',\n",
        "    '10y-2y'\n",
        "]\n",
        "\n",
        "\n",
        "TRUE_REGIME = 'DD_cluster'\n",
        "DATE = 'Date'\n",
        "\n",
        "selected_columns =  [DATE] + [TRUE_REGIME] +FEATURES\n"
      ],
      "metadata": {
        "id": "r9Cg8WsZqU34"
      },
      "execution_count": 12,
      "outputs": []
    },
    {
      "cell_type": "code",
      "source": [
        "missing = [col for col in selected_columns if col not in excel_df.columns]\n",
        "if missing:\n",
        "    raise ValueError(f\"Missing columns in df: {missing}\")\n",
        "\n",
        "# Subset and drop rows with empty values\n",
        "input_df = excel_df[selected_columns]\n",
        "orig_rows = len(input_df)\n",
        "input_df = input_df.dropna()\n",
        "print(f\"Original rows: {orig_rows}, Dropped rows: {orig_rows - len(input_df)}\")\n",
        "print(f\"First obs: {input_df[DATE].min()}, Last obs: {input_df[DATE].max()}\")\n",
        "\n",
        "# Display as neat HTML table (adjust 'rows_to_show' as needed)\n",
        "rows_to_show = 10\n",
        "from IPython.display import display, HTML\n",
        "display(HTML(input_df.head(rows_to_show).to_html(index=False)))"
      ],
      "metadata": {
        "colab": {
          "base_uri": "https://localhost:8080/",
          "height": 397
        },
        "id": "7yQYY08pMCVR",
        "outputId": "214ad2a2-da16-4c08-d4f2-2ffa0dd37cb8"
      },
      "execution_count": 13,
      "outputs": [
        {
          "output_type": "stream",
          "name": "stdout",
          "text": [
            "Original rows: 416, Dropped rows: 81\n",
            "First obs: 1996-12-31 00:00:00, Last obs: 2024-10-31 00:00:00\n"
          ]
        },
        {
          "output_type": "display_data",
          "data": {
            "text/plain": [
              "<IPython.core.display.HTML object>"
            ],
            "text/html": [
              "<table border=\"1\" class=\"dataframe\">\n",
              "  <thead>\n",
              "    <tr style=\"text-align: right;\">\n",
              "      <th>Date</th>\n",
              "      <th>DD_cluster</th>\n",
              "      <th>VIXCLS</th>\n",
              "      <th>GDPC1</th>\n",
              "      <th>CPI</th>\n",
              "      <th>LEI</th>\n",
              "      <th>10yr</th>\n",
              "      <th>Financial Turbulance</th>\n",
              "      <th>Financial condition</th>\n",
              "      <th>HY Spread</th>\n",
              "      <th>IG Spread</th>\n",
              "      <th>10y-2y</th>\n",
              "    </tr>\n",
              "  </thead>\n",
              "  <tbody>\n",
              "    <tr>\n",
              "      <td>1996-12-31</td>\n",
              "      <td>1.0</td>\n",
              "      <td>19.47</td>\n",
              "      <td>0.006454</td>\n",
              "      <td>0.002520</td>\n",
              "      <td>77.7</td>\n",
              "      <td>6.30</td>\n",
              "      <td>7.860576</td>\n",
              "      <td>0.00043</td>\n",
              "      <td>3.04</td>\n",
              "      <td>0.61</td>\n",
              "      <td>0.59</td>\n",
              "    </tr>\n",
              "    <tr>\n",
              "      <td>1997-01-31</td>\n",
              "      <td>1.0</td>\n",
              "      <td>20.14</td>\n",
              "      <td>0.006454</td>\n",
              "      <td>0.001886</td>\n",
              "      <td>77.8</td>\n",
              "      <td>6.58</td>\n",
              "      <td>14.956959</td>\n",
              "      <td>-0.03500</td>\n",
              "      <td>2.73</td>\n",
              "      <td>0.59</td>\n",
              "      <td>0.47</td>\n",
              "    </tr>\n",
              "    <tr>\n",
              "      <td>1997-02-28</td>\n",
              "      <td>0.0</td>\n",
              "      <td>20.17</td>\n",
              "      <td>0.006454</td>\n",
              "      <td>0.001882</td>\n",
              "      <td>78.3</td>\n",
              "      <td>6.42</td>\n",
              "      <td>13.043063</td>\n",
              "      <td>0.05391</td>\n",
              "      <td>2.84</td>\n",
              "      <td>0.57</td>\n",
              "      <td>0.47</td>\n",
              "    </tr>\n",
              "    <tr>\n",
              "      <td>1997-03-31</td>\n",
              "      <td>1.0</td>\n",
              "      <td>19.66</td>\n",
              "      <td>0.016652</td>\n",
              "      <td>0.000626</td>\n",
              "      <td>79.3</td>\n",
              "      <td>6.69</td>\n",
              "      <td>10.821978</td>\n",
              "      <td>0.05726</td>\n",
              "      <td>2.94</td>\n",
              "      <td>0.59</td>\n",
              "      <td>0.43</td>\n",
              "    </tr>\n",
              "    <tr>\n",
              "      <td>1997-04-30</td>\n",
              "      <td>1.0</td>\n",
              "      <td>19.92</td>\n",
              "      <td>0.016652</td>\n",
              "      <td>0.000626</td>\n",
              "      <td>79.7</td>\n",
              "      <td>6.89</td>\n",
              "      <td>10.938933</td>\n",
              "      <td>0.00925</td>\n",
              "      <td>2.68</td>\n",
              "      <td>0.61</td>\n",
              "      <td>0.45</td>\n",
              "    </tr>\n",
              "    <tr>\n",
              "      <td>1997-05-30</td>\n",
              "      <td>0.0</td>\n",
              "      <td>20.19</td>\n",
              "      <td>0.016652</td>\n",
              "      <td>0.000000</td>\n",
              "      <td>79.9</td>\n",
              "      <td>6.71</td>\n",
              "      <td>4.038058</td>\n",
              "      <td>-0.01056</td>\n",
              "      <td>2.67</td>\n",
              "      <td>0.58</td>\n",
              "      <td>0.43</td>\n",
              "    </tr>\n",
              "    <tr>\n",
              "      <td>1997-06-30</td>\n",
              "      <td>0.0</td>\n",
              "      <td>20.53</td>\n",
              "      <td>0.012486</td>\n",
              "      <td>0.001876</td>\n",
              "      <td>80.4</td>\n",
              "      <td>6.49</td>\n",
              "      <td>7.517614</td>\n",
              "      <td>-0.02150</td>\n",
              "      <td>2.71</td>\n",
              "      <td>0.56</td>\n",
              "      <td>0.28</td>\n",
              "    </tr>\n",
              "    <tr>\n",
              "      <td>1997-07-31</td>\n",
              "      <td>0.0</td>\n",
              "      <td>23.08</td>\n",
              "      <td>0.012486</td>\n",
              "      <td>0.001248</td>\n",
              "      <td>81.1</td>\n",
              "      <td>6.22</td>\n",
              "      <td>14.684361</td>\n",
              "      <td>0.01571</td>\n",
              "      <td>2.59</td>\n",
              "      <td>0.57</td>\n",
              "      <td>0.37</td>\n",
              "    </tr>\n",
              "    <tr>\n",
              "      <td>1997-08-29</td>\n",
              "      <td>1.0</td>\n",
              "      <td>23.81</td>\n",
              "      <td>0.012486</td>\n",
              "      <td>0.002494</td>\n",
              "      <td>82.0</td>\n",
              "      <td>6.30</td>\n",
              "      <td>10.252527</td>\n",
              "      <td>0.03394</td>\n",
              "      <td>2.59</td>\n",
              "      <td>0.54</td>\n",
              "      <td>0.32</td>\n",
              "    </tr>\n",
              "    <tr>\n",
              "      <td>1997-09-30</td>\n",
              "      <td>1.0</td>\n",
              "      <td>23.87</td>\n",
              "      <td>0.008539</td>\n",
              "      <td>0.002488</td>\n",
              "      <td>82.3</td>\n",
              "      <td>6.21</td>\n",
              "      <td>6.511195</td>\n",
              "      <td>0.10651</td>\n",
              "      <td>2.99</td>\n",
              "      <td>0.67</td>\n",
              "      <td>0.21</td>\n",
              "    </tr>\n",
              "  </tbody>\n",
              "</table>"
            ]
          },
          "metadata": {}
        }
      ]
    },
    {
      "cell_type": "markdown",
      "source": [],
      "metadata": {
        "id": "jY0ai22WK_kF"
      }
    },
    {
      "cell_type": "code",
      "source": [
        "from tabulate import tabulate\n",
        "\n",
        "# Calculate the number of observations for each regime in the data\n",
        "regime_counts = input_df[TRUE_REGIME].value_counts().sort_index().reset_index()\n",
        "regime_counts.columns = [TRUE_REGIME, 'Count']\n",
        "\n",
        "print(\"Number of observations per regime:\")\n",
        "print(tabulate(regime_counts, headers='keys', tablefmt='psql', showindex=False))\n"
      ],
      "metadata": {
        "colab": {
          "base_uri": "https://localhost:8080/"
        },
        "id": "aeP-z42p8ae2",
        "outputId": "5c2ef971-863f-48a0-8a0c-c62582fdb55a"
      },
      "execution_count": 14,
      "outputs": [
        {
          "output_type": "stream",
          "name": "stdout",
          "text": [
            "Number of observations per regime:\n",
            "+--------------+---------+\n",
            "|   DD_cluster |   Count |\n",
            "|--------------+---------|\n",
            "|            0 |     204 |\n",
            "|            1 |     102 |\n",
            "|            2 |      29 |\n",
            "+--------------+---------+\n"
          ]
        }
      ]
    },
    {
      "cell_type": "code",
      "source": [
        "if ML == True:\n",
        "\n",
        "  import matplotlib.pyplot as plt\n",
        "  import seaborn as sns\n",
        "  from sklearn.ensemble import RandomForestClassifier, GradientBoostingClassifier\n",
        "  from sklearn.linear_model import LogisticRegression\n",
        "  from sklearn.svm import SVC\n",
        "  from sklearn.metrics import accuracy_score, confusion_matrix\n",
        "\n",
        "  # Define predictors and target using the given column lists\n",
        "  predictors = FEATURES\n",
        "  target = TRUE_REGIME\n",
        "\n",
        "  # Drop rows with missing values in predictors or target\n",
        "  data = input_df.dropna(subset=predictors + [target]).reset_index(drop=True)\n",
        "  X = data[predictors]\n",
        "  y = data[target]\n",
        "  # Also grab the DATE column for printing prediction timestamps\n",
        "  dates = data[DATE]\n",
        "\n",
        "  # Define the models\n",
        "  models = {\n",
        "      'RandomForest': RandomForestClassifier(n_estimators=100, random_state=42),\n",
        "      'GradientBoosting': GradientBoostingClassifier(n_estimators=100, random_state=42),\n",
        "      'LogisticRegression': LogisticRegression(max_iter=1000, random_state=42),\n",
        "      'SVC_linear': SVC(kernel='linear', probability=True, random_state=42),\n",
        "      'SVC_rbf': SVC(kernel='rbf', probability=True, random_state=42)\n",
        "  }\n",
        "\n",
        "  window_size = 60  # e.g., 60 observations for training\n",
        "  rolling_accuracies = {name: [] for name in models}\n",
        "\n",
        "  # Dictionaries to store true and predicted labels for each model for confusion matrix calculation\n",
        "  pred_true = {name: {'y_true': [], 'y_pred': []} for name in models}\n",
        "\n",
        "  print(\"Starting rolling window evaluation:\")\n",
        "\n",
        "  # Loop over the dataset in a rolling window manner\n",
        "  for i in range(len(X)):\n",
        "      if i < window_size:\n",
        "          print(f\"Skipping prediction for timestamp {dates.iloc[i]} \"\n",
        "                f\"(insufficient data: {i} observations available, need {window_size}).\")\n",
        "          continue\n",
        "\n",
        "      # Training period is the previous window_size observations\n",
        "      # Training period ends at the date corresponding to index i-1\n",
        "      train_end = dates.iloc[i-1]\n",
        "      # The prediction is for the date at index i\n",
        "      test_date = dates.iloc[i]\n",
        "\n",
        "      X_train_window = X.iloc[i-window_size:i]\n",
        "      y_train_window = y.iloc[i-window_size:i]\n",
        "      X_test_window = X.iloc[[i]]\n",
        "      y_test_window = y.iloc[[i]]\n",
        "\n",
        "      # Loop through each model, fit, predict and print the training end date and prediction date\n",
        "      for name, model in models.items():\n",
        "          model.fit(X_train_window, y_train_window)\n",
        "          y_pred = model.predict(X_test_window)\n",
        "          acc = accuracy_score(y_test_window, y_pred)\n",
        "          print(f\"Training period ended at {train_end} - Prediction for period {test_date}: \"\n",
        "                f\"Model '{name}' Accuracy = {acc:.2f}\")\n",
        "          rolling_accuracies[name].append(acc)\n",
        "          # Save true and predicted values for confusion matrix calculation\n",
        "          pred_true[name]['y_true'].append(y_test_window.values[0])\n",
        "          pred_true[name]['y_pred'].append(y_pred[0])\n",
        "\n",
        "  # Print average rolling window accuracy for each model\n",
        "  print(\"\\nRolling Window Average Accuracy:\")\n",
        "  for name, acc_list in rolling_accuracies.items():\n",
        "      avg_acc = np.mean(acc_list) if acc_list else 0\n",
        "      print(f\"{name}: {avg_acc:.2f}\")\n",
        "\n",
        "  # Compute and display confusion matrix for each model\n",
        "  for name in models:\n",
        "      cm = confusion_matrix(pred_true[name]['y_true'], pred_true[name]['y_pred'])\n",
        "      print(f\"\\nConfusion Matrix for {name}:\")\n",
        "      print(cm)\n",
        "\n",
        "      # Plot confusion matrix heatmap\n",
        "      plt.figure(figsize=(6, 4))\n",
        "      sns.heatmap(cm, annot=True, fmt='d', cmap='Blues')\n",
        "      plt.title(f'Confusion Matrix for {name}')\n",
        "      plt.ylabel('Actual')\n",
        "      plt.xlabel('Predicted')\n",
        "      plt.show()\n"
      ],
      "metadata": {
        "colab": {
          "base_uri": "https://localhost:8080/",
          "height": 1000
        },
        "id": "vp7FA1IRumLl",
        "outputId": "23bd854a-53c2-4360-ae0f-253d9682db9b"
      },
      "execution_count": 15,
      "outputs": [
        {
          "output_type": "stream",
          "name": "stdout",
          "text": [
            "Starting rolling window evaluation:\n",
            "Skipping prediction for timestamp 1996-12-31 00:00:00 (insufficient data: 0 observations available, need 60).\n",
            "Skipping prediction for timestamp 1997-01-31 00:00:00 (insufficient data: 1 observations available, need 60).\n",
            "Skipping prediction for timestamp 1997-02-28 00:00:00 (insufficient data: 2 observations available, need 60).\n",
            "Skipping prediction for timestamp 1997-03-31 00:00:00 (insufficient data: 3 observations available, need 60).\n",
            "Skipping prediction for timestamp 1997-04-30 00:00:00 (insufficient data: 4 observations available, need 60).\n",
            "Skipping prediction for timestamp 1997-05-30 00:00:00 (insufficient data: 5 observations available, need 60).\n",
            "Skipping prediction for timestamp 1997-06-30 00:00:00 (insufficient data: 6 observations available, need 60).\n",
            "Skipping prediction for timestamp 1997-07-31 00:00:00 (insufficient data: 7 observations available, need 60).\n",
            "Skipping prediction for timestamp 1997-08-29 00:00:00 (insufficient data: 8 observations available, need 60).\n",
            "Skipping prediction for timestamp 1997-09-30 00:00:00 (insufficient data: 9 observations available, need 60).\n",
            "Skipping prediction for timestamp 1997-10-31 00:00:00 (insufficient data: 10 observations available, need 60).\n",
            "Skipping prediction for timestamp 1997-11-28 00:00:00 (insufficient data: 11 observations available, need 60).\n",
            "Skipping prediction for timestamp 1997-12-31 00:00:00 (insufficient data: 12 observations available, need 60).\n",
            "Skipping prediction for timestamp 1998-01-30 00:00:00 (insufficient data: 13 observations available, need 60).\n",
            "Skipping prediction for timestamp 1998-02-27 00:00:00 (insufficient data: 14 observations available, need 60).\n",
            "Skipping prediction for timestamp 1998-03-31 00:00:00 (insufficient data: 15 observations available, need 60).\n",
            "Skipping prediction for timestamp 1998-04-30 00:00:00 (insufficient data: 16 observations available, need 60).\n",
            "Skipping prediction for timestamp 1998-05-29 00:00:00 (insufficient data: 17 observations available, need 60).\n",
            "Skipping prediction for timestamp 1998-06-30 00:00:00 (insufficient data: 18 observations available, need 60).\n",
            "Skipping prediction for timestamp 1998-07-31 00:00:00 (insufficient data: 19 observations available, need 60).\n",
            "Skipping prediction for timestamp 1998-08-31 00:00:00 (insufficient data: 20 observations available, need 60).\n",
            "Skipping prediction for timestamp 1998-09-30 00:00:00 (insufficient data: 21 observations available, need 60).\n",
            "Skipping prediction for timestamp 1998-10-30 00:00:00 (insufficient data: 22 observations available, need 60).\n",
            "Skipping prediction for timestamp 1998-11-30 00:00:00 (insufficient data: 23 observations available, need 60).\n",
            "Skipping prediction for timestamp 1998-12-31 00:00:00 (insufficient data: 24 observations available, need 60).\n",
            "Skipping prediction for timestamp 1999-01-29 00:00:00 (insufficient data: 25 observations available, need 60).\n",
            "Skipping prediction for timestamp 1999-02-26 00:00:00 (insufficient data: 26 observations available, need 60).\n",
            "Skipping prediction for timestamp 1999-03-31 00:00:00 (insufficient data: 27 observations available, need 60).\n",
            "Skipping prediction for timestamp 1999-04-30 00:00:00 (insufficient data: 28 observations available, need 60).\n",
            "Skipping prediction for timestamp 1999-05-31 00:00:00 (insufficient data: 29 observations available, need 60).\n",
            "Skipping prediction for timestamp 1999-06-30 00:00:00 (insufficient data: 30 observations available, need 60).\n",
            "Skipping prediction for timestamp 1999-07-30 00:00:00 (insufficient data: 31 observations available, need 60).\n",
            "Skipping prediction for timestamp 1999-08-31 00:00:00 (insufficient data: 32 observations available, need 60).\n",
            "Skipping prediction for timestamp 1999-09-30 00:00:00 (insufficient data: 33 observations available, need 60).\n",
            "Skipping prediction for timestamp 1999-10-29 00:00:00 (insufficient data: 34 observations available, need 60).\n",
            "Skipping prediction for timestamp 1999-11-30 00:00:00 (insufficient data: 35 observations available, need 60).\n",
            "Skipping prediction for timestamp 1999-12-31 00:00:00 (insufficient data: 36 observations available, need 60).\n",
            "Skipping prediction for timestamp 2000-01-31 00:00:00 (insufficient data: 37 observations available, need 60).\n",
            "Skipping prediction for timestamp 2000-02-29 00:00:00 (insufficient data: 38 observations available, need 60).\n",
            "Skipping prediction for timestamp 2000-03-31 00:00:00 (insufficient data: 39 observations available, need 60).\n",
            "Skipping prediction for timestamp 2000-04-28 00:00:00 (insufficient data: 40 observations available, need 60).\n",
            "Skipping prediction for timestamp 2000-05-31 00:00:00 (insufficient data: 41 observations available, need 60).\n",
            "Skipping prediction for timestamp 2000-06-30 00:00:00 (insufficient data: 42 observations available, need 60).\n",
            "Skipping prediction for timestamp 2000-07-31 00:00:00 (insufficient data: 43 observations available, need 60).\n",
            "Skipping prediction for timestamp 2000-08-31 00:00:00 (insufficient data: 44 observations available, need 60).\n",
            "Skipping prediction for timestamp 2000-09-29 00:00:00 (insufficient data: 45 observations available, need 60).\n",
            "Skipping prediction for timestamp 2000-10-31 00:00:00 (insufficient data: 46 observations available, need 60).\n",
            "Skipping prediction for timestamp 2000-11-30 00:00:00 (insufficient data: 47 observations available, need 60).\n",
            "Skipping prediction for timestamp 2000-12-29 00:00:00 (insufficient data: 48 observations available, need 60).\n",
            "Skipping prediction for timestamp 2001-01-31 00:00:00 (insufficient data: 49 observations available, need 60).\n",
            "Skipping prediction for timestamp 2001-02-28 00:00:00 (insufficient data: 50 observations available, need 60).\n",
            "Skipping prediction for timestamp 2001-03-30 00:00:00 (insufficient data: 51 observations available, need 60).\n",
            "Skipping prediction for timestamp 2001-04-30 00:00:00 (insufficient data: 52 observations available, need 60).\n",
            "Skipping prediction for timestamp 2001-05-31 00:00:00 (insufficient data: 53 observations available, need 60).\n",
            "Skipping prediction for timestamp 2001-06-29 00:00:00 (insufficient data: 54 observations available, need 60).\n",
            "Skipping prediction for timestamp 2001-07-31 00:00:00 (insufficient data: 55 observations available, need 60).\n",
            "Skipping prediction for timestamp 2001-08-31 00:00:00 (insufficient data: 56 observations available, need 60).\n",
            "Skipping prediction for timestamp 2001-09-28 00:00:00 (insufficient data: 57 observations available, need 60).\n",
            "Skipping prediction for timestamp 2001-10-31 00:00:00 (insufficient data: 58 observations available, need 60).\n",
            "Skipping prediction for timestamp 2001-11-30 00:00:00 (insufficient data: 59 observations available, need 60).\n",
            "Training period ended at 2001-11-30 00:00:00 - Prediction for period 2001-12-31 00:00:00: Model 'RandomForest' Accuracy = 0.00\n",
            "Training period ended at 2001-11-30 00:00:00 - Prediction for period 2001-12-31 00:00:00: Model 'GradientBoosting' Accuracy = 0.00\n",
            "Training period ended at 2001-11-30 00:00:00 - Prediction for period 2001-12-31 00:00:00: Model 'LogisticRegression' Accuracy = 0.00\n",
            "Training period ended at 2001-11-30 00:00:00 - Prediction for period 2001-12-31 00:00:00: Model 'SVC_linear' Accuracy = 0.00\n",
            "Training period ended at 2001-11-30 00:00:00 - Prediction for period 2001-12-31 00:00:00: Model 'SVC_rbf' Accuracy = 1.00\n"
          ]
        },
        {
          "output_type": "stream",
          "name": "stderr",
          "text": [
            "/usr/local/lib/python3.11/dist-packages/sklearn/linear_model/_logistic.py:465: ConvergenceWarning: lbfgs failed to converge (status=1):\n",
            "STOP: TOTAL NO. of ITERATIONS REACHED LIMIT.\n",
            "\n",
            "Increase the number of iterations (max_iter) or scale the data as shown in:\n",
            "    https://scikit-learn.org/stable/modules/preprocessing.html\n",
            "Please also refer to the documentation for alternative solver options:\n",
            "    https://scikit-learn.org/stable/modules/linear_model.html#logistic-regression\n",
            "  n_iter_i = _check_optimize_result(\n"
          ]
        },
        {
          "output_type": "stream",
          "name": "stdout",
          "text": [
            "Training period ended at 2001-12-31 00:00:00 - Prediction for period 2002-01-31 00:00:00: Model 'RandomForest' Accuracy = 1.00\n",
            "Training period ended at 2001-12-31 00:00:00 - Prediction for period 2002-01-31 00:00:00: Model 'GradientBoosting' Accuracy = 1.00\n",
            "Training period ended at 2001-12-31 00:00:00 - Prediction for period 2002-01-31 00:00:00: Model 'LogisticRegression' Accuracy = 0.00\n",
            "Training period ended at 2001-12-31 00:00:00 - Prediction for period 2002-01-31 00:00:00: Model 'SVC_linear' Accuracy = 0.00\n",
            "Training period ended at 2001-12-31 00:00:00 - Prediction for period 2002-01-31 00:00:00: Model 'SVC_rbf' Accuracy = 1.00\n"
          ]
        },
        {
          "output_type": "stream",
          "name": "stderr",
          "text": [
            "/usr/local/lib/python3.11/dist-packages/sklearn/linear_model/_logistic.py:465: ConvergenceWarning: lbfgs failed to converge (status=1):\n",
            "STOP: TOTAL NO. of ITERATIONS REACHED LIMIT.\n",
            "\n",
            "Increase the number of iterations (max_iter) or scale the data as shown in:\n",
            "    https://scikit-learn.org/stable/modules/preprocessing.html\n",
            "Please also refer to the documentation for alternative solver options:\n",
            "    https://scikit-learn.org/stable/modules/linear_model.html#logistic-regression\n",
            "  n_iter_i = _check_optimize_result(\n"
          ]
        },
        {
          "output_type": "stream",
          "name": "stdout",
          "text": [
            "Training period ended at 2002-01-31 00:00:00 - Prediction for period 2002-02-28 00:00:00: Model 'RandomForest' Accuracy = 1.00\n",
            "Training period ended at 2002-01-31 00:00:00 - Prediction for period 2002-02-28 00:00:00: Model 'GradientBoosting' Accuracy = 1.00\n",
            "Training period ended at 2002-01-31 00:00:00 - Prediction for period 2002-02-28 00:00:00: Model 'LogisticRegression' Accuracy = 1.00\n",
            "Training period ended at 2002-01-31 00:00:00 - Prediction for period 2002-02-28 00:00:00: Model 'SVC_linear' Accuracy = 1.00\n",
            "Training period ended at 2002-01-31 00:00:00 - Prediction for period 2002-02-28 00:00:00: Model 'SVC_rbf' Accuracy = 1.00\n"
          ]
        },
        {
          "output_type": "stream",
          "name": "stderr",
          "text": [
            "/usr/local/lib/python3.11/dist-packages/sklearn/linear_model/_logistic.py:465: ConvergenceWarning: lbfgs failed to converge (status=1):\n",
            "STOP: TOTAL NO. of ITERATIONS REACHED LIMIT.\n",
            "\n",
            "Increase the number of iterations (max_iter) or scale the data as shown in:\n",
            "    https://scikit-learn.org/stable/modules/preprocessing.html\n",
            "Please also refer to the documentation for alternative solver options:\n",
            "    https://scikit-learn.org/stable/modules/linear_model.html#logistic-regression\n",
            "  n_iter_i = _check_optimize_result(\n"
          ]
        },
        {
          "output_type": "stream",
          "name": "stdout",
          "text": [
            "Training period ended at 2002-02-28 00:00:00 - Prediction for period 2002-03-29 00:00:00: Model 'RandomForest' Accuracy = 1.00\n",
            "Training period ended at 2002-02-28 00:00:00 - Prediction for period 2002-03-29 00:00:00: Model 'GradientBoosting' Accuracy = 1.00\n",
            "Training period ended at 2002-02-28 00:00:00 - Prediction for period 2002-03-29 00:00:00: Model 'LogisticRegression' Accuracy = 1.00\n"
          ]
        },
        {
          "output_type": "stream",
          "name": "stderr",
          "text": [
            "/usr/local/lib/python3.11/dist-packages/sklearn/linear_model/_logistic.py:465: ConvergenceWarning: lbfgs failed to converge (status=1):\n",
            "STOP: TOTAL NO. of ITERATIONS REACHED LIMIT.\n",
            "\n",
            "Increase the number of iterations (max_iter) or scale the data as shown in:\n",
            "    https://scikit-learn.org/stable/modules/preprocessing.html\n",
            "Please also refer to the documentation for alternative solver options:\n",
            "    https://scikit-learn.org/stable/modules/linear_model.html#logistic-regression\n",
            "  n_iter_i = _check_optimize_result(\n"
          ]
        },
        {
          "output_type": "stream",
          "name": "stdout",
          "text": [
            "Training period ended at 2002-02-28 00:00:00 - Prediction for period 2002-03-29 00:00:00: Model 'SVC_linear' Accuracy = 1.00\n",
            "Training period ended at 2002-02-28 00:00:00 - Prediction for period 2002-03-29 00:00:00: Model 'SVC_rbf' Accuracy = 1.00\n",
            "Training period ended at 2002-03-29 00:00:00 - Prediction for period 2002-04-30 00:00:00: Model 'RandomForest' Accuracy = 1.00\n",
            "Training period ended at 2002-03-29 00:00:00 - Prediction for period 2002-04-30 00:00:00: Model 'GradientBoosting' Accuracy = 1.00\n"
          ]
        },
        {
          "output_type": "stream",
          "name": "stderr",
          "text": [
            "/usr/local/lib/python3.11/dist-packages/sklearn/linear_model/_logistic.py:465: ConvergenceWarning: lbfgs failed to converge (status=1):\n",
            "STOP: TOTAL NO. of ITERATIONS REACHED LIMIT.\n",
            "\n",
            "Increase the number of iterations (max_iter) or scale the data as shown in:\n",
            "    https://scikit-learn.org/stable/modules/preprocessing.html\n",
            "Please also refer to the documentation for alternative solver options:\n",
            "    https://scikit-learn.org/stable/modules/linear_model.html#logistic-regression\n",
            "  n_iter_i = _check_optimize_result(\n"
          ]
        },
        {
          "output_type": "stream",
          "name": "stdout",
          "text": [
            "Training period ended at 2002-03-29 00:00:00 - Prediction for period 2002-04-30 00:00:00: Model 'LogisticRegression' Accuracy = 1.00\n",
            "Training period ended at 2002-03-29 00:00:00 - Prediction for period 2002-04-30 00:00:00: Model 'SVC_linear' Accuracy = 1.00\n",
            "Training period ended at 2002-03-29 00:00:00 - Prediction for period 2002-04-30 00:00:00: Model 'SVC_rbf' Accuracy = 1.00\n",
            "Training period ended at 2002-04-30 00:00:00 - Prediction for period 2002-05-31 00:00:00: Model 'RandomForest' Accuracy = 0.00\n",
            "Training period ended at 2002-04-30 00:00:00 - Prediction for period 2002-05-31 00:00:00: Model 'GradientBoosting' Accuracy = 0.00\n",
            "Training period ended at 2002-04-30 00:00:00 - Prediction for period 2002-05-31 00:00:00: Model 'LogisticRegression' Accuracy = 0.00\n",
            "Training period ended at 2002-04-30 00:00:00 - Prediction for period 2002-05-31 00:00:00: Model 'SVC_linear' Accuracy = 0.00\n",
            "Training period ended at 2002-04-30 00:00:00 - Prediction for period 2002-05-31 00:00:00: Model 'SVC_rbf' Accuracy = 1.00\n"
          ]
        },
        {
          "output_type": "stream",
          "name": "stderr",
          "text": [
            "/usr/local/lib/python3.11/dist-packages/sklearn/linear_model/_logistic.py:465: ConvergenceWarning: lbfgs failed to converge (status=1):\n",
            "STOP: TOTAL NO. of ITERATIONS REACHED LIMIT.\n",
            "\n",
            "Increase the number of iterations (max_iter) or scale the data as shown in:\n",
            "    https://scikit-learn.org/stable/modules/preprocessing.html\n",
            "Please also refer to the documentation for alternative solver options:\n",
            "    https://scikit-learn.org/stable/modules/linear_model.html#logistic-regression\n",
            "  n_iter_i = _check_optimize_result(\n"
          ]
        },
        {
          "output_type": "stream",
          "name": "stdout",
          "text": [
            "Training period ended at 2002-05-31 00:00:00 - Prediction for period 2002-06-28 00:00:00: Model 'RandomForest' Accuracy = 1.00\n",
            "Training period ended at 2002-05-31 00:00:00 - Prediction for period 2002-06-28 00:00:00: Model 'GradientBoosting' Accuracy = 0.00\n",
            "Training period ended at 2002-05-31 00:00:00 - Prediction for period 2002-06-28 00:00:00: Model 'LogisticRegression' Accuracy = 0.00\n",
            "Training period ended at 2002-05-31 00:00:00 - Prediction for period 2002-06-28 00:00:00: Model 'SVC_linear' Accuracy = 0.00\n",
            "Training period ended at 2002-05-31 00:00:00 - Prediction for period 2002-06-28 00:00:00: Model 'SVC_rbf' Accuracy = 0.00\n"
          ]
        },
        {
          "output_type": "stream",
          "name": "stderr",
          "text": [
            "/usr/local/lib/python3.11/dist-packages/sklearn/linear_model/_logistic.py:465: ConvergenceWarning: lbfgs failed to converge (status=1):\n",
            "STOP: TOTAL NO. of ITERATIONS REACHED LIMIT.\n",
            "\n",
            "Increase the number of iterations (max_iter) or scale the data as shown in:\n",
            "    https://scikit-learn.org/stable/modules/preprocessing.html\n",
            "Please also refer to the documentation for alternative solver options:\n",
            "    https://scikit-learn.org/stable/modules/linear_model.html#logistic-regression\n",
            "  n_iter_i = _check_optimize_result(\n"
          ]
        },
        {
          "output_type": "stream",
          "name": "stdout",
          "text": [
            "Training period ended at 2002-06-28 00:00:00 - Prediction for period 2002-07-31 00:00:00: Model 'RandomForest' Accuracy = 0.00\n",
            "Training period ended at 2002-06-28 00:00:00 - Prediction for period 2002-07-31 00:00:00: Model 'GradientBoosting' Accuracy = 0.00\n",
            "Training period ended at 2002-06-28 00:00:00 - Prediction for period 2002-07-31 00:00:00: Model 'LogisticRegression' Accuracy = 1.00\n",
            "Training period ended at 2002-06-28 00:00:00 - Prediction for period 2002-07-31 00:00:00: Model 'SVC_linear' Accuracy = 0.00\n",
            "Training period ended at 2002-06-28 00:00:00 - Prediction for period 2002-07-31 00:00:00: Model 'SVC_rbf' Accuracy = 0.00\n"
          ]
        },
        {
          "output_type": "stream",
          "name": "stderr",
          "text": [
            "/usr/local/lib/python3.11/dist-packages/sklearn/linear_model/_logistic.py:465: ConvergenceWarning: lbfgs failed to converge (status=1):\n",
            "STOP: TOTAL NO. of ITERATIONS REACHED LIMIT.\n",
            "\n",
            "Increase the number of iterations (max_iter) or scale the data as shown in:\n",
            "    https://scikit-learn.org/stable/modules/preprocessing.html\n",
            "Please also refer to the documentation for alternative solver options:\n",
            "    https://scikit-learn.org/stable/modules/linear_model.html#logistic-regression\n",
            "  n_iter_i = _check_optimize_result(\n"
          ]
        },
        {
          "output_type": "stream",
          "name": "stdout",
          "text": [
            "Training period ended at 2002-07-31 00:00:00 - Prediction for period 2002-08-30 00:00:00: Model 'RandomForest' Accuracy = 0.00\n",
            "Training period ended at 2002-07-31 00:00:00 - Prediction for period 2002-08-30 00:00:00: Model 'GradientBoosting' Accuracy = 0.00\n"
          ]
        },
        {
          "output_type": "stream",
          "name": "stderr",
          "text": [
            "/usr/local/lib/python3.11/dist-packages/sklearn/linear_model/_logistic.py:465: ConvergenceWarning: lbfgs failed to converge (status=1):\n",
            "STOP: TOTAL NO. of ITERATIONS REACHED LIMIT.\n",
            "\n",
            "Increase the number of iterations (max_iter) or scale the data as shown in:\n",
            "    https://scikit-learn.org/stable/modules/preprocessing.html\n",
            "Please also refer to the documentation for alternative solver options:\n",
            "    https://scikit-learn.org/stable/modules/linear_model.html#logistic-regression\n",
            "  n_iter_i = _check_optimize_result(\n"
          ]
        },
        {
          "output_type": "stream",
          "name": "stdout",
          "text": [
            "Training period ended at 2002-07-31 00:00:00 - Prediction for period 2002-08-30 00:00:00: Model 'LogisticRegression' Accuracy = 0.00\n",
            "Training period ended at 2002-07-31 00:00:00 - Prediction for period 2002-08-30 00:00:00: Model 'SVC_linear' Accuracy = 0.00\n",
            "Training period ended at 2002-07-31 00:00:00 - Prediction for period 2002-08-30 00:00:00: Model 'SVC_rbf' Accuracy = 0.00\n",
            "Training period ended at 2002-08-30 00:00:00 - Prediction for period 2002-09-30 00:00:00: Model 'RandomForest' Accuracy = 1.00\n",
            "Training period ended at 2002-08-30 00:00:00 - Prediction for period 2002-09-30 00:00:00: Model 'GradientBoosting' Accuracy = 1.00\n"
          ]
        },
        {
          "output_type": "stream",
          "name": "stderr",
          "text": [
            "/usr/local/lib/python3.11/dist-packages/sklearn/linear_model/_logistic.py:465: ConvergenceWarning: lbfgs failed to converge (status=1):\n",
            "STOP: TOTAL NO. of ITERATIONS REACHED LIMIT.\n",
            "\n",
            "Increase the number of iterations (max_iter) or scale the data as shown in:\n",
            "    https://scikit-learn.org/stable/modules/preprocessing.html\n",
            "Please also refer to the documentation for alternative solver options:\n",
            "    https://scikit-learn.org/stable/modules/linear_model.html#logistic-regression\n",
            "  n_iter_i = _check_optimize_result(\n"
          ]
        },
        {
          "output_type": "stream",
          "name": "stdout",
          "text": [
            "Training period ended at 2002-08-30 00:00:00 - Prediction for period 2002-09-30 00:00:00: Model 'LogisticRegression' Accuracy = 0.00\n",
            "Training period ended at 2002-08-30 00:00:00 - Prediction for period 2002-09-30 00:00:00: Model 'SVC_linear' Accuracy = 1.00\n",
            "Training period ended at 2002-08-30 00:00:00 - Prediction for period 2002-09-30 00:00:00: Model 'SVC_rbf' Accuracy = 0.00\n",
            "Training period ended at 2002-09-30 00:00:00 - Prediction for period 2002-10-31 00:00:00: Model 'RandomForest' Accuracy = 0.00\n",
            "Training period ended at 2002-09-30 00:00:00 - Prediction for period 2002-10-31 00:00:00: Model 'GradientBoosting' Accuracy = 0.00\n",
            "Training period ended at 2002-09-30 00:00:00 - Prediction for period 2002-10-31 00:00:00: Model 'LogisticRegression' Accuracy = 0.00\n",
            "Training period ended at 2002-09-30 00:00:00 - Prediction for period 2002-10-31 00:00:00: Model 'SVC_linear' Accuracy = 0.00\n",
            "Training period ended at 2002-09-30 00:00:00 - Prediction for period 2002-10-31 00:00:00: Model 'SVC_rbf' Accuracy = 0.00\n"
          ]
        },
        {
          "output_type": "stream",
          "name": "stderr",
          "text": [
            "/usr/local/lib/python3.11/dist-packages/sklearn/linear_model/_logistic.py:465: ConvergenceWarning: lbfgs failed to converge (status=1):\n",
            "STOP: TOTAL NO. of ITERATIONS REACHED LIMIT.\n",
            "\n",
            "Increase the number of iterations (max_iter) or scale the data as shown in:\n",
            "    https://scikit-learn.org/stable/modules/preprocessing.html\n",
            "Please also refer to the documentation for alternative solver options:\n",
            "    https://scikit-learn.org/stable/modules/linear_model.html#logistic-regression\n",
            "  n_iter_i = _check_optimize_result(\n"
          ]
        },
        {
          "output_type": "stream",
          "name": "stdout",
          "text": [
            "Training period ended at 2002-10-31 00:00:00 - Prediction for period 2002-11-29 00:00:00: Model 'RandomForest' Accuracy = 0.00\n",
            "Training period ended at 2002-10-31 00:00:00 - Prediction for period 2002-11-29 00:00:00: Model 'GradientBoosting' Accuracy = 0.00\n",
            "Training period ended at 2002-10-31 00:00:00 - Prediction for period 2002-11-29 00:00:00: Model 'LogisticRegression' Accuracy = 0.00\n",
            "Training period ended at 2002-10-31 00:00:00 - Prediction for period 2002-11-29 00:00:00: Model 'SVC_linear' Accuracy = 1.00\n",
            "Training period ended at 2002-10-31 00:00:00 - Prediction for period 2002-11-29 00:00:00: Model 'SVC_rbf' Accuracy = 1.00\n"
          ]
        },
        {
          "output_type": "stream",
          "name": "stderr",
          "text": [
            "/usr/local/lib/python3.11/dist-packages/sklearn/linear_model/_logistic.py:465: ConvergenceWarning: lbfgs failed to converge (status=1):\n",
            "STOP: TOTAL NO. of ITERATIONS REACHED LIMIT.\n",
            "\n",
            "Increase the number of iterations (max_iter) or scale the data as shown in:\n",
            "    https://scikit-learn.org/stable/modules/preprocessing.html\n",
            "Please also refer to the documentation for alternative solver options:\n",
            "    https://scikit-learn.org/stable/modules/linear_model.html#logistic-regression\n",
            "  n_iter_i = _check_optimize_result(\n"
          ]
        },
        {
          "output_type": "stream",
          "name": "stdout",
          "text": [
            "Training period ended at 2002-11-29 00:00:00 - Prediction for period 2002-12-31 00:00:00: Model 'RandomForest' Accuracy = 0.00\n",
            "Training period ended at 2002-11-29 00:00:00 - Prediction for period 2002-12-31 00:00:00: Model 'GradientBoosting' Accuracy = 0.00\n",
            "Training period ended at 2002-11-29 00:00:00 - Prediction for period 2002-12-31 00:00:00: Model 'LogisticRegression' Accuracy = 1.00\n",
            "Training period ended at 2002-11-29 00:00:00 - Prediction for period 2002-12-31 00:00:00: Model 'SVC_linear' Accuracy = 0.00\n",
            "Training period ended at 2002-11-29 00:00:00 - Prediction for period 2002-12-31 00:00:00: Model 'SVC_rbf' Accuracy = 0.00\n"
          ]
        },
        {
          "output_type": "stream",
          "name": "stderr",
          "text": [
            "/usr/local/lib/python3.11/dist-packages/sklearn/linear_model/_logistic.py:465: ConvergenceWarning: lbfgs failed to converge (status=1):\n",
            "STOP: TOTAL NO. of ITERATIONS REACHED LIMIT.\n",
            "\n",
            "Increase the number of iterations (max_iter) or scale the data as shown in:\n",
            "    https://scikit-learn.org/stable/modules/preprocessing.html\n",
            "Please also refer to the documentation for alternative solver options:\n",
            "    https://scikit-learn.org/stable/modules/linear_model.html#logistic-regression\n",
            "  n_iter_i = _check_optimize_result(\n"
          ]
        },
        {
          "output_type": "stream",
          "name": "stdout",
          "text": [
            "Training period ended at 2002-12-31 00:00:00 - Prediction for period 2003-01-31 00:00:00: Model 'RandomForest' Accuracy = 1.00\n",
            "Training period ended at 2002-12-31 00:00:00 - Prediction for period 2003-01-31 00:00:00: Model 'GradientBoosting' Accuracy = 0.00\n",
            "Training period ended at 2002-12-31 00:00:00 - Prediction for period 2003-01-31 00:00:00: Model 'LogisticRegression' Accuracy = 1.00\n",
            "Training period ended at 2002-12-31 00:00:00 - Prediction for period 2003-01-31 00:00:00: Model 'SVC_linear' Accuracy = 1.00\n",
            "Training period ended at 2002-12-31 00:00:00 - Prediction for period 2003-01-31 00:00:00: Model 'SVC_rbf' Accuracy = 0.00\n"
          ]
        },
        {
          "output_type": "stream",
          "name": "stderr",
          "text": [
            "/usr/local/lib/python3.11/dist-packages/sklearn/linear_model/_logistic.py:465: ConvergenceWarning: lbfgs failed to converge (status=1):\n",
            "STOP: TOTAL NO. of ITERATIONS REACHED LIMIT.\n",
            "\n",
            "Increase the number of iterations (max_iter) or scale the data as shown in:\n",
            "    https://scikit-learn.org/stable/modules/preprocessing.html\n",
            "Please also refer to the documentation for alternative solver options:\n",
            "    https://scikit-learn.org/stable/modules/linear_model.html#logistic-regression\n",
            "  n_iter_i = _check_optimize_result(\n"
          ]
        },
        {
          "output_type": "stream",
          "name": "stdout",
          "text": [
            "Training period ended at 2003-01-31 00:00:00 - Prediction for period 2003-02-28 00:00:00: Model 'RandomForest' Accuracy = 1.00\n",
            "Training period ended at 2003-01-31 00:00:00 - Prediction for period 2003-02-28 00:00:00: Model 'GradientBoosting' Accuracy = 0.00\n"
          ]
        },
        {
          "output_type": "stream",
          "name": "stderr",
          "text": [
            "/usr/local/lib/python3.11/dist-packages/sklearn/linear_model/_logistic.py:465: ConvergenceWarning: lbfgs failed to converge (status=1):\n",
            "STOP: TOTAL NO. of ITERATIONS REACHED LIMIT.\n",
            "\n",
            "Increase the number of iterations (max_iter) or scale the data as shown in:\n",
            "    https://scikit-learn.org/stable/modules/preprocessing.html\n",
            "Please also refer to the documentation for alternative solver options:\n",
            "    https://scikit-learn.org/stable/modules/linear_model.html#logistic-regression\n",
            "  n_iter_i = _check_optimize_result(\n"
          ]
        },
        {
          "output_type": "stream",
          "name": "stdout",
          "text": [
            "Training period ended at 2003-01-31 00:00:00 - Prediction for period 2003-02-28 00:00:00: Model 'LogisticRegression' Accuracy = 1.00\n",
            "Training period ended at 2003-01-31 00:00:00 - Prediction for period 2003-02-28 00:00:00: Model 'SVC_linear' Accuracy = 1.00\n",
            "Training period ended at 2003-01-31 00:00:00 - Prediction for period 2003-02-28 00:00:00: Model 'SVC_rbf' Accuracy = 0.00\n",
            "Training period ended at 2003-02-28 00:00:00 - Prediction for period 2003-03-31 00:00:00: Model 'RandomForest' Accuracy = 1.00\n",
            "Training period ended at 2003-02-28 00:00:00 - Prediction for period 2003-03-31 00:00:00: Model 'GradientBoosting' Accuracy = 0.00\n"
          ]
        },
        {
          "output_type": "stream",
          "name": "stderr",
          "text": [
            "/usr/local/lib/python3.11/dist-packages/sklearn/linear_model/_logistic.py:465: ConvergenceWarning: lbfgs failed to converge (status=1):\n",
            "STOP: TOTAL NO. of ITERATIONS REACHED LIMIT.\n",
            "\n",
            "Increase the number of iterations (max_iter) or scale the data as shown in:\n",
            "    https://scikit-learn.org/stable/modules/preprocessing.html\n",
            "Please also refer to the documentation for alternative solver options:\n",
            "    https://scikit-learn.org/stable/modules/linear_model.html#logistic-regression\n",
            "  n_iter_i = _check_optimize_result(\n"
          ]
        },
        {
          "output_type": "stream",
          "name": "stdout",
          "text": [
            "Training period ended at 2003-02-28 00:00:00 - Prediction for period 2003-03-31 00:00:00: Model 'LogisticRegression' Accuracy = 1.00\n",
            "Training period ended at 2003-02-28 00:00:00 - Prediction for period 2003-03-31 00:00:00: Model 'SVC_linear' Accuracy = 0.00\n",
            "Training period ended at 2003-02-28 00:00:00 - Prediction for period 2003-03-31 00:00:00: Model 'SVC_rbf' Accuracy = 1.00\n",
            "Training period ended at 2003-03-31 00:00:00 - Prediction for period 2003-04-30 00:00:00: Model 'RandomForest' Accuracy = 1.00\n",
            "Training period ended at 2003-03-31 00:00:00 - Prediction for period 2003-04-30 00:00:00: Model 'GradientBoosting' Accuracy = 1.00\n",
            "Training period ended at 2003-03-31 00:00:00 - Prediction for period 2003-04-30 00:00:00: Model 'LogisticRegression' Accuracy = 1.00\n",
            "Training period ended at 2003-03-31 00:00:00 - Prediction for period 2003-04-30 00:00:00: Model 'SVC_linear' Accuracy = 1.00\n",
            "Training period ended at 2003-03-31 00:00:00 - Prediction for period 2003-04-30 00:00:00: Model 'SVC_rbf' Accuracy = 1.00\n"
          ]
        },
        {
          "output_type": "stream",
          "name": "stderr",
          "text": [
            "/usr/local/lib/python3.11/dist-packages/sklearn/linear_model/_logistic.py:465: ConvergenceWarning: lbfgs failed to converge (status=1):\n",
            "STOP: TOTAL NO. of ITERATIONS REACHED LIMIT.\n",
            "\n",
            "Increase the number of iterations (max_iter) or scale the data as shown in:\n",
            "    https://scikit-learn.org/stable/modules/preprocessing.html\n",
            "Please also refer to the documentation for alternative solver options:\n",
            "    https://scikit-learn.org/stable/modules/linear_model.html#logistic-regression\n",
            "  n_iter_i = _check_optimize_result(\n"
          ]
        },
        {
          "output_type": "stream",
          "name": "stdout",
          "text": [
            "Training period ended at 2003-04-30 00:00:00 - Prediction for period 2003-05-30 00:00:00: Model 'RandomForest' Accuracy = 1.00\n",
            "Training period ended at 2003-04-30 00:00:00 - Prediction for period 2003-05-30 00:00:00: Model 'GradientBoosting' Accuracy = 1.00\n",
            "Training period ended at 2003-04-30 00:00:00 - Prediction for period 2003-05-30 00:00:00: Model 'LogisticRegression' Accuracy = 1.00\n",
            "Training period ended at 2003-04-30 00:00:00 - Prediction for period 2003-05-30 00:00:00: Model 'SVC_linear' Accuracy = 1.00\n",
            "Training period ended at 2003-04-30 00:00:00 - Prediction for period 2003-05-30 00:00:00: Model 'SVC_rbf' Accuracy = 1.00\n"
          ]
        },
        {
          "output_type": "stream",
          "name": "stderr",
          "text": [
            "/usr/local/lib/python3.11/dist-packages/sklearn/linear_model/_logistic.py:465: ConvergenceWarning: lbfgs failed to converge (status=1):\n",
            "STOP: TOTAL NO. of ITERATIONS REACHED LIMIT.\n",
            "\n",
            "Increase the number of iterations (max_iter) or scale the data as shown in:\n",
            "    https://scikit-learn.org/stable/modules/preprocessing.html\n",
            "Please also refer to the documentation for alternative solver options:\n",
            "    https://scikit-learn.org/stable/modules/linear_model.html#logistic-regression\n",
            "  n_iter_i = _check_optimize_result(\n"
          ]
        },
        {
          "output_type": "stream",
          "name": "stdout",
          "text": [
            "Training period ended at 2003-05-30 00:00:00 - Prediction for period 2003-06-30 00:00:00: Model 'RandomForest' Accuracy = 1.00\n",
            "Training period ended at 2003-05-30 00:00:00 - Prediction for period 2003-06-30 00:00:00: Model 'GradientBoosting' Accuracy = 1.00\n",
            "Training period ended at 2003-05-30 00:00:00 - Prediction for period 2003-06-30 00:00:00: Model 'LogisticRegression' Accuracy = 1.00\n",
            "Training period ended at 2003-05-30 00:00:00 - Prediction for period 2003-06-30 00:00:00: Model 'SVC_linear' Accuracy = 1.00\n",
            "Training period ended at 2003-05-30 00:00:00 - Prediction for period 2003-06-30 00:00:00: Model 'SVC_rbf' Accuracy = 1.00\n"
          ]
        },
        {
          "output_type": "stream",
          "name": "stderr",
          "text": [
            "/usr/local/lib/python3.11/dist-packages/sklearn/linear_model/_logistic.py:465: ConvergenceWarning: lbfgs failed to converge (status=1):\n",
            "STOP: TOTAL NO. of ITERATIONS REACHED LIMIT.\n",
            "\n",
            "Increase the number of iterations (max_iter) or scale the data as shown in:\n",
            "    https://scikit-learn.org/stable/modules/preprocessing.html\n",
            "Please also refer to the documentation for alternative solver options:\n",
            "    https://scikit-learn.org/stable/modules/linear_model.html#logistic-regression\n",
            "  n_iter_i = _check_optimize_result(\n"
          ]
        },
        {
          "output_type": "stream",
          "name": "stdout",
          "text": [
            "Training period ended at 2003-06-30 00:00:00 - Prediction for period 2003-07-31 00:00:00: Model 'RandomForest' Accuracy = 1.00\n",
            "Training period ended at 2003-06-30 00:00:00 - Prediction for period 2003-07-31 00:00:00: Model 'GradientBoosting' Accuracy = 0.00\n",
            "Training period ended at 2003-06-30 00:00:00 - Prediction for period 2003-07-31 00:00:00: Model 'LogisticRegression' Accuracy = 1.00\n",
            "Training period ended at 2003-06-30 00:00:00 - Prediction for period 2003-07-31 00:00:00: Model 'SVC_linear' Accuracy = 1.00\n",
            "Training period ended at 2003-06-30 00:00:00 - Prediction for period 2003-07-31 00:00:00: Model 'SVC_rbf' Accuracy = 1.00\n"
          ]
        },
        {
          "output_type": "stream",
          "name": "stderr",
          "text": [
            "/usr/local/lib/python3.11/dist-packages/sklearn/linear_model/_logistic.py:465: ConvergenceWarning: lbfgs failed to converge (status=1):\n",
            "STOP: TOTAL NO. of ITERATIONS REACHED LIMIT.\n",
            "\n",
            "Increase the number of iterations (max_iter) or scale the data as shown in:\n",
            "    https://scikit-learn.org/stable/modules/preprocessing.html\n",
            "Please also refer to the documentation for alternative solver options:\n",
            "    https://scikit-learn.org/stable/modules/linear_model.html#logistic-regression\n",
            "  n_iter_i = _check_optimize_result(\n"
          ]
        },
        {
          "output_type": "stream",
          "name": "stdout",
          "text": [
            "Training period ended at 2003-07-31 00:00:00 - Prediction for period 2003-08-29 00:00:00: Model 'RandomForest' Accuracy = 1.00\n",
            "Training period ended at 2003-07-31 00:00:00 - Prediction for period 2003-08-29 00:00:00: Model 'GradientBoosting' Accuracy = 1.00\n",
            "Training period ended at 2003-07-31 00:00:00 - Prediction for period 2003-08-29 00:00:00: Model 'LogisticRegression' Accuracy = 1.00\n",
            "Training period ended at 2003-07-31 00:00:00 - Prediction for period 2003-08-29 00:00:00: Model 'SVC_linear' Accuracy = 1.00\n"
          ]
        },
        {
          "output_type": "stream",
          "name": "stderr",
          "text": [
            "/usr/local/lib/python3.11/dist-packages/sklearn/linear_model/_logistic.py:465: ConvergenceWarning: lbfgs failed to converge (status=1):\n",
            "STOP: TOTAL NO. of ITERATIONS REACHED LIMIT.\n",
            "\n",
            "Increase the number of iterations (max_iter) or scale the data as shown in:\n",
            "    https://scikit-learn.org/stable/modules/preprocessing.html\n",
            "Please also refer to the documentation for alternative solver options:\n",
            "    https://scikit-learn.org/stable/modules/linear_model.html#logistic-regression\n",
            "  n_iter_i = _check_optimize_result(\n"
          ]
        },
        {
          "output_type": "stream",
          "name": "stdout",
          "text": [
            "Training period ended at 2003-07-31 00:00:00 - Prediction for period 2003-08-29 00:00:00: Model 'SVC_rbf' Accuracy = 1.00\n",
            "Training period ended at 2003-08-29 00:00:00 - Prediction for period 2003-09-30 00:00:00: Model 'RandomForest' Accuracy = 1.00\n",
            "Training period ended at 2003-08-29 00:00:00 - Prediction for period 2003-09-30 00:00:00: Model 'GradientBoosting' Accuracy = 1.00\n",
            "Training period ended at 2003-08-29 00:00:00 - Prediction for period 2003-09-30 00:00:00: Model 'LogisticRegression' Accuracy = 1.00\n",
            "Training period ended at 2003-08-29 00:00:00 - Prediction for period 2003-09-30 00:00:00: Model 'SVC_linear' Accuracy = 1.00\n",
            "Training period ended at 2003-08-29 00:00:00 - Prediction for period 2003-09-30 00:00:00: Model 'SVC_rbf' Accuracy = 1.00\n"
          ]
        },
        {
          "output_type": "stream",
          "name": "stderr",
          "text": [
            "/usr/local/lib/python3.11/dist-packages/sklearn/linear_model/_logistic.py:465: ConvergenceWarning: lbfgs failed to converge (status=1):\n",
            "STOP: TOTAL NO. of ITERATIONS REACHED LIMIT.\n",
            "\n",
            "Increase the number of iterations (max_iter) or scale the data as shown in:\n",
            "    https://scikit-learn.org/stable/modules/preprocessing.html\n",
            "Please also refer to the documentation for alternative solver options:\n",
            "    https://scikit-learn.org/stable/modules/linear_model.html#logistic-regression\n",
            "  n_iter_i = _check_optimize_result(\n"
          ]
        },
        {
          "output_type": "stream",
          "name": "stdout",
          "text": [
            "Training period ended at 2003-09-30 00:00:00 - Prediction for period 2003-10-31 00:00:00: Model 'RandomForest' Accuracy = 1.00\n",
            "Training period ended at 2003-09-30 00:00:00 - Prediction for period 2003-10-31 00:00:00: Model 'GradientBoosting' Accuracy = 1.00\n"
          ]
        },
        {
          "output_type": "stream",
          "name": "stderr",
          "text": [
            "/usr/local/lib/python3.11/dist-packages/sklearn/linear_model/_logistic.py:465: ConvergenceWarning: lbfgs failed to converge (status=1):\n",
            "STOP: TOTAL NO. of ITERATIONS REACHED LIMIT.\n",
            "\n",
            "Increase the number of iterations (max_iter) or scale the data as shown in:\n",
            "    https://scikit-learn.org/stable/modules/preprocessing.html\n",
            "Please also refer to the documentation for alternative solver options:\n",
            "    https://scikit-learn.org/stable/modules/linear_model.html#logistic-regression\n",
            "  n_iter_i = _check_optimize_result(\n"
          ]
        },
        {
          "output_type": "stream",
          "name": "stdout",
          "text": [
            "Training period ended at 2003-09-30 00:00:00 - Prediction for period 2003-10-31 00:00:00: Model 'LogisticRegression' Accuracy = 1.00\n",
            "Training period ended at 2003-09-30 00:00:00 - Prediction for period 2003-10-31 00:00:00: Model 'SVC_linear' Accuracy = 1.00\n",
            "Training period ended at 2003-09-30 00:00:00 - Prediction for period 2003-10-31 00:00:00: Model 'SVC_rbf' Accuracy = 1.00\n",
            "Training period ended at 2003-10-31 00:00:00 - Prediction for period 2003-11-28 00:00:00: Model 'RandomForest' Accuracy = 1.00\n",
            "Training period ended at 2003-10-31 00:00:00 - Prediction for period 2003-11-28 00:00:00: Model 'GradientBoosting' Accuracy = 1.00\n"
          ]
        },
        {
          "output_type": "stream",
          "name": "stderr",
          "text": [
            "/usr/local/lib/python3.11/dist-packages/sklearn/linear_model/_logistic.py:465: ConvergenceWarning: lbfgs failed to converge (status=1):\n",
            "STOP: TOTAL NO. of ITERATIONS REACHED LIMIT.\n",
            "\n",
            "Increase the number of iterations (max_iter) or scale the data as shown in:\n",
            "    https://scikit-learn.org/stable/modules/preprocessing.html\n",
            "Please also refer to the documentation for alternative solver options:\n",
            "    https://scikit-learn.org/stable/modules/linear_model.html#logistic-regression\n",
            "  n_iter_i = _check_optimize_result(\n"
          ]
        },
        {
          "output_type": "stream",
          "name": "stdout",
          "text": [
            "Training period ended at 2003-10-31 00:00:00 - Prediction for period 2003-11-28 00:00:00: Model 'LogisticRegression' Accuracy = 1.00\n",
            "Training period ended at 2003-10-31 00:00:00 - Prediction for period 2003-11-28 00:00:00: Model 'SVC_linear' Accuracy = 1.00\n",
            "Training period ended at 2003-10-31 00:00:00 - Prediction for period 2003-11-28 00:00:00: Model 'SVC_rbf' Accuracy = 1.00\n",
            "Training period ended at 2003-11-28 00:00:00 - Prediction for period 2003-12-31 00:00:00: Model 'RandomForest' Accuracy = 1.00\n",
            "Training period ended at 2003-11-28 00:00:00 - Prediction for period 2003-12-31 00:00:00: Model 'GradientBoosting' Accuracy = 1.00\n",
            "Training period ended at 2003-11-28 00:00:00 - Prediction for period 2003-12-31 00:00:00: Model 'LogisticRegression' Accuracy = 1.00\n"
          ]
        },
        {
          "output_type": "stream",
          "name": "stderr",
          "text": [
            "/usr/local/lib/python3.11/dist-packages/sklearn/linear_model/_logistic.py:465: ConvergenceWarning: lbfgs failed to converge (status=1):\n",
            "STOP: TOTAL NO. of ITERATIONS REACHED LIMIT.\n",
            "\n",
            "Increase the number of iterations (max_iter) or scale the data as shown in:\n",
            "    https://scikit-learn.org/stable/modules/preprocessing.html\n",
            "Please also refer to the documentation for alternative solver options:\n",
            "    https://scikit-learn.org/stable/modules/linear_model.html#logistic-regression\n",
            "  n_iter_i = _check_optimize_result(\n"
          ]
        },
        {
          "output_type": "stream",
          "name": "stdout",
          "text": [
            "Training period ended at 2003-11-28 00:00:00 - Prediction for period 2003-12-31 00:00:00: Model 'SVC_linear' Accuracy = 1.00\n",
            "Training period ended at 2003-11-28 00:00:00 - Prediction for period 2003-12-31 00:00:00: Model 'SVC_rbf' Accuracy = 1.00\n",
            "Training period ended at 2003-12-31 00:00:00 - Prediction for period 2004-01-30 00:00:00: Model 'RandomForest' Accuracy = 1.00\n",
            "Training period ended at 2003-12-31 00:00:00 - Prediction for period 2004-01-30 00:00:00: Model 'GradientBoosting' Accuracy = 1.00\n",
            "Training period ended at 2003-12-31 00:00:00 - Prediction for period 2004-01-30 00:00:00: Model 'LogisticRegression' Accuracy = 1.00\n"
          ]
        },
        {
          "output_type": "stream",
          "name": "stderr",
          "text": [
            "/usr/local/lib/python3.11/dist-packages/sklearn/linear_model/_logistic.py:465: ConvergenceWarning: lbfgs failed to converge (status=1):\n",
            "STOP: TOTAL NO. of ITERATIONS REACHED LIMIT.\n",
            "\n",
            "Increase the number of iterations (max_iter) or scale the data as shown in:\n",
            "    https://scikit-learn.org/stable/modules/preprocessing.html\n",
            "Please also refer to the documentation for alternative solver options:\n",
            "    https://scikit-learn.org/stable/modules/linear_model.html#logistic-regression\n",
            "  n_iter_i = _check_optimize_result(\n"
          ]
        },
        {
          "output_type": "stream",
          "name": "stdout",
          "text": [
            "Training period ended at 2003-12-31 00:00:00 - Prediction for period 2004-01-30 00:00:00: Model 'SVC_linear' Accuracy = 1.00\n",
            "Training period ended at 2003-12-31 00:00:00 - Prediction for period 2004-01-30 00:00:00: Model 'SVC_rbf' Accuracy = 1.00\n",
            "Training period ended at 2004-01-30 00:00:00 - Prediction for period 2004-02-27 00:00:00: Model 'RandomForest' Accuracy = 1.00\n",
            "Training period ended at 2004-01-30 00:00:00 - Prediction for period 2004-02-27 00:00:00: Model 'GradientBoosting' Accuracy = 1.00\n",
            "Training period ended at 2004-01-30 00:00:00 - Prediction for period 2004-02-27 00:00:00: Model 'LogisticRegression' Accuracy = 1.00\n"
          ]
        },
        {
          "output_type": "stream",
          "name": "stderr",
          "text": [
            "/usr/local/lib/python3.11/dist-packages/sklearn/linear_model/_logistic.py:465: ConvergenceWarning: lbfgs failed to converge (status=1):\n",
            "STOP: TOTAL NO. of ITERATIONS REACHED LIMIT.\n",
            "\n",
            "Increase the number of iterations (max_iter) or scale the data as shown in:\n",
            "    https://scikit-learn.org/stable/modules/preprocessing.html\n",
            "Please also refer to the documentation for alternative solver options:\n",
            "    https://scikit-learn.org/stable/modules/linear_model.html#logistic-regression\n",
            "  n_iter_i = _check_optimize_result(\n"
          ]
        },
        {
          "output_type": "stream",
          "name": "stdout",
          "text": [
            "Training period ended at 2004-01-30 00:00:00 - Prediction for period 2004-02-27 00:00:00: Model 'SVC_linear' Accuracy = 1.00\n",
            "Training period ended at 2004-01-30 00:00:00 - Prediction for period 2004-02-27 00:00:00: Model 'SVC_rbf' Accuracy = 1.00\n",
            "Training period ended at 2004-02-27 00:00:00 - Prediction for period 2004-03-31 00:00:00: Model 'RandomForest' Accuracy = 1.00\n",
            "Training period ended at 2004-02-27 00:00:00 - Prediction for period 2004-03-31 00:00:00: Model 'GradientBoosting' Accuracy = 0.00\n",
            "Training period ended at 2004-02-27 00:00:00 - Prediction for period 2004-03-31 00:00:00: Model 'LogisticRegression' Accuracy = 1.00\n"
          ]
        },
        {
          "output_type": "stream",
          "name": "stderr",
          "text": [
            "/usr/local/lib/python3.11/dist-packages/sklearn/linear_model/_logistic.py:465: ConvergenceWarning: lbfgs failed to converge (status=1):\n",
            "STOP: TOTAL NO. of ITERATIONS REACHED LIMIT.\n",
            "\n",
            "Increase the number of iterations (max_iter) or scale the data as shown in:\n",
            "    https://scikit-learn.org/stable/modules/preprocessing.html\n",
            "Please also refer to the documentation for alternative solver options:\n",
            "    https://scikit-learn.org/stable/modules/linear_model.html#logistic-regression\n",
            "  n_iter_i = _check_optimize_result(\n"
          ]
        },
        {
          "output_type": "stream",
          "name": "stdout",
          "text": [
            "Training period ended at 2004-02-27 00:00:00 - Prediction for period 2004-03-31 00:00:00: Model 'SVC_linear' Accuracy = 1.00\n",
            "Training period ended at 2004-02-27 00:00:00 - Prediction for period 2004-03-31 00:00:00: Model 'SVC_rbf' Accuracy = 1.00\n",
            "Training period ended at 2004-03-31 00:00:00 - Prediction for period 2004-04-30 00:00:00: Model 'RandomForest' Accuracy = 0.00\n",
            "Training period ended at 2004-03-31 00:00:00 - Prediction for period 2004-04-30 00:00:00: Model 'GradientBoosting' Accuracy = 0.00\n",
            "Training period ended at 2004-03-31 00:00:00 - Prediction for period 2004-04-30 00:00:00: Model 'LogisticRegression' Accuracy = 0.00\n"
          ]
        },
        {
          "output_type": "stream",
          "name": "stderr",
          "text": [
            "/usr/local/lib/python3.11/dist-packages/sklearn/linear_model/_logistic.py:465: ConvergenceWarning: lbfgs failed to converge (status=1):\n",
            "STOP: TOTAL NO. of ITERATIONS REACHED LIMIT.\n",
            "\n",
            "Increase the number of iterations (max_iter) or scale the data as shown in:\n",
            "    https://scikit-learn.org/stable/modules/preprocessing.html\n",
            "Please also refer to the documentation for alternative solver options:\n",
            "    https://scikit-learn.org/stable/modules/linear_model.html#logistic-regression\n",
            "  n_iter_i = _check_optimize_result(\n"
          ]
        },
        {
          "output_type": "stream",
          "name": "stdout",
          "text": [
            "Training period ended at 2004-03-31 00:00:00 - Prediction for period 2004-04-30 00:00:00: Model 'SVC_linear' Accuracy = 0.00\n",
            "Training period ended at 2004-03-31 00:00:00 - Prediction for period 2004-04-30 00:00:00: Model 'SVC_rbf' Accuracy = 0.00\n",
            "Training period ended at 2004-04-30 00:00:00 - Prediction for period 2004-05-31 00:00:00: Model 'RandomForest' Accuracy = 0.00\n",
            "Training period ended at 2004-04-30 00:00:00 - Prediction for period 2004-05-31 00:00:00: Model 'GradientBoosting' Accuracy = 0.00\n",
            "Training period ended at 2004-04-30 00:00:00 - Prediction for period 2004-05-31 00:00:00: Model 'LogisticRegression' Accuracy = 0.00\n",
            "Training period ended at 2004-04-30 00:00:00 - Prediction for period 2004-05-31 00:00:00: Model 'SVC_linear' Accuracy = 0.00\n"
          ]
        },
        {
          "output_type": "stream",
          "name": "stderr",
          "text": [
            "/usr/local/lib/python3.11/dist-packages/sklearn/linear_model/_logistic.py:465: ConvergenceWarning: lbfgs failed to converge (status=1):\n",
            "STOP: TOTAL NO. of ITERATIONS REACHED LIMIT.\n",
            "\n",
            "Increase the number of iterations (max_iter) or scale the data as shown in:\n",
            "    https://scikit-learn.org/stable/modules/preprocessing.html\n",
            "Please also refer to the documentation for alternative solver options:\n",
            "    https://scikit-learn.org/stable/modules/linear_model.html#logistic-regression\n",
            "  n_iter_i = _check_optimize_result(\n"
          ]
        },
        {
          "output_type": "stream",
          "name": "stdout",
          "text": [
            "Training period ended at 2004-04-30 00:00:00 - Prediction for period 2004-05-31 00:00:00: Model 'SVC_rbf' Accuracy = 0.00\n",
            "Training period ended at 2004-05-31 00:00:00 - Prediction for period 2004-06-30 00:00:00: Model 'RandomForest' Accuracy = 0.00\n",
            "Training period ended at 2004-05-31 00:00:00 - Prediction for period 2004-06-30 00:00:00: Model 'GradientBoosting' Accuracy = 0.00\n",
            "Training period ended at 2004-05-31 00:00:00 - Prediction for period 2004-06-30 00:00:00: Model 'LogisticRegression' Accuracy = 1.00\n"
          ]
        },
        {
          "output_type": "stream",
          "name": "stderr",
          "text": [
            "/usr/local/lib/python3.11/dist-packages/sklearn/linear_model/_logistic.py:465: ConvergenceWarning: lbfgs failed to converge (status=1):\n",
            "STOP: TOTAL NO. of ITERATIONS REACHED LIMIT.\n",
            "\n",
            "Increase the number of iterations (max_iter) or scale the data as shown in:\n",
            "    https://scikit-learn.org/stable/modules/preprocessing.html\n",
            "Please also refer to the documentation for alternative solver options:\n",
            "    https://scikit-learn.org/stable/modules/linear_model.html#logistic-regression\n",
            "  n_iter_i = _check_optimize_result(\n"
          ]
        },
        {
          "output_type": "stream",
          "name": "stdout",
          "text": [
            "Training period ended at 2004-05-31 00:00:00 - Prediction for period 2004-06-30 00:00:00: Model 'SVC_linear' Accuracy = 1.00\n",
            "Training period ended at 2004-05-31 00:00:00 - Prediction for period 2004-06-30 00:00:00: Model 'SVC_rbf' Accuracy = 1.00\n",
            "Training period ended at 2004-06-30 00:00:00 - Prediction for period 2004-07-30 00:00:00: Model 'RandomForest' Accuracy = 0.00\n",
            "Training period ended at 2004-06-30 00:00:00 - Prediction for period 2004-07-30 00:00:00: Model 'GradientBoosting' Accuracy = 0.00\n",
            "Training period ended at 2004-06-30 00:00:00 - Prediction for period 2004-07-30 00:00:00: Model 'LogisticRegression' Accuracy = 0.00\n",
            "Training period ended at 2004-06-30 00:00:00 - Prediction for period 2004-07-30 00:00:00: Model 'SVC_linear' Accuracy = 0.00\n",
            "Training period ended at 2004-06-30 00:00:00 - Prediction for period 2004-07-30 00:00:00: Model 'SVC_rbf' Accuracy = 0.00\n"
          ]
        },
        {
          "output_type": "stream",
          "name": "stderr",
          "text": [
            "/usr/local/lib/python3.11/dist-packages/sklearn/linear_model/_logistic.py:465: ConvergenceWarning: lbfgs failed to converge (status=1):\n",
            "STOP: TOTAL NO. of ITERATIONS REACHED LIMIT.\n",
            "\n",
            "Increase the number of iterations (max_iter) or scale the data as shown in:\n",
            "    https://scikit-learn.org/stable/modules/preprocessing.html\n",
            "Please also refer to the documentation for alternative solver options:\n",
            "    https://scikit-learn.org/stable/modules/linear_model.html#logistic-regression\n",
            "  n_iter_i = _check_optimize_result(\n"
          ]
        },
        {
          "output_type": "stream",
          "name": "stdout",
          "text": [
            "Training period ended at 2004-07-30 00:00:00 - Prediction for period 2004-08-31 00:00:00: Model 'RandomForest' Accuracy = 1.00\n",
            "Training period ended at 2004-07-30 00:00:00 - Prediction for period 2004-08-31 00:00:00: Model 'GradientBoosting' Accuracy = 1.00\n",
            "Training period ended at 2004-07-30 00:00:00 - Prediction for period 2004-08-31 00:00:00: Model 'LogisticRegression' Accuracy = 0.00\n",
            "Training period ended at 2004-07-30 00:00:00 - Prediction for period 2004-08-31 00:00:00: Model 'SVC_linear' Accuracy = 0.00\n"
          ]
        },
        {
          "output_type": "stream",
          "name": "stderr",
          "text": [
            "/usr/local/lib/python3.11/dist-packages/sklearn/linear_model/_logistic.py:465: ConvergenceWarning: lbfgs failed to converge (status=1):\n",
            "STOP: TOTAL NO. of ITERATIONS REACHED LIMIT.\n",
            "\n",
            "Increase the number of iterations (max_iter) or scale the data as shown in:\n",
            "    https://scikit-learn.org/stable/modules/preprocessing.html\n",
            "Please also refer to the documentation for alternative solver options:\n",
            "    https://scikit-learn.org/stable/modules/linear_model.html#logistic-regression\n",
            "  n_iter_i = _check_optimize_result(\n"
          ]
        },
        {
          "output_type": "stream",
          "name": "stdout",
          "text": [
            "Training period ended at 2004-07-30 00:00:00 - Prediction for period 2004-08-31 00:00:00: Model 'SVC_rbf' Accuracy = 0.00\n",
            "Training period ended at 2004-08-31 00:00:00 - Prediction for period 2004-09-30 00:00:00: Model 'RandomForest' Accuracy = 0.00\n",
            "Training period ended at 2004-08-31 00:00:00 - Prediction for period 2004-09-30 00:00:00: Model 'GradientBoosting' Accuracy = 0.00\n",
            "Training period ended at 2004-08-31 00:00:00 - Prediction for period 2004-09-30 00:00:00: Model 'LogisticRegression' Accuracy = 0.00\n"
          ]
        },
        {
          "output_type": "stream",
          "name": "stderr",
          "text": [
            "/usr/local/lib/python3.11/dist-packages/sklearn/linear_model/_logistic.py:465: ConvergenceWarning: lbfgs failed to converge (status=1):\n",
            "STOP: TOTAL NO. of ITERATIONS REACHED LIMIT.\n",
            "\n",
            "Increase the number of iterations (max_iter) or scale the data as shown in:\n",
            "    https://scikit-learn.org/stable/modules/preprocessing.html\n",
            "Please also refer to the documentation for alternative solver options:\n",
            "    https://scikit-learn.org/stable/modules/linear_model.html#logistic-regression\n",
            "  n_iter_i = _check_optimize_result(\n"
          ]
        },
        {
          "output_type": "stream",
          "name": "stdout",
          "text": [
            "Training period ended at 2004-08-31 00:00:00 - Prediction for period 2004-09-30 00:00:00: Model 'SVC_linear' Accuracy = 0.00\n",
            "Training period ended at 2004-08-31 00:00:00 - Prediction for period 2004-09-30 00:00:00: Model 'SVC_rbf' Accuracy = 1.00\n",
            "Training period ended at 2004-09-30 00:00:00 - Prediction for period 2004-10-29 00:00:00: Model 'RandomForest' Accuracy = 0.00\n",
            "Training period ended at 2004-09-30 00:00:00 - Prediction for period 2004-10-29 00:00:00: Model 'GradientBoosting' Accuracy = 1.00\n",
            "Training period ended at 2004-09-30 00:00:00 - Prediction for period 2004-10-29 00:00:00: Model 'LogisticRegression' Accuracy = 1.00\n"
          ]
        },
        {
          "output_type": "stream",
          "name": "stderr",
          "text": [
            "/usr/local/lib/python3.11/dist-packages/sklearn/linear_model/_logistic.py:465: ConvergenceWarning: lbfgs failed to converge (status=1):\n",
            "STOP: TOTAL NO. of ITERATIONS REACHED LIMIT.\n",
            "\n",
            "Increase the number of iterations (max_iter) or scale the data as shown in:\n",
            "    https://scikit-learn.org/stable/modules/preprocessing.html\n",
            "Please also refer to the documentation for alternative solver options:\n",
            "    https://scikit-learn.org/stable/modules/linear_model.html#logistic-regression\n",
            "  n_iter_i = _check_optimize_result(\n"
          ]
        },
        {
          "output_type": "stream",
          "name": "stdout",
          "text": [
            "Training period ended at 2004-09-30 00:00:00 - Prediction for period 2004-10-29 00:00:00: Model 'SVC_linear' Accuracy = 1.00\n",
            "Training period ended at 2004-09-30 00:00:00 - Prediction for period 2004-10-29 00:00:00: Model 'SVC_rbf' Accuracy = 1.00\n",
            "Training period ended at 2004-10-29 00:00:00 - Prediction for period 2004-11-30 00:00:00: Model 'RandomForest' Accuracy = 1.00\n",
            "Training period ended at 2004-10-29 00:00:00 - Prediction for period 2004-11-30 00:00:00: Model 'GradientBoosting' Accuracy = 1.00\n",
            "Training period ended at 2004-10-29 00:00:00 - Prediction for period 2004-11-30 00:00:00: Model 'LogisticRegression' Accuracy = 1.00\n"
          ]
        },
        {
          "output_type": "stream",
          "name": "stderr",
          "text": [
            "/usr/local/lib/python3.11/dist-packages/sklearn/linear_model/_logistic.py:465: ConvergenceWarning: lbfgs failed to converge (status=1):\n",
            "STOP: TOTAL NO. of ITERATIONS REACHED LIMIT.\n",
            "\n",
            "Increase the number of iterations (max_iter) or scale the data as shown in:\n",
            "    https://scikit-learn.org/stable/modules/preprocessing.html\n",
            "Please also refer to the documentation for alternative solver options:\n",
            "    https://scikit-learn.org/stable/modules/linear_model.html#logistic-regression\n",
            "  n_iter_i = _check_optimize_result(\n"
          ]
        },
        {
          "output_type": "stream",
          "name": "stdout",
          "text": [
            "Training period ended at 2004-10-29 00:00:00 - Prediction for period 2004-11-30 00:00:00: Model 'SVC_linear' Accuracy = 1.00\n",
            "Training period ended at 2004-10-29 00:00:00 - Prediction for period 2004-11-30 00:00:00: Model 'SVC_rbf' Accuracy = 1.00\n",
            "Training period ended at 2004-11-30 00:00:00 - Prediction for period 2004-12-31 00:00:00: Model 'RandomForest' Accuracy = 1.00\n",
            "Training period ended at 2004-11-30 00:00:00 - Prediction for period 2004-12-31 00:00:00: Model 'GradientBoosting' Accuracy = 0.00\n",
            "Training period ended at 2004-11-30 00:00:00 - Prediction for period 2004-12-31 00:00:00: Model 'LogisticRegression' Accuracy = 1.00\n"
          ]
        },
        {
          "output_type": "stream",
          "name": "stderr",
          "text": [
            "/usr/local/lib/python3.11/dist-packages/sklearn/linear_model/_logistic.py:465: ConvergenceWarning: lbfgs failed to converge (status=1):\n",
            "STOP: TOTAL NO. of ITERATIONS REACHED LIMIT.\n",
            "\n",
            "Increase the number of iterations (max_iter) or scale the data as shown in:\n",
            "    https://scikit-learn.org/stable/modules/preprocessing.html\n",
            "Please also refer to the documentation for alternative solver options:\n",
            "    https://scikit-learn.org/stable/modules/linear_model.html#logistic-regression\n",
            "  n_iter_i = _check_optimize_result(\n"
          ]
        },
        {
          "output_type": "stream",
          "name": "stdout",
          "text": [
            "Training period ended at 2004-11-30 00:00:00 - Prediction for period 2004-12-31 00:00:00: Model 'SVC_linear' Accuracy = 1.00\n",
            "Training period ended at 2004-11-30 00:00:00 - Prediction for period 2004-12-31 00:00:00: Model 'SVC_rbf' Accuracy = 1.00\n",
            "Training period ended at 2004-12-31 00:00:00 - Prediction for period 2005-01-31 00:00:00: Model 'RandomForest' Accuracy = 1.00\n",
            "Training period ended at 2004-12-31 00:00:00 - Prediction for period 2005-01-31 00:00:00: Model 'GradientBoosting' Accuracy = 1.00\n"
          ]
        },
        {
          "output_type": "stream",
          "name": "stderr",
          "text": [
            "/usr/local/lib/python3.11/dist-packages/sklearn/linear_model/_logistic.py:465: ConvergenceWarning: lbfgs failed to converge (status=1):\n",
            "STOP: TOTAL NO. of ITERATIONS REACHED LIMIT.\n",
            "\n",
            "Increase the number of iterations (max_iter) or scale the data as shown in:\n",
            "    https://scikit-learn.org/stable/modules/preprocessing.html\n",
            "Please also refer to the documentation for alternative solver options:\n",
            "    https://scikit-learn.org/stable/modules/linear_model.html#logistic-regression\n",
            "  n_iter_i = _check_optimize_result(\n"
          ]
        },
        {
          "output_type": "stream",
          "name": "stdout",
          "text": [
            "Training period ended at 2004-12-31 00:00:00 - Prediction for period 2005-01-31 00:00:00: Model 'LogisticRegression' Accuracy = 1.00\n",
            "Training period ended at 2004-12-31 00:00:00 - Prediction for period 2005-01-31 00:00:00: Model 'SVC_linear' Accuracy = 1.00\n",
            "Training period ended at 2004-12-31 00:00:00 - Prediction for period 2005-01-31 00:00:00: Model 'SVC_rbf' Accuracy = 1.00\n",
            "Training period ended at 2005-01-31 00:00:00 - Prediction for period 2005-02-28 00:00:00: Model 'RandomForest' Accuracy = 1.00\n",
            "Training period ended at 2005-01-31 00:00:00 - Prediction for period 2005-02-28 00:00:00: Model 'GradientBoosting' Accuracy = 1.00\n"
          ]
        },
        {
          "output_type": "stream",
          "name": "stderr",
          "text": [
            "/usr/local/lib/python3.11/dist-packages/sklearn/linear_model/_logistic.py:465: ConvergenceWarning: lbfgs failed to converge (status=1):\n",
            "STOP: TOTAL NO. of ITERATIONS REACHED LIMIT.\n",
            "\n",
            "Increase the number of iterations (max_iter) or scale the data as shown in:\n",
            "    https://scikit-learn.org/stable/modules/preprocessing.html\n",
            "Please also refer to the documentation for alternative solver options:\n",
            "    https://scikit-learn.org/stable/modules/linear_model.html#logistic-regression\n",
            "  n_iter_i = _check_optimize_result(\n"
          ]
        },
        {
          "output_type": "stream",
          "name": "stdout",
          "text": [
            "Training period ended at 2005-01-31 00:00:00 - Prediction for period 2005-02-28 00:00:00: Model 'LogisticRegression' Accuracy = 1.00\n",
            "Training period ended at 2005-01-31 00:00:00 - Prediction for period 2005-02-28 00:00:00: Model 'SVC_linear' Accuracy = 1.00\n",
            "Training period ended at 2005-01-31 00:00:00 - Prediction for period 2005-02-28 00:00:00: Model 'SVC_rbf' Accuracy = 1.00\n",
            "Training period ended at 2005-02-28 00:00:00 - Prediction for period 2005-03-31 00:00:00: Model 'RandomForest' Accuracy = 0.00\n",
            "Training period ended at 2005-02-28 00:00:00 - Prediction for period 2005-03-31 00:00:00: Model 'GradientBoosting' Accuracy = 0.00\n",
            "Training period ended at 2005-02-28 00:00:00 - Prediction for period 2005-03-31 00:00:00: Model 'LogisticRegression' Accuracy = 0.00\n",
            "Training period ended at 2005-02-28 00:00:00 - Prediction for period 2005-03-31 00:00:00: Model 'SVC_linear' Accuracy = 1.00\n",
            "Training period ended at 2005-02-28 00:00:00 - Prediction for period 2005-03-31 00:00:00: Model 'SVC_rbf' Accuracy = 1.00\n"
          ]
        },
        {
          "output_type": "stream",
          "name": "stderr",
          "text": [
            "/usr/local/lib/python3.11/dist-packages/sklearn/linear_model/_logistic.py:465: ConvergenceWarning: lbfgs failed to converge (status=1):\n",
            "STOP: TOTAL NO. of ITERATIONS REACHED LIMIT.\n",
            "\n",
            "Increase the number of iterations (max_iter) or scale the data as shown in:\n",
            "    https://scikit-learn.org/stable/modules/preprocessing.html\n",
            "Please also refer to the documentation for alternative solver options:\n",
            "    https://scikit-learn.org/stable/modules/linear_model.html#logistic-regression\n",
            "  n_iter_i = _check_optimize_result(\n"
          ]
        },
        {
          "output_type": "stream",
          "name": "stdout",
          "text": [
            "Training period ended at 2005-03-31 00:00:00 - Prediction for period 2005-04-29 00:00:00: Model 'RandomForest' Accuracy = 0.00\n",
            "Training period ended at 2005-03-31 00:00:00 - Prediction for period 2005-04-29 00:00:00: Model 'GradientBoosting' Accuracy = 0.00\n",
            "Training period ended at 2005-03-31 00:00:00 - Prediction for period 2005-04-29 00:00:00: Model 'LogisticRegression' Accuracy = 0.00\n",
            "Training period ended at 2005-03-31 00:00:00 - Prediction for period 2005-04-29 00:00:00: Model 'SVC_linear' Accuracy = 0.00\n"
          ]
        },
        {
          "output_type": "stream",
          "name": "stderr",
          "text": [
            "/usr/local/lib/python3.11/dist-packages/sklearn/linear_model/_logistic.py:465: ConvergenceWarning: lbfgs failed to converge (status=1):\n",
            "STOP: TOTAL NO. of ITERATIONS REACHED LIMIT.\n",
            "\n",
            "Increase the number of iterations (max_iter) or scale the data as shown in:\n",
            "    https://scikit-learn.org/stable/modules/preprocessing.html\n",
            "Please also refer to the documentation for alternative solver options:\n",
            "    https://scikit-learn.org/stable/modules/linear_model.html#logistic-regression\n",
            "  n_iter_i = _check_optimize_result(\n"
          ]
        },
        {
          "output_type": "stream",
          "name": "stdout",
          "text": [
            "Training period ended at 2005-03-31 00:00:00 - Prediction for period 2005-04-29 00:00:00: Model 'SVC_rbf' Accuracy = 0.00\n",
            "Training period ended at 2005-04-29 00:00:00 - Prediction for period 2005-05-31 00:00:00: Model 'RandomForest' Accuracy = 0.00\n",
            "Training period ended at 2005-04-29 00:00:00 - Prediction for period 2005-05-31 00:00:00: Model 'GradientBoosting' Accuracy = 0.00\n",
            "Training period ended at 2005-04-29 00:00:00 - Prediction for period 2005-05-31 00:00:00: Model 'LogisticRegression' Accuracy = 0.00\n",
            "Training period ended at 2005-04-29 00:00:00 - Prediction for period 2005-05-31 00:00:00: Model 'SVC_linear' Accuracy = 0.00\n",
            "Training period ended at 2005-04-29 00:00:00 - Prediction for period 2005-05-31 00:00:00: Model 'SVC_rbf' Accuracy = 0.00\n"
          ]
        },
        {
          "output_type": "stream",
          "name": "stderr",
          "text": [
            "/usr/local/lib/python3.11/dist-packages/sklearn/linear_model/_logistic.py:465: ConvergenceWarning: lbfgs failed to converge (status=1):\n",
            "STOP: TOTAL NO. of ITERATIONS REACHED LIMIT.\n",
            "\n",
            "Increase the number of iterations (max_iter) or scale the data as shown in:\n",
            "    https://scikit-learn.org/stable/modules/preprocessing.html\n",
            "Please also refer to the documentation for alternative solver options:\n",
            "    https://scikit-learn.org/stable/modules/linear_model.html#logistic-regression\n",
            "  n_iter_i = _check_optimize_result(\n"
          ]
        },
        {
          "output_type": "stream",
          "name": "stdout",
          "text": [
            "Training period ended at 2005-05-31 00:00:00 - Prediction for period 2005-06-30 00:00:00: Model 'RandomForest' Accuracy = 1.00\n",
            "Training period ended at 2005-05-31 00:00:00 - Prediction for period 2005-06-30 00:00:00: Model 'GradientBoosting' Accuracy = 0.00\n",
            "Training period ended at 2005-05-31 00:00:00 - Prediction for period 2005-06-30 00:00:00: Model 'LogisticRegression' Accuracy = 1.00\n",
            "Training period ended at 2005-05-31 00:00:00 - Prediction for period 2005-06-30 00:00:00: Model 'SVC_linear' Accuracy = 1.00\n",
            "Training period ended at 2005-05-31 00:00:00 - Prediction for period 2005-06-30 00:00:00: Model 'SVC_rbf' Accuracy = 1.00\n"
          ]
        },
        {
          "output_type": "stream",
          "name": "stderr",
          "text": [
            "/usr/local/lib/python3.11/dist-packages/sklearn/linear_model/_logistic.py:465: ConvergenceWarning: lbfgs failed to converge (status=1):\n",
            "STOP: TOTAL NO. of ITERATIONS REACHED LIMIT.\n",
            "\n",
            "Increase the number of iterations (max_iter) or scale the data as shown in:\n",
            "    https://scikit-learn.org/stable/modules/preprocessing.html\n",
            "Please also refer to the documentation for alternative solver options:\n",
            "    https://scikit-learn.org/stable/modules/linear_model.html#logistic-regression\n",
            "  n_iter_i = _check_optimize_result(\n"
          ]
        },
        {
          "output_type": "stream",
          "name": "stdout",
          "text": [
            "Training period ended at 2005-06-30 00:00:00 - Prediction for period 2005-07-29 00:00:00: Model 'RandomForest' Accuracy = 1.00\n",
            "Training period ended at 2005-06-30 00:00:00 - Prediction for period 2005-07-29 00:00:00: Model 'GradientBoosting' Accuracy = 1.00\n",
            "Training period ended at 2005-06-30 00:00:00 - Prediction for period 2005-07-29 00:00:00: Model 'LogisticRegression' Accuracy = 1.00\n",
            "Training period ended at 2005-06-30 00:00:00 - Prediction for period 2005-07-29 00:00:00: Model 'SVC_linear' Accuracy = 1.00\n",
            "Training period ended at 2005-06-30 00:00:00 - Prediction for period 2005-07-29 00:00:00: Model 'SVC_rbf' Accuracy = 1.00\n"
          ]
        },
        {
          "output_type": "stream",
          "name": "stderr",
          "text": [
            "/usr/local/lib/python3.11/dist-packages/sklearn/linear_model/_logistic.py:465: ConvergenceWarning: lbfgs failed to converge (status=1):\n",
            "STOP: TOTAL NO. of ITERATIONS REACHED LIMIT.\n",
            "\n",
            "Increase the number of iterations (max_iter) or scale the data as shown in:\n",
            "    https://scikit-learn.org/stable/modules/preprocessing.html\n",
            "Please also refer to the documentation for alternative solver options:\n",
            "    https://scikit-learn.org/stable/modules/linear_model.html#logistic-regression\n",
            "  n_iter_i = _check_optimize_result(\n"
          ]
        },
        {
          "output_type": "stream",
          "name": "stdout",
          "text": [
            "Training period ended at 2005-07-29 00:00:00 - Prediction for period 2005-08-31 00:00:00: Model 'RandomForest' Accuracy = 1.00\n",
            "Training period ended at 2005-07-29 00:00:00 - Prediction for period 2005-08-31 00:00:00: Model 'GradientBoosting' Accuracy = 1.00\n",
            "Training period ended at 2005-07-29 00:00:00 - Prediction for period 2005-08-31 00:00:00: Model 'LogisticRegression' Accuracy = 1.00\n",
            "Training period ended at 2005-07-29 00:00:00 - Prediction for period 2005-08-31 00:00:00: Model 'SVC_linear' Accuracy = 1.00\n",
            "Training period ended at 2005-07-29 00:00:00 - Prediction for period 2005-08-31 00:00:00: Model 'SVC_rbf' Accuracy = 1.00\n"
          ]
        },
        {
          "output_type": "stream",
          "name": "stderr",
          "text": [
            "/usr/local/lib/python3.11/dist-packages/sklearn/linear_model/_logistic.py:465: ConvergenceWarning: lbfgs failed to converge (status=1):\n",
            "STOP: TOTAL NO. of ITERATIONS REACHED LIMIT.\n",
            "\n",
            "Increase the number of iterations (max_iter) or scale the data as shown in:\n",
            "    https://scikit-learn.org/stable/modules/preprocessing.html\n",
            "Please also refer to the documentation for alternative solver options:\n",
            "    https://scikit-learn.org/stable/modules/linear_model.html#logistic-regression\n",
            "  n_iter_i = _check_optimize_result(\n"
          ]
        },
        {
          "output_type": "stream",
          "name": "stdout",
          "text": [
            "Training period ended at 2005-08-31 00:00:00 - Prediction for period 2005-09-30 00:00:00: Model 'RandomForest' Accuracy = 1.00\n",
            "Training period ended at 2005-08-31 00:00:00 - Prediction for period 2005-09-30 00:00:00: Model 'GradientBoosting' Accuracy = 1.00\n",
            "Training period ended at 2005-08-31 00:00:00 - Prediction for period 2005-09-30 00:00:00: Model 'LogisticRegression' Accuracy = 0.00\n",
            "Training period ended at 2005-08-31 00:00:00 - Prediction for period 2005-09-30 00:00:00: Model 'SVC_linear' Accuracy = 0.00\n",
            "Training period ended at 2005-08-31 00:00:00 - Prediction for period 2005-09-30 00:00:00: Model 'SVC_rbf' Accuracy = 1.00\n"
          ]
        },
        {
          "output_type": "stream",
          "name": "stderr",
          "text": [
            "/usr/local/lib/python3.11/dist-packages/sklearn/linear_model/_logistic.py:465: ConvergenceWarning: lbfgs failed to converge (status=1):\n",
            "STOP: TOTAL NO. of ITERATIONS REACHED LIMIT.\n",
            "\n",
            "Increase the number of iterations (max_iter) or scale the data as shown in:\n",
            "    https://scikit-learn.org/stable/modules/preprocessing.html\n",
            "Please also refer to the documentation for alternative solver options:\n",
            "    https://scikit-learn.org/stable/modules/linear_model.html#logistic-regression\n",
            "  n_iter_i = _check_optimize_result(\n"
          ]
        },
        {
          "output_type": "stream",
          "name": "stdout",
          "text": [
            "Training period ended at 2005-09-30 00:00:00 - Prediction for period 2005-10-31 00:00:00: Model 'RandomForest' Accuracy = 1.00\n",
            "Training period ended at 2005-09-30 00:00:00 - Prediction for period 2005-10-31 00:00:00: Model 'GradientBoosting' Accuracy = 1.00\n",
            "Training period ended at 2005-09-30 00:00:00 - Prediction for period 2005-10-31 00:00:00: Model 'LogisticRegression' Accuracy = 0.00\n",
            "Training period ended at 2005-09-30 00:00:00 - Prediction for period 2005-10-31 00:00:00: Model 'SVC_linear' Accuracy = 0.00\n",
            "Training period ended at 2005-09-30 00:00:00 - Prediction for period 2005-10-31 00:00:00: Model 'SVC_rbf' Accuracy = 0.00\n"
          ]
        },
        {
          "output_type": "stream",
          "name": "stderr",
          "text": [
            "/usr/local/lib/python3.11/dist-packages/sklearn/linear_model/_logistic.py:465: ConvergenceWarning: lbfgs failed to converge (status=1):\n",
            "STOP: TOTAL NO. of ITERATIONS REACHED LIMIT.\n",
            "\n",
            "Increase the number of iterations (max_iter) or scale the data as shown in:\n",
            "    https://scikit-learn.org/stable/modules/preprocessing.html\n",
            "Please also refer to the documentation for alternative solver options:\n",
            "    https://scikit-learn.org/stable/modules/linear_model.html#logistic-regression\n",
            "  n_iter_i = _check_optimize_result(\n"
          ]
        },
        {
          "output_type": "stream",
          "name": "stdout",
          "text": [
            "Training period ended at 2005-10-31 00:00:00 - Prediction for period 2005-11-30 00:00:00: Model 'RandomForest' Accuracy = 1.00\n",
            "Training period ended at 2005-10-31 00:00:00 - Prediction for period 2005-11-30 00:00:00: Model 'GradientBoosting' Accuracy = 1.00\n",
            "Training period ended at 2005-10-31 00:00:00 - Prediction for period 2005-11-30 00:00:00: Model 'LogisticRegression' Accuracy = 0.00\n",
            "Training period ended at 2005-10-31 00:00:00 - Prediction for period 2005-11-30 00:00:00: Model 'SVC_linear' Accuracy = 0.00\n",
            "Training period ended at 2005-10-31 00:00:00 - Prediction for period 2005-11-30 00:00:00: Model 'SVC_rbf' Accuracy = 0.00\n"
          ]
        },
        {
          "output_type": "stream",
          "name": "stderr",
          "text": [
            "/usr/local/lib/python3.11/dist-packages/sklearn/linear_model/_logistic.py:465: ConvergenceWarning: lbfgs failed to converge (status=1):\n",
            "STOP: TOTAL NO. of ITERATIONS REACHED LIMIT.\n",
            "\n",
            "Increase the number of iterations (max_iter) or scale the data as shown in:\n",
            "    https://scikit-learn.org/stable/modules/preprocessing.html\n",
            "Please also refer to the documentation for alternative solver options:\n",
            "    https://scikit-learn.org/stable/modules/linear_model.html#logistic-regression\n",
            "  n_iter_i = _check_optimize_result(\n"
          ]
        },
        {
          "output_type": "stream",
          "name": "stdout",
          "text": [
            "Training period ended at 2005-11-30 00:00:00 - Prediction for period 2005-12-30 00:00:00: Model 'RandomForest' Accuracy = 1.00\n",
            "Training period ended at 2005-11-30 00:00:00 - Prediction for period 2005-12-30 00:00:00: Model 'GradientBoosting' Accuracy = 1.00\n",
            "Training period ended at 2005-11-30 00:00:00 - Prediction for period 2005-12-30 00:00:00: Model 'LogisticRegression' Accuracy = 0.00\n",
            "Training period ended at 2005-11-30 00:00:00 - Prediction for period 2005-12-30 00:00:00: Model 'SVC_linear' Accuracy = 1.00\n",
            "Training period ended at 2005-11-30 00:00:00 - Prediction for period 2005-12-30 00:00:00: Model 'SVC_rbf' Accuracy = 1.00\n"
          ]
        },
        {
          "output_type": "stream",
          "name": "stderr",
          "text": [
            "/usr/local/lib/python3.11/dist-packages/sklearn/linear_model/_logistic.py:465: ConvergenceWarning: lbfgs failed to converge (status=1):\n",
            "STOP: TOTAL NO. of ITERATIONS REACHED LIMIT.\n",
            "\n",
            "Increase the number of iterations (max_iter) or scale the data as shown in:\n",
            "    https://scikit-learn.org/stable/modules/preprocessing.html\n",
            "Please also refer to the documentation for alternative solver options:\n",
            "    https://scikit-learn.org/stable/modules/linear_model.html#logistic-regression\n",
            "  n_iter_i = _check_optimize_result(\n"
          ]
        },
        {
          "output_type": "stream",
          "name": "stdout",
          "text": [
            "Training period ended at 2005-12-30 00:00:00 - Prediction for period 2006-01-31 00:00:00: Model 'RandomForest' Accuracy = 1.00\n",
            "Training period ended at 2005-12-30 00:00:00 - Prediction for period 2006-01-31 00:00:00: Model 'GradientBoosting' Accuracy = 1.00\n"
          ]
        },
        {
          "output_type": "stream",
          "name": "stderr",
          "text": [
            "/usr/local/lib/python3.11/dist-packages/sklearn/linear_model/_logistic.py:465: ConvergenceWarning: lbfgs failed to converge (status=1):\n",
            "STOP: TOTAL NO. of ITERATIONS REACHED LIMIT.\n",
            "\n",
            "Increase the number of iterations (max_iter) or scale the data as shown in:\n",
            "    https://scikit-learn.org/stable/modules/preprocessing.html\n",
            "Please also refer to the documentation for alternative solver options:\n",
            "    https://scikit-learn.org/stable/modules/linear_model.html#logistic-regression\n",
            "  n_iter_i = _check_optimize_result(\n"
          ]
        },
        {
          "output_type": "stream",
          "name": "stdout",
          "text": [
            "Training period ended at 2005-12-30 00:00:00 - Prediction for period 2006-01-31 00:00:00: Model 'LogisticRegression' Accuracy = 0.00\n",
            "Training period ended at 2005-12-30 00:00:00 - Prediction for period 2006-01-31 00:00:00: Model 'SVC_linear' Accuracy = 1.00\n",
            "Training period ended at 2005-12-30 00:00:00 - Prediction for period 2006-01-31 00:00:00: Model 'SVC_rbf' Accuracy = 1.00\n",
            "Training period ended at 2006-01-31 00:00:00 - Prediction for period 2006-02-28 00:00:00: Model 'RandomForest' Accuracy = 0.00\n",
            "Training period ended at 2006-01-31 00:00:00 - Prediction for period 2006-02-28 00:00:00: Model 'GradientBoosting' Accuracy = 0.00\n"
          ]
        },
        {
          "output_type": "stream",
          "name": "stderr",
          "text": [
            "/usr/local/lib/python3.11/dist-packages/sklearn/linear_model/_logistic.py:465: ConvergenceWarning: lbfgs failed to converge (status=1):\n",
            "STOP: TOTAL NO. of ITERATIONS REACHED LIMIT.\n",
            "\n",
            "Increase the number of iterations (max_iter) or scale the data as shown in:\n",
            "    https://scikit-learn.org/stable/modules/preprocessing.html\n",
            "Please also refer to the documentation for alternative solver options:\n",
            "    https://scikit-learn.org/stable/modules/linear_model.html#logistic-regression\n",
            "  n_iter_i = _check_optimize_result(\n"
          ]
        },
        {
          "output_type": "stream",
          "name": "stdout",
          "text": [
            "Training period ended at 2006-01-31 00:00:00 - Prediction for period 2006-02-28 00:00:00: Model 'LogisticRegression' Accuracy = 0.00\n",
            "Training period ended at 2006-01-31 00:00:00 - Prediction for period 2006-02-28 00:00:00: Model 'SVC_linear' Accuracy = 0.00\n",
            "Training period ended at 2006-01-31 00:00:00 - Prediction for period 2006-02-28 00:00:00: Model 'SVC_rbf' Accuracy = 0.00\n",
            "Training period ended at 2006-02-28 00:00:00 - Prediction for period 2006-03-31 00:00:00: Model 'RandomForest' Accuracy = 1.00\n",
            "Training period ended at 2006-02-28 00:00:00 - Prediction for period 2006-03-31 00:00:00: Model 'GradientBoosting' Accuracy = 1.00\n"
          ]
        },
        {
          "output_type": "stream",
          "name": "stderr",
          "text": [
            "/usr/local/lib/python3.11/dist-packages/sklearn/linear_model/_logistic.py:465: ConvergenceWarning: lbfgs failed to converge (status=1):\n",
            "STOP: TOTAL NO. of ITERATIONS REACHED LIMIT.\n",
            "\n",
            "Increase the number of iterations (max_iter) or scale the data as shown in:\n",
            "    https://scikit-learn.org/stable/modules/preprocessing.html\n",
            "Please also refer to the documentation for alternative solver options:\n",
            "    https://scikit-learn.org/stable/modules/linear_model.html#logistic-regression\n",
            "  n_iter_i = _check_optimize_result(\n"
          ]
        },
        {
          "output_type": "stream",
          "name": "stdout",
          "text": [
            "Training period ended at 2006-02-28 00:00:00 - Prediction for period 2006-03-31 00:00:00: Model 'LogisticRegression' Accuracy = 1.00\n",
            "Training period ended at 2006-02-28 00:00:00 - Prediction for period 2006-03-31 00:00:00: Model 'SVC_linear' Accuracy = 0.00\n",
            "Training period ended at 2006-02-28 00:00:00 - Prediction for period 2006-03-31 00:00:00: Model 'SVC_rbf' Accuracy = 0.00\n",
            "Training period ended at 2006-03-31 00:00:00 - Prediction for period 2006-04-28 00:00:00: Model 'RandomForest' Accuracy = 0.00\n",
            "Training period ended at 2006-03-31 00:00:00 - Prediction for period 2006-04-28 00:00:00: Model 'GradientBoosting' Accuracy = 0.00\n",
            "Training period ended at 2006-03-31 00:00:00 - Prediction for period 2006-04-28 00:00:00: Model 'LogisticRegression' Accuracy = 0.00\n",
            "Training period ended at 2006-03-31 00:00:00 - Prediction for period 2006-04-28 00:00:00: Model 'SVC_linear' Accuracy = 0.00\n",
            "Training period ended at 2006-03-31 00:00:00 - Prediction for period 2006-04-28 00:00:00: Model 'SVC_rbf' Accuracy = 1.00\n",
            "Training period ended at 2006-04-28 00:00:00 - Prediction for period 2006-05-31 00:00:00: Model 'RandomForest' Accuracy = 1.00\n",
            "Training period ended at 2006-04-28 00:00:00 - Prediction for period 2006-05-31 00:00:00: Model 'GradientBoosting' Accuracy = 0.00\n"
          ]
        },
        {
          "output_type": "stream",
          "name": "stderr",
          "text": [
            "/usr/local/lib/python3.11/dist-packages/sklearn/linear_model/_logistic.py:465: ConvergenceWarning: lbfgs failed to converge (status=1):\n",
            "STOP: TOTAL NO. of ITERATIONS REACHED LIMIT.\n",
            "\n",
            "Increase the number of iterations (max_iter) or scale the data as shown in:\n",
            "    https://scikit-learn.org/stable/modules/preprocessing.html\n",
            "Please also refer to the documentation for alternative solver options:\n",
            "    https://scikit-learn.org/stable/modules/linear_model.html#logistic-regression\n",
            "  n_iter_i = _check_optimize_result(\n"
          ]
        },
        {
          "output_type": "stream",
          "name": "stdout",
          "text": [
            "Training period ended at 2006-04-28 00:00:00 - Prediction for period 2006-05-31 00:00:00: Model 'LogisticRegression' Accuracy = 1.00\n",
            "Training period ended at 2006-04-28 00:00:00 - Prediction for period 2006-05-31 00:00:00: Model 'SVC_linear' Accuracy = 1.00\n",
            "Training period ended at 2006-04-28 00:00:00 - Prediction for period 2006-05-31 00:00:00: Model 'SVC_rbf' Accuracy = 0.00\n",
            "Training period ended at 2006-05-31 00:00:00 - Prediction for period 2006-06-30 00:00:00: Model 'RandomForest' Accuracy = 1.00\n",
            "Training period ended at 2006-05-31 00:00:00 - Prediction for period 2006-06-30 00:00:00: Model 'GradientBoosting' Accuracy = 0.00\n",
            "Training period ended at 2006-05-31 00:00:00 - Prediction for period 2006-06-30 00:00:00: Model 'LogisticRegression' Accuracy = 1.00\n",
            "Training period ended at 2006-05-31 00:00:00 - Prediction for period 2006-06-30 00:00:00: Model 'SVC_linear' Accuracy = 1.00\n",
            "Training period ended at 2006-05-31 00:00:00 - Prediction for period 2006-06-30 00:00:00: Model 'SVC_rbf' Accuracy = 0.00\n"
          ]
        },
        {
          "output_type": "stream",
          "name": "stderr",
          "text": [
            "/usr/local/lib/python3.11/dist-packages/sklearn/linear_model/_logistic.py:465: ConvergenceWarning: lbfgs failed to converge (status=1):\n",
            "STOP: TOTAL NO. of ITERATIONS REACHED LIMIT.\n",
            "\n",
            "Increase the number of iterations (max_iter) or scale the data as shown in:\n",
            "    https://scikit-learn.org/stable/modules/preprocessing.html\n",
            "Please also refer to the documentation for alternative solver options:\n",
            "    https://scikit-learn.org/stable/modules/linear_model.html#logistic-regression\n",
            "  n_iter_i = _check_optimize_result(\n"
          ]
        },
        {
          "output_type": "stream",
          "name": "stdout",
          "text": [
            "Training period ended at 2006-06-30 00:00:00 - Prediction for period 2006-07-31 00:00:00: Model 'RandomForest' Accuracy = 1.00\n",
            "Training period ended at 2006-06-30 00:00:00 - Prediction for period 2006-07-31 00:00:00: Model 'GradientBoosting' Accuracy = 0.00\n",
            "Training period ended at 2006-06-30 00:00:00 - Prediction for period 2006-07-31 00:00:00: Model 'LogisticRegression' Accuracy = 1.00\n",
            "Training period ended at 2006-06-30 00:00:00 - Prediction for period 2006-07-31 00:00:00: Model 'SVC_linear' Accuracy = 1.00\n",
            "Training period ended at 2006-06-30 00:00:00 - Prediction for period 2006-07-31 00:00:00: Model 'SVC_rbf' Accuracy = 0.00\n"
          ]
        },
        {
          "output_type": "stream",
          "name": "stderr",
          "text": [
            "/usr/local/lib/python3.11/dist-packages/sklearn/linear_model/_logistic.py:465: ConvergenceWarning: lbfgs failed to converge (status=1):\n",
            "STOP: TOTAL NO. of ITERATIONS REACHED LIMIT.\n",
            "\n",
            "Increase the number of iterations (max_iter) or scale the data as shown in:\n",
            "    https://scikit-learn.org/stable/modules/preprocessing.html\n",
            "Please also refer to the documentation for alternative solver options:\n",
            "    https://scikit-learn.org/stable/modules/linear_model.html#logistic-regression\n",
            "  n_iter_i = _check_optimize_result(\n"
          ]
        },
        {
          "output_type": "stream",
          "name": "stdout",
          "text": [
            "Training period ended at 2006-07-31 00:00:00 - Prediction for period 2006-08-31 00:00:00: Model 'RandomForest' Accuracy = 1.00\n",
            "Training period ended at 2006-07-31 00:00:00 - Prediction for period 2006-08-31 00:00:00: Model 'GradientBoosting' Accuracy = 1.00\n",
            "Training period ended at 2006-07-31 00:00:00 - Prediction for period 2006-08-31 00:00:00: Model 'LogisticRegression' Accuracy = 0.00\n",
            "Training period ended at 2006-07-31 00:00:00 - Prediction for period 2006-08-31 00:00:00: Model 'SVC_linear' Accuracy = 0.00\n",
            "Training period ended at 2006-07-31 00:00:00 - Prediction for period 2006-08-31 00:00:00: Model 'SVC_rbf' Accuracy = 0.00\n",
            "Training period ended at 2006-08-31 00:00:00 - Prediction for period 2006-09-29 00:00:00: Model 'RandomForest' Accuracy = 0.00\n",
            "Training period ended at 2006-08-31 00:00:00 - Prediction for period 2006-09-29 00:00:00: Model 'GradientBoosting' Accuracy = 1.00\n",
            "Training period ended at 2006-08-31 00:00:00 - Prediction for period 2006-09-29 00:00:00: Model 'LogisticRegression' Accuracy = 1.00\n",
            "Training period ended at 2006-08-31 00:00:00 - Prediction for period 2006-09-29 00:00:00: Model 'SVC_linear' Accuracy = 1.00\n",
            "Training period ended at 2006-08-31 00:00:00 - Prediction for period 2006-09-29 00:00:00: Model 'SVC_rbf' Accuracy = 1.00\n",
            "Training period ended at 2006-09-29 00:00:00 - Prediction for period 2006-10-31 00:00:00: Model 'RandomForest' Accuracy = 1.00\n",
            "Training period ended at 2006-09-29 00:00:00 - Prediction for period 2006-10-31 00:00:00: Model 'GradientBoosting' Accuracy = 1.00\n",
            "Training period ended at 2006-09-29 00:00:00 - Prediction for period 2006-10-31 00:00:00: Model 'LogisticRegression' Accuracy = 1.00\n",
            "Training period ended at 2006-09-29 00:00:00 - Prediction for period 2006-10-31 00:00:00: Model 'SVC_linear' Accuracy = 1.00\n",
            "Training period ended at 2006-09-29 00:00:00 - Prediction for period 2006-10-31 00:00:00: Model 'SVC_rbf' Accuracy = 1.00\n"
          ]
        },
        {
          "output_type": "stream",
          "name": "stderr",
          "text": [
            "/usr/local/lib/python3.11/dist-packages/sklearn/linear_model/_logistic.py:465: ConvergenceWarning: lbfgs failed to converge (status=1):\n",
            "STOP: TOTAL NO. of ITERATIONS REACHED LIMIT.\n",
            "\n",
            "Increase the number of iterations (max_iter) or scale the data as shown in:\n",
            "    https://scikit-learn.org/stable/modules/preprocessing.html\n",
            "Please also refer to the documentation for alternative solver options:\n",
            "    https://scikit-learn.org/stable/modules/linear_model.html#logistic-regression\n",
            "  n_iter_i = _check_optimize_result(\n"
          ]
        },
        {
          "output_type": "stream",
          "name": "stdout",
          "text": [
            "Training period ended at 2006-10-31 00:00:00 - Prediction for period 2006-11-30 00:00:00: Model 'RandomForest' Accuracy = 1.00\n",
            "Training period ended at 2006-10-31 00:00:00 - Prediction for period 2006-11-30 00:00:00: Model 'GradientBoosting' Accuracy = 1.00\n",
            "Training period ended at 2006-10-31 00:00:00 - Prediction for period 2006-11-30 00:00:00: Model 'LogisticRegression' Accuracy = 1.00\n",
            "Training period ended at 2006-10-31 00:00:00 - Prediction for period 2006-11-30 00:00:00: Model 'SVC_linear' Accuracy = 1.00"
          ]
        },
        {
          "output_type": "stream",
          "name": "stderr",
          "text": [
            "/usr/local/lib/python3.11/dist-packages/sklearn/linear_model/_logistic.py:465: ConvergenceWarning: lbfgs failed to converge (status=1):\n",
            "STOP: TOTAL NO. of ITERATIONS REACHED LIMIT.\n",
            "\n",
            "Increase the number of iterations (max_iter) or scale the data as shown in:\n",
            "    https://scikit-learn.org/stable/modules/preprocessing.html\n",
            "Please also refer to the documentation for alternative solver options:\n",
            "    https://scikit-learn.org/stable/modules/linear_model.html#logistic-regression\n",
            "  n_iter_i = _check_optimize_result(\n"
          ]
        },
        {
          "output_type": "stream",
          "name": "stdout",
          "text": [
            "\n",
            "Training period ended at 2006-10-31 00:00:00 - Prediction for period 2006-11-30 00:00:00: Model 'SVC_rbf' Accuracy = 1.00\n",
            "Training period ended at 2006-11-30 00:00:00 - Prediction for period 2006-12-29 00:00:00: Model 'RandomForest' Accuracy = 1.00\n",
            "Training period ended at 2006-11-30 00:00:00 - Prediction for period 2006-12-29 00:00:00: Model 'GradientBoosting' Accuracy = 0.00\n",
            "Training period ended at 2006-11-30 00:00:00 - Prediction for period 2006-12-29 00:00:00: Model 'LogisticRegression' Accuracy = 1.00\n",
            "Training period ended at 2006-11-30 00:00:00 - Prediction for period 2006-12-29 00:00:00: Model 'SVC_linear' Accuracy = 1.00\n",
            "Training period ended at 2006-11-30 00:00:00 - Prediction for period 2006-12-29 00:00:00: Model 'SVC_rbf' Accuracy = 1.00\n",
            "Training period ended at 2006-12-29 00:00:00 - Prediction for period 2007-01-31 00:00:00: Model 'RandomForest' Accuracy = 1.00\n",
            "Training period ended at 2006-12-29 00:00:00 - Prediction for period 2007-01-31 00:00:00: Model 'GradientBoosting' Accuracy = 1.00\n",
            "Training period ended at 2006-12-29 00:00:00 - Prediction for period 2007-01-31 00:00:00: Model 'LogisticRegression' Accuracy = 1.00\n",
            "Training period ended at 2006-12-29 00:00:00 - Prediction for period 2007-01-31 00:00:00: Model 'SVC_linear' Accuracy = 1.00\n",
            "Training period ended at 2006-12-29 00:00:00 - Prediction for period 2007-01-31 00:00:00: Model 'SVC_rbf' Accuracy = 1.00\n",
            "Training period ended at 2007-01-31 00:00:00 - Prediction for period 2007-02-28 00:00:00: Model 'RandomForest' Accuracy = 0.00\n",
            "Training period ended at 2007-01-31 00:00:00 - Prediction for period 2007-02-28 00:00:00: Model 'GradientBoosting' Accuracy = 1.00\n",
            "Training period ended at 2007-01-31 00:00:00 - Prediction for period 2007-02-28 00:00:00: Model 'LogisticRegression' Accuracy = 1.00\n",
            "Training period ended at 2007-01-31 00:00:00 - Prediction for period 2007-02-28 00:00:00: Model 'SVC_linear' Accuracy = 1.00\n",
            "Training period ended at 2007-01-31 00:00:00 - Prediction for period 2007-02-28 00:00:00: Model 'SVC_rbf' Accuracy = 0.00\n",
            "Training period ended at 2007-02-28 00:00:00 - Prediction for period 2007-03-30 00:00:00: Model 'RandomForest' Accuracy = 0.00\n",
            "Training period ended at 2007-02-28 00:00:00 - Prediction for period 2007-03-30 00:00:00: Model 'GradientBoosting' Accuracy = 0.00\n",
            "Training period ended at 2007-02-28 00:00:00 - Prediction for period 2007-03-30 00:00:00: Model 'LogisticRegression' Accuracy = 0.00\n",
            "Training period ended at 2007-02-28 00:00:00 - Prediction for period 2007-03-30 00:00:00: Model 'SVC_linear' Accuracy = 0.00\n",
            "Training period ended at 2007-02-28 00:00:00 - Prediction for period 2007-03-30 00:00:00: Model 'SVC_rbf' Accuracy = 0.00\n"
          ]
        },
        {
          "output_type": "stream",
          "name": "stderr",
          "text": [
            "/usr/local/lib/python3.11/dist-packages/sklearn/linear_model/_logistic.py:465: ConvergenceWarning: lbfgs failed to converge (status=1):\n",
            "STOP: TOTAL NO. of ITERATIONS REACHED LIMIT.\n",
            "\n",
            "Increase the number of iterations (max_iter) or scale the data as shown in:\n",
            "    https://scikit-learn.org/stable/modules/preprocessing.html\n",
            "Please also refer to the documentation for alternative solver options:\n",
            "    https://scikit-learn.org/stable/modules/linear_model.html#logistic-regression\n",
            "  n_iter_i = _check_optimize_result(\n"
          ]
        },
        {
          "output_type": "stream",
          "name": "stdout",
          "text": [
            "Training period ended at 2007-03-30 00:00:00 - Prediction for period 2007-04-30 00:00:00: Model 'RandomForest' Accuracy = 0.00\n",
            "Training period ended at 2007-03-30 00:00:00 - Prediction for period 2007-04-30 00:00:00: Model 'GradientBoosting' Accuracy = 0.00\n",
            "Training period ended at 2007-03-30 00:00:00 - Prediction for period 2007-04-30 00:00:00: Model 'LogisticRegression' Accuracy = 1.00\n",
            "Training period ended at 2007-03-30 00:00:00 - Prediction for period 2007-04-30 00:00:00: Model 'SVC_linear' Accuracy = 0.00\n",
            "Training period ended at 2007-03-30 00:00:00 - Prediction for period 2007-04-30 00:00:00: Model 'SVC_rbf' Accuracy = 1.00\n",
            "Training period ended at 2007-04-30 00:00:00 - Prediction for period 2007-05-31 00:00:00: Model 'RandomForest' Accuracy = 0.00\n",
            "Training period ended at 2007-04-30 00:00:00 - Prediction for period 2007-05-31 00:00:00: Model 'GradientBoosting' Accuracy = 0.00\n",
            "Training period ended at 2007-04-30 00:00:00 - Prediction for period 2007-05-31 00:00:00: Model 'LogisticRegression' Accuracy = 0.00\n",
            "Training period ended at 2007-04-30 00:00:00 - Prediction for period 2007-05-31 00:00:00: Model 'SVC_linear' Accuracy = 0.00\n",
            "Training period ended at 2007-04-30 00:00:00 - Prediction for period 2007-05-31 00:00:00: Model 'SVC_rbf' Accuracy = 1.00\n"
          ]
        },
        {
          "output_type": "stream",
          "name": "stderr",
          "text": [
            "/usr/local/lib/python3.11/dist-packages/sklearn/linear_model/_logistic.py:465: ConvergenceWarning: lbfgs failed to converge (status=1):\n",
            "STOP: TOTAL NO. of ITERATIONS REACHED LIMIT.\n",
            "\n",
            "Increase the number of iterations (max_iter) or scale the data as shown in:\n",
            "    https://scikit-learn.org/stable/modules/preprocessing.html\n",
            "Please also refer to the documentation for alternative solver options:\n",
            "    https://scikit-learn.org/stable/modules/linear_model.html#logistic-regression\n",
            "  n_iter_i = _check_optimize_result(\n"
          ]
        },
        {
          "output_type": "stream",
          "name": "stdout",
          "text": [
            "Training period ended at 2007-05-31 00:00:00 - Prediction for period 2007-06-29 00:00:00: Model 'RandomForest' Accuracy = 1.00\n",
            "Training period ended at 2007-05-31 00:00:00 - Prediction for period 2007-06-29 00:00:00: Model 'GradientBoosting' Accuracy = 0.00\n",
            "Training period ended at 2007-05-31 00:00:00 - Prediction for period 2007-06-29 00:00:00: Model 'LogisticRegression' Accuracy = 1.00\n",
            "Training period ended at 2007-05-31 00:00:00 - Prediction for period 2007-06-29 00:00:00: Model 'SVC_linear' Accuracy = 1.00\n",
            "Training period ended at 2007-05-31 00:00:00 - Prediction for period 2007-06-29 00:00:00: Model 'SVC_rbf' Accuracy = 0.00\n"
          ]
        },
        {
          "output_type": "stream",
          "name": "stderr",
          "text": [
            "/usr/local/lib/python3.11/dist-packages/sklearn/linear_model/_logistic.py:465: ConvergenceWarning: lbfgs failed to converge (status=1):\n",
            "STOP: TOTAL NO. of ITERATIONS REACHED LIMIT.\n",
            "\n",
            "Increase the number of iterations (max_iter) or scale the data as shown in:\n",
            "    https://scikit-learn.org/stable/modules/preprocessing.html\n",
            "Please also refer to the documentation for alternative solver options:\n",
            "    https://scikit-learn.org/stable/modules/linear_model.html#logistic-regression\n",
            "  n_iter_i = _check_optimize_result(\n"
          ]
        },
        {
          "output_type": "stream",
          "name": "stdout",
          "text": [
            "Training period ended at 2007-06-29 00:00:00 - Prediction for period 2007-07-31 00:00:00: Model 'RandomForest' Accuracy = 1.00\n",
            "Training period ended at 2007-06-29 00:00:00 - Prediction for period 2007-07-31 00:00:00: Model 'GradientBoosting' Accuracy = 1.00\n",
            "Training period ended at 2007-06-29 00:00:00 - Prediction for period 2007-07-31 00:00:00: Model 'LogisticRegression' Accuracy = 1.00\n",
            "Training period ended at 2007-06-29 00:00:00 - Prediction for period 2007-07-31 00:00:00: Model 'SVC_linear' Accuracy = 1.00\n",
            "Training period ended at 2007-06-29 00:00:00 - Prediction for period 2007-07-31 00:00:00: Model 'SVC_rbf' Accuracy = 0.00\n"
          ]
        },
        {
          "output_type": "stream",
          "name": "stderr",
          "text": [
            "/usr/local/lib/python3.11/dist-packages/sklearn/linear_model/_logistic.py:465: ConvergenceWarning: lbfgs failed to converge (status=1):\n",
            "STOP: TOTAL NO. of ITERATIONS REACHED LIMIT.\n",
            "\n",
            "Increase the number of iterations (max_iter) or scale the data as shown in:\n",
            "    https://scikit-learn.org/stable/modules/preprocessing.html\n",
            "Please also refer to the documentation for alternative solver options:\n",
            "    https://scikit-learn.org/stable/modules/linear_model.html#logistic-regression\n",
            "  n_iter_i = _check_optimize_result(\n"
          ]
        },
        {
          "output_type": "stream",
          "name": "stdout",
          "text": [
            "Training period ended at 2007-07-31 00:00:00 - Prediction for period 2007-08-31 00:00:00: Model 'RandomForest' Accuracy = 1.00\n",
            "Training period ended at 2007-07-31 00:00:00 - Prediction for period 2007-08-31 00:00:00: Model 'GradientBoosting' Accuracy = 1.00\n",
            "Training period ended at 2007-07-31 00:00:00 - Prediction for period 2007-08-31 00:00:00: Model 'LogisticRegression' Accuracy = 1.00\n",
            "Training period ended at 2007-07-31 00:00:00 - Prediction for period 2007-08-31 00:00:00: Model 'SVC_linear' Accuracy = 1.00\n",
            "Training period ended at 2007-07-31 00:00:00 - Prediction for period 2007-08-31 00:00:00: Model 'SVC_rbf' Accuracy = 0.00\n",
            "Training period ended at 2007-08-31 00:00:00 - Prediction for period 2007-09-28 00:00:00: Model 'RandomForest' Accuracy = 0.00\n",
            "Training period ended at 2007-08-31 00:00:00 - Prediction for period 2007-09-28 00:00:00: Model 'GradientBoosting' Accuracy = 0.00\n",
            "Training period ended at 2007-08-31 00:00:00 - Prediction for period 2007-09-28 00:00:00: Model 'LogisticRegression' Accuracy = 0.00\n",
            "Training period ended at 2007-08-31 00:00:00 - Prediction for period 2007-09-28 00:00:00: Model 'SVC_linear' Accuracy = 0.00\n",
            "Training period ended at 2007-08-31 00:00:00 - Prediction for period 2007-09-28 00:00:00: Model 'SVC_rbf' Accuracy = 1.00\n",
            "Training period ended at 2007-09-28 00:00:00 - Prediction for period 2007-10-31 00:00:00: Model 'RandomForest' Accuracy = 0.00\n",
            "Training period ended at 2007-09-28 00:00:00 - Prediction for period 2007-10-31 00:00:00: Model 'GradientBoosting' Accuracy = 0.00\n",
            "Training period ended at 2007-09-28 00:00:00 - Prediction for period 2007-10-31 00:00:00: Model 'LogisticRegression' Accuracy = 0.00\n",
            "Training period ended at 2007-09-28 00:00:00 - Prediction for period 2007-10-31 00:00:00: Model 'SVC_linear' Accuracy = 0.00\n",
            "Training period ended at 2007-09-28 00:00:00 - Prediction for period 2007-10-31 00:00:00: Model 'SVC_rbf' Accuracy = 1.00\n",
            "Training period ended at 2007-10-31 00:00:00 - Prediction for period 2007-11-30 00:00:00: Model 'RandomForest' Accuracy = 0.00\n",
            "Training period ended at 2007-10-31 00:00:00 - Prediction for period 2007-11-30 00:00:00: Model 'GradientBoosting' Accuracy = 0.00\n",
            "Training period ended at 2007-10-31 00:00:00 - Prediction for period 2007-11-30 00:00:00: Model 'LogisticRegression' Accuracy = 1.00\n",
            "Training period ended at 2007-10-31 00:00:00 - Prediction for period 2007-11-30 00:00:00: Model 'SVC_linear' Accuracy = 1.00\n",
            "Training period ended at 2007-10-31 00:00:00 - Prediction for period 2007-11-30 00:00:00: Model 'SVC_rbf' Accuracy = 0.00\n",
            "Training period ended at 2007-11-30 00:00:00 - Prediction for period 2007-12-31 00:00:00: Model 'RandomForest' Accuracy = 1.00\n",
            "Training period ended at 2007-11-30 00:00:00 - Prediction for period 2007-12-31 00:00:00: Model 'GradientBoosting' Accuracy = 1.00\n",
            "Training period ended at 2007-11-30 00:00:00 - Prediction for period 2007-12-31 00:00:00: Model 'LogisticRegression' Accuracy = 1.00\n",
            "Training period ended at 2007-11-30 00:00:00 - Prediction for period 2007-12-31 00:00:00: Model 'SVC_linear' Accuracy = 1.00\n",
            "Training period ended at 2007-11-30 00:00:00 - Prediction for period 2007-12-31 00:00:00: Model 'SVC_rbf' Accuracy = 0.00\n",
            "Training period ended at 2007-12-31 00:00:00 - Prediction for period 2008-01-31 00:00:00: Model 'RandomForest' Accuracy = 0.00\n",
            "Training period ended at 2007-12-31 00:00:00 - Prediction for period 2008-01-31 00:00:00: Model 'GradientBoosting' Accuracy = 0.00\n",
            "Training period ended at 2007-12-31 00:00:00 - Prediction for period 2008-01-31 00:00:00: Model 'LogisticRegression' Accuracy = 0.00\n",
            "Training period ended at 2007-12-31 00:00:00 - Prediction for period 2008-01-31 00:00:00: Model 'SVC_linear' Accuracy = 0.00\n",
            "Training period ended at 2007-12-31 00:00:00 - Prediction for period 2008-01-31 00:00:00: Model 'SVC_rbf' Accuracy = 0.00\n",
            "Training period ended at 2008-01-31 00:00:00 - Prediction for period 2008-02-29 00:00:00: Model 'RandomForest' Accuracy = 1.00\n",
            "Training period ended at 2008-01-31 00:00:00 - Prediction for period 2008-02-29 00:00:00: Model 'GradientBoosting' Accuracy = 1.00\n",
            "Training period ended at 2008-01-31 00:00:00 - Prediction for period 2008-02-29 00:00:00: Model 'LogisticRegression' Accuracy = 1.00\n",
            "Training period ended at 2008-01-31 00:00:00 - Prediction for period 2008-02-29 00:00:00: Model 'SVC_linear' Accuracy = 1.00\n",
            "Training period ended at 2008-01-31 00:00:00 - Prediction for period 2008-02-29 00:00:00: Model 'SVC_rbf' Accuracy = 0.00\n"
          ]
        },
        {
          "output_type": "stream",
          "name": "stderr",
          "text": [
            "/usr/local/lib/python3.11/dist-packages/sklearn/linear_model/_logistic.py:465: ConvergenceWarning: lbfgs failed to converge (status=1):\n",
            "STOP: TOTAL NO. of ITERATIONS REACHED LIMIT.\n",
            "\n",
            "Increase the number of iterations (max_iter) or scale the data as shown in:\n",
            "    https://scikit-learn.org/stable/modules/preprocessing.html\n",
            "Please also refer to the documentation for alternative solver options:\n",
            "    https://scikit-learn.org/stable/modules/linear_model.html#logistic-regression\n",
            "  n_iter_i = _check_optimize_result(\n"
          ]
        },
        {
          "output_type": "stream",
          "name": "stdout",
          "text": [
            "Training period ended at 2008-02-29 00:00:00 - Prediction for period 2008-03-31 00:00:00: Model 'RandomForest' Accuracy = 0.00\n",
            "Training period ended at 2008-02-29 00:00:00 - Prediction for period 2008-03-31 00:00:00: Model 'GradientBoosting' Accuracy = 0.00\n",
            "Training period ended at 2008-02-29 00:00:00 - Prediction for period 2008-03-31 00:00:00: Model 'LogisticRegression' Accuracy = 1.00\n",
            "Training period ended at 2008-02-29 00:00:00 - Prediction for period 2008-03-31 00:00:00: Model 'SVC_linear' Accuracy = 0.00\n",
            "Training period ended at 2008-02-29 00:00:00 - Prediction for period 2008-03-31 00:00:00: Model 'SVC_rbf' Accuracy = 1.00\n"
          ]
        },
        {
          "output_type": "stream",
          "name": "stderr",
          "text": [
            "/usr/local/lib/python3.11/dist-packages/sklearn/linear_model/_logistic.py:465: ConvergenceWarning: lbfgs failed to converge (status=1):\n",
            "STOP: TOTAL NO. of ITERATIONS REACHED LIMIT.\n",
            "\n",
            "Increase the number of iterations (max_iter) or scale the data as shown in:\n",
            "    https://scikit-learn.org/stable/modules/preprocessing.html\n",
            "Please also refer to the documentation for alternative solver options:\n",
            "    https://scikit-learn.org/stable/modules/linear_model.html#logistic-regression\n",
            "  n_iter_i = _check_optimize_result(\n"
          ]
        },
        {
          "output_type": "stream",
          "name": "stdout",
          "text": [
            "Training period ended at 2008-03-31 00:00:00 - Prediction for period 2008-04-30 00:00:00: Model 'RandomForest' Accuracy = 1.00\n",
            "Training period ended at 2008-03-31 00:00:00 - Prediction for period 2008-04-30 00:00:00: Model 'GradientBoosting' Accuracy = 1.00\n",
            "Training period ended at 2008-03-31 00:00:00 - Prediction for period 2008-04-30 00:00:00: Model 'LogisticRegression' Accuracy = 1.00\n",
            "Training period ended at 2008-03-31 00:00:00 - Prediction for period 2008-04-30 00:00:00: Model 'SVC_linear' Accuracy = 1.00\n",
            "Training period ended at 2008-03-31 00:00:00 - Prediction for period 2008-04-30 00:00:00: Model 'SVC_rbf' Accuracy = 1.00\n"
          ]
        },
        {
          "output_type": "stream",
          "name": "stderr",
          "text": [
            "/usr/local/lib/python3.11/dist-packages/sklearn/linear_model/_logistic.py:465: ConvergenceWarning: lbfgs failed to converge (status=1):\n",
            "STOP: TOTAL NO. of ITERATIONS REACHED LIMIT.\n",
            "\n",
            "Increase the number of iterations (max_iter) or scale the data as shown in:\n",
            "    https://scikit-learn.org/stable/modules/preprocessing.html\n",
            "Please also refer to the documentation for alternative solver options:\n",
            "    https://scikit-learn.org/stable/modules/linear_model.html#logistic-regression\n",
            "  n_iter_i = _check_optimize_result(\n"
          ]
        },
        {
          "output_type": "stream",
          "name": "stdout",
          "text": [
            "Training period ended at 2008-04-30 00:00:00 - Prediction for period 2008-05-30 00:00:00: Model 'RandomForest' Accuracy = 1.00\n",
            "Training period ended at 2008-04-30 00:00:00 - Prediction for period 2008-05-30 00:00:00: Model 'GradientBoosting' Accuracy = 1.00\n",
            "Training period ended at 2008-04-30 00:00:00 - Prediction for period 2008-05-30 00:00:00: Model 'LogisticRegression' Accuracy = 1.00\n",
            "Training period ended at 2008-04-30 00:00:00 - Prediction for period 2008-05-30 00:00:00: Model 'SVC_linear' Accuracy = 1.00\n",
            "Training period ended at 2008-04-30 00:00:00 - Prediction for period 2008-05-30 00:00:00: Model 'SVC_rbf' Accuracy = 1.00\n",
            "Training period ended at 2008-05-30 00:00:00 - Prediction for period 2008-06-30 00:00:00: Model 'RandomForest' Accuracy = 0.00\n",
            "Training period ended at 2008-05-30 00:00:00 - Prediction for period 2008-06-30 00:00:00: Model 'GradientBoosting' Accuracy = 0.00\n",
            "Training period ended at 2008-05-30 00:00:00 - Prediction for period 2008-06-30 00:00:00: Model 'LogisticRegression' Accuracy = 0.00\n",
            "Training period ended at 2008-05-30 00:00:00 - Prediction for period 2008-06-30 00:00:00: Model 'SVC_linear' Accuracy = 0.00\n",
            "Training period ended at 2008-05-30 00:00:00 - Prediction for period 2008-06-30 00:00:00: Model 'SVC_rbf' Accuracy = 1.00\n",
            "Training period ended at 2008-06-30 00:00:00 - Prediction for period 2008-07-31 00:00:00: Model 'RandomForest' Accuracy = 0.00\n",
            "Training period ended at 2008-06-30 00:00:00 - Prediction for period 2008-07-31 00:00:00: Model 'GradientBoosting' Accuracy = 0.00\n",
            "Training period ended at 2008-06-30 00:00:00 - Prediction for period 2008-07-31 00:00:00: Model 'LogisticRegression' Accuracy = 0.00\n",
            "Training period ended at 2008-06-30 00:00:00 - Prediction for period 2008-07-31 00:00:00: Model 'SVC_linear' Accuracy = 0.00\n",
            "Training period ended at 2008-06-30 00:00:00 - Prediction for period 2008-07-31 00:00:00: Model 'SVC_rbf' Accuracy = 0.00\n"
          ]
        },
        {
          "output_type": "stream",
          "name": "stderr",
          "text": [
            "/usr/local/lib/python3.11/dist-packages/sklearn/linear_model/_logistic.py:465: ConvergenceWarning: lbfgs failed to converge (status=1):\n",
            "STOP: TOTAL NO. of ITERATIONS REACHED LIMIT.\n",
            "\n",
            "Increase the number of iterations (max_iter) or scale the data as shown in:\n",
            "    https://scikit-learn.org/stable/modules/preprocessing.html\n",
            "Please also refer to the documentation for alternative solver options:\n",
            "    https://scikit-learn.org/stable/modules/linear_model.html#logistic-regression\n",
            "  n_iter_i = _check_optimize_result(\n"
          ]
        },
        {
          "output_type": "stream",
          "name": "stdout",
          "text": [
            "Training period ended at 2008-07-31 00:00:00 - Prediction for period 2008-08-29 00:00:00: Model 'RandomForest' Accuracy = 1.00\n",
            "Training period ended at 2008-07-31 00:00:00 - Prediction for period 2008-08-29 00:00:00: Model 'GradientBoosting' Accuracy = 0.00\n",
            "Training period ended at 2008-07-31 00:00:00 - Prediction for period 2008-08-29 00:00:00: Model 'LogisticRegression' Accuracy = 0.00\n",
            "Training period ended at 2008-07-31 00:00:00 - Prediction for period 2008-08-29 00:00:00: Model 'SVC_linear' Accuracy = 0.00\n",
            "Training period ended at 2008-07-31 00:00:00 - Prediction for period 2008-08-29 00:00:00: Model 'SVC_rbf' Accuracy = 0.00\n"
          ]
        },
        {
          "output_type": "stream",
          "name": "stderr",
          "text": [
            "/usr/local/lib/python3.11/dist-packages/sklearn/linear_model/_logistic.py:465: ConvergenceWarning: lbfgs failed to converge (status=1):\n",
            "STOP: TOTAL NO. of ITERATIONS REACHED LIMIT.\n",
            "\n",
            "Increase the number of iterations (max_iter) or scale the data as shown in:\n",
            "    https://scikit-learn.org/stable/modules/preprocessing.html\n",
            "Please also refer to the documentation for alternative solver options:\n",
            "    https://scikit-learn.org/stable/modules/linear_model.html#logistic-regression\n",
            "  n_iter_i = _check_optimize_result(\n"
          ]
        },
        {
          "output_type": "stream",
          "name": "stdout",
          "text": [
            "Training period ended at 2008-08-29 00:00:00 - Prediction for period 2008-09-30 00:00:00: Model 'RandomForest' Accuracy = 1.00\n",
            "Training period ended at 2008-08-29 00:00:00 - Prediction for period 2008-09-30 00:00:00: Model 'GradientBoosting' Accuracy = 1.00\n",
            "Training period ended at 2008-08-29 00:00:00 - Prediction for period 2008-09-30 00:00:00: Model 'LogisticRegression' Accuracy = 1.00\n",
            "Training period ended at 2008-08-29 00:00:00 - Prediction for period 2008-09-30 00:00:00: Model 'SVC_linear' Accuracy = 1.00\n",
            "Training period ended at 2008-08-29 00:00:00 - Prediction for period 2008-09-30 00:00:00: Model 'SVC_rbf' Accuracy = 0.00\n",
            "Training period ended at 2008-09-30 00:00:00 - Prediction for period 2008-10-31 00:00:00: Model 'RandomForest' Accuracy = 1.00\n",
            "Training period ended at 2008-09-30 00:00:00 - Prediction for period 2008-10-31 00:00:00: Model 'GradientBoosting' Accuracy = 1.00\n",
            "Training period ended at 2008-09-30 00:00:00 - Prediction for period 2008-10-31 00:00:00: Model 'LogisticRegression' Accuracy = 1.00\n",
            "Training period ended at 2008-09-30 00:00:00 - Prediction for period 2008-10-31 00:00:00: Model 'SVC_linear' Accuracy = 1.00\n",
            "Training period ended at 2008-09-30 00:00:00 - Prediction for period 2008-10-31 00:00:00: Model 'SVC_rbf' Accuracy = 0.00\n",
            "Training period ended at 2008-10-31 00:00:00 - Prediction for period 2008-11-28 00:00:00: Model 'RandomForest' Accuracy = 1.00\n",
            "Training period ended at 2008-10-31 00:00:00 - Prediction for period 2008-11-28 00:00:00: Model 'GradientBoosting' Accuracy = 1.00\n",
            "Training period ended at 2008-10-31 00:00:00 - Prediction for period 2008-11-28 00:00:00: Model 'LogisticRegression' Accuracy = 1.00\n",
            "Training period ended at 2008-10-31 00:00:00 - Prediction for period 2008-11-28 00:00:00: Model 'SVC_linear' Accuracy = 1.00\n",
            "Training period ended at 2008-10-31 00:00:00 - Prediction for period 2008-11-28 00:00:00: Model 'SVC_rbf' Accuracy = 1.00\n",
            "Training period ended at 2008-11-28 00:00:00 - Prediction for period 2008-12-31 00:00:00: Model 'RandomForest' Accuracy = 0.00\n",
            "Training period ended at 2008-11-28 00:00:00 - Prediction for period 2008-12-31 00:00:00: Model 'GradientBoosting' Accuracy = 0.00\n",
            "Training period ended at 2008-11-28 00:00:00 - Prediction for period 2008-12-31 00:00:00: Model 'LogisticRegression' Accuracy = 0.00\n",
            "Training period ended at 2008-11-28 00:00:00 - Prediction for period 2008-12-31 00:00:00: Model 'SVC_linear' Accuracy = 0.00\n",
            "Training period ended at 2008-11-28 00:00:00 - Prediction for period 2008-12-31 00:00:00: Model 'SVC_rbf' Accuracy = 0.00\n",
            "Training period ended at 2008-12-31 00:00:00 - Prediction for period 2009-01-30 00:00:00: Model 'RandomForest' Accuracy = 1.00\n",
            "Training period ended at 2008-12-31 00:00:00 - Prediction for period 2009-01-30 00:00:00: Model 'GradientBoosting' Accuracy = 1.00\n",
            "Training period ended at 2008-12-31 00:00:00 - Prediction for period 2009-01-30 00:00:00: Model 'LogisticRegression' Accuracy = 1.00\n",
            "Training period ended at 2008-12-31 00:00:00 - Prediction for period 2009-01-30 00:00:00: Model 'SVC_linear' Accuracy = 1.00\n"
          ]
        },
        {
          "output_type": "stream",
          "name": "stderr",
          "text": [
            "/usr/local/lib/python3.11/dist-packages/sklearn/linear_model/_logistic.py:465: ConvergenceWarning: lbfgs failed to converge (status=1):\n",
            "STOP: TOTAL NO. of ITERATIONS REACHED LIMIT.\n",
            "\n",
            "Increase the number of iterations (max_iter) or scale the data as shown in:\n",
            "    https://scikit-learn.org/stable/modules/preprocessing.html\n",
            "Please also refer to the documentation for alternative solver options:\n",
            "    https://scikit-learn.org/stable/modules/linear_model.html#logistic-regression\n",
            "  n_iter_i = _check_optimize_result(\n"
          ]
        },
        {
          "output_type": "stream",
          "name": "stdout",
          "text": [
            "Training period ended at 2008-12-31 00:00:00 - Prediction for period 2009-01-30 00:00:00: Model 'SVC_rbf' Accuracy = 1.00\n",
            "Training period ended at 2009-01-30 00:00:00 - Prediction for period 2009-02-27 00:00:00: Model 'RandomForest' Accuracy = 1.00\n",
            "Training period ended at 2009-01-30 00:00:00 - Prediction for period 2009-02-27 00:00:00: Model 'GradientBoosting' Accuracy = 1.00\n",
            "Training period ended at 2009-01-30 00:00:00 - Prediction for period 2009-02-27 00:00:00: Model 'LogisticRegression' Accuracy = 1.00\n"
          ]
        },
        {
          "output_type": "stream",
          "name": "stderr",
          "text": [
            "/usr/local/lib/python3.11/dist-packages/sklearn/linear_model/_logistic.py:465: ConvergenceWarning: lbfgs failed to converge (status=1):\n",
            "STOP: TOTAL NO. of ITERATIONS REACHED LIMIT.\n",
            "\n",
            "Increase the number of iterations (max_iter) or scale the data as shown in:\n",
            "    https://scikit-learn.org/stable/modules/preprocessing.html\n",
            "Please also refer to the documentation for alternative solver options:\n",
            "    https://scikit-learn.org/stable/modules/linear_model.html#logistic-regression\n",
            "  n_iter_i = _check_optimize_result(\n"
          ]
        },
        {
          "output_type": "stream",
          "name": "stdout",
          "text": [
            "Training period ended at 2009-01-30 00:00:00 - Prediction for period 2009-02-27 00:00:00: Model 'SVC_linear' Accuracy = 1.00\n",
            "Training period ended at 2009-01-30 00:00:00 - Prediction for period 2009-02-27 00:00:00: Model 'SVC_rbf' Accuracy = 1.00\n",
            "Training period ended at 2009-02-27 00:00:00 - Prediction for period 2009-03-31 00:00:00: Model 'RandomForest' Accuracy = 1.00\n",
            "Training period ended at 2009-02-27 00:00:00 - Prediction for period 2009-03-31 00:00:00: Model 'GradientBoosting' Accuracy = 0.00\n",
            "Training period ended at 2009-02-27 00:00:00 - Prediction for period 2009-03-31 00:00:00: Model 'LogisticRegression' Accuracy = 1.00\n",
            "Training period ended at 2009-02-27 00:00:00 - Prediction for period 2009-03-31 00:00:00: Model 'SVC_linear' Accuracy = 0.00\n",
            "Training period ended at 2009-02-27 00:00:00 - Prediction for period 2009-03-31 00:00:00: Model 'SVC_rbf' Accuracy = 1.00\n"
          ]
        },
        {
          "output_type": "stream",
          "name": "stderr",
          "text": [
            "/usr/local/lib/python3.11/dist-packages/sklearn/linear_model/_logistic.py:465: ConvergenceWarning: lbfgs failed to converge (status=1):\n",
            "STOP: TOTAL NO. of ITERATIONS REACHED LIMIT.\n",
            "\n",
            "Increase the number of iterations (max_iter) or scale the data as shown in:\n",
            "    https://scikit-learn.org/stable/modules/preprocessing.html\n",
            "Please also refer to the documentation for alternative solver options:\n",
            "    https://scikit-learn.org/stable/modules/linear_model.html#logistic-regression\n",
            "  n_iter_i = _check_optimize_result(\n"
          ]
        },
        {
          "output_type": "stream",
          "name": "stdout",
          "text": [
            "Training period ended at 2009-03-31 00:00:00 - Prediction for period 2009-04-30 00:00:00: Model 'RandomForest' Accuracy = 0.00\n",
            "Training period ended at 2009-03-31 00:00:00 - Prediction for period 2009-04-30 00:00:00: Model 'GradientBoosting' Accuracy = 0.00\n"
          ]
        },
        {
          "output_type": "stream",
          "name": "stderr",
          "text": [
            "/usr/local/lib/python3.11/dist-packages/sklearn/linear_model/_logistic.py:465: ConvergenceWarning: lbfgs failed to converge (status=1):\n",
            "STOP: TOTAL NO. of ITERATIONS REACHED LIMIT.\n",
            "\n",
            "Increase the number of iterations (max_iter) or scale the data as shown in:\n",
            "    https://scikit-learn.org/stable/modules/preprocessing.html\n",
            "Please also refer to the documentation for alternative solver options:\n",
            "    https://scikit-learn.org/stable/modules/linear_model.html#logistic-regression\n",
            "  n_iter_i = _check_optimize_result(\n"
          ]
        },
        {
          "output_type": "stream",
          "name": "stdout",
          "text": [
            "Training period ended at 2009-03-31 00:00:00 - Prediction for period 2009-04-30 00:00:00: Model 'LogisticRegression' Accuracy = 0.00\n",
            "Training period ended at 2009-03-31 00:00:00 - Prediction for period 2009-04-30 00:00:00: Model 'SVC_linear' Accuracy = 0.00\n",
            "Training period ended at 2009-03-31 00:00:00 - Prediction for period 2009-04-30 00:00:00: Model 'SVC_rbf' Accuracy = 0.00\n",
            "Training period ended at 2009-04-30 00:00:00 - Prediction for period 2009-05-29 00:00:00: Model 'RandomForest' Accuracy = 0.00\n",
            "Training period ended at 2009-04-30 00:00:00 - Prediction for period 2009-05-29 00:00:00: Model 'GradientBoosting' Accuracy = 1.00\n"
          ]
        },
        {
          "output_type": "stream",
          "name": "stderr",
          "text": [
            "/usr/local/lib/python3.11/dist-packages/sklearn/linear_model/_logistic.py:465: ConvergenceWarning: lbfgs failed to converge (status=1):\n",
            "STOP: TOTAL NO. of ITERATIONS REACHED LIMIT.\n",
            "\n",
            "Increase the number of iterations (max_iter) or scale the data as shown in:\n",
            "    https://scikit-learn.org/stable/modules/preprocessing.html\n",
            "Please also refer to the documentation for alternative solver options:\n",
            "    https://scikit-learn.org/stable/modules/linear_model.html#logistic-regression\n",
            "  n_iter_i = _check_optimize_result(\n"
          ]
        },
        {
          "output_type": "stream",
          "name": "stdout",
          "text": [
            "Training period ended at 2009-04-30 00:00:00 - Prediction for period 2009-05-29 00:00:00: Model 'LogisticRegression' Accuracy = 1.00\n",
            "Training period ended at 2009-04-30 00:00:00 - Prediction for period 2009-05-29 00:00:00: Model 'SVC_linear' Accuracy = 1.00\n",
            "Training period ended at 2009-04-30 00:00:00 - Prediction for period 2009-05-29 00:00:00: Model 'SVC_rbf' Accuracy = 1.00\n",
            "Training period ended at 2009-05-29 00:00:00 - Prediction for period 2009-06-30 00:00:00: Model 'RandomForest' Accuracy = 1.00\n",
            "Training period ended at 2009-05-29 00:00:00 - Prediction for period 2009-06-30 00:00:00: Model 'GradientBoosting' Accuracy = 1.00\n",
            "Training period ended at 2009-05-29 00:00:00 - Prediction for period 2009-06-30 00:00:00: Model 'LogisticRegression' Accuracy = 1.00\n",
            "Training period ended at 2009-05-29 00:00:00 - Prediction for period 2009-06-30 00:00:00: Model 'SVC_linear' Accuracy = 1.00\n",
            "Training period ended at 2009-05-29 00:00:00 - Prediction for period 2009-06-30 00:00:00: Model 'SVC_rbf' Accuracy = 1.00\n",
            "Training period ended at 2009-06-30 00:00:00 - Prediction for period 2009-07-31 00:00:00: Model 'RandomForest' Accuracy = 1.00\n",
            "Training period ended at 2009-06-30 00:00:00 - Prediction for period 2009-07-31 00:00:00: Model 'GradientBoosting' Accuracy = 0.00\n",
            "Training period ended at 2009-06-30 00:00:00 - Prediction for period 2009-07-31 00:00:00: Model 'LogisticRegression' Accuracy = 1.00\n",
            "Training period ended at 2009-06-30 00:00:00 - Prediction for period 2009-07-31 00:00:00: Model 'SVC_linear' Accuracy = 1.00\n",
            "Training period ended at 2009-06-30 00:00:00 - Prediction for period 2009-07-31 00:00:00: Model 'SVC_rbf' Accuracy = 1.00\n"
          ]
        },
        {
          "output_type": "stream",
          "name": "stderr",
          "text": [
            "/usr/local/lib/python3.11/dist-packages/sklearn/linear_model/_logistic.py:465: ConvergenceWarning: lbfgs failed to converge (status=1):\n",
            "STOP: TOTAL NO. of ITERATIONS REACHED LIMIT.\n",
            "\n",
            "Increase the number of iterations (max_iter) or scale the data as shown in:\n",
            "    https://scikit-learn.org/stable/modules/preprocessing.html\n",
            "Please also refer to the documentation for alternative solver options:\n",
            "    https://scikit-learn.org/stable/modules/linear_model.html#logistic-regression\n",
            "  n_iter_i = _check_optimize_result(\n"
          ]
        },
        {
          "output_type": "stream",
          "name": "stdout",
          "text": [
            "Training period ended at 2009-07-31 00:00:00 - Prediction for period 2009-08-31 00:00:00: Model 'RandomForest' Accuracy = 1.00\n",
            "Training period ended at 2009-07-31 00:00:00 - Prediction for period 2009-08-31 00:00:00: Model 'GradientBoosting' Accuracy = 0.00\n",
            "Training period ended at 2009-07-31 00:00:00 - Prediction for period 2009-08-31 00:00:00: Model 'LogisticRegression' Accuracy = 1.00\n",
            "Training period ended at 2009-07-31 00:00:00 - Prediction for period 2009-08-31 00:00:00: Model 'SVC_linear' Accuracy = 1.00\n"
          ]
        },
        {
          "output_type": "stream",
          "name": "stderr",
          "text": [
            "/usr/local/lib/python3.11/dist-packages/sklearn/linear_model/_logistic.py:465: ConvergenceWarning: lbfgs failed to converge (status=1):\n",
            "STOP: TOTAL NO. of ITERATIONS REACHED LIMIT.\n",
            "\n",
            "Increase the number of iterations (max_iter) or scale the data as shown in:\n",
            "    https://scikit-learn.org/stable/modules/preprocessing.html\n",
            "Please also refer to the documentation for alternative solver options:\n",
            "    https://scikit-learn.org/stable/modules/linear_model.html#logistic-regression\n",
            "  n_iter_i = _check_optimize_result(\n"
          ]
        },
        {
          "output_type": "stream",
          "name": "stdout",
          "text": [
            "Training period ended at 2009-07-31 00:00:00 - Prediction for period 2009-08-31 00:00:00: Model 'SVC_rbf' Accuracy = 1.00\n",
            "Training period ended at 2009-08-31 00:00:00 - Prediction for period 2009-09-30 00:00:00: Model 'RandomForest' Accuracy = 1.00\n",
            "Training period ended at 2009-08-31 00:00:00 - Prediction for period 2009-09-30 00:00:00: Model 'GradientBoosting' Accuracy = 1.00\n",
            "Training period ended at 2009-08-31 00:00:00 - Prediction for period 2009-09-30 00:00:00: Model 'LogisticRegression' Accuracy = 1.00\n",
            "Training period ended at 2009-08-31 00:00:00 - Prediction for period 2009-09-30 00:00:00: Model 'SVC_linear' Accuracy = 1.00\n",
            "Training period ended at 2009-08-31 00:00:00 - Prediction for period 2009-09-30 00:00:00: Model 'SVC_rbf' Accuracy = 1.00\n"
          ]
        },
        {
          "output_type": "stream",
          "name": "stderr",
          "text": [
            "/usr/local/lib/python3.11/dist-packages/sklearn/linear_model/_logistic.py:465: ConvergenceWarning: lbfgs failed to converge (status=1):\n",
            "STOP: TOTAL NO. of ITERATIONS REACHED LIMIT.\n",
            "\n",
            "Increase the number of iterations (max_iter) or scale the data as shown in:\n",
            "    https://scikit-learn.org/stable/modules/preprocessing.html\n",
            "Please also refer to the documentation for alternative solver options:\n",
            "    https://scikit-learn.org/stable/modules/linear_model.html#logistic-regression\n",
            "  n_iter_i = _check_optimize_result(\n"
          ]
        },
        {
          "output_type": "stream",
          "name": "stdout",
          "text": [
            "Training period ended at 2009-09-30 00:00:00 - Prediction for period 2009-10-30 00:00:00: Model 'RandomForest' Accuracy = 0.00\n",
            "Training period ended at 2009-09-30 00:00:00 - Prediction for period 2009-10-30 00:00:00: Model 'GradientBoosting' Accuracy = 0.00\n",
            "Training period ended at 2009-09-30 00:00:00 - Prediction for period 2009-10-30 00:00:00: Model 'LogisticRegression' Accuracy = 0.00\n",
            "Training period ended at 2009-09-30 00:00:00 - Prediction for period 2009-10-30 00:00:00: Model 'SVC_linear' Accuracy = 0.00\n",
            "Training period ended at 2009-09-30 00:00:00 - Prediction for period 2009-10-30 00:00:00: Model 'SVC_rbf' Accuracy = 0.00\n"
          ]
        },
        {
          "output_type": "stream",
          "name": "stderr",
          "text": [
            "/usr/local/lib/python3.11/dist-packages/sklearn/linear_model/_logistic.py:465: ConvergenceWarning: lbfgs failed to converge (status=1):\n",
            "STOP: TOTAL NO. of ITERATIONS REACHED LIMIT.\n",
            "\n",
            "Increase the number of iterations (max_iter) or scale the data as shown in:\n",
            "    https://scikit-learn.org/stable/modules/preprocessing.html\n",
            "Please also refer to the documentation for alternative solver options:\n",
            "    https://scikit-learn.org/stable/modules/linear_model.html#logistic-regression\n",
            "  n_iter_i = _check_optimize_result(\n"
          ]
        },
        {
          "output_type": "stream",
          "name": "stdout",
          "text": [
            "Training period ended at 2009-10-30 00:00:00 - Prediction for period 2009-11-30 00:00:00: Model 'RandomForest' Accuracy = 0.00\n",
            "Training period ended at 2009-10-30 00:00:00 - Prediction for period 2009-11-30 00:00:00: Model 'GradientBoosting' Accuracy = 1.00\n",
            "Training period ended at 2009-10-30 00:00:00 - Prediction for period 2009-11-30 00:00:00: Model 'LogisticRegression' Accuracy = 0.00\n",
            "Training period ended at 2009-10-30 00:00:00 - Prediction for period 2009-11-30 00:00:00: Model 'SVC_linear' Accuracy = 0.00\n",
            "Training period ended at 2009-10-30 00:00:00 - Prediction for period 2009-11-30 00:00:00: Model 'SVC_rbf' Accuracy = 0.00\n"
          ]
        },
        {
          "output_type": "stream",
          "name": "stderr",
          "text": [
            "/usr/local/lib/python3.11/dist-packages/sklearn/linear_model/_logistic.py:465: ConvergenceWarning: lbfgs failed to converge (status=1):\n",
            "STOP: TOTAL NO. of ITERATIONS REACHED LIMIT.\n",
            "\n",
            "Increase the number of iterations (max_iter) or scale the data as shown in:\n",
            "    https://scikit-learn.org/stable/modules/preprocessing.html\n",
            "Please also refer to the documentation for alternative solver options:\n",
            "    https://scikit-learn.org/stable/modules/linear_model.html#logistic-regression\n",
            "  n_iter_i = _check_optimize_result(\n"
          ]
        },
        {
          "output_type": "stream",
          "name": "stdout",
          "text": [
            "Training period ended at 2009-11-30 00:00:00 - Prediction for period 2009-12-31 00:00:00: Model 'RandomForest' Accuracy = 0.00\n",
            "Training period ended at 2009-11-30 00:00:00 - Prediction for period 2009-12-31 00:00:00: Model 'GradientBoosting' Accuracy = 0.00\n",
            "Training period ended at 2009-11-30 00:00:00 - Prediction for period 2009-12-31 00:00:00: Model 'LogisticRegression' Accuracy = 1.00\n",
            "Training period ended at 2009-11-30 00:00:00 - Prediction for period 2009-12-31 00:00:00: Model 'SVC_linear' Accuracy = 1.00\n",
            "Training period ended at 2009-11-30 00:00:00 - Prediction for period 2009-12-31 00:00:00: Model 'SVC_rbf' Accuracy = 1.00\n"
          ]
        },
        {
          "output_type": "stream",
          "name": "stderr",
          "text": [
            "/usr/local/lib/python3.11/dist-packages/sklearn/linear_model/_logistic.py:465: ConvergenceWarning: lbfgs failed to converge (status=1):\n",
            "STOP: TOTAL NO. of ITERATIONS REACHED LIMIT.\n",
            "\n",
            "Increase the number of iterations (max_iter) or scale the data as shown in:\n",
            "    https://scikit-learn.org/stable/modules/preprocessing.html\n",
            "Please also refer to the documentation for alternative solver options:\n",
            "    https://scikit-learn.org/stable/modules/linear_model.html#logistic-regression\n",
            "  n_iter_i = _check_optimize_result(\n"
          ]
        },
        {
          "output_type": "stream",
          "name": "stdout",
          "text": [
            "Training period ended at 2009-12-31 00:00:00 - Prediction for period 2010-01-29 00:00:00: Model 'RandomForest' Accuracy = 0.00\n",
            "Training period ended at 2009-12-31 00:00:00 - Prediction for period 2010-01-29 00:00:00: Model 'GradientBoosting' Accuracy = 0.00\n",
            "Training period ended at 2009-12-31 00:00:00 - Prediction for period 2010-01-29 00:00:00: Model 'LogisticRegression' Accuracy = 0.00\n",
            "Training period ended at 2009-12-31 00:00:00 - Prediction for period 2010-01-29 00:00:00: Model 'SVC_linear' Accuracy = 0.00\n",
            "Training period ended at 2009-12-31 00:00:00 - Prediction for period 2010-01-29 00:00:00: Model 'SVC_rbf' Accuracy = 0.00\n"
          ]
        },
        {
          "output_type": "stream",
          "name": "stderr",
          "text": [
            "/usr/local/lib/python3.11/dist-packages/sklearn/linear_model/_logistic.py:465: ConvergenceWarning: lbfgs failed to converge (status=1):\n",
            "STOP: TOTAL NO. of ITERATIONS REACHED LIMIT.\n",
            "\n",
            "Increase the number of iterations (max_iter) or scale the data as shown in:\n",
            "    https://scikit-learn.org/stable/modules/preprocessing.html\n",
            "Please also refer to the documentation for alternative solver options:\n",
            "    https://scikit-learn.org/stable/modules/linear_model.html#logistic-regression\n",
            "  n_iter_i = _check_optimize_result(\n"
          ]
        },
        {
          "output_type": "stream",
          "name": "stdout",
          "text": [
            "Training period ended at 2010-01-29 00:00:00 - Prediction for period 2010-02-26 00:00:00: Model 'RandomForest' Accuracy = 0.00\n",
            "Training period ended at 2010-01-29 00:00:00 - Prediction for period 2010-02-26 00:00:00: Model 'GradientBoosting' Accuracy = 0.00\n",
            "Training period ended at 2010-01-29 00:00:00 - Prediction for period 2010-02-26 00:00:00: Model 'LogisticRegression' Accuracy = 0.00\n",
            "Training period ended at 2010-01-29 00:00:00 - Prediction for period 2010-02-26 00:00:00: Model 'SVC_linear' Accuracy = 0.00\n",
            "Training period ended at 2010-01-29 00:00:00 - Prediction for period 2010-02-26 00:00:00: Model 'SVC_rbf' Accuracy = 0.00\n"
          ]
        },
        {
          "output_type": "stream",
          "name": "stderr",
          "text": [
            "/usr/local/lib/python3.11/dist-packages/sklearn/linear_model/_logistic.py:465: ConvergenceWarning: lbfgs failed to converge (status=1):\n",
            "STOP: TOTAL NO. of ITERATIONS REACHED LIMIT.\n",
            "\n",
            "Increase the number of iterations (max_iter) or scale the data as shown in:\n",
            "    https://scikit-learn.org/stable/modules/preprocessing.html\n",
            "Please also refer to the documentation for alternative solver options:\n",
            "    https://scikit-learn.org/stable/modules/linear_model.html#logistic-regression\n",
            "  n_iter_i = _check_optimize_result(\n"
          ]
        },
        {
          "output_type": "stream",
          "name": "stdout",
          "text": [
            "Training period ended at 2010-02-26 00:00:00 - Prediction for period 2010-03-31 00:00:00: Model 'RandomForest' Accuracy = 0.00\n",
            "Training period ended at 2010-02-26 00:00:00 - Prediction for period 2010-03-31 00:00:00: Model 'GradientBoosting' Accuracy = 1.00\n",
            "Training period ended at 2010-02-26 00:00:00 - Prediction for period 2010-03-31 00:00:00: Model 'LogisticRegression' Accuracy = 1.00\n"
          ]
        },
        {
          "output_type": "stream",
          "name": "stderr",
          "text": [
            "/usr/local/lib/python3.11/dist-packages/sklearn/linear_model/_logistic.py:465: ConvergenceWarning: lbfgs failed to converge (status=1):\n",
            "STOP: TOTAL NO. of ITERATIONS REACHED LIMIT.\n",
            "\n",
            "Increase the number of iterations (max_iter) or scale the data as shown in:\n",
            "    https://scikit-learn.org/stable/modules/preprocessing.html\n",
            "Please also refer to the documentation for alternative solver options:\n",
            "    https://scikit-learn.org/stable/modules/linear_model.html#logistic-regression\n",
            "  n_iter_i = _check_optimize_result(\n"
          ]
        },
        {
          "output_type": "stream",
          "name": "stdout",
          "text": [
            "Training period ended at 2010-02-26 00:00:00 - Prediction for period 2010-03-31 00:00:00: Model 'SVC_linear' Accuracy = 1.00\n",
            "Training period ended at 2010-02-26 00:00:00 - Prediction for period 2010-03-31 00:00:00: Model 'SVC_rbf' Accuracy = 1.00\n",
            "Training period ended at 2010-03-31 00:00:00 - Prediction for period 2010-04-30 00:00:00: Model 'RandomForest' Accuracy = 1.00\n",
            "Training period ended at 2010-03-31 00:00:00 - Prediction for period 2010-04-30 00:00:00: Model 'GradientBoosting' Accuracy = 1.00\n",
            "Training period ended at 2010-03-31 00:00:00 - Prediction for period 2010-04-30 00:00:00: Model 'LogisticRegression' Accuracy = 0.00\n",
            "Training period ended at 2010-03-31 00:00:00 - Prediction for period 2010-04-30 00:00:00: Model 'SVC_linear' Accuracy = 0.00\n",
            "Training period ended at 2010-03-31 00:00:00 - Prediction for period 2010-04-30 00:00:00: Model 'SVC_rbf' Accuracy = 1.00\n"
          ]
        },
        {
          "output_type": "stream",
          "name": "stderr",
          "text": [
            "/usr/local/lib/python3.11/dist-packages/sklearn/linear_model/_logistic.py:465: ConvergenceWarning: lbfgs failed to converge (status=1):\n",
            "STOP: TOTAL NO. of ITERATIONS REACHED LIMIT.\n",
            "\n",
            "Increase the number of iterations (max_iter) or scale the data as shown in:\n",
            "    https://scikit-learn.org/stable/modules/preprocessing.html\n",
            "Please also refer to the documentation for alternative solver options:\n",
            "    https://scikit-learn.org/stable/modules/linear_model.html#logistic-regression\n",
            "  n_iter_i = _check_optimize_result(\n"
          ]
        },
        {
          "output_type": "stream",
          "name": "stdout",
          "text": [
            "Training period ended at 2010-04-30 00:00:00 - Prediction for period 2010-05-31 00:00:00: Model 'RandomForest' Accuracy = 0.00\n",
            "Training period ended at 2010-04-30 00:00:00 - Prediction for period 2010-05-31 00:00:00: Model 'GradientBoosting' Accuracy = 0.00\n",
            "Training period ended at 2010-04-30 00:00:00 - Prediction for period 2010-05-31 00:00:00: Model 'LogisticRegression' Accuracy = 0.00\n",
            "Training period ended at 2010-04-30 00:00:00 - Prediction for period 2010-05-31 00:00:00: Model 'SVC_linear' Accuracy = 0.00\n",
            "Training period ended at 2010-04-30 00:00:00 - Prediction for period 2010-05-31 00:00:00: Model 'SVC_rbf' Accuracy = 0.00\n"
          ]
        },
        {
          "output_type": "stream",
          "name": "stderr",
          "text": [
            "/usr/local/lib/python3.11/dist-packages/sklearn/linear_model/_logistic.py:465: ConvergenceWarning: lbfgs failed to converge (status=1):\n",
            "STOP: TOTAL NO. of ITERATIONS REACHED LIMIT.\n",
            "\n",
            "Increase the number of iterations (max_iter) or scale the data as shown in:\n",
            "    https://scikit-learn.org/stable/modules/preprocessing.html\n",
            "Please also refer to the documentation for alternative solver options:\n",
            "    https://scikit-learn.org/stable/modules/linear_model.html#logistic-regression\n",
            "  n_iter_i = _check_optimize_result(\n"
          ]
        },
        {
          "output_type": "stream",
          "name": "stdout",
          "text": [
            "Training period ended at 2010-05-31 00:00:00 - Prediction for period 2010-06-30 00:00:00: Model 'RandomForest' Accuracy = 0.00\n",
            "Training period ended at 2010-05-31 00:00:00 - Prediction for period 2010-06-30 00:00:00: Model 'GradientBoosting' Accuracy = 0.00\n",
            "Training period ended at 2010-05-31 00:00:00 - Prediction for period 2010-06-30 00:00:00: Model 'LogisticRegression' Accuracy = 0.00\n",
            "Training period ended at 2010-05-31 00:00:00 - Prediction for period 2010-06-30 00:00:00: Model 'SVC_linear' Accuracy = 0.00\n",
            "Training period ended at 2010-05-31 00:00:00 - Prediction for period 2010-06-30 00:00:00: Model 'SVC_rbf' Accuracy = 0.00\n"
          ]
        },
        {
          "output_type": "stream",
          "name": "stderr",
          "text": [
            "/usr/local/lib/python3.11/dist-packages/sklearn/linear_model/_logistic.py:465: ConvergenceWarning: lbfgs failed to converge (status=1):\n",
            "STOP: TOTAL NO. of ITERATIONS REACHED LIMIT.\n",
            "\n",
            "Increase the number of iterations (max_iter) or scale the data as shown in:\n",
            "    https://scikit-learn.org/stable/modules/preprocessing.html\n",
            "Please also refer to the documentation for alternative solver options:\n",
            "    https://scikit-learn.org/stable/modules/linear_model.html#logistic-regression\n",
            "  n_iter_i = _check_optimize_result(\n"
          ]
        },
        {
          "output_type": "stream",
          "name": "stdout",
          "text": [
            "Training period ended at 2010-06-30 00:00:00 - Prediction for period 2010-07-30 00:00:00: Model 'RandomForest' Accuracy = 1.00\n",
            "Training period ended at 2010-06-30 00:00:00 - Prediction for period 2010-07-30 00:00:00: Model 'GradientBoosting' Accuracy = 0.00\n",
            "Training period ended at 2010-06-30 00:00:00 - Prediction for period 2010-07-30 00:00:00: Model 'LogisticRegression' Accuracy = 0.00\n",
            "Training period ended at 2010-06-30 00:00:00 - Prediction for period 2010-07-30 00:00:00: Model 'SVC_linear' Accuracy = 0.00\n",
            "Training period ended at 2010-06-30 00:00:00 - Prediction for period 2010-07-30 00:00:00: Model 'SVC_rbf' Accuracy = 0.00\n"
          ]
        },
        {
          "output_type": "stream",
          "name": "stderr",
          "text": [
            "/usr/local/lib/python3.11/dist-packages/sklearn/linear_model/_logistic.py:465: ConvergenceWarning: lbfgs failed to converge (status=1):\n",
            "STOP: TOTAL NO. of ITERATIONS REACHED LIMIT.\n",
            "\n",
            "Increase the number of iterations (max_iter) or scale the data as shown in:\n",
            "    https://scikit-learn.org/stable/modules/preprocessing.html\n",
            "Please also refer to the documentation for alternative solver options:\n",
            "    https://scikit-learn.org/stable/modules/linear_model.html#logistic-regression\n",
            "  n_iter_i = _check_optimize_result(\n"
          ]
        },
        {
          "output_type": "stream",
          "name": "stdout",
          "text": [
            "Training period ended at 2010-07-30 00:00:00 - Prediction for period 2010-08-31 00:00:00: Model 'RandomForest' Accuracy = 1.00\n",
            "Training period ended at 2010-07-30 00:00:00 - Prediction for period 2010-08-31 00:00:00: Model 'GradientBoosting' Accuracy = 0.00\n"
          ]
        },
        {
          "output_type": "stream",
          "name": "stderr",
          "text": [
            "/usr/local/lib/python3.11/dist-packages/sklearn/linear_model/_logistic.py:465: ConvergenceWarning: lbfgs failed to converge (status=1):\n",
            "STOP: TOTAL NO. of ITERATIONS REACHED LIMIT.\n",
            "\n",
            "Increase the number of iterations (max_iter) or scale the data as shown in:\n",
            "    https://scikit-learn.org/stable/modules/preprocessing.html\n",
            "Please also refer to the documentation for alternative solver options:\n",
            "    https://scikit-learn.org/stable/modules/linear_model.html#logistic-regression\n",
            "  n_iter_i = _check_optimize_result(\n"
          ]
        },
        {
          "output_type": "stream",
          "name": "stdout",
          "text": [
            "Training period ended at 2010-07-30 00:00:00 - Prediction for period 2010-08-31 00:00:00: Model 'LogisticRegression' Accuracy = 0.00\n",
            "Training period ended at 2010-07-30 00:00:00 - Prediction for period 2010-08-31 00:00:00: Model 'SVC_linear' Accuracy = 0.00\n",
            "Training period ended at 2010-07-30 00:00:00 - Prediction for period 2010-08-31 00:00:00: Model 'SVC_rbf' Accuracy = 0.00\n",
            "Training period ended at 2010-08-31 00:00:00 - Prediction for period 2010-09-30 00:00:00: Model 'RandomForest' Accuracy = 1.00\n",
            "Training period ended at 2010-08-31 00:00:00 - Prediction for period 2010-09-30 00:00:00: Model 'GradientBoosting' Accuracy = 1.00\n"
          ]
        },
        {
          "output_type": "stream",
          "name": "stderr",
          "text": [
            "/usr/local/lib/python3.11/dist-packages/sklearn/linear_model/_logistic.py:465: ConvergenceWarning: lbfgs failed to converge (status=1):\n",
            "STOP: TOTAL NO. of ITERATIONS REACHED LIMIT.\n",
            "\n",
            "Increase the number of iterations (max_iter) or scale the data as shown in:\n",
            "    https://scikit-learn.org/stable/modules/preprocessing.html\n",
            "Please also refer to the documentation for alternative solver options:\n",
            "    https://scikit-learn.org/stable/modules/linear_model.html#logistic-regression\n",
            "  n_iter_i = _check_optimize_result(\n"
          ]
        },
        {
          "output_type": "stream",
          "name": "stdout",
          "text": [
            "Training period ended at 2010-08-31 00:00:00 - Prediction for period 2010-09-30 00:00:00: Model 'LogisticRegression' Accuracy = 0.00\n",
            "Training period ended at 2010-08-31 00:00:00 - Prediction for period 2010-09-30 00:00:00: Model 'SVC_linear' Accuracy = 0.00\n",
            "Training period ended at 2010-08-31 00:00:00 - Prediction for period 2010-09-30 00:00:00: Model 'SVC_rbf' Accuracy = 0.00\n",
            "Training period ended at 2010-09-30 00:00:00 - Prediction for period 2010-10-29 00:00:00: Model 'RandomForest' Accuracy = 0.00\n",
            "Training period ended at 2010-09-30 00:00:00 - Prediction for period 2010-10-29 00:00:00: Model 'GradientBoosting' Accuracy = 0.00\n"
          ]
        },
        {
          "output_type": "stream",
          "name": "stderr",
          "text": [
            "/usr/local/lib/python3.11/dist-packages/sklearn/linear_model/_logistic.py:465: ConvergenceWarning: lbfgs failed to converge (status=1):\n",
            "STOP: TOTAL NO. of ITERATIONS REACHED LIMIT.\n",
            "\n",
            "Increase the number of iterations (max_iter) or scale the data as shown in:\n",
            "    https://scikit-learn.org/stable/modules/preprocessing.html\n",
            "Please also refer to the documentation for alternative solver options:\n",
            "    https://scikit-learn.org/stable/modules/linear_model.html#logistic-regression\n",
            "  n_iter_i = _check_optimize_result(\n"
          ]
        },
        {
          "output_type": "stream",
          "name": "stdout",
          "text": [
            "Training period ended at 2010-09-30 00:00:00 - Prediction for period 2010-10-29 00:00:00: Model 'LogisticRegression' Accuracy = 0.00\n",
            "Training period ended at 2010-09-30 00:00:00 - Prediction for period 2010-10-29 00:00:00: Model 'SVC_linear' Accuracy = 0.00\n",
            "Training period ended at 2010-09-30 00:00:00 - Prediction for period 2010-10-29 00:00:00: Model 'SVC_rbf' Accuracy = 1.00\n",
            "Training period ended at 2010-10-29 00:00:00 - Prediction for period 2010-11-30 00:00:00: Model 'RandomForest' Accuracy = 0.00\n",
            "Training period ended at 2010-10-29 00:00:00 - Prediction for period 2010-11-30 00:00:00: Model 'GradientBoosting' Accuracy = 0.00\n",
            "Training period ended at 2010-10-29 00:00:00 - Prediction for period 2010-11-30 00:00:00: Model 'LogisticRegression' Accuracy = 1.00\n",
            "Training period ended at 2010-10-29 00:00:00 - Prediction for period 2010-11-30 00:00:00: Model 'SVC_linear' Accuracy = 1.00\n",
            "Training period ended at 2010-10-29 00:00:00 - Prediction for period 2010-11-30 00:00:00: Model 'SVC_rbf' Accuracy = 1.00\n"
          ]
        },
        {
          "output_type": "stream",
          "name": "stderr",
          "text": [
            "/usr/local/lib/python3.11/dist-packages/sklearn/linear_model/_logistic.py:465: ConvergenceWarning: lbfgs failed to converge (status=1):\n",
            "STOP: TOTAL NO. of ITERATIONS REACHED LIMIT.\n",
            "\n",
            "Increase the number of iterations (max_iter) or scale the data as shown in:\n",
            "    https://scikit-learn.org/stable/modules/preprocessing.html\n",
            "Please also refer to the documentation for alternative solver options:\n",
            "    https://scikit-learn.org/stable/modules/linear_model.html#logistic-regression\n",
            "  n_iter_i = _check_optimize_result(\n"
          ]
        },
        {
          "output_type": "stream",
          "name": "stdout",
          "text": [
            "Training period ended at 2010-11-30 00:00:00 - Prediction for period 2010-12-31 00:00:00: Model 'RandomForest' Accuracy = 0.00\n",
            "Training period ended at 2010-11-30 00:00:00 - Prediction for period 2010-12-31 00:00:00: Model 'GradientBoosting' Accuracy = 0.00\n",
            "Training period ended at 2010-11-30 00:00:00 - Prediction for period 2010-12-31 00:00:00: Model 'LogisticRegression' Accuracy = 1.00\n",
            "Training period ended at 2010-11-30 00:00:00 - Prediction for period 2010-12-31 00:00:00: Model 'SVC_linear' Accuracy = 1.00\n",
            "Training period ended at 2010-11-30 00:00:00 - Prediction for period 2010-12-31 00:00:00: Model 'SVC_rbf' Accuracy = 1.00\n"
          ]
        },
        {
          "output_type": "stream",
          "name": "stderr",
          "text": [
            "/usr/local/lib/python3.11/dist-packages/sklearn/linear_model/_logistic.py:465: ConvergenceWarning: lbfgs failed to converge (status=1):\n",
            "STOP: TOTAL NO. of ITERATIONS REACHED LIMIT.\n",
            "\n",
            "Increase the number of iterations (max_iter) or scale the data as shown in:\n",
            "    https://scikit-learn.org/stable/modules/preprocessing.html\n",
            "Please also refer to the documentation for alternative solver options:\n",
            "    https://scikit-learn.org/stable/modules/linear_model.html#logistic-regression\n",
            "  n_iter_i = _check_optimize_result(\n"
          ]
        },
        {
          "output_type": "stream",
          "name": "stdout",
          "text": [
            "Training period ended at 2010-12-31 00:00:00 - Prediction for period 2011-01-31 00:00:00: Model 'RandomForest' Accuracy = 1.00\n",
            "Training period ended at 2010-12-31 00:00:00 - Prediction for period 2011-01-31 00:00:00: Model 'GradientBoosting' Accuracy = 1.00\n",
            "Training period ended at 2010-12-31 00:00:00 - Prediction for period 2011-01-31 00:00:00: Model 'LogisticRegression' Accuracy = 1.00\n",
            "Training period ended at 2010-12-31 00:00:00 - Prediction for period 2011-01-31 00:00:00: Model 'SVC_linear' Accuracy = 1.00\n",
            "Training period ended at 2010-12-31 00:00:00 - Prediction for period 2011-01-31 00:00:00: Model 'SVC_rbf' Accuracy = 1.00\n"
          ]
        },
        {
          "output_type": "stream",
          "name": "stderr",
          "text": [
            "/usr/local/lib/python3.11/dist-packages/sklearn/linear_model/_logistic.py:465: ConvergenceWarning: lbfgs failed to converge (status=1):\n",
            "STOP: TOTAL NO. of ITERATIONS REACHED LIMIT.\n",
            "\n",
            "Increase the number of iterations (max_iter) or scale the data as shown in:\n",
            "    https://scikit-learn.org/stable/modules/preprocessing.html\n",
            "Please also refer to the documentation for alternative solver options:\n",
            "    https://scikit-learn.org/stable/modules/linear_model.html#logistic-regression\n",
            "  n_iter_i = _check_optimize_result(\n"
          ]
        },
        {
          "output_type": "stream",
          "name": "stdout",
          "text": [
            "Training period ended at 2011-01-31 00:00:00 - Prediction for period 2011-02-28 00:00:00: Model 'RandomForest' Accuracy = 1.00\n",
            "Training period ended at 2011-01-31 00:00:00 - Prediction for period 2011-02-28 00:00:00: Model 'GradientBoosting' Accuracy = 1.00\n",
            "Training period ended at 2011-01-31 00:00:00 - Prediction for period 2011-02-28 00:00:00: Model 'LogisticRegression' Accuracy = 0.00\n",
            "Training period ended at 2011-01-31 00:00:00 - Prediction for period 2011-02-28 00:00:00: Model 'SVC_linear' Accuracy = 0.00\n",
            "Training period ended at 2011-01-31 00:00:00 - Prediction for period 2011-02-28 00:00:00: Model 'SVC_rbf' Accuracy = 1.00\n"
          ]
        },
        {
          "output_type": "stream",
          "name": "stderr",
          "text": [
            "/usr/local/lib/python3.11/dist-packages/sklearn/linear_model/_logistic.py:465: ConvergenceWarning: lbfgs failed to converge (status=1):\n",
            "STOP: TOTAL NO. of ITERATIONS REACHED LIMIT.\n",
            "\n",
            "Increase the number of iterations (max_iter) or scale the data as shown in:\n",
            "    https://scikit-learn.org/stable/modules/preprocessing.html\n",
            "Please also refer to the documentation for alternative solver options:\n",
            "    https://scikit-learn.org/stable/modules/linear_model.html#logistic-regression\n",
            "  n_iter_i = _check_optimize_result(\n"
          ]
        },
        {
          "output_type": "stream",
          "name": "stdout",
          "text": [
            "Training period ended at 2011-02-28 00:00:00 - Prediction for period 2011-03-31 00:00:00: Model 'RandomForest' Accuracy = 1.00\n",
            "Training period ended at 2011-02-28 00:00:00 - Prediction for period 2011-03-31 00:00:00: Model 'GradientBoosting' Accuracy = 1.00\n",
            "Training period ended at 2011-02-28 00:00:00 - Prediction for period 2011-03-31 00:00:00: Model 'LogisticRegression' Accuracy = 1.00\n",
            "Training period ended at 2011-02-28 00:00:00 - Prediction for period 2011-03-31 00:00:00: Model 'SVC_linear' Accuracy = 1.00\n",
            "Training period ended at 2011-02-28 00:00:00 - Prediction for period 2011-03-31 00:00:00: Model 'SVC_rbf' Accuracy = 1.00\n"
          ]
        },
        {
          "output_type": "stream",
          "name": "stderr",
          "text": [
            "/usr/local/lib/python3.11/dist-packages/sklearn/linear_model/_logistic.py:465: ConvergenceWarning: lbfgs failed to converge (status=1):\n",
            "STOP: TOTAL NO. of ITERATIONS REACHED LIMIT.\n",
            "\n",
            "Increase the number of iterations (max_iter) or scale the data as shown in:\n",
            "    https://scikit-learn.org/stable/modules/preprocessing.html\n",
            "Please also refer to the documentation for alternative solver options:\n",
            "    https://scikit-learn.org/stable/modules/linear_model.html#logistic-regression\n",
            "  n_iter_i = _check_optimize_result(\n"
          ]
        },
        {
          "output_type": "stream",
          "name": "stdout",
          "text": [
            "Training period ended at 2011-03-31 00:00:00 - Prediction for period 2011-04-29 00:00:00: Model 'RandomForest' Accuracy = 1.00\n",
            "Training period ended at 2011-03-31 00:00:00 - Prediction for period 2011-04-29 00:00:00: Model 'GradientBoosting' Accuracy = 1.00\n",
            "Training period ended at 2011-03-31 00:00:00 - Prediction for period 2011-04-29 00:00:00: Model 'LogisticRegression' Accuracy = 1.00\n",
            "Training period ended at 2011-03-31 00:00:00 - Prediction for period 2011-04-29 00:00:00: Model 'SVC_linear' Accuracy = 1.00\n",
            "Training period ended at 2011-03-31 00:00:00 - Prediction for period 2011-04-29 00:00:00: Model 'SVC_rbf' Accuracy = 1.00\n"
          ]
        },
        {
          "output_type": "stream",
          "name": "stderr",
          "text": [
            "/usr/local/lib/python3.11/dist-packages/sklearn/linear_model/_logistic.py:465: ConvergenceWarning: lbfgs failed to converge (status=1):\n",
            "STOP: TOTAL NO. of ITERATIONS REACHED LIMIT.\n",
            "\n",
            "Increase the number of iterations (max_iter) or scale the data as shown in:\n",
            "    https://scikit-learn.org/stable/modules/preprocessing.html\n",
            "Please also refer to the documentation for alternative solver options:\n",
            "    https://scikit-learn.org/stable/modules/linear_model.html#logistic-regression\n",
            "  n_iter_i = _check_optimize_result(\n"
          ]
        },
        {
          "output_type": "stream",
          "name": "stdout",
          "text": [
            "Training period ended at 2011-04-29 00:00:00 - Prediction for period 2011-05-31 00:00:00: Model 'RandomForest' Accuracy = 1.00\n",
            "Training period ended at 2011-04-29 00:00:00 - Prediction for period 2011-05-31 00:00:00: Model 'GradientBoosting' Accuracy = 1.00\n",
            "Training period ended at 2011-04-29 00:00:00 - Prediction for period 2011-05-31 00:00:00: Model 'LogisticRegression' Accuracy = 1.00\n",
            "Training period ended at 2011-04-29 00:00:00 - Prediction for period 2011-05-31 00:00:00: Model 'SVC_linear' Accuracy = 1.00\n",
            "Training period ended at 2011-04-29 00:00:00 - Prediction for period 2011-05-31 00:00:00: Model 'SVC_rbf' Accuracy = 1.00\n"
          ]
        },
        {
          "output_type": "stream",
          "name": "stderr",
          "text": [
            "/usr/local/lib/python3.11/dist-packages/sklearn/linear_model/_logistic.py:465: ConvergenceWarning: lbfgs failed to converge (status=1):\n",
            "STOP: TOTAL NO. of ITERATIONS REACHED LIMIT.\n",
            "\n",
            "Increase the number of iterations (max_iter) or scale the data as shown in:\n",
            "    https://scikit-learn.org/stable/modules/preprocessing.html\n",
            "Please also refer to the documentation for alternative solver options:\n",
            "    https://scikit-learn.org/stable/modules/linear_model.html#logistic-regression\n",
            "  n_iter_i = _check_optimize_result(\n"
          ]
        },
        {
          "output_type": "stream",
          "name": "stdout",
          "text": [
            "Training period ended at 2011-05-31 00:00:00 - Prediction for period 2011-06-30 00:00:00: Model 'RandomForest' Accuracy = 1.00\n",
            "Training period ended at 2011-05-31 00:00:00 - Prediction for period 2011-06-30 00:00:00: Model 'GradientBoosting' Accuracy = 1.00\n",
            "Training period ended at 2011-05-31 00:00:00 - Prediction for period 2011-06-30 00:00:00: Model 'LogisticRegression' Accuracy = 1.00\n",
            "Training period ended at 2011-05-31 00:00:00 - Prediction for period 2011-06-30 00:00:00: Model 'SVC_linear' Accuracy = 1.00\n",
            "Training period ended at 2011-05-31 00:00:00 - Prediction for period 2011-06-30 00:00:00: Model 'SVC_rbf' Accuracy = 1.00\n"
          ]
        },
        {
          "output_type": "stream",
          "name": "stderr",
          "text": [
            "/usr/local/lib/python3.11/dist-packages/sklearn/linear_model/_logistic.py:465: ConvergenceWarning: lbfgs failed to converge (status=1):\n",
            "STOP: TOTAL NO. of ITERATIONS REACHED LIMIT.\n",
            "\n",
            "Increase the number of iterations (max_iter) or scale the data as shown in:\n",
            "    https://scikit-learn.org/stable/modules/preprocessing.html\n",
            "Please also refer to the documentation for alternative solver options:\n",
            "    https://scikit-learn.org/stable/modules/linear_model.html#logistic-regression\n",
            "  n_iter_i = _check_optimize_result(\n"
          ]
        },
        {
          "output_type": "stream",
          "name": "stdout",
          "text": [
            "Training period ended at 2011-06-30 00:00:00 - Prediction for period 2011-07-29 00:00:00: Model 'RandomForest' Accuracy = 0.00\n",
            "Training period ended at 2011-06-30 00:00:00 - Prediction for period 2011-07-29 00:00:00: Model 'GradientBoosting' Accuracy = 0.00\n",
            "Training period ended at 2011-06-30 00:00:00 - Prediction for period 2011-07-29 00:00:00: Model 'LogisticRegression' Accuracy = 1.00\n",
            "Training period ended at 2011-06-30 00:00:00 - Prediction for period 2011-07-29 00:00:00: Model 'SVC_linear' Accuracy = 0.00\n",
            "Training period ended at 2011-06-30 00:00:00 - Prediction for period 2011-07-29 00:00:00: Model 'SVC_rbf' Accuracy = 0.00\n"
          ]
        },
        {
          "output_type": "stream",
          "name": "stderr",
          "text": [
            "/usr/local/lib/python3.11/dist-packages/sklearn/linear_model/_logistic.py:465: ConvergenceWarning: lbfgs failed to converge (status=1):\n",
            "STOP: TOTAL NO. of ITERATIONS REACHED LIMIT.\n",
            "\n",
            "Increase the number of iterations (max_iter) or scale the data as shown in:\n",
            "    https://scikit-learn.org/stable/modules/preprocessing.html\n",
            "Please also refer to the documentation for alternative solver options:\n",
            "    https://scikit-learn.org/stable/modules/linear_model.html#logistic-regression\n",
            "  n_iter_i = _check_optimize_result(\n"
          ]
        },
        {
          "output_type": "stream",
          "name": "stdout",
          "text": [
            "Training period ended at 2011-07-29 00:00:00 - Prediction for period 2011-08-31 00:00:00: Model 'RandomForest' Accuracy = 0.00\n",
            "Training period ended at 2011-07-29 00:00:00 - Prediction for period 2011-08-31 00:00:00: Model 'GradientBoosting' Accuracy = 1.00\n",
            "Training period ended at 2011-07-29 00:00:00 - Prediction for period 2011-08-31 00:00:00: Model 'LogisticRegression' Accuracy = 1.00\n",
            "Training period ended at 2011-07-29 00:00:00 - Prediction for period 2011-08-31 00:00:00: Model 'SVC_linear' Accuracy = 1.00\n",
            "Training period ended at 2011-07-29 00:00:00 - Prediction for period 2011-08-31 00:00:00: Model 'SVC_rbf' Accuracy = 0.00\n"
          ]
        },
        {
          "output_type": "stream",
          "name": "stderr",
          "text": [
            "/usr/local/lib/python3.11/dist-packages/sklearn/linear_model/_logistic.py:465: ConvergenceWarning: lbfgs failed to converge (status=1):\n",
            "STOP: TOTAL NO. of ITERATIONS REACHED LIMIT.\n",
            "\n",
            "Increase the number of iterations (max_iter) or scale the data as shown in:\n",
            "    https://scikit-learn.org/stable/modules/preprocessing.html\n",
            "Please also refer to the documentation for alternative solver options:\n",
            "    https://scikit-learn.org/stable/modules/linear_model.html#logistic-regression\n",
            "  n_iter_i = _check_optimize_result(\n"
          ]
        },
        {
          "output_type": "stream",
          "name": "stdout",
          "text": [
            "Training period ended at 2011-08-31 00:00:00 - Prediction for period 2011-09-30 00:00:00: Model 'RandomForest' Accuracy = 0.00\n",
            "Training period ended at 2011-08-31 00:00:00 - Prediction for period 2011-09-30 00:00:00: Model 'GradientBoosting' Accuracy = 0.00\n",
            "Training period ended at 2011-08-31 00:00:00 - Prediction for period 2011-09-30 00:00:00: Model 'LogisticRegression' Accuracy = 0.00\n",
            "Training period ended at 2011-08-31 00:00:00 - Prediction for period 2011-09-30 00:00:00: Model 'SVC_linear' Accuracy = 0.00\n",
            "Training period ended at 2011-08-31 00:00:00 - Prediction for period 2011-09-30 00:00:00: Model 'SVC_rbf' Accuracy = 0.00\n"
          ]
        },
        {
          "output_type": "stream",
          "name": "stderr",
          "text": [
            "/usr/local/lib/python3.11/dist-packages/sklearn/linear_model/_logistic.py:465: ConvergenceWarning: lbfgs failed to converge (status=1):\n",
            "STOP: TOTAL NO. of ITERATIONS REACHED LIMIT.\n",
            "\n",
            "Increase the number of iterations (max_iter) or scale the data as shown in:\n",
            "    https://scikit-learn.org/stable/modules/preprocessing.html\n",
            "Please also refer to the documentation for alternative solver options:\n",
            "    https://scikit-learn.org/stable/modules/linear_model.html#logistic-regression\n",
            "  n_iter_i = _check_optimize_result(\n"
          ]
        },
        {
          "output_type": "stream",
          "name": "stdout",
          "text": [
            "Training period ended at 2011-09-30 00:00:00 - Prediction for period 2011-10-31 00:00:00: Model 'RandomForest' Accuracy = 1.00\n",
            "Training period ended at 2011-09-30 00:00:00 - Prediction for period 2011-10-31 00:00:00: Model 'GradientBoosting' Accuracy = 0.00\n",
            "Training period ended at 2011-09-30 00:00:00 - Prediction for period 2011-10-31 00:00:00: Model 'LogisticRegression' Accuracy = 1.00\n",
            "Training period ended at 2011-09-30 00:00:00 - Prediction for period 2011-10-31 00:00:00: Model 'SVC_linear' Accuracy = 0.00\n",
            "Training period ended at 2011-09-30 00:00:00 - Prediction for period 2011-10-31 00:00:00: Model 'SVC_rbf' Accuracy = 0.00\n"
          ]
        },
        {
          "output_type": "stream",
          "name": "stderr",
          "text": [
            "/usr/local/lib/python3.11/dist-packages/sklearn/linear_model/_logistic.py:465: ConvergenceWarning: lbfgs failed to converge (status=1):\n",
            "STOP: TOTAL NO. of ITERATIONS REACHED LIMIT.\n",
            "\n",
            "Increase the number of iterations (max_iter) or scale the data as shown in:\n",
            "    https://scikit-learn.org/stable/modules/preprocessing.html\n",
            "Please also refer to the documentation for alternative solver options:\n",
            "    https://scikit-learn.org/stable/modules/linear_model.html#logistic-regression\n",
            "  n_iter_i = _check_optimize_result(\n"
          ]
        },
        {
          "output_type": "stream",
          "name": "stdout",
          "text": [
            "Training period ended at 2011-10-31 00:00:00 - Prediction for period 2011-11-30 00:00:00: Model 'RandomForest' Accuracy = 0.00\n",
            "Training period ended at 2011-10-31 00:00:00 - Prediction for period 2011-11-30 00:00:00: Model 'GradientBoosting' Accuracy = 0.00\n"
          ]
        },
        {
          "output_type": "stream",
          "name": "stderr",
          "text": [
            "/usr/local/lib/python3.11/dist-packages/sklearn/linear_model/_logistic.py:465: ConvergenceWarning: lbfgs failed to converge (status=1):\n",
            "STOP: TOTAL NO. of ITERATIONS REACHED LIMIT.\n",
            "\n",
            "Increase the number of iterations (max_iter) or scale the data as shown in:\n",
            "    https://scikit-learn.org/stable/modules/preprocessing.html\n",
            "Please also refer to the documentation for alternative solver options:\n",
            "    https://scikit-learn.org/stable/modules/linear_model.html#logistic-regression\n",
            "  n_iter_i = _check_optimize_result(\n"
          ]
        },
        {
          "output_type": "stream",
          "name": "stdout",
          "text": [
            "Training period ended at 2011-10-31 00:00:00 - Prediction for period 2011-11-30 00:00:00: Model 'LogisticRegression' Accuracy = 0.00\n",
            "Training period ended at 2011-10-31 00:00:00 - Prediction for period 2011-11-30 00:00:00: Model 'SVC_linear' Accuracy = 0.00\n",
            "Training period ended at 2011-10-31 00:00:00 - Prediction for period 2011-11-30 00:00:00: Model 'SVC_rbf' Accuracy = 1.00\n",
            "Training period ended at 2011-11-30 00:00:00 - Prediction for period 2011-12-30 00:00:00: Model 'RandomForest' Accuracy = 1.00\n",
            "Training period ended at 2011-11-30 00:00:00 - Prediction for period 2011-12-30 00:00:00: Model 'GradientBoosting' Accuracy = 0.00\n"
          ]
        },
        {
          "output_type": "stream",
          "name": "stderr",
          "text": [
            "/usr/local/lib/python3.11/dist-packages/sklearn/linear_model/_logistic.py:465: ConvergenceWarning: lbfgs failed to converge (status=1):\n",
            "STOP: TOTAL NO. of ITERATIONS REACHED LIMIT.\n",
            "\n",
            "Increase the number of iterations (max_iter) or scale the data as shown in:\n",
            "    https://scikit-learn.org/stable/modules/preprocessing.html\n",
            "Please also refer to the documentation for alternative solver options:\n",
            "    https://scikit-learn.org/stable/modules/linear_model.html#logistic-regression\n",
            "  n_iter_i = _check_optimize_result(\n"
          ]
        },
        {
          "output_type": "stream",
          "name": "stdout",
          "text": [
            "Training period ended at 2011-11-30 00:00:00 - Prediction for period 2011-12-30 00:00:00: Model 'LogisticRegression' Accuracy = 1.00\n",
            "Training period ended at 2011-11-30 00:00:00 - Prediction for period 2011-12-30 00:00:00: Model 'SVC_linear' Accuracy = 1.00\n",
            "Training period ended at 2011-11-30 00:00:00 - Prediction for period 2011-12-30 00:00:00: Model 'SVC_rbf' Accuracy = 1.00\n",
            "Training period ended at 2011-12-30 00:00:00 - Prediction for period 2012-01-31 00:00:00: Model 'RandomForest' Accuracy = 1.00\n",
            "Training period ended at 2011-12-30 00:00:00 - Prediction for period 2012-01-31 00:00:00: Model 'GradientBoosting' Accuracy = 0.00\n"
          ]
        },
        {
          "output_type": "stream",
          "name": "stderr",
          "text": [
            "/usr/local/lib/python3.11/dist-packages/sklearn/linear_model/_logistic.py:465: ConvergenceWarning: lbfgs failed to converge (status=1):\n",
            "STOP: TOTAL NO. of ITERATIONS REACHED LIMIT.\n",
            "\n",
            "Increase the number of iterations (max_iter) or scale the data as shown in:\n",
            "    https://scikit-learn.org/stable/modules/preprocessing.html\n",
            "Please also refer to the documentation for alternative solver options:\n",
            "    https://scikit-learn.org/stable/modules/linear_model.html#logistic-regression\n",
            "  n_iter_i = _check_optimize_result(\n"
          ]
        },
        {
          "output_type": "stream",
          "name": "stdout",
          "text": [
            "Training period ended at 2011-12-30 00:00:00 - Prediction for period 2012-01-31 00:00:00: Model 'LogisticRegression' Accuracy = 1.00\n",
            "Training period ended at 2011-12-30 00:00:00 - Prediction for period 2012-01-31 00:00:00: Model 'SVC_linear' Accuracy = 1.00\n",
            "Training period ended at 2011-12-30 00:00:00 - Prediction for period 2012-01-31 00:00:00: Model 'SVC_rbf' Accuracy = 1.00\n",
            "Training period ended at 2012-01-31 00:00:00 - Prediction for period 2012-02-29 00:00:00: Model 'RandomForest' Accuracy = 1.00\n",
            "Training period ended at 2012-01-31 00:00:00 - Prediction for period 2012-02-29 00:00:00: Model 'GradientBoosting' Accuracy = 1.00\n"
          ]
        },
        {
          "output_type": "stream",
          "name": "stderr",
          "text": [
            "/usr/local/lib/python3.11/dist-packages/sklearn/linear_model/_logistic.py:465: ConvergenceWarning: lbfgs failed to converge (status=1):\n",
            "STOP: TOTAL NO. of ITERATIONS REACHED LIMIT.\n",
            "\n",
            "Increase the number of iterations (max_iter) or scale the data as shown in:\n",
            "    https://scikit-learn.org/stable/modules/preprocessing.html\n",
            "Please also refer to the documentation for alternative solver options:\n",
            "    https://scikit-learn.org/stable/modules/linear_model.html#logistic-regression\n",
            "  n_iter_i = _check_optimize_result(\n"
          ]
        },
        {
          "output_type": "stream",
          "name": "stdout",
          "text": [
            "Training period ended at 2012-01-31 00:00:00 - Prediction for period 2012-02-29 00:00:00: Model 'LogisticRegression' Accuracy = 1.00\n",
            "Training period ended at 2012-01-31 00:00:00 - Prediction for period 2012-02-29 00:00:00: Model 'SVC_linear' Accuracy = 1.00\n",
            "Training period ended at 2012-01-31 00:00:00 - Prediction for period 2012-02-29 00:00:00: Model 'SVC_rbf' Accuracy = 1.00\n",
            "Training period ended at 2012-02-29 00:00:00 - Prediction for period 2012-03-30 00:00:00: Model 'RandomForest' Accuracy = 1.00\n",
            "Training period ended at 2012-02-29 00:00:00 - Prediction for period 2012-03-30 00:00:00: Model 'GradientBoosting' Accuracy = 1.00\n",
            "Training period ended at 2012-02-29 00:00:00 - Prediction for period 2012-03-30 00:00:00: Model 'LogisticRegression' Accuracy = 1.00\n",
            "Training period ended at 2012-02-29 00:00:00 - Prediction for period 2012-03-30 00:00:00: Model 'SVC_linear' Accuracy = 1.00\n",
            "Training period ended at 2012-02-29 00:00:00 - Prediction for period 2012-03-30 00:00:00: Model 'SVC_rbf' Accuracy = 1.00\n"
          ]
        },
        {
          "output_type": "stream",
          "name": "stderr",
          "text": [
            "/usr/local/lib/python3.11/dist-packages/sklearn/linear_model/_logistic.py:465: ConvergenceWarning: lbfgs failed to converge (status=1):\n",
            "STOP: TOTAL NO. of ITERATIONS REACHED LIMIT.\n",
            "\n",
            "Increase the number of iterations (max_iter) or scale the data as shown in:\n",
            "    https://scikit-learn.org/stable/modules/preprocessing.html\n",
            "Please also refer to the documentation for alternative solver options:\n",
            "    https://scikit-learn.org/stable/modules/linear_model.html#logistic-regression\n",
            "  n_iter_i = _check_optimize_result(\n"
          ]
        },
        {
          "output_type": "stream",
          "name": "stdout",
          "text": [
            "Training period ended at 2012-03-30 00:00:00 - Prediction for period 2012-04-30 00:00:00: Model 'RandomForest' Accuracy = 1.00\n",
            "Training period ended at 2012-03-30 00:00:00 - Prediction for period 2012-04-30 00:00:00: Model 'GradientBoosting' Accuracy = 1.00\n",
            "Training period ended at 2012-03-30 00:00:00 - Prediction for period 2012-04-30 00:00:00: Model 'LogisticRegression' Accuracy = 1.00\n",
            "Training period ended at 2012-03-30 00:00:00 - Prediction for period 2012-04-30 00:00:00: Model 'SVC_linear' Accuracy = 1.00\n",
            "Training period ended at 2012-03-30 00:00:00 - Prediction for period 2012-04-30 00:00:00: Model 'SVC_rbf' Accuracy = 1.00\n"
          ]
        },
        {
          "output_type": "stream",
          "name": "stderr",
          "text": [
            "/usr/local/lib/python3.11/dist-packages/sklearn/linear_model/_logistic.py:465: ConvergenceWarning: lbfgs failed to converge (status=1):\n",
            "STOP: TOTAL NO. of ITERATIONS REACHED LIMIT.\n",
            "\n",
            "Increase the number of iterations (max_iter) or scale the data as shown in:\n",
            "    https://scikit-learn.org/stable/modules/preprocessing.html\n",
            "Please also refer to the documentation for alternative solver options:\n",
            "    https://scikit-learn.org/stable/modules/linear_model.html#logistic-regression\n",
            "  n_iter_i = _check_optimize_result(\n"
          ]
        },
        {
          "output_type": "stream",
          "name": "stdout",
          "text": [
            "Training period ended at 2012-04-30 00:00:00 - Prediction for period 2012-05-31 00:00:00: Model 'RandomForest' Accuracy = 0.00\n",
            "Training period ended at 2012-04-30 00:00:00 - Prediction for period 2012-05-31 00:00:00: Model 'GradientBoosting' Accuracy = 1.00\n",
            "Training period ended at 2012-04-30 00:00:00 - Prediction for period 2012-05-31 00:00:00: Model 'LogisticRegression' Accuracy = 0.00\n",
            "Training period ended at 2012-04-30 00:00:00 - Prediction for period 2012-05-31 00:00:00: Model 'SVC_linear' Accuracy = 0.00\n",
            "Training period ended at 2012-04-30 00:00:00 - Prediction for period 2012-05-31 00:00:00: Model 'SVC_rbf' Accuracy = 0.00\n"
          ]
        },
        {
          "output_type": "stream",
          "name": "stderr",
          "text": [
            "/usr/local/lib/python3.11/dist-packages/sklearn/linear_model/_logistic.py:465: ConvergenceWarning: lbfgs failed to converge (status=1):\n",
            "STOP: TOTAL NO. of ITERATIONS REACHED LIMIT.\n",
            "\n",
            "Increase the number of iterations (max_iter) or scale the data as shown in:\n",
            "    https://scikit-learn.org/stable/modules/preprocessing.html\n",
            "Please also refer to the documentation for alternative solver options:\n",
            "    https://scikit-learn.org/stable/modules/linear_model.html#logistic-regression\n",
            "  n_iter_i = _check_optimize_result(\n"
          ]
        },
        {
          "output_type": "stream",
          "name": "stdout",
          "text": [
            "Training period ended at 2012-05-31 00:00:00 - Prediction for period 2012-06-29 00:00:00: Model 'RandomForest' Accuracy = 0.00\n",
            "Training period ended at 2012-05-31 00:00:00 - Prediction for period 2012-06-29 00:00:00: Model 'GradientBoosting' Accuracy = 1.00\n",
            "Training period ended at 2012-05-31 00:00:00 - Prediction for period 2012-06-29 00:00:00: Model 'LogisticRegression' Accuracy = 0.00\n"
          ]
        },
        {
          "output_type": "stream",
          "name": "stderr",
          "text": [
            "/usr/local/lib/python3.11/dist-packages/sklearn/linear_model/_logistic.py:465: ConvergenceWarning: lbfgs failed to converge (status=1):\n",
            "STOP: TOTAL NO. of ITERATIONS REACHED LIMIT.\n",
            "\n",
            "Increase the number of iterations (max_iter) or scale the data as shown in:\n",
            "    https://scikit-learn.org/stable/modules/preprocessing.html\n",
            "Please also refer to the documentation for alternative solver options:\n",
            "    https://scikit-learn.org/stable/modules/linear_model.html#logistic-regression\n",
            "  n_iter_i = _check_optimize_result(\n"
          ]
        },
        {
          "output_type": "stream",
          "name": "stdout",
          "text": [
            "Training period ended at 2012-05-31 00:00:00 - Prediction for period 2012-06-29 00:00:00: Model 'SVC_linear' Accuracy = 0.00\n",
            "Training period ended at 2012-05-31 00:00:00 - Prediction for period 2012-06-29 00:00:00: Model 'SVC_rbf' Accuracy = 0.00\n",
            "Training period ended at 2012-06-29 00:00:00 - Prediction for period 2012-07-31 00:00:00: Model 'RandomForest' Accuracy = 1.00\n",
            "Training period ended at 2012-06-29 00:00:00 - Prediction for period 2012-07-31 00:00:00: Model 'GradientBoosting' Accuracy = 1.00\n",
            "Training period ended at 2012-06-29 00:00:00 - Prediction for period 2012-07-31 00:00:00: Model 'LogisticRegression' Accuracy = 1.00\n",
            "Training period ended at 2012-06-29 00:00:00 - Prediction for period 2012-07-31 00:00:00: Model 'SVC_linear' Accuracy = 1.00\n",
            "Training period ended at 2012-06-29 00:00:00 - Prediction for period 2012-07-31 00:00:00: Model 'SVC_rbf' Accuracy = 1.00\n"
          ]
        },
        {
          "output_type": "stream",
          "name": "stderr",
          "text": [
            "/usr/local/lib/python3.11/dist-packages/sklearn/linear_model/_logistic.py:465: ConvergenceWarning: lbfgs failed to converge (status=1):\n",
            "STOP: TOTAL NO. of ITERATIONS REACHED LIMIT.\n",
            "\n",
            "Increase the number of iterations (max_iter) or scale the data as shown in:\n",
            "    https://scikit-learn.org/stable/modules/preprocessing.html\n",
            "Please also refer to the documentation for alternative solver options:\n",
            "    https://scikit-learn.org/stable/modules/linear_model.html#logistic-regression\n",
            "  n_iter_i = _check_optimize_result(\n"
          ]
        },
        {
          "output_type": "stream",
          "name": "stdout",
          "text": [
            "Training period ended at 2012-07-31 00:00:00 - Prediction for period 2012-08-31 00:00:00: Model 'RandomForest' Accuracy = 1.00\n",
            "Training period ended at 2012-07-31 00:00:00 - Prediction for period 2012-08-31 00:00:00: Model 'GradientBoosting' Accuracy = 1.00\n",
            "Training period ended at 2012-07-31 00:00:00 - Prediction for period 2012-08-31 00:00:00: Model 'LogisticRegression' Accuracy = 1.00\n",
            "Training period ended at 2012-07-31 00:00:00 - Prediction for period 2012-08-31 00:00:00: Model 'SVC_linear' Accuracy = 1.00\n",
            "Training period ended at 2012-07-31 00:00:00 - Prediction for period 2012-08-31 00:00:00: Model 'SVC_rbf' Accuracy = 1.00\n"
          ]
        },
        {
          "output_type": "stream",
          "name": "stderr",
          "text": [
            "/usr/local/lib/python3.11/dist-packages/sklearn/linear_model/_logistic.py:465: ConvergenceWarning: lbfgs failed to converge (status=1):\n",
            "STOP: TOTAL NO. of ITERATIONS REACHED LIMIT.\n",
            "\n",
            "Increase the number of iterations (max_iter) or scale the data as shown in:\n",
            "    https://scikit-learn.org/stable/modules/preprocessing.html\n",
            "Please also refer to the documentation for alternative solver options:\n",
            "    https://scikit-learn.org/stable/modules/linear_model.html#logistic-regression\n",
            "  n_iter_i = _check_optimize_result(\n"
          ]
        },
        {
          "output_type": "stream",
          "name": "stdout",
          "text": [
            "Training period ended at 2012-08-31 00:00:00 - Prediction for period 2012-09-28 00:00:00: Model 'RandomForest' Accuracy = 1.00\n",
            "Training period ended at 2012-08-31 00:00:00 - Prediction for period 2012-09-28 00:00:00: Model 'GradientBoosting' Accuracy = 1.00\n",
            "Training period ended at 2012-08-31 00:00:00 - Prediction for period 2012-09-28 00:00:00: Model 'LogisticRegression' Accuracy = 1.00\n",
            "Training period ended at 2012-08-31 00:00:00 - Prediction for period 2012-09-28 00:00:00: Model 'SVC_linear' Accuracy = 1.00\n",
            "Training period ended at 2012-08-31 00:00:00 - Prediction for period 2012-09-28 00:00:00: Model 'SVC_rbf' Accuracy = 1.00\n"
          ]
        },
        {
          "output_type": "stream",
          "name": "stderr",
          "text": [
            "/usr/local/lib/python3.11/dist-packages/sklearn/linear_model/_logistic.py:465: ConvergenceWarning: lbfgs failed to converge (status=1):\n",
            "STOP: TOTAL NO. of ITERATIONS REACHED LIMIT.\n",
            "\n",
            "Increase the number of iterations (max_iter) or scale the data as shown in:\n",
            "    https://scikit-learn.org/stable/modules/preprocessing.html\n",
            "Please also refer to the documentation for alternative solver options:\n",
            "    https://scikit-learn.org/stable/modules/linear_model.html#logistic-regression\n",
            "  n_iter_i = _check_optimize_result(\n"
          ]
        },
        {
          "output_type": "stream",
          "name": "stdout",
          "text": [
            "Training period ended at 2012-09-28 00:00:00 - Prediction for period 2012-10-31 00:00:00: Model 'RandomForest' Accuracy = 1.00\n",
            "Training period ended at 2012-09-28 00:00:00 - Prediction for period 2012-10-31 00:00:00: Model 'GradientBoosting' Accuracy = 1.00\n",
            "Training period ended at 2012-09-28 00:00:00 - Prediction for period 2012-10-31 00:00:00: Model 'LogisticRegression' Accuracy = 1.00\n",
            "Training period ended at 2012-09-28 00:00:00 - Prediction for period 2012-10-31 00:00:00: Model 'SVC_linear' Accuracy = 1.00\n",
            "Training period ended at 2012-09-28 00:00:00 - Prediction for period 2012-10-31 00:00:00: Model 'SVC_rbf' Accuracy = 1.00\n"
          ]
        },
        {
          "output_type": "stream",
          "name": "stderr",
          "text": [
            "/usr/local/lib/python3.11/dist-packages/sklearn/linear_model/_logistic.py:465: ConvergenceWarning: lbfgs failed to converge (status=1):\n",
            "STOP: TOTAL NO. of ITERATIONS REACHED LIMIT.\n",
            "\n",
            "Increase the number of iterations (max_iter) or scale the data as shown in:\n",
            "    https://scikit-learn.org/stable/modules/preprocessing.html\n",
            "Please also refer to the documentation for alternative solver options:\n",
            "    https://scikit-learn.org/stable/modules/linear_model.html#logistic-regression\n",
            "  n_iter_i = _check_optimize_result(\n"
          ]
        },
        {
          "output_type": "stream",
          "name": "stdout",
          "text": [
            "Training period ended at 2012-10-31 00:00:00 - Prediction for period 2012-11-30 00:00:00: Model 'RandomForest' Accuracy = 1.00\n",
            "Training period ended at 2012-10-31 00:00:00 - Prediction for period 2012-11-30 00:00:00: Model 'GradientBoosting' Accuracy = 0.00\n",
            "Training period ended at 2012-10-31 00:00:00 - Prediction for period 2012-11-30 00:00:00: Model 'LogisticRegression' Accuracy = 1.00\n",
            "Training period ended at 2012-10-31 00:00:00 - Prediction for period 2012-11-30 00:00:00: Model 'SVC_linear' Accuracy = 1.00\n",
            "Training period ended at 2012-10-31 00:00:00 - Prediction for period 2012-11-30 00:00:00: Model 'SVC_rbf' Accuracy = 1.00\n"
          ]
        },
        {
          "output_type": "stream",
          "name": "stderr",
          "text": [
            "/usr/local/lib/python3.11/dist-packages/sklearn/linear_model/_logistic.py:465: ConvergenceWarning: lbfgs failed to converge (status=1):\n",
            "STOP: TOTAL NO. of ITERATIONS REACHED LIMIT.\n",
            "\n",
            "Increase the number of iterations (max_iter) or scale the data as shown in:\n",
            "    https://scikit-learn.org/stable/modules/preprocessing.html\n",
            "Please also refer to the documentation for alternative solver options:\n",
            "    https://scikit-learn.org/stable/modules/linear_model.html#logistic-regression\n",
            "  n_iter_i = _check_optimize_result(\n"
          ]
        },
        {
          "output_type": "stream",
          "name": "stdout",
          "text": [
            "Training period ended at 2012-11-30 00:00:00 - Prediction for period 2012-12-31 00:00:00: Model 'RandomForest' Accuracy = 1.00\n",
            "Training period ended at 2012-11-30 00:00:00 - Prediction for period 2012-12-31 00:00:00: Model 'GradientBoosting' Accuracy = 1.00\n",
            "Training period ended at 2012-11-30 00:00:00 - Prediction for period 2012-12-31 00:00:00: Model 'LogisticRegression' Accuracy = 1.00\n",
            "Training period ended at 2012-11-30 00:00:00 - Prediction for period 2012-12-31 00:00:00: Model 'SVC_linear' Accuracy = 1.00\n",
            "Training period ended at 2012-11-30 00:00:00 - Prediction for period 2012-12-31 00:00:00: Model 'SVC_rbf' Accuracy = 1.00\n"
          ]
        },
        {
          "output_type": "stream",
          "name": "stderr",
          "text": [
            "/usr/local/lib/python3.11/dist-packages/sklearn/linear_model/_logistic.py:465: ConvergenceWarning: lbfgs failed to converge (status=1):\n",
            "STOP: TOTAL NO. of ITERATIONS REACHED LIMIT.\n",
            "\n",
            "Increase the number of iterations (max_iter) or scale the data as shown in:\n",
            "    https://scikit-learn.org/stable/modules/preprocessing.html\n",
            "Please also refer to the documentation for alternative solver options:\n",
            "    https://scikit-learn.org/stable/modules/linear_model.html#logistic-regression\n",
            "  n_iter_i = _check_optimize_result(\n"
          ]
        },
        {
          "output_type": "stream",
          "name": "stdout",
          "text": [
            "Training period ended at 2012-12-31 00:00:00 - Prediction for period 2013-01-31 00:00:00: Model 'RandomForest' Accuracy = 1.00\n",
            "Training period ended at 2012-12-31 00:00:00 - Prediction for period 2013-01-31 00:00:00: Model 'GradientBoosting' Accuracy = 1.00\n",
            "Training period ended at 2012-12-31 00:00:00 - Prediction for period 2013-01-31 00:00:00: Model 'LogisticRegression' Accuracy = 1.00\n"
          ]
        },
        {
          "output_type": "stream",
          "name": "stderr",
          "text": [
            "/usr/local/lib/python3.11/dist-packages/sklearn/linear_model/_logistic.py:465: ConvergenceWarning: lbfgs failed to converge (status=1):\n",
            "STOP: TOTAL NO. of ITERATIONS REACHED LIMIT.\n",
            "\n",
            "Increase the number of iterations (max_iter) or scale the data as shown in:\n",
            "    https://scikit-learn.org/stable/modules/preprocessing.html\n",
            "Please also refer to the documentation for alternative solver options:\n",
            "    https://scikit-learn.org/stable/modules/linear_model.html#logistic-regression\n",
            "  n_iter_i = _check_optimize_result(\n"
          ]
        },
        {
          "output_type": "stream",
          "name": "stdout",
          "text": [
            "Training period ended at 2012-12-31 00:00:00 - Prediction for period 2013-01-31 00:00:00: Model 'SVC_linear' Accuracy = 1.00\n",
            "Training period ended at 2012-12-31 00:00:00 - Prediction for period 2013-01-31 00:00:00: Model 'SVC_rbf' Accuracy = 1.00\n",
            "Training period ended at 2013-01-31 00:00:00 - Prediction for period 2013-02-28 00:00:00: Model 'RandomForest' Accuracy = 1.00\n",
            "Training period ended at 2013-01-31 00:00:00 - Prediction for period 2013-02-28 00:00:00: Model 'GradientBoosting' Accuracy = 1.00\n",
            "Training period ended at 2013-01-31 00:00:00 - Prediction for period 2013-02-28 00:00:00: Model 'LogisticRegression' Accuracy = 1.00\n",
            "Training period ended at 2013-01-31 00:00:00 - Prediction for period 2013-02-28 00:00:00: Model 'SVC_linear' Accuracy = 1.00\n",
            "Training period ended at 2013-01-31 00:00:00 - Prediction for period 2013-02-28 00:00:00: Model 'SVC_rbf' Accuracy = 1.00\n"
          ]
        },
        {
          "output_type": "stream",
          "name": "stderr",
          "text": [
            "/usr/local/lib/python3.11/dist-packages/sklearn/linear_model/_logistic.py:465: ConvergenceWarning: lbfgs failed to converge (status=1):\n",
            "STOP: TOTAL NO. of ITERATIONS REACHED LIMIT.\n",
            "\n",
            "Increase the number of iterations (max_iter) or scale the data as shown in:\n",
            "    https://scikit-learn.org/stable/modules/preprocessing.html\n",
            "Please also refer to the documentation for alternative solver options:\n",
            "    https://scikit-learn.org/stable/modules/linear_model.html#logistic-regression\n",
            "  n_iter_i = _check_optimize_result(\n"
          ]
        },
        {
          "output_type": "stream",
          "name": "stdout",
          "text": [
            "Training period ended at 2013-02-28 00:00:00 - Prediction for period 2013-03-29 00:00:00: Model 'RandomForest' Accuracy = 1.00\n",
            "Training period ended at 2013-02-28 00:00:00 - Prediction for period 2013-03-29 00:00:00: Model 'GradientBoosting' Accuracy = 1.00\n",
            "Training period ended at 2013-02-28 00:00:00 - Prediction for period 2013-03-29 00:00:00: Model 'LogisticRegression' Accuracy = 1.00\n",
            "Training period ended at 2013-02-28 00:00:00 - Prediction for period 2013-03-29 00:00:00: Model 'SVC_linear' Accuracy = 1.00\n",
            "Training period ended at 2013-02-28 00:00:00 - Prediction for period 2013-03-29 00:00:00: Model 'SVC_rbf' Accuracy = 1.00\n"
          ]
        },
        {
          "output_type": "stream",
          "name": "stderr",
          "text": [
            "/usr/local/lib/python3.11/dist-packages/sklearn/linear_model/_logistic.py:465: ConvergenceWarning: lbfgs failed to converge (status=1):\n",
            "STOP: TOTAL NO. of ITERATIONS REACHED LIMIT.\n",
            "\n",
            "Increase the number of iterations (max_iter) or scale the data as shown in:\n",
            "    https://scikit-learn.org/stable/modules/preprocessing.html\n",
            "Please also refer to the documentation for alternative solver options:\n",
            "    https://scikit-learn.org/stable/modules/linear_model.html#logistic-regression\n",
            "  n_iter_i = _check_optimize_result(\n"
          ]
        },
        {
          "output_type": "stream",
          "name": "stdout",
          "text": [
            "Training period ended at 2013-03-29 00:00:00 - Prediction for period 2013-04-30 00:00:00: Model 'RandomForest' Accuracy = 1.00\n",
            "Training period ended at 2013-03-29 00:00:00 - Prediction for period 2013-04-30 00:00:00: Model 'GradientBoosting' Accuracy = 1.00\n"
          ]
        },
        {
          "output_type": "stream",
          "name": "stderr",
          "text": [
            "/usr/local/lib/python3.11/dist-packages/sklearn/linear_model/_logistic.py:465: ConvergenceWarning: lbfgs failed to converge (status=1):\n",
            "STOP: TOTAL NO. of ITERATIONS REACHED LIMIT.\n",
            "\n",
            "Increase the number of iterations (max_iter) or scale the data as shown in:\n",
            "    https://scikit-learn.org/stable/modules/preprocessing.html\n",
            "Please also refer to the documentation for alternative solver options:\n",
            "    https://scikit-learn.org/stable/modules/linear_model.html#logistic-regression\n",
            "  n_iter_i = _check_optimize_result(\n"
          ]
        },
        {
          "output_type": "stream",
          "name": "stdout",
          "text": [
            "Training period ended at 2013-03-29 00:00:00 - Prediction for period 2013-04-30 00:00:00: Model 'LogisticRegression' Accuracy = 1.00\n",
            "Training period ended at 2013-03-29 00:00:00 - Prediction for period 2013-04-30 00:00:00: Model 'SVC_linear' Accuracy = 1.00\n",
            "Training period ended at 2013-03-29 00:00:00 - Prediction for period 2013-04-30 00:00:00: Model 'SVC_rbf' Accuracy = 1.00\n",
            "Training period ended at 2013-04-30 00:00:00 - Prediction for period 2013-05-31 00:00:00: Model 'RandomForest' Accuracy = 1.00\n",
            "Training period ended at 2013-04-30 00:00:00 - Prediction for period 2013-05-31 00:00:00: Model 'GradientBoosting' Accuracy = 1.00\n"
          ]
        },
        {
          "output_type": "stream",
          "name": "stderr",
          "text": [
            "/usr/local/lib/python3.11/dist-packages/sklearn/linear_model/_logistic.py:465: ConvergenceWarning: lbfgs failed to converge (status=1):\n",
            "STOP: TOTAL NO. of ITERATIONS REACHED LIMIT.\n",
            "\n",
            "Increase the number of iterations (max_iter) or scale the data as shown in:\n",
            "    https://scikit-learn.org/stable/modules/preprocessing.html\n",
            "Please also refer to the documentation for alternative solver options:\n",
            "    https://scikit-learn.org/stable/modules/linear_model.html#logistic-regression\n",
            "  n_iter_i = _check_optimize_result(\n"
          ]
        },
        {
          "output_type": "stream",
          "name": "stdout",
          "text": [
            "Training period ended at 2013-04-30 00:00:00 - Prediction for period 2013-05-31 00:00:00: Model 'LogisticRegression' Accuracy = 1.00\n",
            "Training period ended at 2013-04-30 00:00:00 - Prediction for period 2013-05-31 00:00:00: Model 'SVC_linear' Accuracy = 1.00\n",
            "Training period ended at 2013-04-30 00:00:00 - Prediction for period 2013-05-31 00:00:00: Model 'SVC_rbf' Accuracy = 1.00\n",
            "Training period ended at 2013-05-31 00:00:00 - Prediction for period 2013-06-28 00:00:00: Model 'RandomForest' Accuracy = 1.00\n",
            "Training period ended at 2013-05-31 00:00:00 - Prediction for period 2013-06-28 00:00:00: Model 'GradientBoosting' Accuracy = 1.00\n"
          ]
        },
        {
          "output_type": "stream",
          "name": "stderr",
          "text": [
            "/usr/local/lib/python3.11/dist-packages/sklearn/linear_model/_logistic.py:465: ConvergenceWarning: lbfgs failed to converge (status=1):\n",
            "STOP: TOTAL NO. of ITERATIONS REACHED LIMIT.\n",
            "\n",
            "Increase the number of iterations (max_iter) or scale the data as shown in:\n",
            "    https://scikit-learn.org/stable/modules/preprocessing.html\n",
            "Please also refer to the documentation for alternative solver options:\n",
            "    https://scikit-learn.org/stable/modules/linear_model.html#logistic-regression\n",
            "  n_iter_i = _check_optimize_result(\n"
          ]
        },
        {
          "output_type": "stream",
          "name": "stdout",
          "text": [
            "Training period ended at 2013-05-31 00:00:00 - Prediction for period 2013-06-28 00:00:00: Model 'LogisticRegression' Accuracy = 1.00\n",
            "Training period ended at 2013-05-31 00:00:00 - Prediction for period 2013-06-28 00:00:00: Model 'SVC_linear' Accuracy = 1.00\n",
            "Training period ended at 2013-05-31 00:00:00 - Prediction for period 2013-06-28 00:00:00: Model 'SVC_rbf' Accuracy = 1.00\n",
            "Training period ended at 2013-06-28 00:00:00 - Prediction for period 2013-07-31 00:00:00: Model 'RandomForest' Accuracy = 1.00\n",
            "Training period ended at 2013-06-28 00:00:00 - Prediction for period 2013-07-31 00:00:00: Model 'GradientBoosting' Accuracy = 1.00\n",
            "Training period ended at 2013-06-28 00:00:00 - Prediction for period 2013-07-31 00:00:00: Model 'LogisticRegression' Accuracy = 1.00\n",
            "Training period ended at 2013-06-28 00:00:00 - Prediction for period 2013-07-31 00:00:00: Model 'SVC_linear' Accuracy = 1.00\n",
            "Training period ended at 2013-06-28 00:00:00 - Prediction for period 2013-07-31 00:00:00: Model 'SVC_rbf' Accuracy = 1.00\n"
          ]
        },
        {
          "output_type": "stream",
          "name": "stderr",
          "text": [
            "/usr/local/lib/python3.11/dist-packages/sklearn/linear_model/_logistic.py:465: ConvergenceWarning: lbfgs failed to converge (status=1):\n",
            "STOP: TOTAL NO. of ITERATIONS REACHED LIMIT.\n",
            "\n",
            "Increase the number of iterations (max_iter) or scale the data as shown in:\n",
            "    https://scikit-learn.org/stable/modules/preprocessing.html\n",
            "Please also refer to the documentation for alternative solver options:\n",
            "    https://scikit-learn.org/stable/modules/linear_model.html#logistic-regression\n",
            "  n_iter_i = _check_optimize_result(\n"
          ]
        },
        {
          "output_type": "stream",
          "name": "stdout",
          "text": [
            "Training period ended at 2013-07-31 00:00:00 - Prediction for period 2013-08-30 00:00:00: Model 'RandomForest' Accuracy = 0.00\n",
            "Training period ended at 2013-07-31 00:00:00 - Prediction for period 2013-08-30 00:00:00: Model 'GradientBoosting' Accuracy = 0.00\n",
            "Training period ended at 2013-07-31 00:00:00 - Prediction for period 2013-08-30 00:00:00: Model 'LogisticRegression' Accuracy = 0.00\n",
            "Training period ended at 2013-07-31 00:00:00 - Prediction for period 2013-08-30 00:00:00: Model 'SVC_linear' Accuracy = 0.00\n",
            "Training period ended at 2013-07-31 00:00:00 - Prediction for period 2013-08-30 00:00:00: Model 'SVC_rbf' Accuracy = 0.00\n"
          ]
        },
        {
          "output_type": "stream",
          "name": "stderr",
          "text": [
            "/usr/local/lib/python3.11/dist-packages/sklearn/linear_model/_logistic.py:465: ConvergenceWarning: lbfgs failed to converge (status=1):\n",
            "STOP: TOTAL NO. of ITERATIONS REACHED LIMIT.\n",
            "\n",
            "Increase the number of iterations (max_iter) or scale the data as shown in:\n",
            "    https://scikit-learn.org/stable/modules/preprocessing.html\n",
            "Please also refer to the documentation for alternative solver options:\n",
            "    https://scikit-learn.org/stable/modules/linear_model.html#logistic-regression\n",
            "  n_iter_i = _check_optimize_result(\n"
          ]
        },
        {
          "output_type": "stream",
          "name": "stdout",
          "text": [
            "Training period ended at 2013-08-30 00:00:00 - Prediction for period 2013-09-30 00:00:00: Model 'RandomForest' Accuracy = 0.00\n",
            "Training period ended at 2013-08-30 00:00:00 - Prediction for period 2013-09-30 00:00:00: Model 'GradientBoosting' Accuracy = 1.00\n",
            "Training period ended at 2013-08-30 00:00:00 - Prediction for period 2013-09-30 00:00:00: Model 'LogisticRegression' Accuracy = 0.00\n",
            "Training period ended at 2013-08-30 00:00:00 - Prediction for period 2013-09-30 00:00:00: Model 'SVC_linear' Accuracy = 0.00\n",
            "Training period ended at 2013-08-30 00:00:00 - Prediction for period 2013-09-30 00:00:00: Model 'SVC_rbf' Accuracy = 0.00\n",
            "Training period ended at 2013-09-30 00:00:00 - Prediction for period 2013-10-31 00:00:00: Model 'RandomForest' Accuracy = 0.00\n",
            "Training period ended at 2013-09-30 00:00:00 - Prediction for period 2013-10-31 00:00:00: Model 'GradientBoosting' Accuracy = 0.00\n",
            "Training period ended at 2013-09-30 00:00:00 - Prediction for period 2013-10-31 00:00:00: Model 'LogisticRegression' Accuracy = 1.00\n",
            "Training period ended at 2013-09-30 00:00:00 - Prediction for period 2013-10-31 00:00:00: Model 'SVC_linear' Accuracy = 1.00\n",
            "Training period ended at 2013-09-30 00:00:00 - Prediction for period 2013-10-31 00:00:00: Model 'SVC_rbf' Accuracy = 1.00\n",
            "Training period ended at 2013-10-31 00:00:00 - Prediction for period 2013-11-29 00:00:00: Model 'RandomForest' Accuracy = 1.00\n",
            "Training period ended at 2013-10-31 00:00:00 - Prediction for period 2013-11-29 00:00:00: Model 'GradientBoosting' Accuracy = 1.00\n",
            "Training period ended at 2013-10-31 00:00:00 - Prediction for period 2013-11-29 00:00:00: Model 'LogisticRegression' Accuracy = 1.00\n",
            "Training period ended at 2013-10-31 00:00:00 - Prediction for period 2013-11-29 00:00:00: Model 'SVC_linear' Accuracy = 1.00\n",
            "Training period ended at 2013-10-31 00:00:00 - Prediction for period 2013-11-29 00:00:00: Model 'SVC_rbf' Accuracy = 1.00\n"
          ]
        },
        {
          "output_type": "stream",
          "name": "stderr",
          "text": [
            "/usr/local/lib/python3.11/dist-packages/sklearn/linear_model/_logistic.py:465: ConvergenceWarning: lbfgs failed to converge (status=1):\n",
            "STOP: TOTAL NO. of ITERATIONS REACHED LIMIT.\n",
            "\n",
            "Increase the number of iterations (max_iter) or scale the data as shown in:\n",
            "    https://scikit-learn.org/stable/modules/preprocessing.html\n",
            "Please also refer to the documentation for alternative solver options:\n",
            "    https://scikit-learn.org/stable/modules/linear_model.html#logistic-regression\n",
            "  n_iter_i = _check_optimize_result(\n"
          ]
        },
        {
          "output_type": "stream",
          "name": "stdout",
          "text": [
            "Training period ended at 2013-11-29 00:00:00 - Prediction for period 2013-12-31 00:00:00: Model 'RandomForest' Accuracy = 1.00\n",
            "Training period ended at 2013-11-29 00:00:00 - Prediction for period 2013-12-31 00:00:00: Model 'GradientBoosting' Accuracy = 0.00\n",
            "Training period ended at 2013-11-29 00:00:00 - Prediction for period 2013-12-31 00:00:00: Model 'LogisticRegression' Accuracy = 1.00\n",
            "Training period ended at 2013-11-29 00:00:00 - Prediction for period 2013-12-31 00:00:00: Model 'SVC_linear' Accuracy = 1.00\n",
            "Training period ended at 2013-11-29 00:00:00 - Prediction for period 2013-12-31 00:00:00: Model 'SVC_rbf' Accuracy = 1.00\n"
          ]
        },
        {
          "output_type": "stream",
          "name": "stderr",
          "text": [
            "/usr/local/lib/python3.11/dist-packages/sklearn/linear_model/_logistic.py:465: ConvergenceWarning: lbfgs failed to converge (status=1):\n",
            "STOP: TOTAL NO. of ITERATIONS REACHED LIMIT.\n",
            "\n",
            "Increase the number of iterations (max_iter) or scale the data as shown in:\n",
            "    https://scikit-learn.org/stable/modules/preprocessing.html\n",
            "Please also refer to the documentation for alternative solver options:\n",
            "    https://scikit-learn.org/stable/modules/linear_model.html#logistic-regression\n",
            "  n_iter_i = _check_optimize_result(\n"
          ]
        },
        {
          "output_type": "stream",
          "name": "stdout",
          "text": [
            "Training period ended at 2013-12-31 00:00:00 - Prediction for period 2014-01-31 00:00:00: Model 'RandomForest' Accuracy = 1.00\n",
            "Training period ended at 2013-12-31 00:00:00 - Prediction for period 2014-01-31 00:00:00: Model 'GradientBoosting' Accuracy = 1.00\n",
            "Training period ended at 2013-12-31 00:00:00 - Prediction for period 2014-01-31 00:00:00: Model 'LogisticRegression' Accuracy = 1.00\n",
            "Training period ended at 2013-12-31 00:00:00 - Prediction for period 2014-01-31 00:00:00: Model 'SVC_linear' Accuracy = 1.00\n",
            "Training period ended at 2013-12-31 00:00:00 - Prediction for period 2014-01-31 00:00:00: Model 'SVC_rbf' Accuracy = 1.00\n",
            "Training period ended at 2014-01-31 00:00:00 - Prediction for period 2014-02-28 00:00:00: Model 'RandomForest' Accuracy = 1.00\n",
            "Training period ended at 2014-01-31 00:00:00 - Prediction for period 2014-02-28 00:00:00: Model 'GradientBoosting' Accuracy = 1.00\n",
            "Training period ended at 2014-01-31 00:00:00 - Prediction for period 2014-02-28 00:00:00: Model 'LogisticRegression' Accuracy = 1.00\n",
            "Training period ended at 2014-01-31 00:00:00 - Prediction for period 2014-02-28 00:00:00: Model 'SVC_linear' Accuracy = 1.00\n",
            "Training period ended at 2014-01-31 00:00:00 - Prediction for period 2014-02-28 00:00:00: Model 'SVC_rbf' Accuracy = 1.00\n",
            "Training period ended at 2014-02-28 00:00:00 - Prediction for period 2014-03-31 00:00:00: Model 'RandomForest' Accuracy = 0.00\n",
            "Training period ended at 2014-02-28 00:00:00 - Prediction for period 2014-03-31 00:00:00: Model 'GradientBoosting' Accuracy = 0.00\n",
            "Training period ended at 2014-02-28 00:00:00 - Prediction for period 2014-03-31 00:00:00: Model 'LogisticRegression' Accuracy = 0.00\n",
            "Training period ended at 2014-02-28 00:00:00 - Prediction for period 2014-03-31 00:00:00: Model 'SVC_linear' Accuracy = 0.00\n",
            "Training period ended at 2014-02-28 00:00:00 - Prediction for period 2014-03-31 00:00:00: Model 'SVC_rbf' Accuracy = 0.00\n",
            "Training period ended at 2014-03-31 00:00:00 - Prediction for period 2014-04-30 00:00:00: Model 'RandomForest' Accuracy = 1.00\n",
            "Training period ended at 2014-03-31 00:00:00 - Prediction for period 2014-04-30 00:00:00: Model 'GradientBoosting' Accuracy = 1.00\n",
            "Training period ended at 2014-03-31 00:00:00 - Prediction for period 2014-04-30 00:00:00: Model 'LogisticRegression' Accuracy = 0.00\n"
          ]
        },
        {
          "output_type": "stream",
          "name": "stderr",
          "text": [
            "/usr/local/lib/python3.11/dist-packages/sklearn/linear_model/_logistic.py:465: ConvergenceWarning: lbfgs failed to converge (status=1):\n",
            "STOP: TOTAL NO. of ITERATIONS REACHED LIMIT.\n",
            "\n",
            "Increase the number of iterations (max_iter) or scale the data as shown in:\n",
            "    https://scikit-learn.org/stable/modules/preprocessing.html\n",
            "Please also refer to the documentation for alternative solver options:\n",
            "    https://scikit-learn.org/stable/modules/linear_model.html#logistic-regression\n",
            "  n_iter_i = _check_optimize_result(\n"
          ]
        },
        {
          "output_type": "stream",
          "name": "stdout",
          "text": [
            "Training period ended at 2014-03-31 00:00:00 - Prediction for period 2014-04-30 00:00:00: Model 'SVC_linear' Accuracy = 0.00\n",
            "Training period ended at 2014-03-31 00:00:00 - Prediction for period 2014-04-30 00:00:00: Model 'SVC_rbf' Accuracy = 0.00\n",
            "Training period ended at 2014-04-30 00:00:00 - Prediction for period 2014-05-30 00:00:00: Model 'RandomForest' Accuracy = 0.00\n",
            "Training period ended at 2014-04-30 00:00:00 - Prediction for period 2014-05-30 00:00:00: Model 'GradientBoosting' Accuracy = 0.00\n",
            "Training period ended at 2014-04-30 00:00:00 - Prediction for period 2014-05-30 00:00:00: Model 'LogisticRegression' Accuracy = 1.00\n",
            "Training period ended at 2014-04-30 00:00:00 - Prediction for period 2014-05-30 00:00:00: Model 'SVC_linear' Accuracy = 1.00\n",
            "Training period ended at 2014-04-30 00:00:00 - Prediction for period 2014-05-30 00:00:00: Model 'SVC_rbf' Accuracy = 1.00\n"
          ]
        },
        {
          "output_type": "stream",
          "name": "stderr",
          "text": [
            "/usr/local/lib/python3.11/dist-packages/sklearn/linear_model/_logistic.py:465: ConvergenceWarning: lbfgs failed to converge (status=1):\n",
            "STOP: TOTAL NO. of ITERATIONS REACHED LIMIT.\n",
            "\n",
            "Increase the number of iterations (max_iter) or scale the data as shown in:\n",
            "    https://scikit-learn.org/stable/modules/preprocessing.html\n",
            "Please also refer to the documentation for alternative solver options:\n",
            "    https://scikit-learn.org/stable/modules/linear_model.html#logistic-regression\n",
            "  n_iter_i = _check_optimize_result(\n"
          ]
        },
        {
          "output_type": "stream",
          "name": "stdout",
          "text": [
            "Training period ended at 2014-05-30 00:00:00 - Prediction for period 2014-06-30 00:00:00: Model 'RandomForest' Accuracy = 1.00\n",
            "Training period ended at 2014-05-30 00:00:00 - Prediction for period 2014-06-30 00:00:00: Model 'GradientBoosting' Accuracy = 1.00\n",
            "Training period ended at 2014-05-30 00:00:00 - Prediction for period 2014-06-30 00:00:00: Model 'LogisticRegression' Accuracy = 1.00\n",
            "Training period ended at 2014-05-30 00:00:00 - Prediction for period 2014-06-30 00:00:00: Model 'SVC_linear' Accuracy = 1.00\n",
            "Training period ended at 2014-05-30 00:00:00 - Prediction for period 2014-06-30 00:00:00: Model 'SVC_rbf' Accuracy = 1.00\n"
          ]
        },
        {
          "output_type": "stream",
          "name": "stderr",
          "text": [
            "/usr/local/lib/python3.11/dist-packages/sklearn/linear_model/_logistic.py:465: ConvergenceWarning: lbfgs failed to converge (status=1):\n",
            "STOP: TOTAL NO. of ITERATIONS REACHED LIMIT.\n",
            "\n",
            "Increase the number of iterations (max_iter) or scale the data as shown in:\n",
            "    https://scikit-learn.org/stable/modules/preprocessing.html\n",
            "Please also refer to the documentation for alternative solver options:\n",
            "    https://scikit-learn.org/stable/modules/linear_model.html#logistic-regression\n",
            "  n_iter_i = _check_optimize_result(\n"
          ]
        },
        {
          "output_type": "stream",
          "name": "stdout",
          "text": [
            "Training period ended at 2014-06-30 00:00:00 - Prediction for period 2014-07-31 00:00:00: Model 'RandomForest' Accuracy = 1.00\n",
            "Training period ended at 2014-06-30 00:00:00 - Prediction for period 2014-07-31 00:00:00: Model 'GradientBoosting' Accuracy = 1.00\n",
            "Training period ended at 2014-06-30 00:00:00 - Prediction for period 2014-07-31 00:00:00: Model 'LogisticRegression' Accuracy = 1.00\n",
            "Training period ended at 2014-06-30 00:00:00 - Prediction for period 2014-07-31 00:00:00: Model 'SVC_linear' Accuracy = 1.00\n",
            "Training period ended at 2014-06-30 00:00:00 - Prediction for period 2014-07-31 00:00:00: Model 'SVC_rbf' Accuracy = 1.00\n"
          ]
        },
        {
          "output_type": "stream",
          "name": "stderr",
          "text": [
            "/usr/local/lib/python3.11/dist-packages/sklearn/linear_model/_logistic.py:465: ConvergenceWarning: lbfgs failed to converge (status=1):\n",
            "STOP: TOTAL NO. of ITERATIONS REACHED LIMIT.\n",
            "\n",
            "Increase the number of iterations (max_iter) or scale the data as shown in:\n",
            "    https://scikit-learn.org/stable/modules/preprocessing.html\n",
            "Please also refer to the documentation for alternative solver options:\n",
            "    https://scikit-learn.org/stable/modules/linear_model.html#logistic-regression\n",
            "  n_iter_i = _check_optimize_result(\n"
          ]
        },
        {
          "output_type": "stream",
          "name": "stdout",
          "text": [
            "Training period ended at 2014-07-31 00:00:00 - Prediction for period 2014-08-29 00:00:00: Model 'RandomForest' Accuracy = 1.00\n",
            "Training period ended at 2014-07-31 00:00:00 - Prediction for period 2014-08-29 00:00:00: Model 'GradientBoosting' Accuracy = 1.00\n"
          ]
        },
        {
          "output_type": "stream",
          "name": "stderr",
          "text": [
            "/usr/local/lib/python3.11/dist-packages/sklearn/linear_model/_logistic.py:465: ConvergenceWarning: lbfgs failed to converge (status=1):\n",
            "STOP: TOTAL NO. of ITERATIONS REACHED LIMIT.\n",
            "\n",
            "Increase the number of iterations (max_iter) or scale the data as shown in:\n",
            "    https://scikit-learn.org/stable/modules/preprocessing.html\n",
            "Please also refer to the documentation for alternative solver options:\n",
            "    https://scikit-learn.org/stable/modules/linear_model.html#logistic-regression\n",
            "  n_iter_i = _check_optimize_result(\n"
          ]
        },
        {
          "output_type": "stream",
          "name": "stdout",
          "text": [
            "Training period ended at 2014-07-31 00:00:00 - Prediction for period 2014-08-29 00:00:00: Model 'LogisticRegression' Accuracy = 1.00\n",
            "Training period ended at 2014-07-31 00:00:00 - Prediction for period 2014-08-29 00:00:00: Model 'SVC_linear' Accuracy = 1.00\n",
            "Training period ended at 2014-07-31 00:00:00 - Prediction for period 2014-08-29 00:00:00: Model 'SVC_rbf' Accuracy = 1.00\n",
            "Training period ended at 2014-08-29 00:00:00 - Prediction for period 2014-09-30 00:00:00: Model 'RandomForest' Accuracy = 1.00\n",
            "Training period ended at 2014-08-29 00:00:00 - Prediction for period 2014-09-30 00:00:00: Model 'GradientBoosting' Accuracy = 1.00\n"
          ]
        },
        {
          "output_type": "stream",
          "name": "stderr",
          "text": [
            "/usr/local/lib/python3.11/dist-packages/sklearn/linear_model/_logistic.py:465: ConvergenceWarning: lbfgs failed to converge (status=1):\n",
            "STOP: TOTAL NO. of ITERATIONS REACHED LIMIT.\n",
            "\n",
            "Increase the number of iterations (max_iter) or scale the data as shown in:\n",
            "    https://scikit-learn.org/stable/modules/preprocessing.html\n",
            "Please also refer to the documentation for alternative solver options:\n",
            "    https://scikit-learn.org/stable/modules/linear_model.html#logistic-regression\n",
            "  n_iter_i = _check_optimize_result(\n"
          ]
        },
        {
          "output_type": "stream",
          "name": "stdout",
          "text": [
            "Training period ended at 2014-08-29 00:00:00 - Prediction for period 2014-09-30 00:00:00: Model 'LogisticRegression' Accuracy = 1.00\n",
            "Training period ended at 2014-08-29 00:00:00 - Prediction for period 2014-09-30 00:00:00: Model 'SVC_linear' Accuracy = 1.00\n",
            "Training period ended at 2014-08-29 00:00:00 - Prediction for period 2014-09-30 00:00:00: Model 'SVC_rbf' Accuracy = 1.00\n",
            "Training period ended at 2014-09-30 00:00:00 - Prediction for period 2014-10-31 00:00:00: Model 'RandomForest' Accuracy = 1.00\n",
            "Training period ended at 2014-09-30 00:00:00 - Prediction for period 2014-10-31 00:00:00: Model 'GradientBoosting' Accuracy = 1.00\n"
          ]
        },
        {
          "output_type": "stream",
          "name": "stderr",
          "text": [
            "/usr/local/lib/python3.11/dist-packages/sklearn/linear_model/_logistic.py:465: ConvergenceWarning: lbfgs failed to converge (status=1):\n",
            "STOP: TOTAL NO. of ITERATIONS REACHED LIMIT.\n",
            "\n",
            "Increase the number of iterations (max_iter) or scale the data as shown in:\n",
            "    https://scikit-learn.org/stable/modules/preprocessing.html\n",
            "Please also refer to the documentation for alternative solver options:\n",
            "    https://scikit-learn.org/stable/modules/linear_model.html#logistic-regression\n",
            "  n_iter_i = _check_optimize_result(\n"
          ]
        },
        {
          "output_type": "stream",
          "name": "stdout",
          "text": [
            "Training period ended at 2014-09-30 00:00:00 - Prediction for period 2014-10-31 00:00:00: Model 'LogisticRegression' Accuracy = 1.00\n",
            "Training period ended at 2014-09-30 00:00:00 - Prediction for period 2014-10-31 00:00:00: Model 'SVC_linear' Accuracy = 1.00\n",
            "Training period ended at 2014-09-30 00:00:00 - Prediction for period 2014-10-31 00:00:00: Model 'SVC_rbf' Accuracy = 1.00\n",
            "Training period ended at 2014-10-31 00:00:00 - Prediction for period 2014-11-28 00:00:00: Model 'RandomForest' Accuracy = 1.00\n",
            "Training period ended at 2014-10-31 00:00:00 - Prediction for period 2014-11-28 00:00:00: Model 'GradientBoosting' Accuracy = 1.00\n",
            "Training period ended at 2014-10-31 00:00:00 - Prediction for period 2014-11-28 00:00:00: Model 'LogisticRegression' Accuracy = 1.00\n",
            "Training period ended at 2014-10-31 00:00:00 - Prediction for period 2014-11-28 00:00:00: Model 'SVC_linear' Accuracy = 1.00\n",
            "Training period ended at 2014-10-31 00:00:00 - Prediction for period 2014-11-28 00:00:00: Model 'SVC_rbf' Accuracy = 1.00\n"
          ]
        },
        {
          "output_type": "stream",
          "name": "stderr",
          "text": [
            "/usr/local/lib/python3.11/dist-packages/sklearn/linear_model/_logistic.py:465: ConvergenceWarning: lbfgs failed to converge (status=1):\n",
            "STOP: TOTAL NO. of ITERATIONS REACHED LIMIT.\n",
            "\n",
            "Increase the number of iterations (max_iter) or scale the data as shown in:\n",
            "    https://scikit-learn.org/stable/modules/preprocessing.html\n",
            "Please also refer to the documentation for alternative solver options:\n",
            "    https://scikit-learn.org/stable/modules/linear_model.html#logistic-regression\n",
            "  n_iter_i = _check_optimize_result(\n"
          ]
        },
        {
          "output_type": "stream",
          "name": "stdout",
          "text": [
            "Training period ended at 2014-11-28 00:00:00 - Prediction for period 2014-12-31 00:00:00: Model 'RandomForest' Accuracy = 1.00\n",
            "Training period ended at 2014-11-28 00:00:00 - Prediction for period 2014-12-31 00:00:00: Model 'GradientBoosting' Accuracy = 0.00\n"
          ]
        },
        {
          "output_type": "stream",
          "name": "stderr",
          "text": [
            "/usr/local/lib/python3.11/dist-packages/sklearn/linear_model/_logistic.py:465: ConvergenceWarning: lbfgs failed to converge (status=1):\n",
            "STOP: TOTAL NO. of ITERATIONS REACHED LIMIT.\n",
            "\n",
            "Increase the number of iterations (max_iter) or scale the data as shown in:\n",
            "    https://scikit-learn.org/stable/modules/preprocessing.html\n",
            "Please also refer to the documentation for alternative solver options:\n",
            "    https://scikit-learn.org/stable/modules/linear_model.html#logistic-regression\n",
            "  n_iter_i = _check_optimize_result(\n"
          ]
        },
        {
          "output_type": "stream",
          "name": "stdout",
          "text": [
            "Training period ended at 2014-11-28 00:00:00 - Prediction for period 2014-12-31 00:00:00: Model 'LogisticRegression' Accuracy = 1.00\n",
            "Training period ended at 2014-11-28 00:00:00 - Prediction for period 2014-12-31 00:00:00: Model 'SVC_linear' Accuracy = 1.00\n",
            "Training period ended at 2014-11-28 00:00:00 - Prediction for period 2014-12-31 00:00:00: Model 'SVC_rbf' Accuracy = 1.00\n",
            "Training period ended at 2014-12-31 00:00:00 - Prediction for period 2015-01-30 00:00:00: Model 'RandomForest' Accuracy = 1.00\n",
            "Training period ended at 2014-12-31 00:00:00 - Prediction for period 2015-01-30 00:00:00: Model 'GradientBoosting' Accuracy = 1.00\n",
            "Training period ended at 2014-12-31 00:00:00 - Prediction for period 2015-01-30 00:00:00: Model 'LogisticRegression' Accuracy = 1.00\n",
            "Training period ended at 2014-12-31 00:00:00 - Prediction for period 2015-01-30 00:00:00: Model 'SVC_linear' Accuracy = 1.00\n",
            "Training period ended at 2014-12-31 00:00:00 - Prediction for period 2015-01-30 00:00:00: Model 'SVC_rbf' Accuracy = 1.00\n"
          ]
        },
        {
          "output_type": "stream",
          "name": "stderr",
          "text": [
            "/usr/local/lib/python3.11/dist-packages/sklearn/linear_model/_logistic.py:465: ConvergenceWarning: lbfgs failed to converge (status=1):\n",
            "STOP: TOTAL NO. of ITERATIONS REACHED LIMIT.\n",
            "\n",
            "Increase the number of iterations (max_iter) or scale the data as shown in:\n",
            "    https://scikit-learn.org/stable/modules/preprocessing.html\n",
            "Please also refer to the documentation for alternative solver options:\n",
            "    https://scikit-learn.org/stable/modules/linear_model.html#logistic-regression\n",
            "  n_iter_i = _check_optimize_result(\n"
          ]
        },
        {
          "output_type": "stream",
          "name": "stdout",
          "text": [
            "Training period ended at 2015-01-30 00:00:00 - Prediction for period 2015-02-27 00:00:00: Model 'RandomForest' Accuracy = 1.00\n",
            "Training period ended at 2015-01-30 00:00:00 - Prediction for period 2015-02-27 00:00:00: Model 'GradientBoosting' Accuracy = 1.00\n",
            "Training period ended at 2015-01-30 00:00:00 - Prediction for period 2015-02-27 00:00:00: Model 'LogisticRegression' Accuracy = 1.00\n",
            "Training period ended at 2015-01-30 00:00:00 - Prediction for period 2015-02-27 00:00:00: Model 'SVC_linear' Accuracy = 1.00\n",
            "Training period ended at 2015-01-30 00:00:00 - Prediction for period 2015-02-27 00:00:00: Model 'SVC_rbf' Accuracy = 1.00\n"
          ]
        },
        {
          "output_type": "stream",
          "name": "stderr",
          "text": [
            "/usr/local/lib/python3.11/dist-packages/sklearn/linear_model/_logistic.py:465: ConvergenceWarning: lbfgs failed to converge (status=1):\n",
            "STOP: TOTAL NO. of ITERATIONS REACHED LIMIT.\n",
            "\n",
            "Increase the number of iterations (max_iter) or scale the data as shown in:\n",
            "    https://scikit-learn.org/stable/modules/preprocessing.html\n",
            "Please also refer to the documentation for alternative solver options:\n",
            "    https://scikit-learn.org/stable/modules/linear_model.html#logistic-regression\n",
            "  n_iter_i = _check_optimize_result(\n"
          ]
        },
        {
          "output_type": "stream",
          "name": "stdout",
          "text": [
            "Training period ended at 2015-02-27 00:00:00 - Prediction for period 2015-03-31 00:00:00: Model 'RandomForest' Accuracy = 1.00\n",
            "Training period ended at 2015-02-27 00:00:00 - Prediction for period 2015-03-31 00:00:00: Model 'GradientBoosting' Accuracy = 1.00\n",
            "Training period ended at 2015-02-27 00:00:00 - Prediction for period 2015-03-31 00:00:00: Model 'LogisticRegression' Accuracy = 1.00\n",
            "Training period ended at 2015-02-27 00:00:00 - Prediction for period 2015-03-31 00:00:00: Model 'SVC_linear' Accuracy = 1.00\n",
            "Training period ended at 2015-02-27 00:00:00 - Prediction for period 2015-03-31 00:00:00: Model 'SVC_rbf' Accuracy = 1.00\n"
          ]
        },
        {
          "output_type": "stream",
          "name": "stderr",
          "text": [
            "/usr/local/lib/python3.11/dist-packages/sklearn/linear_model/_logistic.py:465: ConvergenceWarning: lbfgs failed to converge (status=1):\n",
            "STOP: TOTAL NO. of ITERATIONS REACHED LIMIT.\n",
            "\n",
            "Increase the number of iterations (max_iter) or scale the data as shown in:\n",
            "    https://scikit-learn.org/stable/modules/preprocessing.html\n",
            "Please also refer to the documentation for alternative solver options:\n",
            "    https://scikit-learn.org/stable/modules/linear_model.html#logistic-regression\n",
            "  n_iter_i = _check_optimize_result(\n"
          ]
        },
        {
          "output_type": "stream",
          "name": "stdout",
          "text": [
            "Training period ended at 2015-03-31 00:00:00 - Prediction for period 2015-04-30 00:00:00: Model 'RandomForest' Accuracy = 1.00\n",
            "Training period ended at 2015-03-31 00:00:00 - Prediction for period 2015-04-30 00:00:00: Model 'GradientBoosting' Accuracy = 1.00\n",
            "Training period ended at 2015-03-31 00:00:00 - Prediction for period 2015-04-30 00:00:00: Model 'LogisticRegression' Accuracy = 1.00\n",
            "Training period ended at 2015-03-31 00:00:00 - Prediction for period 2015-04-30 00:00:00: Model 'SVC_linear' Accuracy = 1.00\n",
            "Training period ended at 2015-03-31 00:00:00 - Prediction for period 2015-04-30 00:00:00: Model 'SVC_rbf' Accuracy = 1.00\n"
          ]
        },
        {
          "output_type": "stream",
          "name": "stderr",
          "text": [
            "/usr/local/lib/python3.11/dist-packages/sklearn/linear_model/_logistic.py:465: ConvergenceWarning: lbfgs failed to converge (status=1):\n",
            "STOP: TOTAL NO. of ITERATIONS REACHED LIMIT.\n",
            "\n",
            "Increase the number of iterations (max_iter) or scale the data as shown in:\n",
            "    https://scikit-learn.org/stable/modules/preprocessing.html\n",
            "Please also refer to the documentation for alternative solver options:\n",
            "    https://scikit-learn.org/stable/modules/linear_model.html#logistic-regression\n",
            "  n_iter_i = _check_optimize_result(\n"
          ]
        },
        {
          "output_type": "stream",
          "name": "stdout",
          "text": [
            "Training period ended at 2015-04-30 00:00:00 - Prediction for period 2015-05-29 00:00:00: Model 'RandomForest' Accuracy = 1.00\n",
            "Training period ended at 2015-04-30 00:00:00 - Prediction for period 2015-05-29 00:00:00: Model 'GradientBoosting' Accuracy = 1.00\n",
            "Training period ended at 2015-04-30 00:00:00 - Prediction for period 2015-05-29 00:00:00: Model 'LogisticRegression' Accuracy = 1.00\n",
            "Training period ended at 2015-04-30 00:00:00 - Prediction for period 2015-05-29 00:00:00: Model 'SVC_linear' Accuracy = 1.00\n",
            "Training period ended at 2015-04-30 00:00:00 - Prediction for period 2015-05-29 00:00:00: Model 'SVC_rbf' Accuracy = 1.00\n"
          ]
        },
        {
          "output_type": "stream",
          "name": "stderr",
          "text": [
            "/usr/local/lib/python3.11/dist-packages/sklearn/linear_model/_logistic.py:465: ConvergenceWarning: lbfgs failed to converge (status=1):\n",
            "STOP: TOTAL NO. of ITERATIONS REACHED LIMIT.\n",
            "\n",
            "Increase the number of iterations (max_iter) or scale the data as shown in:\n",
            "    https://scikit-learn.org/stable/modules/preprocessing.html\n",
            "Please also refer to the documentation for alternative solver options:\n",
            "    https://scikit-learn.org/stable/modules/linear_model.html#logistic-regression\n",
            "  n_iter_i = _check_optimize_result(\n"
          ]
        },
        {
          "output_type": "stream",
          "name": "stdout",
          "text": [
            "Training period ended at 2015-05-29 00:00:00 - Prediction for period 2015-06-30 00:00:00: Model 'RandomForest' Accuracy = 1.00\n",
            "Training period ended at 2015-05-29 00:00:00 - Prediction for period 2015-06-30 00:00:00: Model 'GradientBoosting' Accuracy = 1.00\n",
            "Training period ended at 2015-05-29 00:00:00 - Prediction for period 2015-06-30 00:00:00: Model 'LogisticRegression' Accuracy = 1.00\n",
            "Training period ended at 2015-05-29 00:00:00 - Prediction for period 2015-06-30 00:00:00: Model 'SVC_linear' Accuracy = 1.00\n",
            "Training period ended at 2015-05-29 00:00:00 - Prediction for period 2015-06-30 00:00:00: Model 'SVC_rbf' Accuracy = 1.00\n"
          ]
        },
        {
          "output_type": "stream",
          "name": "stderr",
          "text": [
            "/usr/local/lib/python3.11/dist-packages/sklearn/linear_model/_logistic.py:465: ConvergenceWarning: lbfgs failed to converge (status=1):\n",
            "STOP: TOTAL NO. of ITERATIONS REACHED LIMIT.\n",
            "\n",
            "Increase the number of iterations (max_iter) or scale the data as shown in:\n",
            "    https://scikit-learn.org/stable/modules/preprocessing.html\n",
            "Please also refer to the documentation for alternative solver options:\n",
            "    https://scikit-learn.org/stable/modules/linear_model.html#logistic-regression\n",
            "  n_iter_i = _check_optimize_result(\n"
          ]
        },
        {
          "output_type": "stream",
          "name": "stdout",
          "text": [
            "Training period ended at 2015-06-30 00:00:00 - Prediction for period 2015-07-31 00:00:00: Model 'RandomForest' Accuracy = 1.00\n",
            "Training period ended at 2015-06-30 00:00:00 - Prediction for period 2015-07-31 00:00:00: Model 'GradientBoosting' Accuracy = 1.00\n",
            "Training period ended at 2015-06-30 00:00:00 - Prediction for period 2015-07-31 00:00:00: Model 'LogisticRegression' Accuracy = 1.00\n",
            "Training period ended at 2015-06-30 00:00:00 - Prediction for period 2015-07-31 00:00:00: Model 'SVC_linear' Accuracy = 1.00\n",
            "Training period ended at 2015-06-30 00:00:00 - Prediction for period 2015-07-31 00:00:00: Model 'SVC_rbf' Accuracy = 1.00\n",
            "Training period ended at 2015-07-31 00:00:00 - Prediction for period 2015-08-31 00:00:00: Model 'RandomForest' Accuracy = 0.00\n",
            "Training period ended at 2015-07-31 00:00:00 - Prediction for period 2015-08-31 00:00:00: Model 'GradientBoosting' Accuracy = 0.00\n",
            "Training period ended at 2015-07-31 00:00:00 - Prediction for period 2015-08-31 00:00:00: Model 'LogisticRegression' Accuracy = 0.00\n",
            "Training period ended at 2015-07-31 00:00:00 - Prediction for period 2015-08-31 00:00:00: Model 'SVC_linear' Accuracy = 0.00\n",
            "Training period ended at 2015-07-31 00:00:00 - Prediction for period 2015-08-31 00:00:00: Model 'SVC_rbf' Accuracy = 0.00\n",
            "Training period ended at 2015-08-31 00:00:00 - Prediction for period 2015-09-30 00:00:00: Model 'RandomForest' Accuracy = 0.00\n",
            "Training period ended at 2015-08-31 00:00:00 - Prediction for period 2015-09-30 00:00:00: Model 'GradientBoosting' Accuracy = 0.00\n",
            "Training period ended at 2015-08-31 00:00:00 - Prediction for period 2015-09-30 00:00:00: Model 'LogisticRegression' Accuracy = 0.00\n",
            "Training period ended at 2015-08-31 00:00:00 - Prediction for period 2015-09-30 00:00:00: Model 'SVC_linear' Accuracy = 0.00\n",
            "Training period ended at 2015-08-31 00:00:00 - Prediction for period 2015-09-30 00:00:00: Model 'SVC_rbf' Accuracy = 0.00\n",
            "Training period ended at 2015-09-30 00:00:00 - Prediction for period 2015-10-30 00:00:00: Model 'RandomForest' Accuracy = 1.00\n",
            "Training period ended at 2015-09-30 00:00:00 - Prediction for period 2015-10-30 00:00:00: Model 'GradientBoosting' Accuracy = 1.00\n",
            "Training period ended at 2015-09-30 00:00:00 - Prediction for period 2015-10-30 00:00:00: Model 'LogisticRegression' Accuracy = 1.00\n",
            "Training period ended at 2015-09-30 00:00:00 - Prediction for period 2015-10-30 00:00:00: Model 'SVC_linear' Accuracy = 1.00\n",
            "Training period ended at 2015-09-30 00:00:00 - Prediction for period 2015-10-30 00:00:00: Model 'SVC_rbf' Accuracy = 1.00\n",
            "Training period ended at 2015-10-30 00:00:00 - Prediction for period 2015-11-30 00:00:00: Model 'RandomForest' Accuracy = 1.00\n",
            "Training period ended at 2015-10-30 00:00:00 - Prediction for period 2015-11-30 00:00:00: Model 'GradientBoosting' Accuracy = 1.00\n",
            "Training period ended at 2015-10-30 00:00:00 - Prediction for period 2015-11-30 00:00:00: Model 'LogisticRegression' Accuracy = 1.00\n",
            "Training period ended at 2015-10-30 00:00:00 - Prediction for period 2015-11-30 00:00:00: Model 'SVC_linear' Accuracy = 1.00\n",
            "Training period ended at 2015-10-30 00:00:00 - Prediction for period 2015-11-30 00:00:00: Model 'SVC_rbf' Accuracy = 1.00\n",
            "Training period ended at 2015-11-30 00:00:00 - Prediction for period 2015-12-31 00:00:00: Model 'RandomForest' Accuracy = 0.00\n",
            "Training period ended at 2015-11-30 00:00:00 - Prediction for period 2015-12-31 00:00:00: Model 'GradientBoosting' Accuracy = 0.00\n",
            "Training period ended at 2015-11-30 00:00:00 - Prediction for period 2015-12-31 00:00:00: Model 'LogisticRegression' Accuracy = 0.00\n",
            "Training period ended at 2015-11-30 00:00:00 - Prediction for period 2015-12-31 00:00:00: Model 'SVC_linear' Accuracy = 1.00\n",
            "Training period ended at 2015-11-30 00:00:00 - Prediction for period 2015-12-31 00:00:00: Model 'SVC_rbf' Accuracy = 1.00\n"
          ]
        },
        {
          "output_type": "stream",
          "name": "stderr",
          "text": [
            "/usr/local/lib/python3.11/dist-packages/sklearn/linear_model/_logistic.py:465: ConvergenceWarning: lbfgs failed to converge (status=1):\n",
            "STOP: TOTAL NO. of ITERATIONS REACHED LIMIT.\n",
            "\n",
            "Increase the number of iterations (max_iter) or scale the data as shown in:\n",
            "    https://scikit-learn.org/stable/modules/preprocessing.html\n",
            "Please also refer to the documentation for alternative solver options:\n",
            "    https://scikit-learn.org/stable/modules/linear_model.html#logistic-regression\n",
            "  n_iter_i = _check_optimize_result(\n"
          ]
        },
        {
          "output_type": "stream",
          "name": "stdout",
          "text": [
            "Training period ended at 2015-12-31 00:00:00 - Prediction for period 2016-01-29 00:00:00: Model 'RandomForest' Accuracy = 0.00\n",
            "Training period ended at 2015-12-31 00:00:00 - Prediction for period 2016-01-29 00:00:00: Model 'GradientBoosting' Accuracy = 0.00\n",
            "Training period ended at 2015-12-31 00:00:00 - Prediction for period 2016-01-29 00:00:00: Model 'LogisticRegression' Accuracy = 0.00\n",
            "Training period ended at 2015-12-31 00:00:00 - Prediction for period 2016-01-29 00:00:00: Model 'SVC_linear' Accuracy = 0.00\n",
            "Training period ended at 2015-12-31 00:00:00 - Prediction for period 2016-01-29 00:00:00: Model 'SVC_rbf' Accuracy = 0.00\n",
            "Training period ended at 2016-01-29 00:00:00 - Prediction for period 2016-02-29 00:00:00: Model 'RandomForest' Accuracy = 0.00\n",
            "Training period ended at 2016-01-29 00:00:00 - Prediction for period 2016-02-29 00:00:00: Model 'GradientBoosting' Accuracy = 1.00\n"
          ]
        },
        {
          "output_type": "stream",
          "name": "stderr",
          "text": [
            "/usr/local/lib/python3.11/dist-packages/sklearn/linear_model/_logistic.py:465: ConvergenceWarning: lbfgs failed to converge (status=1):\n",
            "STOP: TOTAL NO. of ITERATIONS REACHED LIMIT.\n",
            "\n",
            "Increase the number of iterations (max_iter) or scale the data as shown in:\n",
            "    https://scikit-learn.org/stable/modules/preprocessing.html\n",
            "Please also refer to the documentation for alternative solver options:\n",
            "    https://scikit-learn.org/stable/modules/linear_model.html#logistic-regression\n",
            "  n_iter_i = _check_optimize_result(\n"
          ]
        },
        {
          "output_type": "stream",
          "name": "stdout",
          "text": [
            "Training period ended at 2016-01-29 00:00:00 - Prediction for period 2016-02-29 00:00:00: Model 'LogisticRegression' Accuracy = 0.00\n",
            "Training period ended at 2016-01-29 00:00:00 - Prediction for period 2016-02-29 00:00:00: Model 'SVC_linear' Accuracy = 0.00\n",
            "Training period ended at 2016-01-29 00:00:00 - Prediction for period 2016-02-29 00:00:00: Model 'SVC_rbf' Accuracy = 0.00\n",
            "Training period ended at 2016-02-29 00:00:00 - Prediction for period 2016-03-31 00:00:00: Model 'RandomForest' Accuracy = 1.00\n",
            "Training period ended at 2016-02-29 00:00:00 - Prediction for period 2016-03-31 00:00:00: Model 'GradientBoosting' Accuracy = 1.00\n",
            "Training period ended at 2016-02-29 00:00:00 - Prediction for period 2016-03-31 00:00:00: Model 'LogisticRegression' Accuracy = 1.00\n",
            "Training period ended at 2016-02-29 00:00:00 - Prediction for period 2016-03-31 00:00:00: Model 'SVC_linear' Accuracy = 1.00\n",
            "Training period ended at 2016-02-29 00:00:00 - Prediction for period 2016-03-31 00:00:00: Model 'SVC_rbf' Accuracy = 1.00\n",
            "Training period ended at 2016-03-31 00:00:00 - Prediction for period 2016-04-29 00:00:00: Model 'RandomForest' Accuracy = 1.00\n",
            "Training period ended at 2016-03-31 00:00:00 - Prediction for period 2016-04-29 00:00:00: Model 'GradientBoosting' Accuracy = 1.00\n",
            "Training period ended at 2016-03-31 00:00:00 - Prediction for period 2016-04-29 00:00:00: Model 'LogisticRegression' Accuracy = 1.00\n",
            "Training period ended at 2016-03-31 00:00:00 - Prediction for period 2016-04-29 00:00:00: Model 'SVC_linear' Accuracy = 1.00\n",
            "Training period ended at 2016-03-31 00:00:00 - Prediction for period 2016-04-29 00:00:00: Model 'SVC_rbf' Accuracy = 1.00\n"
          ]
        },
        {
          "output_type": "stream",
          "name": "stderr",
          "text": [
            "/usr/local/lib/python3.11/dist-packages/sklearn/linear_model/_logistic.py:465: ConvergenceWarning: lbfgs failed to converge (status=1):\n",
            "STOP: TOTAL NO. of ITERATIONS REACHED LIMIT.\n",
            "\n",
            "Increase the number of iterations (max_iter) or scale the data as shown in:\n",
            "    https://scikit-learn.org/stable/modules/preprocessing.html\n",
            "Please also refer to the documentation for alternative solver options:\n",
            "    https://scikit-learn.org/stable/modules/linear_model.html#logistic-regression\n",
            "  n_iter_i = _check_optimize_result(\n"
          ]
        },
        {
          "output_type": "stream",
          "name": "stdout",
          "text": [
            "Training period ended at 2016-04-29 00:00:00 - Prediction for period 2016-05-31 00:00:00: Model 'RandomForest' Accuracy = 1.00\n",
            "Training period ended at 2016-04-29 00:00:00 - Prediction for period 2016-05-31 00:00:00: Model 'GradientBoosting' Accuracy = 1.00\n",
            "Training period ended at 2016-04-29 00:00:00 - Prediction for period 2016-05-31 00:00:00: Model 'LogisticRegression' Accuracy = 1.00\n",
            "Training period ended at 2016-04-29 00:00:00 - Prediction for period 2016-05-31 00:00:00: Model 'SVC_linear' Accuracy = 1.00\n",
            "Training period ended at 2016-04-29 00:00:00 - Prediction for period 2016-05-31 00:00:00: Model 'SVC_rbf' Accuracy = 1.00\n",
            "Training period ended at 2016-05-31 00:00:00 - Prediction for period 2016-06-30 00:00:00: Model 'RandomForest' Accuracy = 1.00\n",
            "Training period ended at 2016-05-31 00:00:00 - Prediction for period 2016-06-30 00:00:00: Model 'GradientBoosting' Accuracy = 1.00\n",
            "Training period ended at 2016-05-31 00:00:00 - Prediction for period 2016-06-30 00:00:00: Model 'LogisticRegression' Accuracy = 1.00\n",
            "Training period ended at 2016-05-31 00:00:00 - Prediction for period 2016-06-30 00:00:00: Model 'SVC_linear' Accuracy = 1.00\n",
            "Training period ended at 2016-05-31 00:00:00 - Prediction for period 2016-06-30 00:00:00: Model 'SVC_rbf' Accuracy = 1.00\n"
          ]
        },
        {
          "output_type": "stream",
          "name": "stderr",
          "text": [
            "/usr/local/lib/python3.11/dist-packages/sklearn/linear_model/_logistic.py:465: ConvergenceWarning: lbfgs failed to converge (status=1):\n",
            "STOP: TOTAL NO. of ITERATIONS REACHED LIMIT.\n",
            "\n",
            "Increase the number of iterations (max_iter) or scale the data as shown in:\n",
            "    https://scikit-learn.org/stable/modules/preprocessing.html\n",
            "Please also refer to the documentation for alternative solver options:\n",
            "    https://scikit-learn.org/stable/modules/linear_model.html#logistic-regression\n",
            "  n_iter_i = _check_optimize_result(\n"
          ]
        },
        {
          "output_type": "stream",
          "name": "stdout",
          "text": [
            "Training period ended at 2016-06-30 00:00:00 - Prediction for period 2016-07-29 00:00:00: Model 'RandomForest' Accuracy = 1.00\n",
            "Training period ended at 2016-06-30 00:00:00 - Prediction for period 2016-07-29 00:00:00: Model 'GradientBoosting' Accuracy = 1.00\n",
            "Training period ended at 2016-06-30 00:00:00 - Prediction for period 2016-07-29 00:00:00: Model 'LogisticRegression' Accuracy = 1.00\n",
            "Training period ended at 2016-06-30 00:00:00 - Prediction for period 2016-07-29 00:00:00: Model 'SVC_linear' Accuracy = 1.00\n",
            "Training period ended at 2016-06-30 00:00:00 - Prediction for period 2016-07-29 00:00:00: Model 'SVC_rbf' Accuracy = 1.00\n"
          ]
        },
        {
          "output_type": "stream",
          "name": "stderr",
          "text": [
            "/usr/local/lib/python3.11/dist-packages/sklearn/linear_model/_logistic.py:465: ConvergenceWarning: lbfgs failed to converge (status=1):\n",
            "STOP: TOTAL NO. of ITERATIONS REACHED LIMIT.\n",
            "\n",
            "Increase the number of iterations (max_iter) or scale the data as shown in:\n",
            "    https://scikit-learn.org/stable/modules/preprocessing.html\n",
            "Please also refer to the documentation for alternative solver options:\n",
            "    https://scikit-learn.org/stable/modules/linear_model.html#logistic-regression\n",
            "  n_iter_i = _check_optimize_result(\n"
          ]
        },
        {
          "output_type": "stream",
          "name": "stdout",
          "text": [
            "Training period ended at 2016-07-29 00:00:00 - Prediction for period 2016-08-31 00:00:00: Model 'RandomForest' Accuracy = 1.00\n",
            "Training period ended at 2016-07-29 00:00:00 - Prediction for period 2016-08-31 00:00:00: Model 'GradientBoosting' Accuracy = 1.00\n",
            "Training period ended at 2016-07-29 00:00:00 - Prediction for period 2016-08-31 00:00:00: Model 'LogisticRegression' Accuracy = 1.00\n",
            "Training period ended at 2016-07-29 00:00:00 - Prediction for period 2016-08-31 00:00:00: Model 'SVC_linear' Accuracy = 1.00\n",
            "Training period ended at 2016-07-29 00:00:00 - Prediction for period 2016-08-31 00:00:00: Model 'SVC_rbf' Accuracy = 1.00\n",
            "Training period ended at 2016-08-31 00:00:00 - Prediction for period 2016-09-30 00:00:00: Model 'RandomForest' Accuracy = 1.00\n",
            "Training period ended at 2016-08-31 00:00:00 - Prediction for period 2016-09-30 00:00:00: Model 'GradientBoosting' Accuracy = 1.00\n",
            "Training period ended at 2016-08-31 00:00:00 - Prediction for period 2016-09-30 00:00:00: Model 'LogisticRegression' Accuracy = 1.00\n",
            "Training period ended at 2016-08-31 00:00:00 - Prediction for period 2016-09-30 00:00:00: Model 'SVC_linear' Accuracy = 1.00\n",
            "Training period ended at 2016-08-31 00:00:00 - Prediction for period 2016-09-30 00:00:00: Model 'SVC_rbf' Accuracy = 1.00\n",
            "Training period ended at 2016-09-30 00:00:00 - Prediction for period 2016-10-31 00:00:00: Model 'RandomForest' Accuracy = 1.00\n",
            "Training period ended at 2016-09-30 00:00:00 - Prediction for period 2016-10-31 00:00:00: Model 'GradientBoosting' Accuracy = 1.00\n",
            "Training period ended at 2016-09-30 00:00:00 - Prediction for period 2016-10-31 00:00:00: Model 'LogisticRegression' Accuracy = 1.00\n",
            "Training period ended at 2016-09-30 00:00:00 - Prediction for period 2016-10-31 00:00:00: Model 'SVC_linear' Accuracy = 1.00\n",
            "Training period ended at 2016-09-30 00:00:00 - Prediction for period 2016-10-31 00:00:00: Model 'SVC_rbf' Accuracy = 1.00\n",
            "Training period ended at 2016-10-31 00:00:00 - Prediction for period 2016-11-30 00:00:00: Model 'RandomForest' Accuracy = 0.00\n",
            "Training period ended at 2016-10-31 00:00:00 - Prediction for period 2016-11-30 00:00:00: Model 'GradientBoosting' Accuracy = 0.00\n",
            "Training period ended at 2016-10-31 00:00:00 - Prediction for period 2016-11-30 00:00:00: Model 'LogisticRegression' Accuracy = 0.00\n",
            "Training period ended at 2016-10-31 00:00:00 - Prediction for period 2016-11-30 00:00:00: Model 'SVC_linear' Accuracy = 0.00\n",
            "Training period ended at 2016-10-31 00:00:00 - Prediction for period 2016-11-30 00:00:00: Model 'SVC_rbf' Accuracy = 0.00\n",
            "Training period ended at 2016-11-30 00:00:00 - Prediction for period 2016-12-30 00:00:00: Model 'RandomForest' Accuracy = 1.00\n",
            "Training period ended at 2016-11-30 00:00:00 - Prediction for period 2016-12-30 00:00:00: Model 'GradientBoosting' Accuracy = 1.00\n",
            "Training period ended at 2016-11-30 00:00:00 - Prediction for period 2016-12-30 00:00:00: Model 'LogisticRegression' Accuracy = 1.00\n",
            "Training period ended at 2016-11-30 00:00:00 - Prediction for period 2016-12-30 00:00:00: Model 'SVC_linear' Accuracy = 1.00\n",
            "Training period ended at 2016-11-30 00:00:00 - Prediction for period 2016-12-30 00:00:00: Model 'SVC_rbf' Accuracy = 1.00\n",
            "Training period ended at 2016-12-30 00:00:00 - Prediction for period 2017-01-31 00:00:00: Model 'RandomForest' Accuracy = 1.00\n",
            "Training period ended at 2016-12-30 00:00:00 - Prediction for period 2017-01-31 00:00:00: Model 'GradientBoosting' Accuracy = 1.00\n",
            "Training period ended at 2016-12-30 00:00:00 - Prediction for period 2017-01-31 00:00:00: Model 'LogisticRegression' Accuracy = 1.00\n",
            "Training period ended at 2016-12-30 00:00:00 - Prediction for period 2017-01-31 00:00:00: Model 'SVC_linear' Accuracy = 1.00\n",
            "Training period ended at 2016-12-30 00:00:00 - Prediction for period 2017-01-31 00:00:00: Model 'SVC_rbf' Accuracy = 1.00\n",
            "Training period ended at 2017-01-31 00:00:00 - Prediction for period 2017-02-28 00:00:00: Model 'RandomForest' Accuracy = 1.00\n",
            "Training period ended at 2017-01-31 00:00:00 - Prediction for period 2017-02-28 00:00:00: Model 'GradientBoosting' Accuracy = 1.00\n",
            "Training period ended at 2017-01-31 00:00:00 - Prediction for period 2017-02-28 00:00:00: Model 'LogisticRegression' Accuracy = 1.00\n",
            "Training period ended at 2017-01-31 00:00:00 - Prediction for period 2017-02-28 00:00:00: Model 'SVC_linear' Accuracy = 1.00\n",
            "Training period ended at 2017-01-31 00:00:00 - Prediction for period 2017-02-28 00:00:00: Model 'SVC_rbf' Accuracy = 1.00\n",
            "Training period ended at 2017-02-28 00:00:00 - Prediction for period 2017-03-31 00:00:00: Model 'RandomForest' Accuracy = 1.00\n",
            "Training period ended at 2017-02-28 00:00:00 - Prediction for period 2017-03-31 00:00:00: Model 'GradientBoosting' Accuracy = 1.00\n",
            "Training period ended at 2017-02-28 00:00:00 - Prediction for period 2017-03-31 00:00:00: Model 'LogisticRegression' Accuracy = 1.00\n",
            "Training period ended at 2017-02-28 00:00:00 - Prediction for period 2017-03-31 00:00:00: Model 'SVC_linear' Accuracy = 1.00\n",
            "Training period ended at 2017-02-28 00:00:00 - Prediction for period 2017-03-31 00:00:00: Model 'SVC_rbf' Accuracy = 1.00\n",
            "Training period ended at 2017-03-31 00:00:00 - Prediction for period 2017-04-28 00:00:00: Model 'RandomForest' Accuracy = 1.00\n",
            "Training period ended at 2017-03-31 00:00:00 - Prediction for period 2017-04-28 00:00:00: Model 'GradientBoosting' Accuracy = 1.00\n",
            "Training period ended at 2017-03-31 00:00:00 - Prediction for period 2017-04-28 00:00:00: Model 'LogisticRegression' Accuracy = 1.00\n",
            "Training period ended at 2017-03-31 00:00:00 - Prediction for period 2017-04-28 00:00:00: Model 'SVC_linear' Accuracy = 1.00\n",
            "Training period ended at 2017-03-31 00:00:00 - Prediction for period 2017-04-28 00:00:00: Model 'SVC_rbf' Accuracy = 1.00\n",
            "Training period ended at 2017-04-28 00:00:00 - Prediction for period 2017-05-31 00:00:00: Model 'RandomForest' Accuracy = 1.00\n",
            "Training period ended at 2017-04-28 00:00:00 - Prediction for period 2017-05-31 00:00:00: Model 'GradientBoosting' Accuracy = 1.00\n",
            "Training period ended at 2017-04-28 00:00:00 - Prediction for period 2017-05-31 00:00:00: Model 'LogisticRegression' Accuracy = 1.00\n",
            "Training period ended at 2017-04-28 00:00:00 - Prediction for period 2017-05-31 00:00:00: Model 'SVC_linear' Accuracy = 1.00\n",
            "Training period ended at 2017-04-28 00:00:00 - Prediction for period 2017-05-31 00:00:00: Model 'SVC_rbf' Accuracy = 1.00\n",
            "Training period ended at 2017-05-31 00:00:00 - Prediction for period 2017-06-30 00:00:00: Model 'RandomForest' Accuracy = 1.00\n",
            "Training period ended at 2017-05-31 00:00:00 - Prediction for period 2017-06-30 00:00:00: Model 'GradientBoosting' Accuracy = 1.00\n",
            "Training period ended at 2017-05-31 00:00:00 - Prediction for period 2017-06-30 00:00:00: Model 'LogisticRegression' Accuracy = 1.00\n",
            "Training period ended at 2017-05-31 00:00:00 - Prediction for period 2017-06-30 00:00:00: Model 'SVC_linear' Accuracy = 1.00\n",
            "Training period ended at 2017-05-31 00:00:00 - Prediction for period 2017-06-30 00:00:00: Model 'SVC_rbf' Accuracy = 1.00\n",
            "Training period ended at 2017-06-30 00:00:00 - Prediction for period 2017-07-31 00:00:00: Model 'RandomForest' Accuracy = 1.00\n",
            "Training period ended at 2017-06-30 00:00:00 - Prediction for period 2017-07-31 00:00:00: Model 'GradientBoosting' Accuracy = 1.00\n",
            "Training period ended at 2017-06-30 00:00:00 - Prediction for period 2017-07-31 00:00:00: Model 'LogisticRegression' Accuracy = 1.00\n",
            "Training period ended at 2017-06-30 00:00:00 - Prediction for period 2017-07-31 00:00:00: Model 'SVC_linear' Accuracy = 1.00\n",
            "Training period ended at 2017-06-30 00:00:00 - Prediction for period 2017-07-31 00:00:00: Model 'SVC_rbf' Accuracy = 1.00\n",
            "Training period ended at 2017-07-31 00:00:00 - Prediction for period 2017-08-31 00:00:00: Model 'RandomForest' Accuracy = 1.00\n",
            "Training period ended at 2017-07-31 00:00:00 - Prediction for period 2017-08-31 00:00:00: Model 'GradientBoosting' Accuracy = 1.00\n",
            "Training period ended at 2017-07-31 00:00:00 - Prediction for period 2017-08-31 00:00:00: Model 'LogisticRegression' Accuracy = 1.00\n",
            "Training period ended at 2017-07-31 00:00:00 - Prediction for period 2017-08-31 00:00:00: Model 'SVC_linear' Accuracy = 1.00\n",
            "Training period ended at 2017-07-31 00:00:00 - Prediction for period 2017-08-31 00:00:00: Model 'SVC_rbf' Accuracy = 1.00\n",
            "Training period ended at 2017-08-31 00:00:00 - Prediction for period 2017-09-29 00:00:00: Model 'RandomForest' Accuracy = 1.00\n",
            "Training period ended at 2017-08-31 00:00:00 - Prediction for period 2017-09-29 00:00:00: Model 'GradientBoosting' Accuracy = 1.00\n",
            "Training period ended at 2017-08-31 00:00:00 - Prediction for period 2017-09-29 00:00:00: Model 'LogisticRegression' Accuracy = 1.00\n",
            "Training period ended at 2017-08-31 00:00:00 - Prediction for period 2017-09-29 00:00:00: Model 'SVC_linear' Accuracy = 1.00\n",
            "Training period ended at 2017-08-31 00:00:00 - Prediction for period 2017-09-29 00:00:00: Model 'SVC_rbf' Accuracy = 1.00\n",
            "Training period ended at 2017-09-29 00:00:00 - Prediction for period 2017-10-31 00:00:00: Model 'RandomForest' Accuracy = 1.00\n",
            "Training period ended at 2017-09-29 00:00:00 - Prediction for period 2017-10-31 00:00:00: Model 'GradientBoosting' Accuracy = 1.00\n",
            "Training period ended at 2017-09-29 00:00:00 - Prediction for period 2017-10-31 00:00:00: Model 'LogisticRegression' Accuracy = 1.00\n",
            "Training period ended at 2017-09-29 00:00:00 - Prediction for period 2017-10-31 00:00:00: Model 'SVC_linear' Accuracy = 1.00\n",
            "Training period ended at 2017-09-29 00:00:00 - Prediction for period 2017-10-31 00:00:00: Model 'SVC_rbf' Accuracy = 1.00\n",
            "Training period ended at 2017-10-31 00:00:00 - Prediction for period 2017-11-30 00:00:00: Model 'RandomForest' Accuracy = 1.00\n",
            "Training period ended at 2017-10-31 00:00:00 - Prediction for period 2017-11-30 00:00:00: Model 'GradientBoosting' Accuracy = 1.00\n",
            "Training period ended at 2017-10-31 00:00:00 - Prediction for period 2017-11-30 00:00:00: Model 'LogisticRegression' Accuracy = 1.00\n",
            "Training period ended at 2017-10-31 00:00:00 - Prediction for period 2017-11-30 00:00:00: Model 'SVC_linear' Accuracy = 1.00\n",
            "Training period ended at 2017-10-31 00:00:00 - Prediction for period 2017-11-30 00:00:00: Model 'SVC_rbf' Accuracy = 1.00\n",
            "Training period ended at 2017-11-30 00:00:00 - Prediction for period 2017-12-29 00:00:00: Model 'RandomForest' Accuracy = 1.00\n",
            "Training period ended at 2017-11-30 00:00:00 - Prediction for period 2017-12-29 00:00:00: Model 'GradientBoosting' Accuracy = 1.00\n",
            "Training period ended at 2017-11-30 00:00:00 - Prediction for period 2017-12-29 00:00:00: Model 'LogisticRegression' Accuracy = 1.00\n",
            "Training period ended at 2017-11-30 00:00:00 - Prediction for period 2017-12-29 00:00:00: Model 'SVC_linear' Accuracy = 1.00\n",
            "Training period ended at 2017-11-30 00:00:00 - Prediction for period 2017-12-29 00:00:00: Model 'SVC_rbf' Accuracy = 1.00\n",
            "Training period ended at 2017-12-29 00:00:00 - Prediction for period 2018-01-31 00:00:00: Model 'RandomForest' Accuracy = 1.00\n",
            "Training period ended at 2017-12-29 00:00:00 - Prediction for period 2018-01-31 00:00:00: Model 'GradientBoosting' Accuracy = 1.00\n",
            "Training period ended at 2017-12-29 00:00:00 - Prediction for period 2018-01-31 00:00:00: Model 'LogisticRegression' Accuracy = 1.00\n",
            "Training period ended at 2017-12-29 00:00:00 - Prediction for period 2018-01-31 00:00:00: Model 'SVC_linear' Accuracy = 1.00\n",
            "Training period ended at 2017-12-29 00:00:00 - Prediction for period 2018-01-31 00:00:00: Model 'SVC_rbf' Accuracy = 1.00\n",
            "Training period ended at 2018-01-31 00:00:00 - Prediction for period 2018-02-28 00:00:00: Model 'RandomForest' Accuracy = 1.00\n",
            "Training period ended at 2018-01-31 00:00:00 - Prediction for period 2018-02-28 00:00:00: Model 'GradientBoosting' Accuracy = 1.00\n",
            "Training period ended at 2018-01-31 00:00:00 - Prediction for period 2018-02-28 00:00:00: Model 'LogisticRegression' Accuracy = 1.00\n",
            "Training period ended at 2018-01-31 00:00:00 - Prediction for period 2018-02-28 00:00:00: Model 'SVC_linear' Accuracy = 1.00\n",
            "Training period ended at 2018-01-31 00:00:00 - Prediction for period 2018-02-28 00:00:00: Model 'SVC_rbf' Accuracy = 1.00\n",
            "Training period ended at 2018-02-28 00:00:00 - Prediction for period 2018-03-30 00:00:00: Model 'RandomForest' Accuracy = 0.00\n",
            "Training period ended at 2018-02-28 00:00:00 - Prediction for period 2018-03-30 00:00:00: Model 'GradientBoosting' Accuracy = 0.00\n",
            "Training period ended at 2018-02-28 00:00:00 - Prediction for period 2018-03-30 00:00:00: Model 'LogisticRegression' Accuracy = 0.00\n",
            "Training period ended at 2018-02-28 00:00:00 - Prediction for period 2018-03-30 00:00:00: Model 'SVC_linear' Accuracy = 0.00\n",
            "Training period ended at 2018-02-28 00:00:00 - Prediction for period 2018-03-30 00:00:00: Model 'SVC_rbf' Accuracy = 0.00\n",
            "Training period ended at 2018-03-30 00:00:00 - Prediction for period 2018-04-30 00:00:00: Model 'RandomForest' Accuracy = 0.00\n",
            "Training period ended at 2018-03-30 00:00:00 - Prediction for period 2018-04-30 00:00:00: Model 'GradientBoosting' Accuracy = 0.00\n",
            "Training period ended at 2018-03-30 00:00:00 - Prediction for period 2018-04-30 00:00:00: Model 'LogisticRegression' Accuracy = 0.00\n",
            "Training period ended at 2018-03-30 00:00:00 - Prediction for period 2018-04-30 00:00:00: Model 'SVC_linear' Accuracy = 0.00\n",
            "Training period ended at 2018-03-30 00:00:00 - Prediction for period 2018-04-30 00:00:00: Model 'SVC_rbf' Accuracy = 0.00\n",
            "Training period ended at 2018-04-30 00:00:00 - Prediction for period 2018-05-31 00:00:00: Model 'RandomForest' Accuracy = 0.00\n",
            "Training period ended at 2018-04-30 00:00:00 - Prediction for period 2018-05-31 00:00:00: Model 'GradientBoosting' Accuracy = 0.00\n",
            "Training period ended at 2018-04-30 00:00:00 - Prediction for period 2018-05-31 00:00:00: Model 'LogisticRegression' Accuracy = 1.00\n",
            "Training period ended at 2018-04-30 00:00:00 - Prediction for period 2018-05-31 00:00:00: Model 'SVC_linear' Accuracy = 1.00\n",
            "Training period ended at 2018-04-30 00:00:00 - Prediction for period 2018-05-31 00:00:00: Model 'SVC_rbf' Accuracy = 1.00\n",
            "Training period ended at 2018-05-31 00:00:00 - Prediction for period 2018-06-29 00:00:00: Model 'RandomForest' Accuracy = 0.00\n",
            "Training period ended at 2018-05-31 00:00:00 - Prediction for period 2018-06-29 00:00:00: Model 'GradientBoosting' Accuracy = 0.00\n",
            "Training period ended at 2018-05-31 00:00:00 - Prediction for period 2018-06-29 00:00:00: Model 'LogisticRegression' Accuracy = 1.00\n",
            "Training period ended at 2018-05-31 00:00:00 - Prediction for period 2018-06-29 00:00:00: Model 'SVC_linear' Accuracy = 1.00\n",
            "Training period ended at 2018-05-31 00:00:00 - Prediction for period 2018-06-29 00:00:00: Model 'SVC_rbf' Accuracy = 1.00\n",
            "Training period ended at 2018-06-29 00:00:00 - Prediction for period 2018-07-31 00:00:00: Model 'RandomForest' Accuracy = 1.00\n",
            "Training period ended at 2018-06-29 00:00:00 - Prediction for period 2018-07-31 00:00:00: Model 'GradientBoosting' Accuracy = 1.00\n",
            "Training period ended at 2018-06-29 00:00:00 - Prediction for period 2018-07-31 00:00:00: Model 'LogisticRegression' Accuracy = 1.00\n",
            "Training period ended at 2018-06-29 00:00:00 - Prediction for period 2018-07-31 00:00:00: Model 'SVC_linear' Accuracy = 1.00\n",
            "Training period ended at 2018-06-29 00:00:00 - Prediction for period 2018-07-31 00:00:00: Model 'SVC_rbf' Accuracy = 1.00\n",
            "Training period ended at 2018-07-31 00:00:00 - Prediction for period 2018-08-31 00:00:00: Model 'RandomForest' Accuracy = 1.00\n",
            "Training period ended at 2018-07-31 00:00:00 - Prediction for period 2018-08-31 00:00:00: Model 'GradientBoosting' Accuracy = 1.00\n",
            "Training period ended at 2018-07-31 00:00:00 - Prediction for period 2018-08-31 00:00:00: Model 'LogisticRegression' Accuracy = 1.00\n",
            "Training period ended at 2018-07-31 00:00:00 - Prediction for period 2018-08-31 00:00:00: Model 'SVC_linear' Accuracy = 1.00\n",
            "Training period ended at 2018-07-31 00:00:00 - Prediction for period 2018-08-31 00:00:00: Model 'SVC_rbf' Accuracy = 1.00\n",
            "Training period ended at 2018-08-31 00:00:00 - Prediction for period 2018-09-28 00:00:00: Model 'RandomForest' Accuracy = 1.00\n",
            "Training period ended at 2018-08-31 00:00:00 - Prediction for period 2018-09-28 00:00:00: Model 'GradientBoosting' Accuracy = 1.00\n",
            "Training period ended at 2018-08-31 00:00:00 - Prediction for period 2018-09-28 00:00:00: Model 'LogisticRegression' Accuracy = 1.00\n",
            "Training period ended at 2018-08-31 00:00:00 - Prediction for period 2018-09-28 00:00:00: Model 'SVC_linear' Accuracy = 1.00\n",
            "Training period ended at 2018-08-31 00:00:00 - Prediction for period 2018-09-28 00:00:00: Model 'SVC_rbf' Accuracy = 1.00\n",
            "Training period ended at 2018-09-28 00:00:00 - Prediction for period 2018-10-31 00:00:00: Model 'RandomForest' Accuracy = 0.00\n",
            "Training period ended at 2018-09-28 00:00:00 - Prediction for period 2018-10-31 00:00:00: Model 'GradientBoosting' Accuracy = 0.00\n",
            "Training period ended at 2018-09-28 00:00:00 - Prediction for period 2018-10-31 00:00:00: Model 'LogisticRegression' Accuracy = 0.00\n",
            "Training period ended at 2018-09-28 00:00:00 - Prediction for period 2018-10-31 00:00:00: Model 'SVC_linear' Accuracy = 0.00\n",
            "Training period ended at 2018-09-28 00:00:00 - Prediction for period 2018-10-31 00:00:00: Model 'SVC_rbf' Accuracy = 0.00\n",
            "Training period ended at 2018-10-31 00:00:00 - Prediction for period 2018-11-30 00:00:00: Model 'RandomForest' Accuracy = 0.00\n",
            "Training period ended at 2018-10-31 00:00:00 - Prediction for period 2018-11-30 00:00:00: Model 'GradientBoosting' Accuracy = 1.00\n",
            "Training period ended at 2018-10-31 00:00:00 - Prediction for period 2018-11-30 00:00:00: Model 'LogisticRegression' Accuracy = 0.00\n",
            "Training period ended at 2018-10-31 00:00:00 - Prediction for period 2018-11-30 00:00:00: Model 'SVC_linear' Accuracy = 0.00\n",
            "Training period ended at 2018-10-31 00:00:00 - Prediction for period 2018-11-30 00:00:00: Model 'SVC_rbf' Accuracy = 0.00\n"
          ]
        },
        {
          "output_type": "stream",
          "name": "stderr",
          "text": [
            "/usr/local/lib/python3.11/dist-packages/sklearn/linear_model/_logistic.py:465: ConvergenceWarning: lbfgs failed to converge (status=1):\n",
            "STOP: TOTAL NO. of ITERATIONS REACHED LIMIT.\n",
            "\n",
            "Increase the number of iterations (max_iter) or scale the data as shown in:\n",
            "    https://scikit-learn.org/stable/modules/preprocessing.html\n",
            "Please also refer to the documentation for alternative solver options:\n",
            "    https://scikit-learn.org/stable/modules/linear_model.html#logistic-regression\n",
            "  n_iter_i = _check_optimize_result(\n"
          ]
        },
        {
          "output_type": "stream",
          "name": "stdout",
          "text": [
            "Training period ended at 2018-11-30 00:00:00 - Prediction for period 2018-12-31 00:00:00: Model 'RandomForest' Accuracy = 1.00\n",
            "Training period ended at 2018-11-30 00:00:00 - Prediction for period 2018-12-31 00:00:00: Model 'GradientBoosting' Accuracy = 1.00\n",
            "Training period ended at 2018-11-30 00:00:00 - Prediction for period 2018-12-31 00:00:00: Model 'LogisticRegression' Accuracy = 0.00\n",
            "Training period ended at 2018-11-30 00:00:00 - Prediction for period 2018-12-31 00:00:00: Model 'SVC_linear' Accuracy = 0.00\n",
            "Training period ended at 2018-11-30 00:00:00 - Prediction for period 2018-12-31 00:00:00: Model 'SVC_rbf' Accuracy = 0.00\n"
          ]
        },
        {
          "output_type": "stream",
          "name": "stderr",
          "text": [
            "/usr/local/lib/python3.11/dist-packages/sklearn/linear_model/_logistic.py:465: ConvergenceWarning: lbfgs failed to converge (status=1):\n",
            "STOP: TOTAL NO. of ITERATIONS REACHED LIMIT.\n",
            "\n",
            "Increase the number of iterations (max_iter) or scale the data as shown in:\n",
            "    https://scikit-learn.org/stable/modules/preprocessing.html\n",
            "Please also refer to the documentation for alternative solver options:\n",
            "    https://scikit-learn.org/stable/modules/linear_model.html#logistic-regression\n",
            "  n_iter_i = _check_optimize_result(\n"
          ]
        },
        {
          "output_type": "stream",
          "name": "stdout",
          "text": [
            "Training period ended at 2018-12-31 00:00:00 - Prediction for period 2019-01-31 00:00:00: Model 'RandomForest' Accuracy = 1.00\n",
            "Training period ended at 2018-12-31 00:00:00 - Prediction for period 2019-01-31 00:00:00: Model 'GradientBoosting' Accuracy = 1.00\n",
            "Training period ended at 2018-12-31 00:00:00 - Prediction for period 2019-01-31 00:00:00: Model 'LogisticRegression' Accuracy = 0.00\n",
            "Training period ended at 2018-12-31 00:00:00 - Prediction for period 2019-01-31 00:00:00: Model 'SVC_linear' Accuracy = 0.00\n",
            "Training period ended at 2018-12-31 00:00:00 - Prediction for period 2019-01-31 00:00:00: Model 'SVC_rbf' Accuracy = 0.00\n"
          ]
        },
        {
          "output_type": "stream",
          "name": "stderr",
          "text": [
            "/usr/local/lib/python3.11/dist-packages/sklearn/linear_model/_logistic.py:465: ConvergenceWarning: lbfgs failed to converge (status=1):\n",
            "STOP: TOTAL NO. of ITERATIONS REACHED LIMIT.\n",
            "\n",
            "Increase the number of iterations (max_iter) or scale the data as shown in:\n",
            "    https://scikit-learn.org/stable/modules/preprocessing.html\n",
            "Please also refer to the documentation for alternative solver options:\n",
            "    https://scikit-learn.org/stable/modules/linear_model.html#logistic-regression\n",
            "  n_iter_i = _check_optimize_result(\n"
          ]
        },
        {
          "output_type": "stream",
          "name": "stdout",
          "text": [
            "Training period ended at 2019-01-31 00:00:00 - Prediction for period 2019-02-28 00:00:00: Model 'RandomForest' Accuracy = 1.00\n",
            "Training period ended at 2019-01-31 00:00:00 - Prediction for period 2019-02-28 00:00:00: Model 'GradientBoosting' Accuracy = 1.00\n",
            "Training period ended at 2019-01-31 00:00:00 - Prediction for period 2019-02-28 00:00:00: Model 'LogisticRegression' Accuracy = 1.00\n",
            "Training period ended at 2019-01-31 00:00:00 - Prediction for period 2019-02-28 00:00:00: Model 'SVC_linear' Accuracy = 1.00\n",
            "Training period ended at 2019-01-31 00:00:00 - Prediction for period 2019-02-28 00:00:00: Model 'SVC_rbf' Accuracy = 1.00\n"
          ]
        },
        {
          "output_type": "stream",
          "name": "stderr",
          "text": [
            "/usr/local/lib/python3.11/dist-packages/sklearn/linear_model/_logistic.py:465: ConvergenceWarning: lbfgs failed to converge (status=1):\n",
            "STOP: TOTAL NO. of ITERATIONS REACHED LIMIT.\n",
            "\n",
            "Increase the number of iterations (max_iter) or scale the data as shown in:\n",
            "    https://scikit-learn.org/stable/modules/preprocessing.html\n",
            "Please also refer to the documentation for alternative solver options:\n",
            "    https://scikit-learn.org/stable/modules/linear_model.html#logistic-regression\n",
            "  n_iter_i = _check_optimize_result(\n"
          ]
        },
        {
          "output_type": "stream",
          "name": "stdout",
          "text": [
            "Training period ended at 2019-02-28 00:00:00 - Prediction for period 2019-03-29 00:00:00: Model 'RandomForest' Accuracy = 1.00\n",
            "Training period ended at 2019-02-28 00:00:00 - Prediction for period 2019-03-29 00:00:00: Model 'GradientBoosting' Accuracy = 1.00\n",
            "Training period ended at 2019-02-28 00:00:00 - Prediction for period 2019-03-29 00:00:00: Model 'LogisticRegression' Accuracy = 1.00\n",
            "Training period ended at 2019-02-28 00:00:00 - Prediction for period 2019-03-29 00:00:00: Model 'SVC_linear' Accuracy = 1.00\n",
            "Training period ended at 2019-02-28 00:00:00 - Prediction for period 2019-03-29 00:00:00: Model 'SVC_rbf' Accuracy = 1.00\n"
          ]
        },
        {
          "output_type": "stream",
          "name": "stderr",
          "text": [
            "/usr/local/lib/python3.11/dist-packages/sklearn/linear_model/_logistic.py:465: ConvergenceWarning: lbfgs failed to converge (status=1):\n",
            "STOP: TOTAL NO. of ITERATIONS REACHED LIMIT.\n",
            "\n",
            "Increase the number of iterations (max_iter) or scale the data as shown in:\n",
            "    https://scikit-learn.org/stable/modules/preprocessing.html\n",
            "Please also refer to the documentation for alternative solver options:\n",
            "    https://scikit-learn.org/stable/modules/linear_model.html#logistic-regression\n",
            "  n_iter_i = _check_optimize_result(\n"
          ]
        },
        {
          "output_type": "stream",
          "name": "stdout",
          "text": [
            "Training period ended at 2019-03-29 00:00:00 - Prediction for period 2019-04-30 00:00:00: Model 'RandomForest' Accuracy = 1.00\n",
            "Training period ended at 2019-03-29 00:00:00 - Prediction for period 2019-04-30 00:00:00: Model 'GradientBoosting' Accuracy = 1.00\n",
            "Training period ended at 2019-03-29 00:00:00 - Prediction for period 2019-04-30 00:00:00: Model 'LogisticRegression' Accuracy = 0.00\n",
            "Training period ended at 2019-03-29 00:00:00 - Prediction for period 2019-04-30 00:00:00: Model 'SVC_linear' Accuracy = 1.00\n",
            "Training period ended at 2019-03-29 00:00:00 - Prediction for period 2019-04-30 00:00:00: Model 'SVC_rbf' Accuracy = 1.00\n"
          ]
        },
        {
          "output_type": "stream",
          "name": "stderr",
          "text": [
            "/usr/local/lib/python3.11/dist-packages/sklearn/linear_model/_logistic.py:465: ConvergenceWarning: lbfgs failed to converge (status=1):\n",
            "STOP: TOTAL NO. of ITERATIONS REACHED LIMIT.\n",
            "\n",
            "Increase the number of iterations (max_iter) or scale the data as shown in:\n",
            "    https://scikit-learn.org/stable/modules/preprocessing.html\n",
            "Please also refer to the documentation for alternative solver options:\n",
            "    https://scikit-learn.org/stable/modules/linear_model.html#logistic-regression\n",
            "  n_iter_i = _check_optimize_result(\n"
          ]
        },
        {
          "output_type": "stream",
          "name": "stdout",
          "text": [
            "Training period ended at 2019-04-30 00:00:00 - Prediction for period 2019-05-31 00:00:00: Model 'RandomForest' Accuracy = 1.00\n",
            "Training period ended at 2019-04-30 00:00:00 - Prediction for period 2019-05-31 00:00:00: Model 'GradientBoosting' Accuracy = 1.00\n",
            "Training period ended at 2019-04-30 00:00:00 - Prediction for period 2019-05-31 00:00:00: Model 'LogisticRegression' Accuracy = 1.00\n",
            "Training period ended at 2019-04-30 00:00:00 - Prediction for period 2019-05-31 00:00:00: Model 'SVC_linear' Accuracy = 1.00\n"
          ]
        },
        {
          "output_type": "stream",
          "name": "stderr",
          "text": [
            "/usr/local/lib/python3.11/dist-packages/sklearn/linear_model/_logistic.py:465: ConvergenceWarning: lbfgs failed to converge (status=1):\n",
            "STOP: TOTAL NO. of ITERATIONS REACHED LIMIT.\n",
            "\n",
            "Increase the number of iterations (max_iter) or scale the data as shown in:\n",
            "    https://scikit-learn.org/stable/modules/preprocessing.html\n",
            "Please also refer to the documentation for alternative solver options:\n",
            "    https://scikit-learn.org/stable/modules/linear_model.html#logistic-regression\n",
            "  n_iter_i = _check_optimize_result(\n"
          ]
        },
        {
          "output_type": "stream",
          "name": "stdout",
          "text": [
            "Training period ended at 2019-04-30 00:00:00 - Prediction for period 2019-05-31 00:00:00: Model 'SVC_rbf' Accuracy = 1.00\n",
            "Training period ended at 2019-05-31 00:00:00 - Prediction for period 2019-06-28 00:00:00: Model 'RandomForest' Accuracy = 1.00\n",
            "Training period ended at 2019-05-31 00:00:00 - Prediction for period 2019-06-28 00:00:00: Model 'GradientBoosting' Accuracy = 1.00\n",
            "Training period ended at 2019-05-31 00:00:00 - Prediction for period 2019-06-28 00:00:00: Model 'LogisticRegression' Accuracy = 1.00\n",
            "Training period ended at 2019-05-31 00:00:00 - Prediction for period 2019-06-28 00:00:00: Model 'SVC_linear' Accuracy = 1.00\n",
            "Training period ended at 2019-05-31 00:00:00 - Prediction for period 2019-06-28 00:00:00: Model 'SVC_rbf' Accuracy = 1.00\n"
          ]
        },
        {
          "output_type": "stream",
          "name": "stderr",
          "text": [
            "/usr/local/lib/python3.11/dist-packages/sklearn/linear_model/_logistic.py:465: ConvergenceWarning: lbfgs failed to converge (status=1):\n",
            "STOP: TOTAL NO. of ITERATIONS REACHED LIMIT.\n",
            "\n",
            "Increase the number of iterations (max_iter) or scale the data as shown in:\n",
            "    https://scikit-learn.org/stable/modules/preprocessing.html\n",
            "Please also refer to the documentation for alternative solver options:\n",
            "    https://scikit-learn.org/stable/modules/linear_model.html#logistic-regression\n",
            "  n_iter_i = _check_optimize_result(\n"
          ]
        },
        {
          "output_type": "stream",
          "name": "stdout",
          "text": [
            "Training period ended at 2019-06-28 00:00:00 - Prediction for period 2019-07-31 00:00:00: Model 'RandomForest' Accuracy = 1.00\n",
            "Training period ended at 2019-06-28 00:00:00 - Prediction for period 2019-07-31 00:00:00: Model 'GradientBoosting' Accuracy = 1.00\n",
            "Training period ended at 2019-06-28 00:00:00 - Prediction for period 2019-07-31 00:00:00: Model 'LogisticRegression' Accuracy = 1.00\n",
            "Training period ended at 2019-06-28 00:00:00 - Prediction for period 2019-07-31 00:00:00: Model 'SVC_linear' Accuracy = 1.00\n",
            "Training period ended at 2019-06-28 00:00:00 - Prediction for period 2019-07-31 00:00:00: Model 'SVC_rbf' Accuracy = 1.00\n"
          ]
        },
        {
          "output_type": "stream",
          "name": "stderr",
          "text": [
            "/usr/local/lib/python3.11/dist-packages/sklearn/linear_model/_logistic.py:465: ConvergenceWarning: lbfgs failed to converge (status=1):\n",
            "STOP: TOTAL NO. of ITERATIONS REACHED LIMIT.\n",
            "\n",
            "Increase the number of iterations (max_iter) or scale the data as shown in:\n",
            "    https://scikit-learn.org/stable/modules/preprocessing.html\n",
            "Please also refer to the documentation for alternative solver options:\n",
            "    https://scikit-learn.org/stable/modules/linear_model.html#logistic-regression\n",
            "  n_iter_i = _check_optimize_result(\n"
          ]
        },
        {
          "output_type": "stream",
          "name": "stdout",
          "text": [
            "Training period ended at 2019-07-31 00:00:00 - Prediction for period 2019-08-30 00:00:00: Model 'RandomForest' Accuracy = 1.00\n",
            "Training period ended at 2019-07-31 00:00:00 - Prediction for period 2019-08-30 00:00:00: Model 'GradientBoosting' Accuracy = 1.00\n",
            "Training period ended at 2019-07-31 00:00:00 - Prediction for period 2019-08-30 00:00:00: Model 'LogisticRegression' Accuracy = 1.00\n"
          ]
        },
        {
          "output_type": "stream",
          "name": "stderr",
          "text": [
            "/usr/local/lib/python3.11/dist-packages/sklearn/linear_model/_logistic.py:465: ConvergenceWarning: lbfgs failed to converge (status=1):\n",
            "STOP: TOTAL NO. of ITERATIONS REACHED LIMIT.\n",
            "\n",
            "Increase the number of iterations (max_iter) or scale the data as shown in:\n",
            "    https://scikit-learn.org/stable/modules/preprocessing.html\n",
            "Please also refer to the documentation for alternative solver options:\n",
            "    https://scikit-learn.org/stable/modules/linear_model.html#logistic-regression\n",
            "  n_iter_i = _check_optimize_result(\n"
          ]
        },
        {
          "output_type": "stream",
          "name": "stdout",
          "text": [
            "Training period ended at 2019-07-31 00:00:00 - Prediction for period 2019-08-30 00:00:00: Model 'SVC_linear' Accuracy = 1.00\n",
            "Training period ended at 2019-07-31 00:00:00 - Prediction for period 2019-08-30 00:00:00: Model 'SVC_rbf' Accuracy = 1.00\n",
            "Training period ended at 2019-08-30 00:00:00 - Prediction for period 2019-09-30 00:00:00: Model 'RandomForest' Accuracy = 1.00\n",
            "Training period ended at 2019-08-30 00:00:00 - Prediction for period 2019-09-30 00:00:00: Model 'GradientBoosting' Accuracy = 1.00\n",
            "Training period ended at 2019-08-30 00:00:00 - Prediction for period 2019-09-30 00:00:00: Model 'LogisticRegression' Accuracy = 1.00\n",
            "Training period ended at 2019-08-30 00:00:00 - Prediction for period 2019-09-30 00:00:00: Model 'SVC_linear' Accuracy = 1.00\n",
            "Training period ended at 2019-08-30 00:00:00 - Prediction for period 2019-09-30 00:00:00: Model 'SVC_rbf' Accuracy = 1.00\n"
          ]
        },
        {
          "output_type": "stream",
          "name": "stderr",
          "text": [
            "/usr/local/lib/python3.11/dist-packages/sklearn/linear_model/_logistic.py:465: ConvergenceWarning: lbfgs failed to converge (status=1):\n",
            "STOP: TOTAL NO. of ITERATIONS REACHED LIMIT.\n",
            "\n",
            "Increase the number of iterations (max_iter) or scale the data as shown in:\n",
            "    https://scikit-learn.org/stable/modules/preprocessing.html\n",
            "Please also refer to the documentation for alternative solver options:\n",
            "    https://scikit-learn.org/stable/modules/linear_model.html#logistic-regression\n",
            "  n_iter_i = _check_optimize_result(\n"
          ]
        },
        {
          "output_type": "stream",
          "name": "stdout",
          "text": [
            "Training period ended at 2019-09-30 00:00:00 - Prediction for period 2019-10-31 00:00:00: Model 'RandomForest' Accuracy = 1.00\n",
            "Training period ended at 2019-09-30 00:00:00 - Prediction for period 2019-10-31 00:00:00: Model 'GradientBoosting' Accuracy = 1.00\n",
            "Training period ended at 2019-09-30 00:00:00 - Prediction for period 2019-10-31 00:00:00: Model 'LogisticRegression' Accuracy = 1.00\n",
            "Training period ended at 2019-09-30 00:00:00 - Prediction for period 2019-10-31 00:00:00: Model 'SVC_linear' Accuracy = 1.00\n",
            "Training period ended at 2019-09-30 00:00:00 - Prediction for period 2019-10-31 00:00:00: Model 'SVC_rbf' Accuracy = 1.00\n"
          ]
        },
        {
          "output_type": "stream",
          "name": "stderr",
          "text": [
            "/usr/local/lib/python3.11/dist-packages/sklearn/linear_model/_logistic.py:465: ConvergenceWarning: lbfgs failed to converge (status=1):\n",
            "STOP: TOTAL NO. of ITERATIONS REACHED LIMIT.\n",
            "\n",
            "Increase the number of iterations (max_iter) or scale the data as shown in:\n",
            "    https://scikit-learn.org/stable/modules/preprocessing.html\n",
            "Please also refer to the documentation for alternative solver options:\n",
            "    https://scikit-learn.org/stable/modules/linear_model.html#logistic-regression\n",
            "  n_iter_i = _check_optimize_result(\n"
          ]
        },
        {
          "output_type": "stream",
          "name": "stdout",
          "text": [
            "Training period ended at 2019-10-31 00:00:00 - Prediction for period 2019-11-29 00:00:00: Model 'RandomForest' Accuracy = 1.00\n",
            "Training period ended at 2019-10-31 00:00:00 - Prediction for period 2019-11-29 00:00:00: Model 'GradientBoosting' Accuracy = 1.00\n"
          ]
        },
        {
          "output_type": "stream",
          "name": "stderr",
          "text": [
            "/usr/local/lib/python3.11/dist-packages/sklearn/linear_model/_logistic.py:465: ConvergenceWarning: lbfgs failed to converge (status=1):\n",
            "STOP: TOTAL NO. of ITERATIONS REACHED LIMIT.\n",
            "\n",
            "Increase the number of iterations (max_iter) or scale the data as shown in:\n",
            "    https://scikit-learn.org/stable/modules/preprocessing.html\n",
            "Please also refer to the documentation for alternative solver options:\n",
            "    https://scikit-learn.org/stable/modules/linear_model.html#logistic-regression\n",
            "  n_iter_i = _check_optimize_result(\n"
          ]
        },
        {
          "output_type": "stream",
          "name": "stdout",
          "text": [
            "Training period ended at 2019-10-31 00:00:00 - Prediction for period 2019-11-29 00:00:00: Model 'LogisticRegression' Accuracy = 1.00\n",
            "Training period ended at 2019-10-31 00:00:00 - Prediction for period 2019-11-29 00:00:00: Model 'SVC_linear' Accuracy = 1.00\n",
            "Training period ended at 2019-10-31 00:00:00 - Prediction for period 2019-11-29 00:00:00: Model 'SVC_rbf' Accuracy = 1.00\n",
            "Training period ended at 2019-11-29 00:00:00 - Prediction for period 2019-12-31 00:00:00: Model 'RandomForest' Accuracy = 1.00\n",
            "Training period ended at 2019-11-29 00:00:00 - Prediction for period 2019-12-31 00:00:00: Model 'GradientBoosting' Accuracy = 0.00\n"
          ]
        },
        {
          "output_type": "stream",
          "name": "stderr",
          "text": [
            "/usr/local/lib/python3.11/dist-packages/sklearn/linear_model/_logistic.py:465: ConvergenceWarning: lbfgs failed to converge (status=1):\n",
            "STOP: TOTAL NO. of ITERATIONS REACHED LIMIT.\n",
            "\n",
            "Increase the number of iterations (max_iter) or scale the data as shown in:\n",
            "    https://scikit-learn.org/stable/modules/preprocessing.html\n",
            "Please also refer to the documentation for alternative solver options:\n",
            "    https://scikit-learn.org/stable/modules/linear_model.html#logistic-regression\n",
            "  n_iter_i = _check_optimize_result(\n"
          ]
        },
        {
          "output_type": "stream",
          "name": "stdout",
          "text": [
            "Training period ended at 2019-11-29 00:00:00 - Prediction for period 2019-12-31 00:00:00: Model 'LogisticRegression' Accuracy = 1.00\n",
            "Training period ended at 2019-11-29 00:00:00 - Prediction for period 2019-12-31 00:00:00: Model 'SVC_linear' Accuracy = 1.00\n",
            "Training period ended at 2019-11-29 00:00:00 - Prediction for period 2019-12-31 00:00:00: Model 'SVC_rbf' Accuracy = 1.00\n",
            "Training period ended at 2019-12-31 00:00:00 - Prediction for period 2020-01-31 00:00:00: Model 'RandomForest' Accuracy = 1.00\n",
            "Training period ended at 2019-12-31 00:00:00 - Prediction for period 2020-01-31 00:00:00: Model 'GradientBoosting' Accuracy = 1.00\n"
          ]
        },
        {
          "output_type": "stream",
          "name": "stderr",
          "text": [
            "/usr/local/lib/python3.11/dist-packages/sklearn/linear_model/_logistic.py:465: ConvergenceWarning: lbfgs failed to converge (status=1):\n",
            "STOP: TOTAL NO. of ITERATIONS REACHED LIMIT.\n",
            "\n",
            "Increase the number of iterations (max_iter) or scale the data as shown in:\n",
            "    https://scikit-learn.org/stable/modules/preprocessing.html\n",
            "Please also refer to the documentation for alternative solver options:\n",
            "    https://scikit-learn.org/stable/modules/linear_model.html#logistic-regression\n",
            "  n_iter_i = _check_optimize_result(\n"
          ]
        },
        {
          "output_type": "stream",
          "name": "stdout",
          "text": [
            "Training period ended at 2019-12-31 00:00:00 - Prediction for period 2020-01-31 00:00:00: Model 'LogisticRegression' Accuracy = 0.00\n",
            "Training period ended at 2019-12-31 00:00:00 - Prediction for period 2020-01-31 00:00:00: Model 'SVC_linear' Accuracy = 1.00\n",
            "Training period ended at 2019-12-31 00:00:00 - Prediction for period 2020-01-31 00:00:00: Model 'SVC_rbf' Accuracy = 1.00\n",
            "Training period ended at 2020-01-31 00:00:00 - Prediction for period 2020-02-28 00:00:00: Model 'RandomForest' Accuracy = 0.00\n",
            "Training period ended at 2020-01-31 00:00:00 - Prediction for period 2020-02-28 00:00:00: Model 'GradientBoosting' Accuracy = 1.00\n",
            "Training period ended at 2020-01-31 00:00:00 - Prediction for period 2020-02-28 00:00:00: Model 'LogisticRegression' Accuracy = 0.00\n",
            "Training period ended at 2020-01-31 00:00:00 - Prediction for period 2020-02-28 00:00:00: Model 'SVC_linear' Accuracy = 0.00\n",
            "Training period ended at 2020-01-31 00:00:00 - Prediction for period 2020-02-28 00:00:00: Model 'SVC_rbf' Accuracy = 0.00\n"
          ]
        },
        {
          "output_type": "stream",
          "name": "stderr",
          "text": [
            "/usr/local/lib/python3.11/dist-packages/sklearn/linear_model/_logistic.py:465: ConvergenceWarning: lbfgs failed to converge (status=1):\n",
            "STOP: TOTAL NO. of ITERATIONS REACHED LIMIT.\n",
            "\n",
            "Increase the number of iterations (max_iter) or scale the data as shown in:\n",
            "    https://scikit-learn.org/stable/modules/preprocessing.html\n",
            "Please also refer to the documentation for alternative solver options:\n",
            "    https://scikit-learn.org/stable/modules/linear_model.html#logistic-regression\n",
            "  n_iter_i = _check_optimize_result(\n"
          ]
        },
        {
          "output_type": "stream",
          "name": "stdout",
          "text": [
            "Training period ended at 2020-02-28 00:00:00 - Prediction for period 2020-03-31 00:00:00: Model 'RandomForest' Accuracy = 0.00\n",
            "Training period ended at 2020-02-28 00:00:00 - Prediction for period 2020-03-31 00:00:00: Model 'GradientBoosting' Accuracy = 0.00\n",
            "Training period ended at 2020-02-28 00:00:00 - Prediction for period 2020-03-31 00:00:00: Model 'LogisticRegression' Accuracy = 1.00\n",
            "Training period ended at 2020-02-28 00:00:00 - Prediction for period 2020-03-31 00:00:00: Model 'SVC_linear' Accuracy = 1.00\n",
            "Training period ended at 2020-02-28 00:00:00 - Prediction for period 2020-03-31 00:00:00: Model 'SVC_rbf' Accuracy = 0.00\n"
          ]
        },
        {
          "output_type": "stream",
          "name": "stderr",
          "text": [
            "/usr/local/lib/python3.11/dist-packages/sklearn/linear_model/_logistic.py:465: ConvergenceWarning: lbfgs failed to converge (status=1):\n",
            "STOP: TOTAL NO. of ITERATIONS REACHED LIMIT.\n",
            "\n",
            "Increase the number of iterations (max_iter) or scale the data as shown in:\n",
            "    https://scikit-learn.org/stable/modules/preprocessing.html\n",
            "Please also refer to the documentation for alternative solver options:\n",
            "    https://scikit-learn.org/stable/modules/linear_model.html#logistic-regression\n",
            "  n_iter_i = _check_optimize_result(\n"
          ]
        },
        {
          "output_type": "stream",
          "name": "stdout",
          "text": [
            "Training period ended at 2020-03-31 00:00:00 - Prediction for period 2020-04-30 00:00:00: Model 'RandomForest' Accuracy = 1.00\n",
            "Training period ended at 2020-03-31 00:00:00 - Prediction for period 2020-04-30 00:00:00: Model 'GradientBoosting' Accuracy = 1.00\n",
            "Training period ended at 2020-03-31 00:00:00 - Prediction for period 2020-04-30 00:00:00: Model 'LogisticRegression' Accuracy = 1.00\n",
            "Training period ended at 2020-03-31 00:00:00 - Prediction for period 2020-04-30 00:00:00: Model 'SVC_linear' Accuracy = 1.00\n",
            "Training period ended at 2020-03-31 00:00:00 - Prediction for period 2020-04-30 00:00:00: Model 'SVC_rbf' Accuracy = 0.00\n"
          ]
        },
        {
          "output_type": "stream",
          "name": "stderr",
          "text": [
            "/usr/local/lib/python3.11/dist-packages/sklearn/linear_model/_logistic.py:465: ConvergenceWarning: lbfgs failed to converge (status=1):\n",
            "STOP: TOTAL NO. of ITERATIONS REACHED LIMIT.\n",
            "\n",
            "Increase the number of iterations (max_iter) or scale the data as shown in:\n",
            "    https://scikit-learn.org/stable/modules/preprocessing.html\n",
            "Please also refer to the documentation for alternative solver options:\n",
            "    https://scikit-learn.org/stable/modules/linear_model.html#logistic-regression\n",
            "  n_iter_i = _check_optimize_result(\n"
          ]
        },
        {
          "output_type": "stream",
          "name": "stdout",
          "text": [
            "Training period ended at 2020-04-30 00:00:00 - Prediction for period 2020-05-29 00:00:00: Model 'RandomForest' Accuracy = 0.00\n",
            "Training period ended at 2020-04-30 00:00:00 - Prediction for period 2020-05-29 00:00:00: Model 'GradientBoosting' Accuracy = 0.00\n",
            "Training period ended at 2020-04-30 00:00:00 - Prediction for period 2020-05-29 00:00:00: Model 'LogisticRegression' Accuracy = 1.00\n",
            "Training period ended at 2020-04-30 00:00:00 - Prediction for period 2020-05-29 00:00:00: Model 'SVC_linear' Accuracy = 1.00\n",
            "Training period ended at 2020-04-30 00:00:00 - Prediction for period 2020-05-29 00:00:00: Model 'SVC_rbf' Accuracy = 1.00\n"
          ]
        },
        {
          "output_type": "stream",
          "name": "stderr",
          "text": [
            "/usr/local/lib/python3.11/dist-packages/sklearn/linear_model/_logistic.py:465: ConvergenceWarning: lbfgs failed to converge (status=1):\n",
            "STOP: TOTAL NO. of ITERATIONS REACHED LIMIT.\n",
            "\n",
            "Increase the number of iterations (max_iter) or scale the data as shown in:\n",
            "    https://scikit-learn.org/stable/modules/preprocessing.html\n",
            "Please also refer to the documentation for alternative solver options:\n",
            "    https://scikit-learn.org/stable/modules/linear_model.html#logistic-regression\n",
            "  n_iter_i = _check_optimize_result(\n"
          ]
        },
        {
          "output_type": "stream",
          "name": "stdout",
          "text": [
            "Training period ended at 2020-05-29 00:00:00 - Prediction for period 2020-06-30 00:00:00: Model 'RandomForest' Accuracy = 1.00\n",
            "Training period ended at 2020-05-29 00:00:00 - Prediction for period 2020-06-30 00:00:00: Model 'GradientBoosting' Accuracy = 1.00\n",
            "Training period ended at 2020-05-29 00:00:00 - Prediction for period 2020-06-30 00:00:00: Model 'LogisticRegression' Accuracy = 1.00\n",
            "Training period ended at 2020-05-29 00:00:00 - Prediction for period 2020-06-30 00:00:00: Model 'SVC_linear' Accuracy = 1.00\n",
            "Training period ended at 2020-05-29 00:00:00 - Prediction for period 2020-06-30 00:00:00: Model 'SVC_rbf' Accuracy = 1.00\n"
          ]
        },
        {
          "output_type": "stream",
          "name": "stderr",
          "text": [
            "/usr/local/lib/python3.11/dist-packages/sklearn/linear_model/_logistic.py:465: ConvergenceWarning: lbfgs failed to converge (status=1):\n",
            "STOP: TOTAL NO. of ITERATIONS REACHED LIMIT.\n",
            "\n",
            "Increase the number of iterations (max_iter) or scale the data as shown in:\n",
            "    https://scikit-learn.org/stable/modules/preprocessing.html\n",
            "Please also refer to the documentation for alternative solver options:\n",
            "    https://scikit-learn.org/stable/modules/linear_model.html#logistic-regression\n",
            "  n_iter_i = _check_optimize_result(\n"
          ]
        },
        {
          "output_type": "stream",
          "name": "stdout",
          "text": [
            "Training period ended at 2020-06-30 00:00:00 - Prediction for period 2020-07-31 00:00:00: Model 'RandomForest' Accuracy = 1.00\n",
            "Training period ended at 2020-06-30 00:00:00 - Prediction for period 2020-07-31 00:00:00: Model 'GradientBoosting' Accuracy = 1.00\n",
            "Training period ended at 2020-06-30 00:00:00 - Prediction for period 2020-07-31 00:00:00: Model 'LogisticRegression' Accuracy = 1.00\n",
            "Training period ended at 2020-06-30 00:00:00 - Prediction for period 2020-07-31 00:00:00: Model 'SVC_linear' Accuracy = 1.00\n",
            "Training period ended at 2020-06-30 00:00:00 - Prediction for period 2020-07-31 00:00:00: Model 'SVC_rbf' Accuracy = 1.00\n"
          ]
        },
        {
          "output_type": "stream",
          "name": "stderr",
          "text": [
            "/usr/local/lib/python3.11/dist-packages/sklearn/linear_model/_logistic.py:465: ConvergenceWarning: lbfgs failed to converge (status=1):\n",
            "STOP: TOTAL NO. of ITERATIONS REACHED LIMIT.\n",
            "\n",
            "Increase the number of iterations (max_iter) or scale the data as shown in:\n",
            "    https://scikit-learn.org/stable/modules/preprocessing.html\n",
            "Please also refer to the documentation for alternative solver options:\n",
            "    https://scikit-learn.org/stable/modules/linear_model.html#logistic-regression\n",
            "  n_iter_i = _check_optimize_result(\n"
          ]
        },
        {
          "output_type": "stream",
          "name": "stdout",
          "text": [
            "Training period ended at 2020-07-31 00:00:00 - Prediction for period 2020-08-31 00:00:00: Model 'RandomForest' Accuracy = 1.00\n",
            "Training period ended at 2020-07-31 00:00:00 - Prediction for period 2020-08-31 00:00:00: Model 'GradientBoosting' Accuracy = 1.00\n",
            "Training period ended at 2020-07-31 00:00:00 - Prediction for period 2020-08-31 00:00:00: Model 'LogisticRegression' Accuracy = 1.00\n",
            "Training period ended at 2020-07-31 00:00:00 - Prediction for period 2020-08-31 00:00:00: Model 'SVC_linear' Accuracy = 1.00\n",
            "Training period ended at 2020-07-31 00:00:00 - Prediction for period 2020-08-31 00:00:00: Model 'SVC_rbf' Accuracy = 1.00\n"
          ]
        },
        {
          "output_type": "stream",
          "name": "stderr",
          "text": [
            "/usr/local/lib/python3.11/dist-packages/sklearn/linear_model/_logistic.py:465: ConvergenceWarning: lbfgs failed to converge (status=1):\n",
            "STOP: TOTAL NO. of ITERATIONS REACHED LIMIT.\n",
            "\n",
            "Increase the number of iterations (max_iter) or scale the data as shown in:\n",
            "    https://scikit-learn.org/stable/modules/preprocessing.html\n",
            "Please also refer to the documentation for alternative solver options:\n",
            "    https://scikit-learn.org/stable/modules/linear_model.html#logistic-regression\n",
            "  n_iter_i = _check_optimize_result(\n"
          ]
        },
        {
          "output_type": "stream",
          "name": "stdout",
          "text": [
            "Training period ended at 2020-08-31 00:00:00 - Prediction for period 2020-09-30 00:00:00: Model 'RandomForest' Accuracy = 0.00\n",
            "Training period ended at 2020-08-31 00:00:00 - Prediction for period 2020-09-30 00:00:00: Model 'GradientBoosting' Accuracy = 0.00\n",
            "Training period ended at 2020-08-31 00:00:00 - Prediction for period 2020-09-30 00:00:00: Model 'LogisticRegression' Accuracy = 0.00\n",
            "Training period ended at 2020-08-31 00:00:00 - Prediction for period 2020-09-30 00:00:00: Model 'SVC_linear' Accuracy = 0.00\n",
            "Training period ended at 2020-08-31 00:00:00 - Prediction for period 2020-09-30 00:00:00: Model 'SVC_rbf' Accuracy = 0.00\n"
          ]
        },
        {
          "output_type": "stream",
          "name": "stderr",
          "text": [
            "/usr/local/lib/python3.11/dist-packages/sklearn/linear_model/_logistic.py:465: ConvergenceWarning: lbfgs failed to converge (status=1):\n",
            "STOP: TOTAL NO. of ITERATIONS REACHED LIMIT.\n",
            "\n",
            "Increase the number of iterations (max_iter) or scale the data as shown in:\n",
            "    https://scikit-learn.org/stable/modules/preprocessing.html\n",
            "Please also refer to the documentation for alternative solver options:\n",
            "    https://scikit-learn.org/stable/modules/linear_model.html#logistic-regression\n",
            "  n_iter_i = _check_optimize_result(\n"
          ]
        },
        {
          "output_type": "stream",
          "name": "stdout",
          "text": [
            "Training period ended at 2020-09-30 00:00:00 - Prediction for period 2020-10-30 00:00:00: Model 'RandomForest' Accuracy = 0.00\n",
            "Training period ended at 2020-09-30 00:00:00 - Prediction for period 2020-10-30 00:00:00: Model 'GradientBoosting' Accuracy = 0.00\n",
            "Training period ended at 2020-09-30 00:00:00 - Prediction for period 2020-10-30 00:00:00: Model 'LogisticRegression' Accuracy = 0.00\n",
            "Training period ended at 2020-09-30 00:00:00 - Prediction for period 2020-10-30 00:00:00: Model 'SVC_linear' Accuracy = 0.00\n",
            "Training period ended at 2020-09-30 00:00:00 - Prediction for period 2020-10-30 00:00:00: Model 'SVC_rbf' Accuracy = 0.00\n"
          ]
        },
        {
          "output_type": "stream",
          "name": "stderr",
          "text": [
            "/usr/local/lib/python3.11/dist-packages/sklearn/linear_model/_logistic.py:465: ConvergenceWarning: lbfgs failed to converge (status=1):\n",
            "STOP: TOTAL NO. of ITERATIONS REACHED LIMIT.\n",
            "\n",
            "Increase the number of iterations (max_iter) or scale the data as shown in:\n",
            "    https://scikit-learn.org/stable/modules/preprocessing.html\n",
            "Please also refer to the documentation for alternative solver options:\n",
            "    https://scikit-learn.org/stable/modules/linear_model.html#logistic-regression\n",
            "  n_iter_i = _check_optimize_result(\n"
          ]
        },
        {
          "output_type": "stream",
          "name": "stdout",
          "text": [
            "Training period ended at 2020-10-30 00:00:00 - Prediction for period 2020-11-30 00:00:00: Model 'RandomForest' Accuracy = 1.00\n",
            "Training period ended at 2020-10-30 00:00:00 - Prediction for period 2020-11-30 00:00:00: Model 'GradientBoosting' Accuracy = 1.00\n",
            "Training period ended at 2020-10-30 00:00:00 - Prediction for period 2020-11-30 00:00:00: Model 'LogisticRegression' Accuracy = 1.00\n",
            "Training period ended at 2020-10-30 00:00:00 - Prediction for period 2020-11-30 00:00:00: Model 'SVC_linear' Accuracy = 1.00\n",
            "Training period ended at 2020-10-30 00:00:00 - Prediction for period 2020-11-30 00:00:00: Model 'SVC_rbf' Accuracy = 0.00\n"
          ]
        },
        {
          "output_type": "stream",
          "name": "stderr",
          "text": [
            "/usr/local/lib/python3.11/dist-packages/sklearn/linear_model/_logistic.py:465: ConvergenceWarning: lbfgs failed to converge (status=1):\n",
            "STOP: TOTAL NO. of ITERATIONS REACHED LIMIT.\n",
            "\n",
            "Increase the number of iterations (max_iter) or scale the data as shown in:\n",
            "    https://scikit-learn.org/stable/modules/preprocessing.html\n",
            "Please also refer to the documentation for alternative solver options:\n",
            "    https://scikit-learn.org/stable/modules/linear_model.html#logistic-regression\n",
            "  n_iter_i = _check_optimize_result(\n"
          ]
        },
        {
          "output_type": "stream",
          "name": "stdout",
          "text": [
            "Training period ended at 2020-11-30 00:00:00 - Prediction for period 2020-12-31 00:00:00: Model 'RandomForest' Accuracy = 1.00\n",
            "Training period ended at 2020-11-30 00:00:00 - Prediction for period 2020-12-31 00:00:00: Model 'GradientBoosting' Accuracy = 1.00\n",
            "Training period ended at 2020-11-30 00:00:00 - Prediction for period 2020-12-31 00:00:00: Model 'LogisticRegression' Accuracy = 1.00\n",
            "Training period ended at 2020-11-30 00:00:00 - Prediction for period 2020-12-31 00:00:00: Model 'SVC_linear' Accuracy = 1.00\n",
            "Training period ended at 2020-11-30 00:00:00 - Prediction for period 2020-12-31 00:00:00: Model 'SVC_rbf' Accuracy = 1.00\n"
          ]
        },
        {
          "output_type": "stream",
          "name": "stderr",
          "text": [
            "/usr/local/lib/python3.11/dist-packages/sklearn/linear_model/_logistic.py:465: ConvergenceWarning: lbfgs failed to converge (status=1):\n",
            "STOP: TOTAL NO. of ITERATIONS REACHED LIMIT.\n",
            "\n",
            "Increase the number of iterations (max_iter) or scale the data as shown in:\n",
            "    https://scikit-learn.org/stable/modules/preprocessing.html\n",
            "Please also refer to the documentation for alternative solver options:\n",
            "    https://scikit-learn.org/stable/modules/linear_model.html#logistic-regression\n",
            "  n_iter_i = _check_optimize_result(\n"
          ]
        },
        {
          "output_type": "stream",
          "name": "stdout",
          "text": [
            "Training period ended at 2020-12-31 00:00:00 - Prediction for period 2021-01-29 00:00:00: Model 'RandomForest' Accuracy = 1.00\n",
            "Training period ended at 2020-12-31 00:00:00 - Prediction for period 2021-01-29 00:00:00: Model 'GradientBoosting' Accuracy = 1.00\n",
            "Training period ended at 2020-12-31 00:00:00 - Prediction for period 2021-01-29 00:00:00: Model 'LogisticRegression' Accuracy = 1.00\n",
            "Training period ended at 2020-12-31 00:00:00 - Prediction for period 2021-01-29 00:00:00: Model 'SVC_linear' Accuracy = 1.00\n",
            "Training period ended at 2020-12-31 00:00:00 - Prediction for period 2021-01-29 00:00:00: Model 'SVC_rbf' Accuracy = 1.00\n"
          ]
        },
        {
          "output_type": "stream",
          "name": "stderr",
          "text": [
            "/usr/local/lib/python3.11/dist-packages/sklearn/linear_model/_logistic.py:465: ConvergenceWarning: lbfgs failed to converge (status=1):\n",
            "STOP: TOTAL NO. of ITERATIONS REACHED LIMIT.\n",
            "\n",
            "Increase the number of iterations (max_iter) or scale the data as shown in:\n",
            "    https://scikit-learn.org/stable/modules/preprocessing.html\n",
            "Please also refer to the documentation for alternative solver options:\n",
            "    https://scikit-learn.org/stable/modules/linear_model.html#logistic-regression\n",
            "  n_iter_i = _check_optimize_result(\n"
          ]
        },
        {
          "output_type": "stream",
          "name": "stdout",
          "text": [
            "Training period ended at 2021-01-29 00:00:00 - Prediction for period 2021-02-26 00:00:00: Model 'RandomForest' Accuracy = 0.00\n",
            "Training period ended at 2021-01-29 00:00:00 - Prediction for period 2021-02-26 00:00:00: Model 'GradientBoosting' Accuracy = 0.00\n",
            "Training period ended at 2021-01-29 00:00:00 - Prediction for period 2021-02-26 00:00:00: Model 'LogisticRegression' Accuracy = 0.00\n",
            "Training period ended at 2021-01-29 00:00:00 - Prediction for period 2021-02-26 00:00:00: Model 'SVC_linear' Accuracy = 0.00\n",
            "Training period ended at 2021-01-29 00:00:00 - Prediction for period 2021-02-26 00:00:00: Model 'SVC_rbf' Accuracy = 1.00\n"
          ]
        },
        {
          "output_type": "stream",
          "name": "stderr",
          "text": [
            "/usr/local/lib/python3.11/dist-packages/sklearn/linear_model/_logistic.py:465: ConvergenceWarning: lbfgs failed to converge (status=1):\n",
            "STOP: TOTAL NO. of ITERATIONS REACHED LIMIT.\n",
            "\n",
            "Increase the number of iterations (max_iter) or scale the data as shown in:\n",
            "    https://scikit-learn.org/stable/modules/preprocessing.html\n",
            "Please also refer to the documentation for alternative solver options:\n",
            "    https://scikit-learn.org/stable/modules/linear_model.html#logistic-regression\n",
            "  n_iter_i = _check_optimize_result(\n"
          ]
        },
        {
          "output_type": "stream",
          "name": "stdout",
          "text": [
            "Training period ended at 2021-02-26 00:00:00 - Prediction for period 2021-03-31 00:00:00: Model 'RandomForest' Accuracy = 1.00\n",
            "Training period ended at 2021-02-26 00:00:00 - Prediction for period 2021-03-31 00:00:00: Model 'GradientBoosting' Accuracy = 1.00\n"
          ]
        },
        {
          "output_type": "stream",
          "name": "stderr",
          "text": [
            "/usr/local/lib/python3.11/dist-packages/sklearn/linear_model/_logistic.py:465: ConvergenceWarning: lbfgs failed to converge (status=1):\n",
            "STOP: TOTAL NO. of ITERATIONS REACHED LIMIT.\n",
            "\n",
            "Increase the number of iterations (max_iter) or scale the data as shown in:\n",
            "    https://scikit-learn.org/stable/modules/preprocessing.html\n",
            "Please also refer to the documentation for alternative solver options:\n",
            "    https://scikit-learn.org/stable/modules/linear_model.html#logistic-regression\n",
            "  n_iter_i = _check_optimize_result(\n"
          ]
        },
        {
          "output_type": "stream",
          "name": "stdout",
          "text": [
            "Training period ended at 2021-02-26 00:00:00 - Prediction for period 2021-03-31 00:00:00: Model 'LogisticRegression' Accuracy = 1.00\n",
            "Training period ended at 2021-02-26 00:00:00 - Prediction for period 2021-03-31 00:00:00: Model 'SVC_linear' Accuracy = 1.00\n",
            "Training period ended at 2021-02-26 00:00:00 - Prediction for period 2021-03-31 00:00:00: Model 'SVC_rbf' Accuracy = 1.00\n",
            "Training period ended at 2021-03-31 00:00:00 - Prediction for period 2021-04-30 00:00:00: Model 'RandomForest' Accuracy = 1.00\n",
            "Training period ended at 2021-03-31 00:00:00 - Prediction for period 2021-04-30 00:00:00: Model 'GradientBoosting' Accuracy = 1.00\n"
          ]
        },
        {
          "output_type": "stream",
          "name": "stderr",
          "text": [
            "/usr/local/lib/python3.11/dist-packages/sklearn/linear_model/_logistic.py:465: ConvergenceWarning: lbfgs failed to converge (status=1):\n",
            "STOP: TOTAL NO. of ITERATIONS REACHED LIMIT.\n",
            "\n",
            "Increase the number of iterations (max_iter) or scale the data as shown in:\n",
            "    https://scikit-learn.org/stable/modules/preprocessing.html\n",
            "Please also refer to the documentation for alternative solver options:\n",
            "    https://scikit-learn.org/stable/modules/linear_model.html#logistic-regression\n",
            "  n_iter_i = _check_optimize_result(\n"
          ]
        },
        {
          "output_type": "stream",
          "name": "stdout",
          "text": [
            "Training period ended at 2021-03-31 00:00:00 - Prediction for period 2021-04-30 00:00:00: Model 'LogisticRegression' Accuracy = 1.00\n",
            "Training period ended at 2021-03-31 00:00:00 - Prediction for period 2021-04-30 00:00:00: Model 'SVC_linear' Accuracy = 1.00\n",
            "Training period ended at 2021-03-31 00:00:00 - Prediction for period 2021-04-30 00:00:00: Model 'SVC_rbf' Accuracy = 1.00\n",
            "Training period ended at 2021-04-30 00:00:00 - Prediction for period 2021-05-31 00:00:00: Model 'RandomForest' Accuracy = 1.00\n",
            "Training period ended at 2021-04-30 00:00:00 - Prediction for period 2021-05-31 00:00:00: Model 'GradientBoosting' Accuracy = 1.00\n"
          ]
        },
        {
          "output_type": "stream",
          "name": "stderr",
          "text": [
            "/usr/local/lib/python3.11/dist-packages/sklearn/linear_model/_logistic.py:465: ConvergenceWarning: lbfgs failed to converge (status=1):\n",
            "STOP: TOTAL NO. of ITERATIONS REACHED LIMIT.\n",
            "\n",
            "Increase the number of iterations (max_iter) or scale the data as shown in:\n",
            "    https://scikit-learn.org/stable/modules/preprocessing.html\n",
            "Please also refer to the documentation for alternative solver options:\n",
            "    https://scikit-learn.org/stable/modules/linear_model.html#logistic-regression\n",
            "  n_iter_i = _check_optimize_result(\n"
          ]
        },
        {
          "output_type": "stream",
          "name": "stdout",
          "text": [
            "Training period ended at 2021-04-30 00:00:00 - Prediction for period 2021-05-31 00:00:00: Model 'LogisticRegression' Accuracy = 1.00\n",
            "Training period ended at 2021-04-30 00:00:00 - Prediction for period 2021-05-31 00:00:00: Model 'SVC_linear' Accuracy = 1.00\n",
            "Training period ended at 2021-04-30 00:00:00 - Prediction for period 2021-05-31 00:00:00: Model 'SVC_rbf' Accuracy = 1.00\n",
            "Training period ended at 2021-05-31 00:00:00 - Prediction for period 2021-06-30 00:00:00: Model 'RandomForest' Accuracy = 1.00\n",
            "Training period ended at 2021-05-31 00:00:00 - Prediction for period 2021-06-30 00:00:00: Model 'GradientBoosting' Accuracy = 1.00\n",
            "Training period ended at 2021-05-31 00:00:00 - Prediction for period 2021-06-30 00:00:00: Model 'LogisticRegression' Accuracy = 1.00\n",
            "Training period ended at 2021-05-31 00:00:00 - Prediction for period 2021-06-30 00:00:00: Model 'SVC_linear' Accuracy = 1.00\n",
            "Training period ended at 2021-05-31 00:00:00 - Prediction for period 2021-06-30 00:00:00: Model 'SVC_rbf' Accuracy = 1.00\n"
          ]
        },
        {
          "output_type": "stream",
          "name": "stderr",
          "text": [
            "/usr/local/lib/python3.11/dist-packages/sklearn/linear_model/_logistic.py:465: ConvergenceWarning: lbfgs failed to converge (status=1):\n",
            "STOP: TOTAL NO. of ITERATIONS REACHED LIMIT.\n",
            "\n",
            "Increase the number of iterations (max_iter) or scale the data as shown in:\n",
            "    https://scikit-learn.org/stable/modules/preprocessing.html\n",
            "Please also refer to the documentation for alternative solver options:\n",
            "    https://scikit-learn.org/stable/modules/linear_model.html#logistic-regression\n",
            "  n_iter_i = _check_optimize_result(\n"
          ]
        },
        {
          "output_type": "stream",
          "name": "stdout",
          "text": [
            "Training period ended at 2021-06-30 00:00:00 - Prediction for period 2021-07-30 00:00:00: Model 'RandomForest' Accuracy = 1.00\n",
            "Training period ended at 2021-06-30 00:00:00 - Prediction for period 2021-07-30 00:00:00: Model 'GradientBoosting' Accuracy = 1.00\n",
            "Training period ended at 2021-06-30 00:00:00 - Prediction for period 2021-07-30 00:00:00: Model 'LogisticRegression' Accuracy = 1.00\n",
            "Training period ended at 2021-06-30 00:00:00 - Prediction for period 2021-07-30 00:00:00: Model 'SVC_linear' Accuracy = 1.00\n",
            "Training period ended at 2021-06-30 00:00:00 - Prediction for period 2021-07-30 00:00:00: Model 'SVC_rbf' Accuracy = 1.00\n"
          ]
        },
        {
          "output_type": "stream",
          "name": "stderr",
          "text": [
            "/usr/local/lib/python3.11/dist-packages/sklearn/linear_model/_logistic.py:465: ConvergenceWarning: lbfgs failed to converge (status=1):\n",
            "STOP: TOTAL NO. of ITERATIONS REACHED LIMIT.\n",
            "\n",
            "Increase the number of iterations (max_iter) or scale the data as shown in:\n",
            "    https://scikit-learn.org/stable/modules/preprocessing.html\n",
            "Please also refer to the documentation for alternative solver options:\n",
            "    https://scikit-learn.org/stable/modules/linear_model.html#logistic-regression\n",
            "  n_iter_i = _check_optimize_result(\n"
          ]
        },
        {
          "output_type": "stream",
          "name": "stdout",
          "text": [
            "Training period ended at 2021-07-30 00:00:00 - Prediction for period 2021-08-31 00:00:00: Model 'RandomForest' Accuracy = 1.00\n",
            "Training period ended at 2021-07-30 00:00:00 - Prediction for period 2021-08-31 00:00:00: Model 'GradientBoosting' Accuracy = 1.00\n",
            "Training period ended at 2021-07-30 00:00:00 - Prediction for period 2021-08-31 00:00:00: Model 'LogisticRegression' Accuracy = 1.00\n",
            "Training period ended at 2021-07-30 00:00:00 - Prediction for period 2021-08-31 00:00:00: Model 'SVC_linear' Accuracy = 1.00\n",
            "Training period ended at 2021-07-30 00:00:00 - Prediction for period 2021-08-31 00:00:00: Model 'SVC_rbf' Accuracy = 1.00\n"
          ]
        },
        {
          "output_type": "stream",
          "name": "stderr",
          "text": [
            "/usr/local/lib/python3.11/dist-packages/sklearn/linear_model/_logistic.py:465: ConvergenceWarning: lbfgs failed to converge (status=1):\n",
            "STOP: TOTAL NO. of ITERATIONS REACHED LIMIT.\n",
            "\n",
            "Increase the number of iterations (max_iter) or scale the data as shown in:\n",
            "    https://scikit-learn.org/stable/modules/preprocessing.html\n",
            "Please also refer to the documentation for alternative solver options:\n",
            "    https://scikit-learn.org/stable/modules/linear_model.html#logistic-regression\n",
            "  n_iter_i = _check_optimize_result(\n"
          ]
        },
        {
          "output_type": "stream",
          "name": "stdout",
          "text": [
            "Training period ended at 2021-08-31 00:00:00 - Prediction for period 2021-09-30 00:00:00: Model 'RandomForest' Accuracy = 0.00\n",
            "Training period ended at 2021-08-31 00:00:00 - Prediction for period 2021-09-30 00:00:00: Model 'GradientBoosting' Accuracy = 0.00\n",
            "Training period ended at 2021-08-31 00:00:00 - Prediction for period 2021-09-30 00:00:00: Model 'LogisticRegression' Accuracy = 0.00\n",
            "Training period ended at 2021-08-31 00:00:00 - Prediction for period 2021-09-30 00:00:00: Model 'SVC_linear' Accuracy = 0.00\n",
            "Training period ended at 2021-08-31 00:00:00 - Prediction for period 2021-09-30 00:00:00: Model 'SVC_rbf' Accuracy = 0.00\n"
          ]
        },
        {
          "output_type": "stream",
          "name": "stderr",
          "text": [
            "/usr/local/lib/python3.11/dist-packages/sklearn/linear_model/_logistic.py:465: ConvergenceWarning: lbfgs failed to converge (status=1):\n",
            "STOP: TOTAL NO. of ITERATIONS REACHED LIMIT.\n",
            "\n",
            "Increase the number of iterations (max_iter) or scale the data as shown in:\n",
            "    https://scikit-learn.org/stable/modules/preprocessing.html\n",
            "Please also refer to the documentation for alternative solver options:\n",
            "    https://scikit-learn.org/stable/modules/linear_model.html#logistic-regression\n",
            "  n_iter_i = _check_optimize_result(\n"
          ]
        },
        {
          "output_type": "stream",
          "name": "stdout",
          "text": [
            "Training period ended at 2021-09-30 00:00:00 - Prediction for period 2021-10-29 00:00:00: Model 'RandomForest' Accuracy = 0.00\n",
            "Training period ended at 2021-09-30 00:00:00 - Prediction for period 2021-10-29 00:00:00: Model 'GradientBoosting' Accuracy = 0.00\n",
            "Training period ended at 2021-09-30 00:00:00 - Prediction for period 2021-10-29 00:00:00: Model 'LogisticRegression' Accuracy = 0.00\n",
            "Training period ended at 2021-09-30 00:00:00 - Prediction for period 2021-10-29 00:00:00: Model 'SVC_linear' Accuracy = 0.00\n",
            "Training period ended at 2021-09-30 00:00:00 - Prediction for period 2021-10-29 00:00:00: Model 'SVC_rbf' Accuracy = 0.00\n"
          ]
        },
        {
          "output_type": "stream",
          "name": "stderr",
          "text": [
            "/usr/local/lib/python3.11/dist-packages/sklearn/linear_model/_logistic.py:465: ConvergenceWarning: lbfgs failed to converge (status=1):\n",
            "STOP: TOTAL NO. of ITERATIONS REACHED LIMIT.\n",
            "\n",
            "Increase the number of iterations (max_iter) or scale the data as shown in:\n",
            "    https://scikit-learn.org/stable/modules/preprocessing.html\n",
            "Please also refer to the documentation for alternative solver options:\n",
            "    https://scikit-learn.org/stable/modules/linear_model.html#logistic-regression\n",
            "  n_iter_i = _check_optimize_result(\n"
          ]
        },
        {
          "output_type": "stream",
          "name": "stdout",
          "text": [
            "Training period ended at 2021-10-29 00:00:00 - Prediction for period 2021-11-30 00:00:00: Model 'RandomForest' Accuracy = 0.00\n",
            "Training period ended at 2021-10-29 00:00:00 - Prediction for period 2021-11-30 00:00:00: Model 'GradientBoosting' Accuracy = 1.00\n",
            "Training period ended at 2021-10-29 00:00:00 - Prediction for period 2021-11-30 00:00:00: Model 'LogisticRegression' Accuracy = 0.00\n",
            "Training period ended at 2021-10-29 00:00:00 - Prediction for period 2021-11-30 00:00:00: Model 'SVC_linear' Accuracy = 0.00\n",
            "Training period ended at 2021-10-29 00:00:00 - Prediction for period 2021-11-30 00:00:00: Model 'SVC_rbf' Accuracy = 0.00\n"
          ]
        },
        {
          "output_type": "stream",
          "name": "stderr",
          "text": [
            "/usr/local/lib/python3.11/dist-packages/sklearn/linear_model/_logistic.py:465: ConvergenceWarning: lbfgs failed to converge (status=1):\n",
            "STOP: TOTAL NO. of ITERATIONS REACHED LIMIT.\n",
            "\n",
            "Increase the number of iterations (max_iter) or scale the data as shown in:\n",
            "    https://scikit-learn.org/stable/modules/preprocessing.html\n",
            "Please also refer to the documentation for alternative solver options:\n",
            "    https://scikit-learn.org/stable/modules/linear_model.html#logistic-regression\n",
            "  n_iter_i = _check_optimize_result(\n"
          ]
        },
        {
          "output_type": "stream",
          "name": "stdout",
          "text": [
            "Training period ended at 2021-11-30 00:00:00 - Prediction for period 2021-12-31 00:00:00: Model 'RandomForest' Accuracy = 1.00\n",
            "Training period ended at 2021-11-30 00:00:00 - Prediction for period 2021-12-31 00:00:00: Model 'GradientBoosting' Accuracy = 1.00\n",
            "Training period ended at 2021-11-30 00:00:00 - Prediction for period 2021-12-31 00:00:00: Model 'LogisticRegression' Accuracy = 1.00\n",
            "Training period ended at 2021-11-30 00:00:00 - Prediction for period 2021-12-31 00:00:00: Model 'SVC_linear' Accuracy = 1.00\n",
            "Training period ended at 2021-11-30 00:00:00 - Prediction for period 2021-12-31 00:00:00: Model 'SVC_rbf' Accuracy = 0.00\n"
          ]
        },
        {
          "output_type": "stream",
          "name": "stderr",
          "text": [
            "/usr/local/lib/python3.11/dist-packages/sklearn/linear_model/_logistic.py:465: ConvergenceWarning: lbfgs failed to converge (status=1):\n",
            "STOP: TOTAL NO. of ITERATIONS REACHED LIMIT.\n",
            "\n",
            "Increase the number of iterations (max_iter) or scale the data as shown in:\n",
            "    https://scikit-learn.org/stable/modules/preprocessing.html\n",
            "Please also refer to the documentation for alternative solver options:\n",
            "    https://scikit-learn.org/stable/modules/linear_model.html#logistic-regression\n",
            "  n_iter_i = _check_optimize_result(\n"
          ]
        },
        {
          "output_type": "stream",
          "name": "stdout",
          "text": [
            "Training period ended at 2021-12-31 00:00:00 - Prediction for period 2022-01-31 00:00:00: Model 'RandomForest' Accuracy = 0.00\n",
            "Training period ended at 2021-12-31 00:00:00 - Prediction for period 2022-01-31 00:00:00: Model 'GradientBoosting' Accuracy = 0.00\n",
            "Training period ended at 2021-12-31 00:00:00 - Prediction for period 2022-01-31 00:00:00: Model 'LogisticRegression' Accuracy = 0.00\n",
            "Training period ended at 2021-12-31 00:00:00 - Prediction for period 2022-01-31 00:00:00: Model 'SVC_linear' Accuracy = 1.00\n",
            "Training period ended at 2021-12-31 00:00:00 - Prediction for period 2022-01-31 00:00:00: Model 'SVC_rbf' Accuracy = 0.00\n"
          ]
        },
        {
          "output_type": "stream",
          "name": "stderr",
          "text": [
            "/usr/local/lib/python3.11/dist-packages/sklearn/linear_model/_logistic.py:465: ConvergenceWarning: lbfgs failed to converge (status=1):\n",
            "STOP: TOTAL NO. of ITERATIONS REACHED LIMIT.\n",
            "\n",
            "Increase the number of iterations (max_iter) or scale the data as shown in:\n",
            "    https://scikit-learn.org/stable/modules/preprocessing.html\n",
            "Please also refer to the documentation for alternative solver options:\n",
            "    https://scikit-learn.org/stable/modules/linear_model.html#logistic-regression\n",
            "  n_iter_i = _check_optimize_result(\n"
          ]
        },
        {
          "output_type": "stream",
          "name": "stdout",
          "text": [
            "Training period ended at 2022-01-31 00:00:00 - Prediction for period 2022-02-28 00:00:00: Model 'RandomForest' Accuracy = 0.00\n",
            "Training period ended at 2022-01-31 00:00:00 - Prediction for period 2022-02-28 00:00:00: Model 'GradientBoosting' Accuracy = 0.00\n",
            "Training period ended at 2022-01-31 00:00:00 - Prediction for period 2022-02-28 00:00:00: Model 'LogisticRegression' Accuracy = 0.00\n",
            "Training period ended at 2022-01-31 00:00:00 - Prediction for period 2022-02-28 00:00:00: Model 'SVC_linear' Accuracy = 0.00\n",
            "Training period ended at 2022-01-31 00:00:00 - Prediction for period 2022-02-28 00:00:00: Model 'SVC_rbf' Accuracy = 0.00\n"
          ]
        },
        {
          "output_type": "stream",
          "name": "stderr",
          "text": [
            "/usr/local/lib/python3.11/dist-packages/sklearn/linear_model/_logistic.py:465: ConvergenceWarning: lbfgs failed to converge (status=1):\n",
            "STOP: TOTAL NO. of ITERATIONS REACHED LIMIT.\n",
            "\n",
            "Increase the number of iterations (max_iter) or scale the data as shown in:\n",
            "    https://scikit-learn.org/stable/modules/preprocessing.html\n",
            "Please also refer to the documentation for alternative solver options:\n",
            "    https://scikit-learn.org/stable/modules/linear_model.html#logistic-regression\n",
            "  n_iter_i = _check_optimize_result(\n"
          ]
        },
        {
          "output_type": "stream",
          "name": "stdout",
          "text": [
            "Training period ended at 2022-02-28 00:00:00 - Prediction for period 2022-03-31 00:00:00: Model 'RandomForest' Accuracy = 0.00\n",
            "Training period ended at 2022-02-28 00:00:00 - Prediction for period 2022-03-31 00:00:00: Model 'GradientBoosting' Accuracy = 1.00\n",
            "Training period ended at 2022-02-28 00:00:00 - Prediction for period 2022-03-31 00:00:00: Model 'LogisticRegression' Accuracy = 1.00\n",
            "Training period ended at 2022-02-28 00:00:00 - Prediction for period 2022-03-31 00:00:00: Model 'SVC_linear' Accuracy = 0.00\n",
            "Training period ended at 2022-02-28 00:00:00 - Prediction for period 2022-03-31 00:00:00: Model 'SVC_rbf' Accuracy = 0.00\n"
          ]
        },
        {
          "output_type": "stream",
          "name": "stderr",
          "text": [
            "/usr/local/lib/python3.11/dist-packages/sklearn/linear_model/_logistic.py:465: ConvergenceWarning: lbfgs failed to converge (status=1):\n",
            "STOP: TOTAL NO. of ITERATIONS REACHED LIMIT.\n",
            "\n",
            "Increase the number of iterations (max_iter) or scale the data as shown in:\n",
            "    https://scikit-learn.org/stable/modules/preprocessing.html\n",
            "Please also refer to the documentation for alternative solver options:\n",
            "    https://scikit-learn.org/stable/modules/linear_model.html#logistic-regression\n",
            "  n_iter_i = _check_optimize_result(\n"
          ]
        },
        {
          "output_type": "stream",
          "name": "stdout",
          "text": [
            "Training period ended at 2022-03-31 00:00:00 - Prediction for period 2022-04-29 00:00:00: Model 'RandomForest' Accuracy = 0.00\n",
            "Training period ended at 2022-03-31 00:00:00 - Prediction for period 2022-04-29 00:00:00: Model 'GradientBoosting' Accuracy = 0.00\n",
            "Training period ended at 2022-03-31 00:00:00 - Prediction for period 2022-04-29 00:00:00: Model 'LogisticRegression' Accuracy = 1.00\n",
            "Training period ended at 2022-03-31 00:00:00 - Prediction for period 2022-04-29 00:00:00: Model 'SVC_linear' Accuracy = 1.00\n",
            "Training period ended at 2022-03-31 00:00:00 - Prediction for period 2022-04-29 00:00:00: Model 'SVC_rbf' Accuracy = 0.00\n"
          ]
        },
        {
          "output_type": "stream",
          "name": "stderr",
          "text": [
            "/usr/local/lib/python3.11/dist-packages/sklearn/linear_model/_logistic.py:465: ConvergenceWarning: lbfgs failed to converge (status=1):\n",
            "STOP: TOTAL NO. of ITERATIONS REACHED LIMIT.\n",
            "\n",
            "Increase the number of iterations (max_iter) or scale the data as shown in:\n",
            "    https://scikit-learn.org/stable/modules/preprocessing.html\n",
            "Please also refer to the documentation for alternative solver options:\n",
            "    https://scikit-learn.org/stable/modules/linear_model.html#logistic-regression\n",
            "  n_iter_i = _check_optimize_result(\n"
          ]
        },
        {
          "output_type": "stream",
          "name": "stdout",
          "text": [
            "Training period ended at 2022-04-29 00:00:00 - Prediction for period 2022-05-31 00:00:00: Model 'RandomForest' Accuracy = 1.00\n",
            "Training period ended at 2022-04-29 00:00:00 - Prediction for period 2022-05-31 00:00:00: Model 'GradientBoosting' Accuracy = 0.00\n",
            "Training period ended at 2022-04-29 00:00:00 - Prediction for period 2022-05-31 00:00:00: Model 'LogisticRegression' Accuracy = 1.00\n",
            "Training period ended at 2022-04-29 00:00:00 - Prediction for period 2022-05-31 00:00:00: Model 'SVC_linear' Accuracy = 1.00\n",
            "Training period ended at 2022-04-29 00:00:00 - Prediction for period 2022-05-31 00:00:00: Model 'SVC_rbf' Accuracy = 0.00\n"
          ]
        },
        {
          "output_type": "stream",
          "name": "stderr",
          "text": [
            "/usr/local/lib/python3.11/dist-packages/sklearn/linear_model/_logistic.py:465: ConvergenceWarning: lbfgs failed to converge (status=1):\n",
            "STOP: TOTAL NO. of ITERATIONS REACHED LIMIT.\n",
            "\n",
            "Increase the number of iterations (max_iter) or scale the data as shown in:\n",
            "    https://scikit-learn.org/stable/modules/preprocessing.html\n",
            "Please also refer to the documentation for alternative solver options:\n",
            "    https://scikit-learn.org/stable/modules/linear_model.html#logistic-regression\n",
            "  n_iter_i = _check_optimize_result(\n"
          ]
        },
        {
          "output_type": "stream",
          "name": "stdout",
          "text": [
            "Training period ended at 2022-05-31 00:00:00 - Prediction for period 2022-06-30 00:00:00: Model 'RandomForest' Accuracy = 1.00\n",
            "Training period ended at 2022-05-31 00:00:00 - Prediction for period 2022-06-30 00:00:00: Model 'GradientBoosting' Accuracy = 0.00\n",
            "Training period ended at 2022-05-31 00:00:00 - Prediction for period 2022-06-30 00:00:00: Model 'LogisticRegression' Accuracy = 0.00\n",
            "Training period ended at 2022-05-31 00:00:00 - Prediction for period 2022-06-30 00:00:00: Model 'SVC_linear' Accuracy = 0.00\n",
            "Training period ended at 2022-05-31 00:00:00 - Prediction for period 2022-06-30 00:00:00: Model 'SVC_rbf' Accuracy = 0.00\n"
          ]
        },
        {
          "output_type": "stream",
          "name": "stderr",
          "text": [
            "/usr/local/lib/python3.11/dist-packages/sklearn/linear_model/_logistic.py:465: ConvergenceWarning: lbfgs failed to converge (status=1):\n",
            "STOP: TOTAL NO. of ITERATIONS REACHED LIMIT.\n",
            "\n",
            "Increase the number of iterations (max_iter) or scale the data as shown in:\n",
            "    https://scikit-learn.org/stable/modules/preprocessing.html\n",
            "Please also refer to the documentation for alternative solver options:\n",
            "    https://scikit-learn.org/stable/modules/linear_model.html#logistic-regression\n",
            "  n_iter_i = _check_optimize_result(\n"
          ]
        },
        {
          "output_type": "stream",
          "name": "stdout",
          "text": [
            "Training period ended at 2022-06-30 00:00:00 - Prediction for period 2022-07-29 00:00:00: Model 'RandomForest' Accuracy = 1.00\n",
            "Training period ended at 2022-06-30 00:00:00 - Prediction for period 2022-07-29 00:00:00: Model 'GradientBoosting' Accuracy = 1.00\n"
          ]
        },
        {
          "output_type": "stream",
          "name": "stderr",
          "text": [
            "/usr/local/lib/python3.11/dist-packages/sklearn/linear_model/_logistic.py:465: ConvergenceWarning: lbfgs failed to converge (status=1):\n",
            "STOP: TOTAL NO. of ITERATIONS REACHED LIMIT.\n",
            "\n",
            "Increase the number of iterations (max_iter) or scale the data as shown in:\n",
            "    https://scikit-learn.org/stable/modules/preprocessing.html\n",
            "Please also refer to the documentation for alternative solver options:\n",
            "    https://scikit-learn.org/stable/modules/linear_model.html#logistic-regression\n",
            "  n_iter_i = _check_optimize_result(\n"
          ]
        },
        {
          "output_type": "stream",
          "name": "stdout",
          "text": [
            "Training period ended at 2022-06-30 00:00:00 - Prediction for period 2022-07-29 00:00:00: Model 'LogisticRegression' Accuracy = 0.00\n",
            "Training period ended at 2022-06-30 00:00:00 - Prediction for period 2022-07-29 00:00:00: Model 'SVC_linear' Accuracy = 0.00\n",
            "Training period ended at 2022-06-30 00:00:00 - Prediction for period 2022-07-29 00:00:00: Model 'SVC_rbf' Accuracy = 0.00\n",
            "Training period ended at 2022-07-29 00:00:00 - Prediction for period 2022-08-31 00:00:00: Model 'RandomForest' Accuracy = 0.00\n",
            "Training period ended at 2022-07-29 00:00:00 - Prediction for period 2022-08-31 00:00:00: Model 'GradientBoosting' Accuracy = 0.00\n"
          ]
        },
        {
          "output_type": "stream",
          "name": "stderr",
          "text": [
            "/usr/local/lib/python3.11/dist-packages/sklearn/linear_model/_logistic.py:465: ConvergenceWarning: lbfgs failed to converge (status=1):\n",
            "STOP: TOTAL NO. of ITERATIONS REACHED LIMIT.\n",
            "\n",
            "Increase the number of iterations (max_iter) or scale the data as shown in:\n",
            "    https://scikit-learn.org/stable/modules/preprocessing.html\n",
            "Please also refer to the documentation for alternative solver options:\n",
            "    https://scikit-learn.org/stable/modules/linear_model.html#logistic-regression\n",
            "  n_iter_i = _check_optimize_result(\n"
          ]
        },
        {
          "output_type": "stream",
          "name": "stdout",
          "text": [
            "Training period ended at 2022-07-29 00:00:00 - Prediction for period 2022-08-31 00:00:00: Model 'LogisticRegression' Accuracy = 0.00\n",
            "Training period ended at 2022-07-29 00:00:00 - Prediction for period 2022-08-31 00:00:00: Model 'SVC_linear' Accuracy = 0.00\n",
            "Training period ended at 2022-07-29 00:00:00 - Prediction for period 2022-08-31 00:00:00: Model 'SVC_rbf' Accuracy = 1.00\n",
            "Training period ended at 2022-08-31 00:00:00 - Prediction for period 2022-09-30 00:00:00: Model 'RandomForest' Accuracy = 1.00\n",
            "Training period ended at 2022-08-31 00:00:00 - Prediction for period 2022-09-30 00:00:00: Model 'GradientBoosting' Accuracy = 0.00\n"
          ]
        },
        {
          "output_type": "stream",
          "name": "stderr",
          "text": [
            "/usr/local/lib/python3.11/dist-packages/sklearn/linear_model/_logistic.py:465: ConvergenceWarning: lbfgs failed to converge (status=1):\n",
            "STOP: TOTAL NO. of ITERATIONS REACHED LIMIT.\n",
            "\n",
            "Increase the number of iterations (max_iter) or scale the data as shown in:\n",
            "    https://scikit-learn.org/stable/modules/preprocessing.html\n",
            "Please also refer to the documentation for alternative solver options:\n",
            "    https://scikit-learn.org/stable/modules/linear_model.html#logistic-regression\n",
            "  n_iter_i = _check_optimize_result(\n"
          ]
        },
        {
          "output_type": "stream",
          "name": "stdout",
          "text": [
            "Training period ended at 2022-08-31 00:00:00 - Prediction for period 2022-09-30 00:00:00: Model 'LogisticRegression' Accuracy = 0.00\n",
            "Training period ended at 2022-08-31 00:00:00 - Prediction for period 2022-09-30 00:00:00: Model 'SVC_linear' Accuracy = 0.00\n",
            "Training period ended at 2022-08-31 00:00:00 - Prediction for period 2022-09-30 00:00:00: Model 'SVC_rbf' Accuracy = 0.00\n",
            "Training period ended at 2022-09-30 00:00:00 - Prediction for period 2022-10-31 00:00:00: Model 'RandomForest' Accuracy = 1.00\n",
            "Training period ended at 2022-09-30 00:00:00 - Prediction for period 2022-10-31 00:00:00: Model 'GradientBoosting' Accuracy = 1.00\n",
            "Training period ended at 2022-09-30 00:00:00 - Prediction for period 2022-10-31 00:00:00: Model 'LogisticRegression' Accuracy = 0.00\n",
            "Training period ended at 2022-09-30 00:00:00 - Prediction for period 2022-10-31 00:00:00: Model 'SVC_linear' Accuracy = 0.00\n",
            "Training period ended at 2022-09-30 00:00:00 - Prediction for period 2022-10-31 00:00:00: Model 'SVC_rbf' Accuracy = 0.00\n"
          ]
        },
        {
          "output_type": "stream",
          "name": "stderr",
          "text": [
            "/usr/local/lib/python3.11/dist-packages/sklearn/linear_model/_logistic.py:465: ConvergenceWarning: lbfgs failed to converge (status=1):\n",
            "STOP: TOTAL NO. of ITERATIONS REACHED LIMIT.\n",
            "\n",
            "Increase the number of iterations (max_iter) or scale the data as shown in:\n",
            "    https://scikit-learn.org/stable/modules/preprocessing.html\n",
            "Please also refer to the documentation for alternative solver options:\n",
            "    https://scikit-learn.org/stable/modules/linear_model.html#logistic-regression\n",
            "  n_iter_i = _check_optimize_result(\n"
          ]
        },
        {
          "output_type": "stream",
          "name": "stdout",
          "text": [
            "Training period ended at 2022-10-31 00:00:00 - Prediction for period 2022-11-30 00:00:00: Model 'RandomForest' Accuracy = 0.00\n",
            "Training period ended at 2022-10-31 00:00:00 - Prediction for period 2022-11-30 00:00:00: Model 'GradientBoosting' Accuracy = 0.00\n",
            "Training period ended at 2022-10-31 00:00:00 - Prediction for period 2022-11-30 00:00:00: Model 'LogisticRegression' Accuracy = 0.00\n",
            "Training period ended at 2022-10-31 00:00:00 - Prediction for period 2022-11-30 00:00:00: Model 'SVC_linear' Accuracy = 0.00\n",
            "Training period ended at 2022-10-31 00:00:00 - Prediction for period 2022-11-30 00:00:00: Model 'SVC_rbf' Accuracy = 1.00\n"
          ]
        },
        {
          "output_type": "stream",
          "name": "stderr",
          "text": [
            "/usr/local/lib/python3.11/dist-packages/sklearn/linear_model/_logistic.py:465: ConvergenceWarning: lbfgs failed to converge (status=1):\n",
            "STOP: TOTAL NO. of ITERATIONS REACHED LIMIT.\n",
            "\n",
            "Increase the number of iterations (max_iter) or scale the data as shown in:\n",
            "    https://scikit-learn.org/stable/modules/preprocessing.html\n",
            "Please also refer to the documentation for alternative solver options:\n",
            "    https://scikit-learn.org/stable/modules/linear_model.html#logistic-regression\n",
            "  n_iter_i = _check_optimize_result(\n"
          ]
        },
        {
          "output_type": "stream",
          "name": "stdout",
          "text": [
            "Training period ended at 2022-11-30 00:00:00 - Prediction for period 2022-12-30 00:00:00: Model 'RandomForest' Accuracy = 1.00\n",
            "Training period ended at 2022-11-30 00:00:00 - Prediction for period 2022-12-30 00:00:00: Model 'GradientBoosting' Accuracy = 1.00\n",
            "Training period ended at 2022-11-30 00:00:00 - Prediction for period 2022-12-30 00:00:00: Model 'LogisticRegression' Accuracy = 0.00\n",
            "Training period ended at 2022-11-30 00:00:00 - Prediction for period 2022-12-30 00:00:00: Model 'SVC_linear' Accuracy = 0.00\n"
          ]
        },
        {
          "output_type": "stream",
          "name": "stderr",
          "text": [
            "/usr/local/lib/python3.11/dist-packages/sklearn/linear_model/_logistic.py:465: ConvergenceWarning: lbfgs failed to converge (status=1):\n",
            "STOP: TOTAL NO. of ITERATIONS REACHED LIMIT.\n",
            "\n",
            "Increase the number of iterations (max_iter) or scale the data as shown in:\n",
            "    https://scikit-learn.org/stable/modules/preprocessing.html\n",
            "Please also refer to the documentation for alternative solver options:\n",
            "    https://scikit-learn.org/stable/modules/linear_model.html#logistic-regression\n",
            "  n_iter_i = _check_optimize_result(\n"
          ]
        },
        {
          "output_type": "stream",
          "name": "stdout",
          "text": [
            "Training period ended at 2022-11-30 00:00:00 - Prediction for period 2022-12-30 00:00:00: Model 'SVC_rbf' Accuracy = 0.00\n",
            "Training period ended at 2022-12-30 00:00:00 - Prediction for period 2023-01-31 00:00:00: Model 'RandomForest' Accuracy = 1.00\n",
            "Training period ended at 2022-12-30 00:00:00 - Prediction for period 2023-01-31 00:00:00: Model 'GradientBoosting' Accuracy = 0.00\n",
            "Training period ended at 2022-12-30 00:00:00 - Prediction for period 2023-01-31 00:00:00: Model 'LogisticRegression' Accuracy = 1.00\n",
            "Training period ended at 2022-12-30 00:00:00 - Prediction for period 2023-01-31 00:00:00: Model 'SVC_linear' Accuracy = 1.00\n",
            "Training period ended at 2022-12-30 00:00:00 - Prediction for period 2023-01-31 00:00:00: Model 'SVC_rbf' Accuracy = 0.00\n"
          ]
        },
        {
          "output_type": "stream",
          "name": "stderr",
          "text": [
            "/usr/local/lib/python3.11/dist-packages/sklearn/linear_model/_logistic.py:465: ConvergenceWarning: lbfgs failed to converge (status=1):\n",
            "STOP: TOTAL NO. of ITERATIONS REACHED LIMIT.\n",
            "\n",
            "Increase the number of iterations (max_iter) or scale the data as shown in:\n",
            "    https://scikit-learn.org/stable/modules/preprocessing.html\n",
            "Please also refer to the documentation for alternative solver options:\n",
            "    https://scikit-learn.org/stable/modules/linear_model.html#logistic-regression\n",
            "  n_iter_i = _check_optimize_result(\n"
          ]
        },
        {
          "output_type": "stream",
          "name": "stdout",
          "text": [
            "Training period ended at 2023-01-31 00:00:00 - Prediction for period 2023-02-28 00:00:00: Model 'RandomForest' Accuracy = 0.00\n",
            "Training period ended at 2023-01-31 00:00:00 - Prediction for period 2023-02-28 00:00:00: Model 'GradientBoosting' Accuracy = 0.00\n",
            "Training period ended at 2023-01-31 00:00:00 - Prediction for period 2023-02-28 00:00:00: Model 'LogisticRegression' Accuracy = 1.00\n",
            "Training period ended at 2023-01-31 00:00:00 - Prediction for period 2023-02-28 00:00:00: Model 'SVC_linear' Accuracy = 0.00\n",
            "Training period ended at 2023-01-31 00:00:00 - Prediction for period 2023-02-28 00:00:00: Model 'SVC_rbf' Accuracy = 0.00\n"
          ]
        },
        {
          "output_type": "stream",
          "name": "stderr",
          "text": [
            "/usr/local/lib/python3.11/dist-packages/sklearn/linear_model/_logistic.py:465: ConvergenceWarning: lbfgs failed to converge (status=1):\n",
            "STOP: TOTAL NO. of ITERATIONS REACHED LIMIT.\n",
            "\n",
            "Increase the number of iterations (max_iter) or scale the data as shown in:\n",
            "    https://scikit-learn.org/stable/modules/preprocessing.html\n",
            "Please also refer to the documentation for alternative solver options:\n",
            "    https://scikit-learn.org/stable/modules/linear_model.html#logistic-regression\n",
            "  n_iter_i = _check_optimize_result(\n"
          ]
        },
        {
          "output_type": "stream",
          "name": "stdout",
          "text": [
            "Training period ended at 2023-02-28 00:00:00 - Prediction for period 2023-03-31 00:00:00: Model 'RandomForest' Accuracy = 1.00\n",
            "Training period ended at 2023-02-28 00:00:00 - Prediction for period 2023-03-31 00:00:00: Model 'GradientBoosting' Accuracy = 1.00\n",
            "Training period ended at 2023-02-28 00:00:00 - Prediction for period 2023-03-31 00:00:00: Model 'LogisticRegression' Accuracy = 1.00\n",
            "Training period ended at 2023-02-28 00:00:00 - Prediction for period 2023-03-31 00:00:00: Model 'SVC_linear' Accuracy = 1.00\n",
            "Training period ended at 2023-02-28 00:00:00 - Prediction for period 2023-03-31 00:00:00: Model 'SVC_rbf' Accuracy = 0.00\n"
          ]
        },
        {
          "output_type": "stream",
          "name": "stderr",
          "text": [
            "/usr/local/lib/python3.11/dist-packages/sklearn/linear_model/_logistic.py:465: ConvergenceWarning: lbfgs failed to converge (status=1):\n",
            "STOP: TOTAL NO. of ITERATIONS REACHED LIMIT.\n",
            "\n",
            "Increase the number of iterations (max_iter) or scale the data as shown in:\n",
            "    https://scikit-learn.org/stable/modules/preprocessing.html\n",
            "Please also refer to the documentation for alternative solver options:\n",
            "    https://scikit-learn.org/stable/modules/linear_model.html#logistic-regression\n",
            "  n_iter_i = _check_optimize_result(\n"
          ]
        },
        {
          "output_type": "stream",
          "name": "stdout",
          "text": [
            "Training period ended at 2023-03-31 00:00:00 - Prediction for period 2023-04-28 00:00:00: Model 'RandomForest' Accuracy = 0.00\n",
            "Training period ended at 2023-03-31 00:00:00 - Prediction for period 2023-04-28 00:00:00: Model 'GradientBoosting' Accuracy = 1.00\n",
            "Training period ended at 2023-03-31 00:00:00 - Prediction for period 2023-04-28 00:00:00: Model 'LogisticRegression' Accuracy = 1.00\n",
            "Training period ended at 2023-03-31 00:00:00 - Prediction for period 2023-04-28 00:00:00: Model 'SVC_linear' Accuracy = 1.00\n",
            "Training period ended at 2023-03-31 00:00:00 - Prediction for period 2023-04-28 00:00:00: Model 'SVC_rbf' Accuracy = 1.00\n"
          ]
        },
        {
          "output_type": "stream",
          "name": "stderr",
          "text": [
            "/usr/local/lib/python3.11/dist-packages/sklearn/linear_model/_logistic.py:465: ConvergenceWarning: lbfgs failed to converge (status=1):\n",
            "STOP: TOTAL NO. of ITERATIONS REACHED LIMIT.\n",
            "\n",
            "Increase the number of iterations (max_iter) or scale the data as shown in:\n",
            "    https://scikit-learn.org/stable/modules/preprocessing.html\n",
            "Please also refer to the documentation for alternative solver options:\n",
            "    https://scikit-learn.org/stable/modules/linear_model.html#logistic-regression\n",
            "  n_iter_i = _check_optimize_result(\n"
          ]
        },
        {
          "output_type": "stream",
          "name": "stdout",
          "text": [
            "Training period ended at 2023-04-28 00:00:00 - Prediction for period 2023-05-31 00:00:00: Model 'RandomForest' Accuracy = 1.00\n",
            "Training period ended at 2023-04-28 00:00:00 - Prediction for period 2023-05-31 00:00:00: Model 'GradientBoosting' Accuracy = 1.00\n",
            "Training period ended at 2023-04-28 00:00:00 - Prediction for period 2023-05-31 00:00:00: Model 'LogisticRegression' Accuracy = 0.00\n",
            "Training period ended at 2023-04-28 00:00:00 - Prediction for period 2023-05-31 00:00:00: Model 'SVC_linear' Accuracy = 1.00\n",
            "Training period ended at 2023-04-28 00:00:00 - Prediction for period 2023-05-31 00:00:00: Model 'SVC_rbf' Accuracy = 0.00\n"
          ]
        },
        {
          "output_type": "stream",
          "name": "stderr",
          "text": [
            "/usr/local/lib/python3.11/dist-packages/sklearn/linear_model/_logistic.py:465: ConvergenceWarning: lbfgs failed to converge (status=1):\n",
            "STOP: TOTAL NO. of ITERATIONS REACHED LIMIT.\n",
            "\n",
            "Increase the number of iterations (max_iter) or scale the data as shown in:\n",
            "    https://scikit-learn.org/stable/modules/preprocessing.html\n",
            "Please also refer to the documentation for alternative solver options:\n",
            "    https://scikit-learn.org/stable/modules/linear_model.html#logistic-regression\n",
            "  n_iter_i = _check_optimize_result(\n"
          ]
        },
        {
          "output_type": "stream",
          "name": "stdout",
          "text": [
            "Training period ended at 2023-05-31 00:00:00 - Prediction for period 2023-06-30 00:00:00: Model 'RandomForest' Accuracy = 1.00\n",
            "Training period ended at 2023-05-31 00:00:00 - Prediction for period 2023-06-30 00:00:00: Model 'GradientBoosting' Accuracy = 1.00\n",
            "Training period ended at 2023-05-31 00:00:00 - Prediction for period 2023-06-30 00:00:00: Model 'LogisticRegression' Accuracy = 0.00\n",
            "Training period ended at 2023-05-31 00:00:00 - Prediction for period 2023-06-30 00:00:00: Model 'SVC_linear' Accuracy = 0.00\n",
            "Training period ended at 2023-05-31 00:00:00 - Prediction for period 2023-06-30 00:00:00: Model 'SVC_rbf' Accuracy = 0.00\n"
          ]
        },
        {
          "output_type": "stream",
          "name": "stderr",
          "text": [
            "/usr/local/lib/python3.11/dist-packages/sklearn/linear_model/_logistic.py:465: ConvergenceWarning: lbfgs failed to converge (status=1):\n",
            "STOP: TOTAL NO. of ITERATIONS REACHED LIMIT.\n",
            "\n",
            "Increase the number of iterations (max_iter) or scale the data as shown in:\n",
            "    https://scikit-learn.org/stable/modules/preprocessing.html\n",
            "Please also refer to the documentation for alternative solver options:\n",
            "    https://scikit-learn.org/stable/modules/linear_model.html#logistic-regression\n",
            "  n_iter_i = _check_optimize_result(\n"
          ]
        },
        {
          "output_type": "stream",
          "name": "stdout",
          "text": [
            "Training period ended at 2023-06-30 00:00:00 - Prediction for period 2023-07-31 00:00:00: Model 'RandomForest' Accuracy = 0.00\n",
            "Training period ended at 2023-06-30 00:00:00 - Prediction for period 2023-07-31 00:00:00: Model 'GradientBoosting' Accuracy = 1.00\n",
            "Training period ended at 2023-06-30 00:00:00 - Prediction for period 2023-07-31 00:00:00: Model 'LogisticRegression' Accuracy = 1.00\n",
            "Training period ended at 2023-06-30 00:00:00 - Prediction for period 2023-07-31 00:00:00: Model 'SVC_linear' Accuracy = 0.00\n"
          ]
        },
        {
          "output_type": "stream",
          "name": "stderr",
          "text": [
            "/usr/local/lib/python3.11/dist-packages/sklearn/linear_model/_logistic.py:465: ConvergenceWarning: lbfgs failed to converge (status=1):\n",
            "STOP: TOTAL NO. of ITERATIONS REACHED LIMIT.\n",
            "\n",
            "Increase the number of iterations (max_iter) or scale the data as shown in:\n",
            "    https://scikit-learn.org/stable/modules/preprocessing.html\n",
            "Please also refer to the documentation for alternative solver options:\n",
            "    https://scikit-learn.org/stable/modules/linear_model.html#logistic-regression\n",
            "  n_iter_i = _check_optimize_result(\n"
          ]
        },
        {
          "output_type": "stream",
          "name": "stdout",
          "text": [
            "Training period ended at 2023-06-30 00:00:00 - Prediction for period 2023-07-31 00:00:00: Model 'SVC_rbf' Accuracy = 1.00\n",
            "Training period ended at 2023-07-31 00:00:00 - Prediction for period 2023-08-31 00:00:00: Model 'RandomForest' Accuracy = 1.00\n",
            "Training period ended at 2023-07-31 00:00:00 - Prediction for period 2023-08-31 00:00:00: Model 'GradientBoosting' Accuracy = 1.00\n",
            "Training period ended at 2023-07-31 00:00:00 - Prediction for period 2023-08-31 00:00:00: Model 'LogisticRegression' Accuracy = 1.00\n",
            "Training period ended at 2023-07-31 00:00:00 - Prediction for period 2023-08-31 00:00:00: Model 'SVC_linear' Accuracy = 1.00\n",
            "Training period ended at 2023-07-31 00:00:00 - Prediction for period 2023-08-31 00:00:00: Model 'SVC_rbf' Accuracy = 1.00\n"
          ]
        },
        {
          "output_type": "stream",
          "name": "stderr",
          "text": [
            "/usr/local/lib/python3.11/dist-packages/sklearn/linear_model/_logistic.py:465: ConvergenceWarning: lbfgs failed to converge (status=1):\n",
            "STOP: TOTAL NO. of ITERATIONS REACHED LIMIT.\n",
            "\n",
            "Increase the number of iterations (max_iter) or scale the data as shown in:\n",
            "    https://scikit-learn.org/stable/modules/preprocessing.html\n",
            "Please also refer to the documentation for alternative solver options:\n",
            "    https://scikit-learn.org/stable/modules/linear_model.html#logistic-regression\n",
            "  n_iter_i = _check_optimize_result(\n"
          ]
        },
        {
          "output_type": "stream",
          "name": "stdout",
          "text": [
            "Training period ended at 2023-08-31 00:00:00 - Prediction for period 2023-09-29 00:00:00: Model 'RandomForest' Accuracy = 0.00\n",
            "Training period ended at 2023-08-31 00:00:00 - Prediction for period 2023-09-29 00:00:00: Model 'GradientBoosting' Accuracy = 0.00\n",
            "Training period ended at 2023-08-31 00:00:00 - Prediction for period 2023-09-29 00:00:00: Model 'LogisticRegression' Accuracy = 0.00\n",
            "Training period ended at 2023-08-31 00:00:00 - Prediction for period 2023-09-29 00:00:00: Model 'SVC_linear' Accuracy = 0.00\n",
            "Training period ended at 2023-08-31 00:00:00 - Prediction for period 2023-09-29 00:00:00: Model 'SVC_rbf' Accuracy = 0.00\n"
          ]
        },
        {
          "output_type": "stream",
          "name": "stderr",
          "text": [
            "/usr/local/lib/python3.11/dist-packages/sklearn/linear_model/_logistic.py:465: ConvergenceWarning: lbfgs failed to converge (status=1):\n",
            "STOP: TOTAL NO. of ITERATIONS REACHED LIMIT.\n",
            "\n",
            "Increase the number of iterations (max_iter) or scale the data as shown in:\n",
            "    https://scikit-learn.org/stable/modules/preprocessing.html\n",
            "Please also refer to the documentation for alternative solver options:\n",
            "    https://scikit-learn.org/stable/modules/linear_model.html#logistic-regression\n",
            "  n_iter_i = _check_optimize_result(\n"
          ]
        },
        {
          "output_type": "stream",
          "name": "stdout",
          "text": [
            "Training period ended at 2023-09-29 00:00:00 - Prediction for period 2023-10-31 00:00:00: Model 'RandomForest' Accuracy = 0.00\n",
            "Training period ended at 2023-09-29 00:00:00 - Prediction for period 2023-10-31 00:00:00: Model 'GradientBoosting' Accuracy = 0.00\n",
            "Training period ended at 2023-09-29 00:00:00 - Prediction for period 2023-10-31 00:00:00: Model 'LogisticRegression' Accuracy = 0.00\n",
            "Training period ended at 2023-09-29 00:00:00 - Prediction for period 2023-10-31 00:00:00: Model 'SVC_linear' Accuracy = 0.00\n",
            "Training period ended at 2023-09-29 00:00:00 - Prediction for period 2023-10-31 00:00:00: Model 'SVC_rbf' Accuracy = 0.00\n"
          ]
        },
        {
          "output_type": "stream",
          "name": "stderr",
          "text": [
            "/usr/local/lib/python3.11/dist-packages/sklearn/linear_model/_logistic.py:465: ConvergenceWarning: lbfgs failed to converge (status=1):\n",
            "STOP: TOTAL NO. of ITERATIONS REACHED LIMIT.\n",
            "\n",
            "Increase the number of iterations (max_iter) or scale the data as shown in:\n",
            "    https://scikit-learn.org/stable/modules/preprocessing.html\n",
            "Please also refer to the documentation for alternative solver options:\n",
            "    https://scikit-learn.org/stable/modules/linear_model.html#logistic-regression\n",
            "  n_iter_i = _check_optimize_result(\n"
          ]
        },
        {
          "output_type": "stream",
          "name": "stdout",
          "text": [
            "Training period ended at 2023-10-31 00:00:00 - Prediction for period 2023-11-30 00:00:00: Model 'RandomForest' Accuracy = 0.00\n",
            "Training period ended at 2023-10-31 00:00:00 - Prediction for period 2023-11-30 00:00:00: Model 'GradientBoosting' Accuracy = 0.00\n"
          ]
        },
        {
          "output_type": "stream",
          "name": "stderr",
          "text": [
            "/usr/local/lib/python3.11/dist-packages/sklearn/linear_model/_logistic.py:465: ConvergenceWarning: lbfgs failed to converge (status=1):\n",
            "STOP: TOTAL NO. of ITERATIONS REACHED LIMIT.\n",
            "\n",
            "Increase the number of iterations (max_iter) or scale the data as shown in:\n",
            "    https://scikit-learn.org/stable/modules/preprocessing.html\n",
            "Please also refer to the documentation for alternative solver options:\n",
            "    https://scikit-learn.org/stable/modules/linear_model.html#logistic-regression\n",
            "  n_iter_i = _check_optimize_result(\n"
          ]
        },
        {
          "output_type": "stream",
          "name": "stdout",
          "text": [
            "Training period ended at 2023-10-31 00:00:00 - Prediction for period 2023-11-30 00:00:00: Model 'LogisticRegression' Accuracy = 0.00\n",
            "Training period ended at 2023-10-31 00:00:00 - Prediction for period 2023-11-30 00:00:00: Model 'SVC_linear' Accuracy = 0.00\n",
            "Training period ended at 2023-10-31 00:00:00 - Prediction for period 2023-11-30 00:00:00: Model 'SVC_rbf' Accuracy = 1.00\n",
            "Training period ended at 2023-11-30 00:00:00 - Prediction for period 2023-12-29 00:00:00: Model 'RandomForest' Accuracy = 1.00\n",
            "Training period ended at 2023-11-30 00:00:00 - Prediction for period 2023-12-29 00:00:00: Model 'GradientBoosting' Accuracy = 1.00\n"
          ]
        },
        {
          "output_type": "stream",
          "name": "stderr",
          "text": [
            "/usr/local/lib/python3.11/dist-packages/sklearn/linear_model/_logistic.py:465: ConvergenceWarning: lbfgs failed to converge (status=1):\n",
            "STOP: TOTAL NO. of ITERATIONS REACHED LIMIT.\n",
            "\n",
            "Increase the number of iterations (max_iter) or scale the data as shown in:\n",
            "    https://scikit-learn.org/stable/modules/preprocessing.html\n",
            "Please also refer to the documentation for alternative solver options:\n",
            "    https://scikit-learn.org/stable/modules/linear_model.html#logistic-regression\n",
            "  n_iter_i = _check_optimize_result(\n"
          ]
        },
        {
          "output_type": "stream",
          "name": "stdout",
          "text": [
            "Training period ended at 2023-11-30 00:00:00 - Prediction for period 2023-12-29 00:00:00: Model 'LogisticRegression' Accuracy = 1.00\n",
            "Training period ended at 2023-11-30 00:00:00 - Prediction for period 2023-12-29 00:00:00: Model 'SVC_linear' Accuracy = 1.00\n",
            "Training period ended at 2023-11-30 00:00:00 - Prediction for period 2023-12-29 00:00:00: Model 'SVC_rbf' Accuracy = 1.00\n",
            "Training period ended at 2023-12-29 00:00:00 - Prediction for period 2024-01-31 00:00:00: Model 'RandomForest' Accuracy = 1.00\n",
            "Training period ended at 2023-12-29 00:00:00 - Prediction for period 2024-01-31 00:00:00: Model 'GradientBoosting' Accuracy = 1.00\n"
          ]
        },
        {
          "output_type": "stream",
          "name": "stderr",
          "text": [
            "/usr/local/lib/python3.11/dist-packages/sklearn/linear_model/_logistic.py:465: ConvergenceWarning: lbfgs failed to converge (status=1):\n",
            "STOP: TOTAL NO. of ITERATIONS REACHED LIMIT.\n",
            "\n",
            "Increase the number of iterations (max_iter) or scale the data as shown in:\n",
            "    https://scikit-learn.org/stable/modules/preprocessing.html\n",
            "Please also refer to the documentation for alternative solver options:\n",
            "    https://scikit-learn.org/stable/modules/linear_model.html#logistic-regression\n",
            "  n_iter_i = _check_optimize_result(\n"
          ]
        },
        {
          "output_type": "stream",
          "name": "stdout",
          "text": [
            "Training period ended at 2023-12-29 00:00:00 - Prediction for period 2024-01-31 00:00:00: Model 'LogisticRegression' Accuracy = 1.00\n",
            "Training period ended at 2023-12-29 00:00:00 - Prediction for period 2024-01-31 00:00:00: Model 'SVC_linear' Accuracy = 1.00\n",
            "Training period ended at 2023-12-29 00:00:00 - Prediction for period 2024-01-31 00:00:00: Model 'SVC_rbf' Accuracy = 1.00\n",
            "Training period ended at 2024-01-31 00:00:00 - Prediction for period 2024-02-29 00:00:00: Model 'RandomForest' Accuracy = 1.00\n",
            "Training period ended at 2024-01-31 00:00:00 - Prediction for period 2024-02-29 00:00:00: Model 'GradientBoosting' Accuracy = 1.00\n"
          ]
        },
        {
          "output_type": "stream",
          "name": "stderr",
          "text": [
            "/usr/local/lib/python3.11/dist-packages/sklearn/linear_model/_logistic.py:465: ConvergenceWarning: lbfgs failed to converge (status=1):\n",
            "STOP: TOTAL NO. of ITERATIONS REACHED LIMIT.\n",
            "\n",
            "Increase the number of iterations (max_iter) or scale the data as shown in:\n",
            "    https://scikit-learn.org/stable/modules/preprocessing.html\n",
            "Please also refer to the documentation for alternative solver options:\n",
            "    https://scikit-learn.org/stable/modules/linear_model.html#logistic-regression\n",
            "  n_iter_i = _check_optimize_result(\n"
          ]
        },
        {
          "output_type": "stream",
          "name": "stdout",
          "text": [
            "Training period ended at 2024-01-31 00:00:00 - Prediction for period 2024-02-29 00:00:00: Model 'LogisticRegression' Accuracy = 1.00\n",
            "Training period ended at 2024-01-31 00:00:00 - Prediction for period 2024-02-29 00:00:00: Model 'SVC_linear' Accuracy = 1.00\n",
            "Training period ended at 2024-01-31 00:00:00 - Prediction for period 2024-02-29 00:00:00: Model 'SVC_rbf' Accuracy = 1.00\n",
            "Training period ended at 2024-02-29 00:00:00 - Prediction for period 2024-03-29 00:00:00: Model 'RandomForest' Accuracy = 1.00\n",
            "Training period ended at 2024-02-29 00:00:00 - Prediction for period 2024-03-29 00:00:00: Model 'GradientBoosting' Accuracy = 1.00\n",
            "Training period ended at 2024-02-29 00:00:00 - Prediction for period 2024-03-29 00:00:00: Model 'LogisticRegression' Accuracy = 1.00\n",
            "Training period ended at 2024-02-29 00:00:00 - Prediction for period 2024-03-29 00:00:00: Model 'SVC_linear' Accuracy = 1.00\n",
            "Training period ended at 2024-02-29 00:00:00 - Prediction for period 2024-03-29 00:00:00: Model 'SVC_rbf' Accuracy = 1.00\n"
          ]
        },
        {
          "output_type": "stream",
          "name": "stderr",
          "text": [
            "/usr/local/lib/python3.11/dist-packages/sklearn/linear_model/_logistic.py:465: ConvergenceWarning: lbfgs failed to converge (status=1):\n",
            "STOP: TOTAL NO. of ITERATIONS REACHED LIMIT.\n",
            "\n",
            "Increase the number of iterations (max_iter) or scale the data as shown in:\n",
            "    https://scikit-learn.org/stable/modules/preprocessing.html\n",
            "Please also refer to the documentation for alternative solver options:\n",
            "    https://scikit-learn.org/stable/modules/linear_model.html#logistic-regression\n",
            "  n_iter_i = _check_optimize_result(\n"
          ]
        },
        {
          "output_type": "stream",
          "name": "stdout",
          "text": [
            "Training period ended at 2024-03-29 00:00:00 - Prediction for period 2024-04-30 00:00:00: Model 'RandomForest' Accuracy = 0.00\n",
            "Training period ended at 2024-03-29 00:00:00 - Prediction for period 2024-04-30 00:00:00: Model 'GradientBoosting' Accuracy = 0.00\n",
            "Training period ended at 2024-03-29 00:00:00 - Prediction for period 2024-04-30 00:00:00: Model 'LogisticRegression' Accuracy = 0.00\n"
          ]
        },
        {
          "output_type": "stream",
          "name": "stderr",
          "text": [
            "/usr/local/lib/python3.11/dist-packages/sklearn/linear_model/_logistic.py:465: ConvergenceWarning: lbfgs failed to converge (status=1):\n",
            "STOP: TOTAL NO. of ITERATIONS REACHED LIMIT.\n",
            "\n",
            "Increase the number of iterations (max_iter) or scale the data as shown in:\n",
            "    https://scikit-learn.org/stable/modules/preprocessing.html\n",
            "Please also refer to the documentation for alternative solver options:\n",
            "    https://scikit-learn.org/stable/modules/linear_model.html#logistic-regression\n",
            "  n_iter_i = _check_optimize_result(\n"
          ]
        },
        {
          "output_type": "stream",
          "name": "stdout",
          "text": [
            "Training period ended at 2024-03-29 00:00:00 - Prediction for period 2024-04-30 00:00:00: Model 'SVC_linear' Accuracy = 0.00\n",
            "Training period ended at 2024-03-29 00:00:00 - Prediction for period 2024-04-30 00:00:00: Model 'SVC_rbf' Accuracy = 0.00\n",
            "Training period ended at 2024-04-30 00:00:00 - Prediction for period 2024-05-31 00:00:00: Model 'RandomForest' Accuracy = 0.00\n",
            "Training period ended at 2024-04-30 00:00:00 - Prediction for period 2024-05-31 00:00:00: Model 'GradientBoosting' Accuracy = 0.00\n",
            "Training period ended at 2024-04-30 00:00:00 - Prediction for period 2024-05-31 00:00:00: Model 'LogisticRegression' Accuracy = 0.00\n",
            "Training period ended at 2024-04-30 00:00:00 - Prediction for period 2024-05-31 00:00:00: Model 'SVC_linear' Accuracy = 0.00\n",
            "Training period ended at 2024-04-30 00:00:00 - Prediction for period 2024-05-31 00:00:00: Model 'SVC_rbf' Accuracy = 0.00\n"
          ]
        },
        {
          "output_type": "stream",
          "name": "stderr",
          "text": [
            "/usr/local/lib/python3.11/dist-packages/sklearn/linear_model/_logistic.py:465: ConvergenceWarning: lbfgs failed to converge (status=1):\n",
            "STOP: TOTAL NO. of ITERATIONS REACHED LIMIT.\n",
            "\n",
            "Increase the number of iterations (max_iter) or scale the data as shown in:\n",
            "    https://scikit-learn.org/stable/modules/preprocessing.html\n",
            "Please also refer to the documentation for alternative solver options:\n",
            "    https://scikit-learn.org/stable/modules/linear_model.html#logistic-regression\n",
            "  n_iter_i = _check_optimize_result(\n"
          ]
        },
        {
          "output_type": "stream",
          "name": "stdout",
          "text": [
            "Training period ended at 2024-05-31 00:00:00 - Prediction for period 2024-06-28 00:00:00: Model 'RandomForest' Accuracy = 0.00\n",
            "Training period ended at 2024-05-31 00:00:00 - Prediction for period 2024-06-28 00:00:00: Model 'GradientBoosting' Accuracy = 0.00\n",
            "Training period ended at 2024-05-31 00:00:00 - Prediction for period 2024-06-28 00:00:00: Model 'LogisticRegression' Accuracy = 1.00\n",
            "Training period ended at 2024-05-31 00:00:00 - Prediction for period 2024-06-28 00:00:00: Model 'SVC_linear' Accuracy = 1.00\n",
            "Training period ended at 2024-05-31 00:00:00 - Prediction for period 2024-06-28 00:00:00: Model 'SVC_rbf' Accuracy = 1.00\n"
          ]
        },
        {
          "output_type": "stream",
          "name": "stderr",
          "text": [
            "/usr/local/lib/python3.11/dist-packages/sklearn/linear_model/_logistic.py:465: ConvergenceWarning: lbfgs failed to converge (status=1):\n",
            "STOP: TOTAL NO. of ITERATIONS REACHED LIMIT.\n",
            "\n",
            "Increase the number of iterations (max_iter) or scale the data as shown in:\n",
            "    https://scikit-learn.org/stable/modules/preprocessing.html\n",
            "Please also refer to the documentation for alternative solver options:\n",
            "    https://scikit-learn.org/stable/modules/linear_model.html#logistic-regression\n",
            "  n_iter_i = _check_optimize_result(\n"
          ]
        },
        {
          "output_type": "stream",
          "name": "stdout",
          "text": [
            "Training period ended at 2024-06-28 00:00:00 - Prediction for period 2024-07-31 00:00:00: Model 'RandomForest' Accuracy = 1.00\n",
            "Training period ended at 2024-06-28 00:00:00 - Prediction for period 2024-07-31 00:00:00: Model 'GradientBoosting' Accuracy = 1.00\n",
            "Training period ended at 2024-06-28 00:00:00 - Prediction for period 2024-07-31 00:00:00: Model 'LogisticRegression' Accuracy = 0.00\n",
            "Training period ended at 2024-06-28 00:00:00 - Prediction for period 2024-07-31 00:00:00: Model 'SVC_linear' Accuracy = 1.00\n",
            "Training period ended at 2024-06-28 00:00:00 - Prediction for period 2024-07-31 00:00:00: Model 'SVC_rbf' Accuracy = 1.00\n"
          ]
        },
        {
          "output_type": "stream",
          "name": "stderr",
          "text": [
            "/usr/local/lib/python3.11/dist-packages/sklearn/linear_model/_logistic.py:465: ConvergenceWarning: lbfgs failed to converge (status=1):\n",
            "STOP: TOTAL NO. of ITERATIONS REACHED LIMIT.\n",
            "\n",
            "Increase the number of iterations (max_iter) or scale the data as shown in:\n",
            "    https://scikit-learn.org/stable/modules/preprocessing.html\n",
            "Please also refer to the documentation for alternative solver options:\n",
            "    https://scikit-learn.org/stable/modules/linear_model.html#logistic-regression\n",
            "  n_iter_i = _check_optimize_result(\n"
          ]
        },
        {
          "output_type": "stream",
          "name": "stdout",
          "text": [
            "Training period ended at 2024-07-31 00:00:00 - Prediction for period 2024-08-30 00:00:00: Model 'RandomForest' Accuracy = 1.00\n",
            "Training period ended at 2024-07-31 00:00:00 - Prediction for period 2024-08-30 00:00:00: Model 'GradientBoosting' Accuracy = 1.00\n",
            "Training period ended at 2024-07-31 00:00:00 - Prediction for period 2024-08-30 00:00:00: Model 'LogisticRegression' Accuracy = 1.00\n",
            "Training period ended at 2024-07-31 00:00:00 - Prediction for period 2024-08-30 00:00:00: Model 'SVC_linear' Accuracy = 1.00\n",
            "Training period ended at 2024-07-31 00:00:00 - Prediction for period 2024-08-30 00:00:00: Model 'SVC_rbf' Accuracy = 1.00\n"
          ]
        },
        {
          "output_type": "stream",
          "name": "stderr",
          "text": [
            "/usr/local/lib/python3.11/dist-packages/sklearn/linear_model/_logistic.py:465: ConvergenceWarning: lbfgs failed to converge (status=1):\n",
            "STOP: TOTAL NO. of ITERATIONS REACHED LIMIT.\n",
            "\n",
            "Increase the number of iterations (max_iter) or scale the data as shown in:\n",
            "    https://scikit-learn.org/stable/modules/preprocessing.html\n",
            "Please also refer to the documentation for alternative solver options:\n",
            "    https://scikit-learn.org/stable/modules/linear_model.html#logistic-regression\n",
            "  n_iter_i = _check_optimize_result(\n"
          ]
        },
        {
          "output_type": "stream",
          "name": "stdout",
          "text": [
            "Training period ended at 2024-08-30 00:00:00 - Prediction for period 2024-09-30 00:00:00: Model 'RandomForest' Accuracy = 1.00\n",
            "Training period ended at 2024-08-30 00:00:00 - Prediction for period 2024-09-30 00:00:00: Model 'GradientBoosting' Accuracy = 1.00\n",
            "Training period ended at 2024-08-30 00:00:00 - Prediction for period 2024-09-30 00:00:00: Model 'LogisticRegression' Accuracy = 1.00\n",
            "Training period ended at 2024-08-30 00:00:00 - Prediction for period 2024-09-30 00:00:00: Model 'SVC_linear' Accuracy = 1.00\n",
            "Training period ended at 2024-08-30 00:00:00 - Prediction for period 2024-09-30 00:00:00: Model 'SVC_rbf' Accuracy = 1.00\n"
          ]
        },
        {
          "output_type": "stream",
          "name": "stderr",
          "text": [
            "/usr/local/lib/python3.11/dist-packages/sklearn/linear_model/_logistic.py:465: ConvergenceWarning: lbfgs failed to converge (status=1):\n",
            "STOP: TOTAL NO. of ITERATIONS REACHED LIMIT.\n",
            "\n",
            "Increase the number of iterations (max_iter) or scale the data as shown in:\n",
            "    https://scikit-learn.org/stable/modules/preprocessing.html\n",
            "Please also refer to the documentation for alternative solver options:\n",
            "    https://scikit-learn.org/stable/modules/linear_model.html#logistic-regression\n",
            "  n_iter_i = _check_optimize_result(\n"
          ]
        },
        {
          "output_type": "stream",
          "name": "stdout",
          "text": [
            "Training period ended at 2024-09-30 00:00:00 - Prediction for period 2024-10-31 00:00:00: Model 'RandomForest' Accuracy = 1.00\n",
            "Training period ended at 2024-09-30 00:00:00 - Prediction for period 2024-10-31 00:00:00: Model 'GradientBoosting' Accuracy = 1.00\n",
            "Training period ended at 2024-09-30 00:00:00 - Prediction for period 2024-10-31 00:00:00: Model 'LogisticRegression' Accuracy = 1.00\n",
            "Training period ended at 2024-09-30 00:00:00 - Prediction for period 2024-10-31 00:00:00: Model 'SVC_linear' Accuracy = 1.00\n",
            "Training period ended at 2024-09-30 00:00:00 - Prediction for period 2024-10-31 00:00:00: Model 'SVC_rbf' Accuracy = 1.00\n",
            "\n",
            "Rolling Window Average Accuracy:\n",
            "RandomForest: 0.67\n",
            "GradientBoosting: 0.62\n",
            "LogisticRegression: 0.67\n",
            "SVC_linear: 0.66\n",
            "SVC_rbf: 0.65\n",
            "\n",
            "Confusion Matrix for RandomForest:\n",
            "[[140  33   3]\n",
            " [ 39  34   5]\n",
            " [  3   8  10]]\n"
          ]
        },
        {
          "output_type": "stream",
          "name": "stderr",
          "text": [
            "/usr/local/lib/python3.11/dist-packages/sklearn/linear_model/_logistic.py:465: ConvergenceWarning: lbfgs failed to converge (status=1):\n",
            "STOP: TOTAL NO. of ITERATIONS REACHED LIMIT.\n",
            "\n",
            "Increase the number of iterations (max_iter) or scale the data as shown in:\n",
            "    https://scikit-learn.org/stable/modules/preprocessing.html\n",
            "Please also refer to the documentation for alternative solver options:\n",
            "    https://scikit-learn.org/stable/modules/linear_model.html#logistic-regression\n",
            "  n_iter_i = _check_optimize_result(\n"
          ]
        },
        {
          "output_type": "display_data",
          "data": {
            "text/plain": [
              "<Figure size 600x400 with 2 Axes>"
            ],
            "image/png": "[encoded data removed]"
          },
          "metadata": {}
        },
        {
          "output_type": "stream",
          "name": "stdout",
          "text": [
            "\n",
            "Confusion Matrix for GradientBoosting:\n",
            "[[132  39   5]\n",
            " [ 37  31  10]\n",
            " [  4   9   8]]\n"
          ]
        },
        {
          "output_type": "display_data",
          "data": {
            "text/plain": [
              "<Figure size 600x400 with 2 Axes>"
            ],
            "image/png": "[encoded data removed]"
          },
          "metadata": {}
        },
        {
          "output_type": "stream",
          "name": "stdout",
          "text": [
            "\n",
            "Confusion Matrix for LogisticRegression:\n",
            "[[149  24   3]\n",
            " [ 45  22  11]\n",
            " [  3   6  12]]\n"
          ]
        },
        {
          "output_type": "display_data",
          "data": {
            "text/plain": [
              "<Figure size 600x400 with 2 Axes>"
            ],
            "image/png": "[encoded data removed]"
          },
          "metadata": {}
        },
        {
          "output_type": "stream",
          "name": "stdout",
          "text": [
            "\n",
            "Confusion Matrix for SVC_linear:\n",
            "[[153  20   3]\n",
            " [ 46  18  14]\n",
            " [  6   4  11]]\n"
          ]
        },
        {
          "output_type": "display_data",
          "data": {
            "text/plain": [
              "<Figure size 600x400 with 2 Axes>"
            ],
            "image/png": "[encoded data removed]"
          },
          "metadata": {}
        },
        {
          "output_type": "stream",
          "name": "stdout",
          "text": [
            "\n",
            "Confusion Matrix for SVC_rbf:\n",
            "[[175   0   1]\n",
            " [ 78   0   0]\n",
            " [ 17   0   4]]\n"
          ]
        },
        {
          "output_type": "display_data",
          "data": {
            "text/plain": [
              "<Figure size 600x400 with 2 Axes>"
            ],
            "image/png": "[encoded data removed]"
          },
          "metadata": {}
        }
      ]
    },
    {
      "cell_type": "code",
      "source": [
        "if DL == True:\n",
        "    import tensorflow as tf\n",
        "    from tensorflow.keras.models import Sequential, Model\n",
        "    from tensorflow.keras.layers import Input, LSTM, Dense, Dropout\n",
        "    import xgboost as xgb\n",
        "    from sklearn.metrics import confusion_matrix, accuracy_score\n",
        "    import matplotlib.pyplot as plt\n",
        "    import seaborn as sns\n",
        "    import numpy as np\n",
        "\n",
        "    # Parameters:\n",
        "    training_window = 120  # Use the previous 120 months as training data\n",
        "    seq_len = 60           # Generate overlapping sequences of 60 months within the training window\n",
        "    num_classes = cluster_n  # Regimes are assumed to be labeled 0, 1, 2\n",
        "    num_features = len(FEATURES)\n",
        "\n",
        "    all_preds = []   # To store predictions\n",
        "    all_true = []    # To store true regime labels\n",
        "    dates_list = []  # To store corresponding dates\n",
        "\n",
        "    # Ensure data is sorted by date\n",
        "    data = input_df.sort_values(DATE).reset_index(drop=True)\n",
        "\n",
        "    # Rolling window: start at index = training_window until end of data\n",
        "    for i in range(training_window, len(data)):\n",
        "        # Use the previous 120 months as the training window\n",
        "        train_window = data.iloc[i - training_window:i].reset_index(drop=True)\n",
        "        if len(train_window) < training_window:\n",
        "            continue\n",
        "\n",
        "        # Generate overlapping sequences of length 60 within the training window\n",
        "        X_train_sequences = []\n",
        "        y_train = []\n",
        "        for j in range(len(train_window) - seq_len + 1):\n",
        "            seq = train_window[FEATURES].iloc[j : j + seq_len].values\n",
        "            target = train_window[TRUE_REGIME].iloc[j + seq_len - 1]  # target is the regime at the end of the sequence\n",
        "            X_train_sequences.append(seq)\n",
        "            y_train.append(target)\n",
        "        X_train_sequences = np.array(X_train_sequences)  # shape: (num_samples, seq_len, num_features)\n",
        "        y_train = np.array(y_train)\n",
        "\n",
        "        # Build an LSTM feature extractor model using an Input layer\n",
        "        input_layer = Input(shape=(seq_len, num_features))\n",
        "        lstm_out = LSTM(32, return_sequences=False)(input_layer)\n",
        "        dropout_out = Dropout(0.2)(lstm_out)\n",
        "        feature_extractor = Model(inputs=input_layer, outputs=dropout_out)\n",
        "\n",
        "        # Extract features from the training sequences\n",
        "        X_train_features = feature_extractor.predict(X_train_sequences, verbose=0)\n",
        "\n",
        "        # Train an XGBoost classifier on these features.\n",
        "        clf = xgb.XGBClassifier(n_estimators=50, use_label_encoder=False, eval_metric='mlogloss')\n",
        "        clf.fit(X_train_features, y_train)\n",
        "\n",
        "        # For prediction, use the last 60-month sequence in the training window\n",
        "        X_pred_seq = train_window[FEATURES].iloc[-seq_len:].values.reshape(1, seq_len, num_features)\n",
        "        X_pred_feature = feature_extractor.predict(X_pred_seq, verbose=0)\n",
        "        pred_regime = clf.predict(X_pred_feature)[0]\n",
        "\n",
        "        # The true regime for the next month (time index i)\n",
        "        true_regime = data[TRUE_REGIME].iloc[i]\n",
        "\n",
        "        all_preds.append(pred_regime)\n",
        "        all_true.append(true_regime)\n",
        "        dates_list.append(data[DATE].iloc[i])\n",
        "\n",
        "        print(f\"Prediction for {data[DATE].iloc[i]}: Predicted={pred_regime}, True={true_regime}\")\n",
        "\n",
        "    # Compute overall accuracy\n",
        "    accuracy = accuracy_score(all_true, all_preds)\n",
        "    print(f\"\\nOverall Accuracy: {accuracy*100:.2f}%\")\n",
        "\n",
        "    # Create and visualize the confusion matrix\n",
        "    cm = confusion_matrix(all_true, all_preds)\n",
        "    plt.figure(figsize=(6, 4))\n",
        "    sns.heatmap(cm, annot=True, fmt='d', cmap='Blues')\n",
        "    plt.title(\"Rolling Window Hybrid (LSTM + XGBoost) Confusion Matrix\")\n",
        "    plt.xlabel(\"Predicted\")\n",
        "    plt.ylabel(\"True\")\n",
        "    plt.show()\n"
      ],
      "metadata": {
        "id": "DoyxwlWcFY1z"
      },
      "execution_count": 16,
      "outputs": []
    },
    {
      "cell_type": "code",
      "source": [],
      "metadata": {
        "id": "aFjKoZBkmOQb"
      },
      "execution_count": 16,
      "outputs": []
    }
  ]
}